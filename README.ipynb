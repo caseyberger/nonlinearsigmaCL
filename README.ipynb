{
 "cells": [
  {
   "cell_type": "markdown",
   "id": "fdcfde35-a175-460c-bb77-923580bafd08",
   "metadata": {},
   "source": [
    "# Simulation and Analysis Code for $2D$ $\\mathcal{O}(3)$ Nonlinear Sigma Model with Topological Term $\\theta$"
   ]
  },
  {
   "cell_type": "markdown",
   "id": "db7d3f9f-040a-4a03-80f1-6cefd1af5660",
   "metadata": {
    "toc-hr-collapsed": true
   },
   "source": [
    "## Simulation code for Monte Carlo approach"
   ]
  },
  {
   "cell_type": "markdown",
   "id": "ee512d33-d8b1-4cf5-a788-0915b300712d",
   "metadata": {},
   "source": [
    "This approach uses a conventional Monte Carlo simulation with a Metropolis step to simulate the $2D$ $\\mathcal{O}(3)$ nonlinear sigma model where the topological term $\\theta$ is assigned an imaginary value."
   ]
  },
  {
   "cell_type": "markdown",
   "id": "4a521133-d8c4-4e42-900a-f9ab913f9aa2",
   "metadata": {
    "jp-MarkdownHeadingCollapsed": true,
    "tags": []
   },
   "source": [
    "### Background and Methodology"
   ]
  },
  {
   "cell_type": "markdown",
   "id": "dbb7b1e3-fc77-4db1-9fe7-5a928507c0e7",
   "metadata": {
    "jp-MarkdownHeadingCollapsed": true,
    "tags": []
   },
   "source": [
    "#### Lattice Action"
   ]
  },
  {
   "cell_type": "markdown",
   "id": "1c7fb86b-c516-4a77-bf06-da8cb396e0cc",
   "metadata": {},
   "source": [
    "In the continuum, the model has action\n",
    "\n",
    "$S = \\frac{1}{2g} \\int d^{2} x \\left( \\partial_{\\mu} \\vec{\\phi}(x)\\right)^{2} - i \\theta \\int d^{2} x Q(x)$\n",
    "\n",
    "with\n",
    "\n",
    "$Q(x) = \\frac{1}{8 \\pi} \\epsilon^{\\mu \\nu} \\epsilon_{abc} \\partial_{\\mu} \\phi^{b}(x) \\partial_{\\nu}\\phi^{c}(x)$\n",
    "\n",
    "with $\\phi$ a 3-component unit vector.\n",
    "\n",
    "In lattice action form, we have (see B. Alles, M. Giordano, and A. Papa. Behavior near θ = π of the mass gap in the two-dimensional o(3) nonlinear sigma model. Phys. Rev. B, 90:184421, Nov 2014):\n",
    "\n",
    "$\n",
    "\\begin{eqnarray}\n",
    "S_{L} &=& A_{L} - i \\theta Q_{L}\\\\\n",
    "A_{L} &=& -\\frac{1}{g_{L}}\\sum_{x,\\mu}\\left(\\phi_{x}\\cdot \\phi_{x+\\hat{\\mu}}\\right)\\\\\n",
    "Q_{L} &=& \\sum_{x}\\sum_{\\Delta} Q_{L} \\Delta\n",
    "\\end{eqnarray}\n",
    "$\n",
    "\n",
    "where $\\vec{\\phi}$ a 3-component unit vector ($\\vec{\\phi} \\cdot\\vec{\\phi} = 1$) and $Q_{L}$ is the total topological charge on the lattice. "
   ]
  },
  {
   "cell_type": "markdown",
   "id": "91aa7853-0471-4a99-9be9-e5f2113fc26a",
   "metadata": {
    "jp-MarkdownHeadingCollapsed": true,
    "tags": []
   },
   "source": [
    "#### Regularization of the topological charge"
   ]
  },
  {
   "cell_type": "markdown",
   "id": "6b0e2225-bb1d-4e43-a503-74301ff4513f",
   "metadata": {},
   "source": [
    "The topological charge has been defined via sums over triangles created by cutting each square plaquette along the diagonal. Each vertex is labeled (numbered counter-clockwise), such that we call the fields at the sites of the vertices $\\vec{\\phi}_{1}$, $\\vec{\\phi}_{2}$, and $\\vec{\\phi}_{3}$. \n",
    "\n",
    "\n",
    "The topological charge over each triangle obeys\n",
    "\n",
    "$\\exp(2 \\pi i Q_{L}(\\Delta)) = \\frac{1}{\\rho}\\left(1 + \\vec{\\phi}_{1}\\cdot\\vec{\\phi}_{2} + \\vec{\\phi}_{2}\\cdot\\vec{\\phi}_{3} + \\vec{\\phi}_{3}\\cdot\\vec{\\phi}_{1} + i \\vec{\\phi}_{1} \\cdot (\\vec{\\phi}_{2}\\times\\vec{\\phi}_{3})\\right)$\n",
    "\n",
    "with \n",
    "\n",
    "$\\rho^{2} = 2(1+\\vec{\\phi}_{1}\\cdot\\vec{\\phi}_{2})(1 + \\vec{\\phi}_{2}\\cdot\\vec{\\phi}_{3})(1+ \\vec{\\phi}_{3}\\cdot\\vec{\\phi}_{1})$ \n",
    "\n",
    "and \n",
    "\n",
    "$Q_{L}(\\Delta) \\in \\left[-\\frac{1}{2}, \\frac{1}{2}\\right]$\n",
    "\n",
    "We use the arcsin of the quantity $\\exp(2 \\pi i Q_{L}(\\Delta))$ to compute $Q_{L}(\\Delta)$, as in C++ the domain of arcsin is symmetric about $0$, which prevents the need to adjust the domain to fit the expectation given above.\n",
    "\n",
    "<div class=\"alert alert-warning\">\n",
    "When we sum over all unique triangles on the lattice, the total topological charge $Q_{L} = \\sum_{\\Delta} Q_{}(\\Delta)$ should return integer values, however we are currently not finding this to be the case. More investigation is required here.\n",
    "</div>"
   ]
  },
  {
   "cell_type": "markdown",
   "id": "e9664cae-8636-4090-8e41-5c86536d8df9",
   "metadata": {
    "jp-MarkdownHeadingCollapsed": true,
    "tags": []
   },
   "source": [
    "#### Analytic continuation"
   ]
  },
  {
   "cell_type": "markdown",
   "id": "81f68185-4f87-4662-a170-3301619c8c72",
   "metadata": {},
   "source": [
    "The simulation is run for imaginary values of $\\theta$, which means we must analytically continue our results for real $\\theta$. To do this, we fit our results to a curve and then substitute our imaginary $i \\theta = \\nu$ for a real $\\theta = -i \\nu$."
   ]
  },
  {
   "cell_type": "markdown",
   "id": "522cc3cf-0501-4d90-93a0-3fac19d6111f",
   "metadata": {
    "tags": []
   },
   "source": [
    "#### The mass gap"
   ]
  },
  {
   "cell_type": "markdown",
   "id": "acd73dcb-94b4-4845-bb96-c0b384d12c66",
   "metadata": {},
   "source": [
    "Our goal with this project is to determine the mass gap, which should vanish as $\\theta \\to \\pi$. The mass gap is the inverse of the correlation length, which we compute in the simulation.\n",
    "\n",
    "<div class=\"alert alert-warning\">\n",
    "The correlation length should be a real number, but our simulations are currently returning a complex result, due to the complexity of the correlation function. More investigation is required here.\n",
    "</div>"
   ]
  },
  {
   "cell_type": "markdown",
   "id": "683f1fad-7431-4c70-bbfc-3df59823a4e2",
   "metadata": {
    "jp-MarkdownHeadingCollapsed": true,
    "tags": []
   },
   "source": [
    "### Running the simulation code"
   ]
  },
  {
   "cell_type": "markdown",
   "id": "06da23c0-3ca3-4224-93be-660676fbacb8",
   "metadata": {
    "tags": []
   },
   "source": [
    "#### Makefile flags"
   ]
  },
  {
   "cell_type": "markdown",
   "id": "80e133b9-bdb4-4e3c-bd80-25e7dd926550",
   "metadata": {},
   "source": [
    "The code is written in C++ and OpenMP and can be compiled with numerous flags.\n",
    "\n",
    "```bash\n",
    "USE_OMP ?= TRUE\n",
    "USE_GPROF ?= FALSE\n",
    "USE_TEST_PRINT_STATEMENTS ?= FALSE\n",
    "USE_EXTREME_TEST_CONDITION ?= FALSE\n",
    "USE_CHECK_QL_COS ?= FALSE\n",
    "USE_CONST_RN ?= FALSE\n",
    "```\n",
    "\n",
    "The first flag \"USE_OMP\" toggles whether to implement the parallelization in the code. It should be set to \"TRUE\" if you want to run the simulation in parallel. This is highly recommended for large lattices as the scaling is very poor in series.\n",
    "\n",
    "If you wish to profile the code, set the second flag \"USE_GPROF\" to \"TRUE\". This sets the correct compiler flags so that you can generate the profiling output. To view the output after the code has run, go to the directory in which you have the executable and run the command\n",
    "```bash\n",
    "gprof -l nonlinearsigma gmon.out > profiling_results.txt\n",
    "```\n",
    "You will then be able to see the profiling report. In general, you should set \"USE_GPROF\" to false, unless you are looking to optimize the code or troubleshoot it.\n",
    "\n",
    "The flag \"USE_TEST_PRINT_STATEMENTS\" activates print statements throughout the code. This is useful for debugging, but should generally be set to FALSE as it slows down the code.\n",
    "\n",
    "If you run into major problems, set \"USE_EXTREME_TEST_CONDITION\" to TRUE. This will run a testing suite built into the code, but will not run the usual simulation. This can help you identify problems in the code, and the testing suite is a function inside the main function, which can be modified as needed to add more tests.\n",
    "\n",
    "To switch from using arcsin to calculate $Q_{L}$ to using arccos, set \"USE_CHECK_QL_COS\" to TRUE. In general, this should be set to FALSE< as we want to use arcsin due to its useful symmetry.\n",
    "\n",
    "Finally, if you want to remove the random number generation and use a constant value for the random numbers, set \"USE_CONST_RN\" to true. This should only be done when testing the code."
   ]
  },
  {
   "cell_type": "markdown",
   "id": "ee4a05c8-0567-4c06-a500-81504bf667f4",
   "metadata": {
    "tags": []
   },
   "source": [
    "#### Compiling the code"
   ]
  },
  {
   "cell_type": "markdown",
   "id": "38c4ad29-fa67-40a9-963e-17fc67e93b1c",
   "metadata": {},
   "source": [
    "Once you have set the flags you want to use, you can compile the code by typing\n",
    "\n",
    "```bash\n",
    "make -f make_sigma\n",
    "```\n",
    "It can be useful to run \n",
    "\n",
    "```bash\n",
    "make -f make_sigma clean\n",
    "```\n",
    "first to clear out old .o files that might not be updated otherwise.\n",
    "\n",
    "Once you have compiled the code, you should have an executable by the name of ```nonlinearsigma``` which you will use to run the simulation."
   ]
  },
  {
   "cell_type": "markdown",
   "id": "65455eb3-f0ec-4c15-9daa-386088ff5776",
   "metadata": {},
   "source": [
    "#### Other important things to note before running the code"
   ]
  },
  {
   "cell_type": "markdown",
   "id": "b62289d5-34c2-49d3-bad7-b7f18c0bae56",
   "metadata": {},
   "source": [
    "The simulation requires a list of parameters. We give those to the code through the text file ```inputs.txt```. That file consists of a list of parameter keywords and a value. Be very careful not to change the format of this document, only the numbers, otherwise the simulation won't be able to understand what values get assigned to what parameters. \n",
    "\n",
    "The file ```inputs.txt``` should look like this\n",
    "\n",
    "```\n",
    "L = 10\n",
    "beta = 1.6\n",
    "itheta = 1.\n",
    "ntherm = 1000\n",
    "nMC = 1000\n",
    "freq = 100\n",
    "```\n",
    "Where ```L``` gives the length of the square lattice, ```beta``` is $\\beta = 1/g_{L}$ and should be set to 1.6, ```itheta``` is the imaginary value given for the topological term and is given in fractions of $\\pi$ (so you should enter 0.5 if you want $i \\theta = \\pi/2$), ```ntherm``` is the number of steps you want the simulation to take for thermalization, ```nMC``` is the number of steps in the Monte Carlo loop after thermalization, and ```freq``` sets the number of steps between saved configurations."
   ]
  },
  {
   "cell_type": "markdown",
   "id": "eb96d86b-7b56-44b7-950b-661184b8e87a",
   "metadata": {},
   "source": [
    "#### Running the code -- single job in interactive node"
   ]
  },
  {
   "cell_type": "markdown",
   "id": "019052a4-051e-4d54-8c6e-ceb9f000019e",
   "metadata": {},
   "source": [
    "If you want to run this in an interactive node to test, you can request an interactive node with the following command:\n",
    "\n",
    "```bash\n",
    "salloc --cpus-per-task=1 --time=00:30:00\n",
    "```\n",
    "where you can adjust the number of cpus per task if you want to run the parallelized code and the time requested is in format hh:mm:ss\n",
    "\n",
    "You can run the job using the command\n",
    "\n",
    "```bash\n",
    "./nonlinearsigma inputs.txt\n",
    "```\n",
    "```nonlinearsigma``` is the name of the executable created when you compiled the code, and inputs.txt is the list of inputs mentioned above. "
   ]
  },
  {
   "cell_type": "markdown",
   "id": "5afeaa6d-f429-4abf-8907-8c332d05b4e2",
   "metadata": {},
   "source": [
    "#### Running the code -- single SLURM submission "
   ]
  },
  {
   "cell_type": "markdown",
   "id": "6355d437-a547-410c-ae57-cbee6abd16c4",
   "metadata": {},
   "source": [
    "Once you're comfortable with the code and want to submit a job that's longer than your interactive session (or one that may need to run overnight, etc), you do that by writing a SLURM script and sending that script to the scheduler.\n",
    "\n",
    "The script is called ```submit_sigma.sh``` and looks like this:\n",
    "```bash\n",
    "#SBATCH --job-name=nonlinearsigma_omp_test           # Job name\n",
    "#SBATCH --mail-type=ALL                              # Mail events (NONE, BEGIN, END, FAIL, ALL)\n",
    "#SBATCH --mail-user=cberger@smith.edu                # Where to send mail\n",
    "#SBATCH --partition=phyq                             # Which partition to use\n",
    "#SBATCH --nodes=1                                    # Number of nodes\n",
    "#SBATCH --cpus-per-task=1                           # Number of threads per task (OpenMP)\n",
    "#SBATCH --mem=1gb                                    # Job memory request\n",
    "##SBATCH --time=05:00:00                             # Time limit hrs:min:sec\n",
    "#SBATCH --output=nonlinearsigma_omp_test_%j.log      # Standard output \n",
    "#SBATCH --error=err_nonlinearsigma_omp_test_%j.log   # Standard output and error log\n",
    "\n",
    "pwd; hostname; date\n",
    "\n",
    "export OMP_NUM_THREADS=$SLURM_CPUS_PER_TASK\n",
    "\n",
    "echo \"Running nonlinear sigma on single CPU core\"\n",
    "\n",
    "/usr/bin/time -v ./nonlinearsigma inputs.txt\n",
    "\n",
    "date\n",
    "```\n",
    "\n",
    "Let's walk through what this script does.\n",
    "\n",
    "The first line:\n",
    "```bash\n",
    "#SBATCH --job-name=nonlinearsigma_omp_test           # Job name\n",
    "```\n",
    "Assigns a name to the job, which can help you keep track of what is running in the queue. I tend to name all my jobs in a certain phase of the work the same thing (e.g. \"nonlinearsigma_small_L_tests\" if I'm testing out the script on small lattices or \"nonlinearsigma_first_production_run\" if I'm starting to take data for real). This is just for your own information, so name it whatever you'd like.\n",
    "\n",
    "The next two lines\n",
    "```bash\n",
    "#SBATCH --mail-type=ALL                              # Mail events (NONE, BEGIN, END, FAIL, ALL)\n",
    "#SBATCH --mail-user=cberger@smith.edu                # Where to send mail\n",
    "```\n",
    "tell SLURM who to email and when to email you. I have it set to email me at my Smith email anytime a job starts, ends, or fails. I find this helpful, especially if trouble arises, but it's your choice what to put here (just don't leave my email address in!).\n",
    "\n",
    "The next line\n",
    "```bash\n",
    "#SBATCH --partition=phyq                             # Which partition to use\n",
    "```\n",
    "sends the jobs to the partition that belongs to the physics department. We have priority on this node, but we can request time on other nodes if we really need to. We'd need to talk to CATS about that if we wanted to do it.\n",
    "\n",
    "The next lines specify the code's needs:\n",
    "```bash\n",
    "#SBATCH --nodes=1                                    # Number of nodes\n",
    "#SBATCH --cpus-per-task=1                           # Number of threads per task (OpenMP)\n",
    "#SBATCH --mem=1gb                                    # Job memory request\n",
    "```\n",
    "Since we are using OpenMP for parallelization, we only need one node, but we will want to change ```bash --cpus-per-task``` to something larger for OpenMP. Unless doing a very large lattice (L > 100), I tend to ask for 30 CPUs per task, which allows for 2 jobs to run at a time on each node. If you're doing something large, you might want to consider asking for 60 CPUs per task, which will occupy an entire node.\n",
    "\n",
    "This line\n",
    "```bash\n",
    "##SBATCH --time=05:00:00                             # Time limit hrs:min:sec\n",
    "```\n",
    "sets a time limit -- it will cut off your code when that limit is reached, whether it is done or not. Note there is an extra `#` here -- that means it's commented out, so it will not have a time limit. I tend to only use the time limits when testing.\n",
    "\n",
    "These next two lines\n",
    "```bash\n",
    "#SBATCH --output=nonlinearsigma_omp_test_%j.log      # Standard output \n",
    "#SBATCH --error=err_nonlinearsigma_omp_test_%j.log   # Standard output and error log\n",
    "``` \n",
    "give names to the output and error files. These files are created when the code runs and can help you debug if things go wrong.\n",
    "\n",
    "All the above were instructions for SLURM, which schedules jobs on the machine's available resources. Now we get into the commands to actually run the code.\n",
    "\n",
    "```bash\n",
    "pwd; hostname; date\n",
    "```\n",
    "This just prints where the job is being run from and the date and time before the job starts.\n",
    "\n",
    "```bash\n",
    "export OMP_NUM_THREADS=$SLURM_CPUS_PER_TASK\n",
    "```\n",
    "this sets the number of threads in OpenMP equal to the number of CPUs per task you assigned above.\n",
    "\n",
    "```bash\n",
    "echo \"Running nonlinear sigma\"\n",
    "\n",
    "/usr/bin/time -v ./nonlinearsigma inputs.txt\n",
    "```\n",
    "This prints out an annoucement that you're starting the job, which is useful in the logfile, and then runs the simulation with the inputs file. Make sure you have the inputs file and the executable in the same folder as the SLURM script so the computer can find them.\n",
    "\n",
    "And finally\n",
    "```bash\n",
    "date\n",
    "```\n",
    "we print the datetime stamp at the end of the simulation."
   ]
  },
  {
   "cell_type": "markdown",
   "id": "c2caf7f5-a9fd-4fa8-af14-1f122340fed9",
   "metadata": {
    "tags": []
   },
   "source": [
    "#### Running the code -- batch SLURM submissions"
   ]
  },
  {
   "cell_type": "markdown",
   "id": "242ccdae-80ba-49e1-8a2f-daa7d4386c45",
   "metadata": {},
   "source": [
    "Each inputs file is one set of parameters, and we need to get lots of data. If you're not interested in manually setting up these SLURM scripts, input files, etc by hand, I don't blame you. That's why I wrote a Python code to do most of the work for you.\n",
    "\n",
    "In this code, you specify what parameters you want to run, and the script creates all the appropriate directories and puts the correct inputs file, slurm script, and the executable in each directory. You still have to go in and submit the files yourself, but it's much easier than writing all these scripts yourself.\n",
    "\n",
    "The script is called ```create_input_files.py``` and here is the part you will need to modify:\n",
    "\n",
    "```python\n",
    "#beta = 1/g = 1.6\n",
    "beta = 1.6\n",
    "#number of steps in thermalization\n",
    "ntherm = 4000\n",
    "#number of monte carlo steps\n",
    "nMC = 10000\n",
    "#number of steps between samples\n",
    "freq = 100\n",
    "#list of values for lattice length L\n",
    "L_list = [10,40,80,120,180]\n",
    "#list of values for itheta (as fractions of pi)\n",
    "itheta_list = [0.0,0.125,0.25,0.375,0.5,0.625,0.75,0.875,1.,1.125]\n",
    "\n",
    "script_name = \"nonlinearsigma\"\n",
    "job_name = \"nlsigma_prelim_tests\"\n",
    "email = \"cberger@smith.edu\"\n",
    "num_cpus = 30\n",
    "\n",
    "```\n",
    "Beta, ntherm, nMC, and freq all take one number as input, but you can create a list of the number of lattice lengths you want, and the values for itheta (remember these are fractions of pi). \n",
    "\n",
    "```script_name``` is the executable, so it should be \"nonlinearsigma\", but ```job_name``` is what will be put in for the job name in the SLURM script. Similarly, you can enter the email address you want included in the SLURM script and choose how many CPUs you want.\n",
    "\n",
    "Once you've modified this script to have the values you want, put it in a directory for this batch. I tend to name those something like ```run_yyymmdd```. Also in that directory should be the executable, so copy that in once you've compiled the code.\n",
    "\n",
    "Then, inside the batch directory, go ahead and run the python script\n",
    "\n",
    "```bash\n",
    "python create_input_files.py\n",
    "```\n",
    "\n",
    "When it's done, you should see the subdirectories created -- one for each job. You need to go into each subdirectory to submit the jobs using\n",
    "\n",
    "```bash\n",
    "sbatch submit_sigma.sh\n",
    "```\n",
    "and it will submit the jobs to the scheduler.\n",
    "\n",
    "You can run this with \n",
    "```bash\n",
    "sbatch submit_sigma.sh\n",
    "```\n",
    "and you can check the status of your jobs any time with the command\n",
    "```bash\n",
    "squeue -u your_username\n",
    "```"
   ]
  },
  {
   "cell_type": "markdown",
   "id": "713bc050-a832-481b-9ae1-583a53d02fbc",
   "metadata": {},
   "source": [
    "## Data and Analysis"
   ]
  },
  {
   "cell_type": "code",
   "execution_count": null,
   "id": "54b84f2a-6e2c-4231-bf54-65451578c93d",
   "metadata": {},
   "outputs": [],
   "source": []
  },
  {
   "cell_type": "markdown",
   "id": "e16565b7-c14e-4b27-a26b-cec50e66a38c",
   "metadata": {},
   "source": [
    "## Current issues and open questions"
   ]
  },
  {
   "cell_type": "code",
   "execution_count": null,
   "id": "0fc22a23-d6b3-4b91-a905-4cbeb18305ae",
   "metadata": {},
   "outputs": [],
   "source": []
  }
 ],
 "metadata": {
  "kernelspec": {
   "display_name": "Python 3 (ipykernel)",
   "language": "python",
   "name": "python3"
  },
  "language_info": {
   "codemirror_mode": {
    "name": "ipython",
    "version": 3
   },
   "file_extension": ".py",
   "mimetype": "text/x-python",
   "name": "python",
   "nbconvert_exporter": "python",
   "pygments_lexer": "ipython3",
   "version": "3.8.10"
  }
 },
 "nbformat": 4,
 "nbformat_minor": 5
}
