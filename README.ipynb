{
 "cells": [
  {
   "cell_type": "markdown",
   "id": "fdcfde35-a175-460c-bb77-923580bafd08",
   "metadata": {},
   "source": [
    "# Simulation and Analysis Code for $2D$ $\\mathcal{O}(3)$ Nonlinear Sigma Model with Topological Term $\\theta$"
   ]
  },
  {
   "cell_type": "markdown",
   "id": "db7d3f9f-040a-4a03-80f1-6cefd1af5660",
   "metadata": {},
   "source": [
    "## Simulation code for Monte Carlo approach"
   ]
  },
  {
   "cell_type": "markdown",
   "id": "ee512d33-d8b1-4cf5-a788-0915b300712d",
   "metadata": {},
   "source": [
    "This approach uses a conventional Monte Carlo simulation with a Metropolis step to simulate the $2D$ $\\mathcal{O}(3)$ nonlinear sigma model where the topological term $\\theta$ is assigned an imaginary value."
   ]
  },
  {
   "cell_type": "markdown",
   "id": "4a521133-d8c4-4e42-900a-f9ab913f9aa2",
   "metadata": {
    "jp-MarkdownHeadingCollapsed": true,
    "tags": []
   },
   "source": [
    "### Background and Methodology"
   ]
  },
  {
   "cell_type": "markdown",
   "id": "dbb7b1e3-fc77-4db1-9fe7-5a928507c0e7",
   "metadata": {
    "jp-MarkdownHeadingCollapsed": true,
    "tags": []
   },
   "source": [
    "#### Lattice Action"
   ]
  },
  {
   "cell_type": "markdown",
   "id": "1c7fb86b-c516-4a77-bf06-da8cb396e0cc",
   "metadata": {},
   "source": [
    "In the continuum, the model has action\n",
    "\n",
    "$S = \\frac{1}{2g} \\int d^{2} x \\left( \\partial_{\\mu} \\vec{\\phi}(x)\\right)^{2} - i \\theta \\int d^{2} x Q(x)$\n",
    "\n",
    "with\n",
    "\n",
    "$Q(x) = \\frac{1}{8 \\pi} \\epsilon^{\\mu \\nu} \\epsilon_{abc} \\partial_{\\mu} \\phi^{b}(x) \\partial_{\\nu}\\phi^{c}(x)$\n",
    "\n",
    "with $\\phi$ a 3-component unit vector.\n",
    "\n",
    "In lattice action form, we have (see B. Alles, M. Giordano, and A. Papa. Behavior near θ = π of the mass gap in the two-dimensional o(3) nonlinear sigma model. Phys. Rev. B, 90:184421, Nov 2014):\n",
    "\n",
    "$\n",
    "\\begin{eqnarray}\n",
    "S_{L} &=& A_{L} - i \\theta Q_{L}\\\\\n",
    "A_{L} &=& -\\frac{1}{g_{L}}\\sum_{x,\\mu}\\left(\\phi_{x}\\cdot \\phi_{x+\\hat{\\mu}}\\right)\\\\\n",
    "Q_{L} &=& \\sum_{x}\\sum_{\\Delta} Q_{L} \\Delta\n",
    "\\end{eqnarray}\n",
    "$\n",
    "\n",
    "where $\\vec{\\phi}$ a 3-component unit vector ($\\vec{\\phi} \\cdot\\vec{\\phi} = 1$) and $Q_{L}$ is the total topological charge on the lattice. "
   ]
  },
  {
   "cell_type": "markdown",
   "id": "91aa7853-0471-4a99-9be9-e5f2113fc26a",
   "metadata": {
    "jp-MarkdownHeadingCollapsed": true,
    "tags": []
   },
   "source": [
    "#### Regularization of the topological charge"
   ]
  },
  {
   "cell_type": "markdown",
   "id": "6b0e2225-bb1d-4e43-a503-74301ff4513f",
   "metadata": {},
   "source": [
    "The topological charge has been defined via sums over triangles created by cutting each square plaquette along the diagonal. Each vertex is labeled (numbered counter-clockwise), such that we call the fields at the sites of the vertices $\\vec{\\phi}_{1}$, $\\vec{\\phi}_{2}$, and $\\vec{\\phi}_{3}$. \n",
    "\n",
    "\n",
    "The topological charge over each triangle obeys\n",
    "\n",
    "$\\exp(2 \\pi i Q_{L}(\\Delta)) = \\frac{1}{\\rho}\\left(1 + \\vec{\\phi}_{1}\\cdot\\vec{\\phi}_{2} + \\vec{\\phi}_{2}\\cdot\\vec{\\phi}_{3} + \\vec{\\phi}_{3}\\cdot\\vec{\\phi}_{1} + i \\vec{\\phi}_{1} \\cdot (\\vec{\\phi}_{2}\\times\\vec{\\phi}_{3})\\right)$\n",
    "\n",
    "with \n",
    "\n",
    "$\\rho^{2} = 2(1+\\vec{\\phi}_{1}\\cdot\\vec{\\phi}_{2})(1 + \\vec{\\phi}_{2}\\cdot\\vec{\\phi}_{3})(1+ \\vec{\\phi}_{3}\\cdot\\vec{\\phi}_{1})$ \n",
    "\n",
    "and \n",
    "\n",
    "$Q_{L}(\\Delta) \\in \\left[-\\frac{1}{2}, \\frac{1}{2}\\right]$\n",
    "\n",
    "We use the arcsin of the quantity $\\exp(2 \\pi i Q_{L}(\\Delta))$ to compute $Q_{L}(\\Delta)$, as in C++ the domain of arcsin is symmetric about $0$, which prevents the need to adjust the domain to fit the expectation given above.\n",
    "\n",
    "<div class=\"alert alert-warning\">\n",
    "When we sum over all unique triangles on the lattice, the total topological charge $Q_{L} = \\sum_{\\Delta} Q_{}(\\Delta)$ should return integer values, however we are currently not finding this to be the case. More investigation is required here.\n",
    "</div>"
   ]
  },
  {
   "cell_type": "markdown",
   "id": "e9664cae-8636-4090-8e41-5c86536d8df9",
   "metadata": {
    "jp-MarkdownHeadingCollapsed": true,
    "tags": []
   },
   "source": [
    "#### Analytic continuation"
   ]
  },
  {
   "cell_type": "markdown",
   "id": "81f68185-4f87-4662-a170-3301619c8c72",
   "metadata": {},
   "source": [
    "The simulation is run for imaginary values of $\\theta$, which means we must analytically continue our results for real $\\theta$. To do this, we fit our results to a curve and then substitute our imaginary $i \\theta = \\nu$ for a real $\\theta = -i \\nu$."
   ]
  },
  {
   "cell_type": "markdown",
   "id": "522cc3cf-0501-4d90-93a0-3fac19d6111f",
   "metadata": {
    "tags": []
   },
   "source": [
    "#### The mass gap"
   ]
  },
  {
   "cell_type": "markdown",
   "id": "acd73dcb-94b4-4845-bb96-c0b384d12c66",
   "metadata": {},
   "source": [
    "Our goal with this project is to determine the mass gap, which should vanish as $\\theta \\to \\pi$. The mass gap is the inverse of the correlation length, which we compute in the simulation.\n",
    "\n",
    "<div class=\"alert alert-warning\">\n",
    "The correlation length should be a real number, but our simulations are currently returning a complex result, due to the complexity of the correlation function. More investigation is required here.\n",
    "</div>"
   ]
  },
  {
   "cell_type": "markdown",
   "id": "683f1fad-7431-4c70-bbfc-3df59823a4e2",
   "metadata": {},
   "source": [
    "### Running the simulation code"
   ]
  },
  {
   "cell_type": "markdown",
   "id": "06da23c0-3ca3-4224-93be-660676fbacb8",
   "metadata": {
    "jp-MarkdownHeadingCollapsed": true,
    "tags": []
   },
   "source": [
    "#### Makefile flags"
   ]
  },
  {
   "cell_type": "markdown",
   "id": "80e133b9-bdb4-4e3c-bd80-25e7dd926550",
   "metadata": {},
   "source": [
    "The code is written in C++ and OpenMP and can be compiled with numerous flags.\n",
    "\n",
    "```bash\n",
    "USE_OMP ?= TRUE\n",
    "USE_GPROF ?= FALSE\n",
    "USE_TEST_PRINT_STATEMENTS ?= FALSE\n",
    "USE_EXTREME_TEST_CONDITION ?= FALSE\n",
    "USE_CHECK_QL_COS ?= FALSE\n",
    "USE_CONST_RN ?= FALSE\n",
    "```\n",
    "\n",
    "The first flag \"USE_OMP\" toggles whether to implement the parallelization in the code. It should be set to \"TRUE\" if you want to run the simulation in parallel. This is highly recommended for large lattices as the scaling is very poor in series.\n",
    "\n",
    "If you wish to profile the code, set the second flag \"USE_GPROF\" to \"TRUE\". This sets the correct compiler flags so that you can generate the profiling output. To view the output after the code has run, go to the directory in which you have the executable and run the command\n",
    "```bash\n",
    "gprof -l nonlinearsigma gmon.out > profiling_results.txt\n",
    "```\n",
    "You will then be able to see the profiling report. In general, you should set \"USE_GPROF\" to false, unless you are looking to optimize the code or troubleshoot it.\n",
    "\n",
    "The flag \"USE_TEST_PRINT_STATEMENTS\" activates print statements throughout the code. This is useful for debugging, but should generally be set to FALSE as it slows down the code.\n",
    "\n",
    "If you run into major problems, set \"USE_EXTREME_TEST_CONDITION\" to TRUE. This will run a testing suite built into the code, but will not run the usual simulation. This can help you identify problems in the code, and the testing suite is a function inside the main function, which can be modified as needed to add more tests.\n",
    "\n",
    "To switch from using arcsin to calculate $Q_{L}$ to using arccos, set \"USE_CHECK_QL_COS\" to TRUE. In general, this should be set to FALSE< as we want to use arcsin due to its useful symmetry.\n",
    "\n",
    "Finally, if you want to remove the random number generation and use a constant value for the random numbers, set \"USE_CONST_RN\" to true. This should only be done when testing the code."
   ]
  },
  {
   "cell_type": "markdown",
   "id": "ee4a05c8-0567-4c06-a500-81504bf667f4",
   "metadata": {
    "jp-MarkdownHeadingCollapsed": true,
    "tags": []
   },
   "source": [
    "#### Compiling the code"
   ]
  },
  {
   "cell_type": "markdown",
   "id": "38c4ad29-fa67-40a9-963e-17fc67e93b1c",
   "metadata": {},
   "source": [
    "Once you have set the flags you want to use, you can compile the code by typing\n",
    "\n",
    "```bash\n",
    "make -f make_sigma\n",
    "```\n",
    "It can be useful to run \n",
    "\n",
    "```bash\n",
    "make -f make_sigma clean\n",
    "```\n",
    "first to clear out old .o files that might not be updated otherwise.\n",
    "\n",
    "Once you have compiled the code, you should have an executable by the name of ```nonlinear_sigma``` which you will use to run the simulation."
   ]
  },
  {
   "cell_type": "markdown",
   "id": "eb96d86b-7b56-44b7-950b-661184b8e87a",
   "metadata": {},
   "source": [
    "#### Running the code -- single job in interactive node"
   ]
  },
  {
   "cell_type": "markdown",
   "id": "5afeaa6d-f429-4abf-8907-8c332d05b4e2",
   "metadata": {},
   "source": [
    "#### Running the code -- SLURM submission and batching"
   ]
  },
  {
   "cell_type": "code",
   "execution_count": null,
   "id": "4731d58c-9bd0-4549-b509-b2f29e211ff7",
   "metadata": {},
   "outputs": [],
   "source": []
  }
 ],
 "metadata": {
  "kernelspec": {
   "display_name": "Python 3 (ipykernel)",
   "language": "python",
   "name": "python3"
  },
  "language_info": {
   "codemirror_mode": {
    "name": "ipython",
    "version": 3
   },
   "file_extension": ".py",
   "mimetype": "text/x-python",
   "name": "python",
   "nbconvert_exporter": "python",
   "pygments_lexer": "ipython3",
   "version": "3.8.10"
  }
 },
 "nbformat": 4,
 "nbformat_minor": 5
}
