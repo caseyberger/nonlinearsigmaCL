{
 "cells": [
  {
   "cell_type": "code",
   "execution_count": 1,
   "id": "1d6672c5-0a61-45f8-803a-28812a4a9aca",
   "metadata": {},
   "outputs": [],
   "source": [
    "import os\n",
    "import numpy as np\n",
    "import pandas as pd\n",
    "import matplotlib.pyplot as plt\n",
    "import seaborn as sns\n",
    "from LatticeData import *"
   ]
  },
  {
   "cell_type": "markdown",
   "id": "09a42030-1f13-4783-9853-f1459b51f90e",
   "metadata": {},
   "source": [
    "# Create analyzer - instantiate class"
   ]
  },
  {
   "cell_type": "code",
   "execution_count": 2,
   "id": "3a8f83a8-69c3-4a84-913c-2a280a8f6ad2",
   "metadata": {},
   "outputs": [],
   "source": [
    "analyzer = LatticeData()"
   ]
  },
  {
   "cell_type": "markdown",
   "id": "61491e67-091b-4173-95a6-06f977afcaeb",
   "metadata": {
    "tags": []
   },
   "source": [
    "## Basic statistics"
   ]
  },
  {
   "cell_type": "code",
   "execution_count": 3,
   "id": "b5680445-d9ea-4940-8252-3123e99b66ca",
   "metadata": {},
   "outputs": [],
   "source": [
    "df = analyzer.get_data()"
   ]
  },
  {
   "cell_type": "code",
   "execution_count": 4,
   "id": "131ea67c-88cf-4480-981c-e6d306ab0665",
   "metadata": {},
   "outputs": [
    {
     "data": {
      "text/html": [
       "<div>\n",
       "<style scoped>\n",
       "    .dataframe tbody tr th:only-of-type {\n",
       "        vertical-align: middle;\n",
       "    }\n",
       "\n",
       "    .dataframe tbody tr th {\n",
       "        vertical-align: top;\n",
       "    }\n",
       "\n",
       "    .dataframe thead th {\n",
       "        text-align: right;\n",
       "    }\n",
       "</style>\n",
       "<table border=\"1\" class=\"dataframe\">\n",
       "  <thead>\n",
       "    <tr style=\"text-align: right;\">\n",
       "      <th></th>\n",
       "      <th>step</th>\n",
       "      <th>|phi|</th>\n",
       "      <th>Q_L</th>\n",
       "      <th>A_L</th>\n",
       "      <th>S_L</th>\n",
       "      <th>Xi_L</th>\n",
       "      <th>F_LRe</th>\n",
       "      <th>F_LIm</th>\n",
       "      <th>acc</th>\n",
       "      <th>nMC</th>\n",
       "      <th>...</th>\n",
       "      <th>A_L_ta</th>\n",
       "      <th>S_L_ta</th>\n",
       "      <th>Xi_L_ta</th>\n",
       "      <th>corr_length_Re</th>\n",
       "      <th>corr_length_Im</th>\n",
       "      <th>F_Re_py</th>\n",
       "      <th>F_Im_py</th>\n",
       "      <th>mass_gap_Re</th>\n",
       "      <th>mass_gap_Im</th>\n",
       "      <th>dt</th>\n",
       "    </tr>\n",
       "  </thead>\n",
       "  <tbody>\n",
       "    <tr>\n",
       "      <th>0</th>\n",
       "      <td>0</td>\n",
       "      <td>100.0</td>\n",
       "      <td>-3.507803</td>\n",
       "      <td>-155.512769</td>\n",
       "      <td>-155.512769</td>\n",
       "      <td>-0.824800</td>\n",
       "      <td>6.964259</td>\n",
       "      <td>3.693286</td>\n",
       "      <td>0.480</td>\n",
       "      <td>10000.0</td>\n",
       "      <td>...</td>\n",
       "      <td>41</td>\n",
       "      <td>41</td>\n",
       "      <td>77</td>\n",
       "      <td>0.036694</td>\n",
       "      <td>0.890296</td>\n",
       "      <td>2.710455</td>\n",
       "      <td>0.223807</td>\n",
       "      <td>0.046216</td>\n",
       "      <td>-1.121317</td>\n",
       "      <td>NaN</td>\n",
       "    </tr>\n",
       "    <tr>\n",
       "      <th>1</th>\n",
       "      <td>1</td>\n",
       "      <td>100.0</td>\n",
       "      <td>-1.183322</td>\n",
       "      <td>-234.980899</td>\n",
       "      <td>-234.980899</td>\n",
       "      <td>-1.587746</td>\n",
       "      <td>6.964259</td>\n",
       "      <td>3.693286</td>\n",
       "      <td>0.425</td>\n",
       "      <td>10000.0</td>\n",
       "      <td>...</td>\n",
       "      <td>41</td>\n",
       "      <td>41</td>\n",
       "      <td>77</td>\n",
       "      <td>0.050911</td>\n",
       "      <td>1.235238</td>\n",
       "      <td>2.710455</td>\n",
       "      <td>0.223807</td>\n",
       "      <td>0.033310</td>\n",
       "      <td>-0.808187</td>\n",
       "      <td>NaN</td>\n",
       "    </tr>\n",
       "    <tr>\n",
       "      <th>2</th>\n",
       "      <td>2</td>\n",
       "      <td>100.0</td>\n",
       "      <td>-5.518374</td>\n",
       "      <td>-284.688510</td>\n",
       "      <td>-284.688510</td>\n",
       "      <td>-5.380676</td>\n",
       "      <td>6.964259</td>\n",
       "      <td>3.693286</td>\n",
       "      <td>0.380</td>\n",
       "      <td>10000.0</td>\n",
       "      <td>...</td>\n",
       "      <td>41</td>\n",
       "      <td>41</td>\n",
       "      <td>77</td>\n",
       "      <td>0.093722</td>\n",
       "      <td>2.273938</td>\n",
       "      <td>2.710455</td>\n",
       "      <td>0.223807</td>\n",
       "      <td>0.018095</td>\n",
       "      <td>-0.439020</td>\n",
       "      <td>NaN</td>\n",
       "    </tr>\n",
       "    <tr>\n",
       "      <th>3</th>\n",
       "      <td>3</td>\n",
       "      <td>100.0</td>\n",
       "      <td>0.188157</td>\n",
       "      <td>-320.001736</td>\n",
       "      <td>-320.001736</td>\n",
       "      <td>-9.715618</td>\n",
       "      <td>6.964259</td>\n",
       "      <td>3.693286</td>\n",
       "      <td>0.355</td>\n",
       "      <td>10000.0</td>\n",
       "      <td>...</td>\n",
       "      <td>41</td>\n",
       "      <td>41</td>\n",
       "      <td>77</td>\n",
       "      <td>0.125939</td>\n",
       "      <td>3.055593</td>\n",
       "      <td>2.710455</td>\n",
       "      <td>0.223807</td>\n",
       "      <td>0.013466</td>\n",
       "      <td>-0.326714</td>\n",
       "      <td>NaN</td>\n",
       "    </tr>\n",
       "    <tr>\n",
       "      <th>4</th>\n",
       "      <td>4</td>\n",
       "      <td>100.0</td>\n",
       "      <td>-2.155681</td>\n",
       "      <td>-345.995462</td>\n",
       "      <td>-345.995462</td>\n",
       "      <td>-12.525632</td>\n",
       "      <td>6.964259</td>\n",
       "      <td>3.693286</td>\n",
       "      <td>0.316</td>\n",
       "      <td>10000.0</td>\n",
       "      <td>...</td>\n",
       "      <td>41</td>\n",
       "      <td>41</td>\n",
       "      <td>77</td>\n",
       "      <td>0.142996</td>\n",
       "      <td>3.469445</td>\n",
       "      <td>2.710455</td>\n",
       "      <td>0.223807</td>\n",
       "      <td>0.011860</td>\n",
       "      <td>-0.287742</td>\n",
       "      <td>NaN</td>\n",
       "    </tr>\n",
       "  </tbody>\n",
       "</table>\n",
       "<p>5 rows × 25 columns</p>\n",
       "</div>"
      ],
      "text/plain": [
       "   step  |phi|       Q_L         A_L         S_L       Xi_L     F_LRe  \\\n",
       "0     0  100.0 -3.507803 -155.512769 -155.512769  -0.824800  6.964259   \n",
       "1     1  100.0 -1.183322 -234.980899 -234.980899  -1.587746  6.964259   \n",
       "2     2  100.0 -5.518374 -284.688510 -284.688510  -5.380676  6.964259   \n",
       "3     3  100.0  0.188157 -320.001736 -320.001736  -9.715618  6.964259   \n",
       "4     4  100.0 -2.155681 -345.995462 -345.995462 -12.525632  6.964259   \n",
       "\n",
       "      F_LIm    acc      nMC  ...  A_L_ta  S_L_ta  Xi_L_ta  corr_length_Re  \\\n",
       "0  3.693286  0.480  10000.0  ...      41      41       77        0.036694   \n",
       "1  3.693286  0.425  10000.0  ...      41      41       77        0.050911   \n",
       "2  3.693286  0.380  10000.0  ...      41      41       77        0.093722   \n",
       "3  3.693286  0.355  10000.0  ...      41      41       77        0.125939   \n",
       "4  3.693286  0.316  10000.0  ...      41      41       77        0.142996   \n",
       "\n",
       "   corr_length_Im   F_Re_py   F_Im_py  mass_gap_Re  mass_gap_Im  dt  \n",
       "0        0.890296  2.710455  0.223807     0.046216    -1.121317 NaN  \n",
       "1        1.235238  2.710455  0.223807     0.033310    -0.808187 NaN  \n",
       "2        2.273938  2.710455  0.223807     0.018095    -0.439020 NaN  \n",
       "3        3.055593  2.710455  0.223807     0.013466    -0.326714 NaN  \n",
       "4        3.469445  2.710455  0.223807     0.011860    -0.287742 NaN  \n",
       "\n",
       "[5 rows x 25 columns]"
      ]
     },
     "execution_count": 4,
     "metadata": {},
     "output_type": "execute_result"
    }
   ],
   "source": [
    "df.head()"
   ]
  },
  {
   "cell_type": "code",
   "execution_count": 5,
   "id": "07380ff5-4fd2-477a-ab7b-0cbf5d9e2d70",
   "metadata": {},
   "outputs": [
    {
     "data": {
      "text/plain": [
       "array([0.      , 1.570796, 3.141593, 2.356194, 0.392699, 0.785398])"
      ]
     },
     "execution_count": 5,
     "metadata": {},
     "output_type": "execute_result"
    }
   ],
   "source": [
    "df[\"itheta\"].unique()"
   ]
  },
  {
   "cell_type": "code",
   "execution_count": 6,
   "id": "e3021073-d9cf-439c-868e-03a551f561aa",
   "metadata": {},
   "outputs": [],
   "source": [
    "df_stats = analyzer.do_stats(therm = 0.2)"
   ]
  },
  {
   "cell_type": "code",
   "execution_count": 7,
   "id": "8edfccd0-b085-4f72-847c-787a48a1503a",
   "metadata": {},
   "outputs": [
    {
     "data": {
      "text/html": [
       "<div>\n",
       "<style scoped>\n",
       "    .dataframe tbody tr th:only-of-type {\n",
       "        vertical-align: middle;\n",
       "    }\n",
       "\n",
       "    .dataframe tbody tr th {\n",
       "        vertical-align: top;\n",
       "    }\n",
       "\n",
       "    .dataframe thead th {\n",
       "        text-align: right;\n",
       "    }\n",
       "</style>\n",
       "<table border=\"1\" class=\"dataframe\">\n",
       "  <thead>\n",
       "    <tr style=\"text-align: right;\">\n",
       "      <th></th>\n",
       "      <th></th>\n",
       "      <th></th>\n",
       "      <th></th>\n",
       "      <th></th>\n",
       "      <th>|phi|_mean</th>\n",
       "      <th>Q_L_mean</th>\n",
       "      <th>A_L_mean</th>\n",
       "      <th>S_L_mean</th>\n",
       "      <th>Xi_L_mean</th>\n",
       "      <th>F_LRe_mean</th>\n",
       "      <th>F_LIm_mean</th>\n",
       "      <th>acc_mean</th>\n",
       "      <th>Q_L_ta</th>\n",
       "      <th>A_L_ta</th>\n",
       "      <th>...</th>\n",
       "      <th>acc_std</th>\n",
       "      <th>corr_length_Re_std</th>\n",
       "      <th>corr_length_Im_std</th>\n",
       "      <th>F_Re_py_std</th>\n",
       "      <th>F_Im_py_std</th>\n",
       "      <th>mass_gap_Re_std</th>\n",
       "      <th>mass_gap_Im_std</th>\n",
       "      <th>time (sec)</th>\n",
       "      <th>time (min)</th>\n",
       "      <th>time (hr)</th>\n",
       "    </tr>\n",
       "    <tr>\n",
       "      <th>length</th>\n",
       "      <th>itheta</th>\n",
       "      <th>beta</th>\n",
       "      <th>nMC</th>\n",
       "      <th>ntherm</th>\n",
       "      <th></th>\n",
       "      <th></th>\n",
       "      <th></th>\n",
       "      <th></th>\n",
       "      <th></th>\n",
       "      <th></th>\n",
       "      <th></th>\n",
       "      <th></th>\n",
       "      <th></th>\n",
       "      <th></th>\n",
       "      <th></th>\n",
       "      <th></th>\n",
       "      <th></th>\n",
       "      <th></th>\n",
       "      <th></th>\n",
       "      <th></th>\n",
       "      <th></th>\n",
       "      <th></th>\n",
       "      <th></th>\n",
       "      <th></th>\n",
       "      <th></th>\n",
       "    </tr>\n",
       "  </thead>\n",
       "  <tbody>\n",
       "    <tr>\n",
       "      <th rowspan=\"5\" valign=\"top\">10.0</th>\n",
       "      <th>0.000000</th>\n",
       "      <th>1.6</th>\n",
       "      <th>10000.0</th>\n",
       "      <th>0.0</th>\n",
       "      <td>100.0</td>\n",
       "      <td>0.000039</td>\n",
       "      <td>-535.818511</td>\n",
       "      <td>-535.818511</td>\n",
       "      <td>67.320500</td>\n",
       "      <td>6.964259</td>\n",
       "      <td>3.693286</td>\n",
       "      <td>0.086961</td>\n",
       "      <td>17.0</td>\n",
       "      <td>41.0</td>\n",
       "      <td>...</td>\n",
       "      <td>0.000741</td>\n",
       "      <td>1.024573</td>\n",
       "      <td>0.042229</td>\n",
       "      <td>0.0</td>\n",
       "      <td>0.0</td>\n",
       "      <td>0.023944</td>\n",
       "      <td>0.000987</td>\n",
       "      <td>NaN</td>\n",
       "      <td>NaN</td>\n",
       "      <td>NaN</td>\n",
       "    </tr>\n",
       "    <tr>\n",
       "      <th>0.392699</th>\n",
       "      <th>1.6</th>\n",
       "      <th>10000.0</th>\n",
       "      <th>0.0</th>\n",
       "      <td>100.0</td>\n",
       "      <td>0.000000</td>\n",
       "      <td>-536.112038</td>\n",
       "      <td>-536.112038</td>\n",
       "      <td>68.669267</td>\n",
       "      <td>7.581287</td>\n",
       "      <td>2.844019</td>\n",
       "      <td>0.086869</td>\n",
       "      <td>69.0</td>\n",
       "      <td>37.0</td>\n",
       "      <td>...</td>\n",
       "      <td>0.000649</td>\n",
       "      <td>1.054887</td>\n",
       "      <td>0.172336</td>\n",
       "      <td>0.0</td>\n",
       "      <td>0.0</td>\n",
       "      <td>0.019047</td>\n",
       "      <td>0.013846</td>\n",
       "      <td>886.0</td>\n",
       "      <td>14.766667</td>\n",
       "      <td>0.246111</td>\n",
       "    </tr>\n",
       "    <tr>\n",
       "      <th>0.785398</th>\n",
       "      <th>1.6</th>\n",
       "      <th>10000.0</th>\n",
       "      <th>0.0</th>\n",
       "      <td>100.0</td>\n",
       "      <td>0.000000</td>\n",
       "      <td>-536.059309</td>\n",
       "      <td>-536.059309</td>\n",
       "      <td>69.855486</td>\n",
       "      <td>5.722368</td>\n",
       "      <td>1.394511</td>\n",
       "      <td>0.086497</td>\n",
       "      <td>21.0</td>\n",
       "      <td>33.0</td>\n",
       "      <td>...</td>\n",
       "      <td>0.000599</td>\n",
       "      <td>1.246056</td>\n",
       "      <td>0.399596</td>\n",
       "      <td>0.0</td>\n",
       "      <td>0.0</td>\n",
       "      <td>0.022805</td>\n",
       "      <td>0.041967</td>\n",
       "      <td>NaN</td>\n",
       "      <td>NaN</td>\n",
       "      <td>NaN</td>\n",
       "    </tr>\n",
       "    <tr>\n",
       "      <th>1.570796</th>\n",
       "      <th>1.6</th>\n",
       "      <th>10000.0</th>\n",
       "      <th>0.0</th>\n",
       "      <td>100.0</td>\n",
       "      <td>0.000000</td>\n",
       "      <td>-535.733114</td>\n",
       "      <td>-535.733114</td>\n",
       "      <td>68.771278</td>\n",
       "      <td>3.009414</td>\n",
       "      <td>1.373289</td>\n",
       "      <td>0.086414</td>\n",
       "      <td>158.0</td>\n",
       "      <td>95.0</td>\n",
       "      <td>...</td>\n",
       "      <td>0.000729</td>\n",
       "      <td>1.034008</td>\n",
       "      <td>0.088823</td>\n",
       "      <td>0.0</td>\n",
       "      <td>0.0</td>\n",
       "      <td>0.017517</td>\n",
       "      <td>0.001505</td>\n",
       "      <td>NaN</td>\n",
       "      <td>NaN</td>\n",
       "      <td>NaN</td>\n",
       "    </tr>\n",
       "    <tr>\n",
       "      <th>2.356194</th>\n",
       "      <th>1.6</th>\n",
       "      <th>10000.0</th>\n",
       "      <th>0.0</th>\n",
       "      <td>100.0</td>\n",
       "      <td>0.000000</td>\n",
       "      <td>-536.263416</td>\n",
       "      <td>-536.263416</td>\n",
       "      <td>68.720890</td>\n",
       "      <td>2.595148</td>\n",
       "      <td>1.942084</td>\n",
       "      <td>0.087583</td>\n",
       "      <td>413.0</td>\n",
       "      <td>277.0</td>\n",
       "      <td>...</td>\n",
       "      <td>0.000851</td>\n",
       "      <td>1.047562</td>\n",
       "      <td>0.321620</td>\n",
       "      <td>0.0</td>\n",
       "      <td>0.0</td>\n",
       "      <td>0.029644</td>\n",
       "      <td>0.015170</td>\n",
       "      <td>NaN</td>\n",
       "      <td>NaN</td>\n",
       "      <td>NaN</td>\n",
       "    </tr>\n",
       "  </tbody>\n",
       "</table>\n",
       "<p>5 rows × 35 columns</p>\n",
       "</div>"
      ],
      "text/plain": [
       "                                     |phi|_mean  Q_L_mean    A_L_mean  \\\n",
       "length itheta   beta nMC     ntherm                                     \n",
       "10.0   0.000000 1.6  10000.0 0.0          100.0  0.000039 -535.818511   \n",
       "       0.392699 1.6  10000.0 0.0          100.0  0.000000 -536.112038   \n",
       "       0.785398 1.6  10000.0 0.0          100.0  0.000000 -536.059309   \n",
       "       1.570796 1.6  10000.0 0.0          100.0  0.000000 -535.733114   \n",
       "       2.356194 1.6  10000.0 0.0          100.0  0.000000 -536.263416   \n",
       "\n",
       "                                       S_L_mean  Xi_L_mean  F_LRe_mean  \\\n",
       "length itheta   beta nMC     ntherm                                      \n",
       "10.0   0.000000 1.6  10000.0 0.0    -535.818511  67.320500    6.964259   \n",
       "       0.392699 1.6  10000.0 0.0    -536.112038  68.669267    7.581287   \n",
       "       0.785398 1.6  10000.0 0.0    -536.059309  69.855486    5.722368   \n",
       "       1.570796 1.6  10000.0 0.0    -535.733114  68.771278    3.009414   \n",
       "       2.356194 1.6  10000.0 0.0    -536.263416  68.720890    2.595148   \n",
       "\n",
       "                                     F_LIm_mean  acc_mean  Q_L_ta  A_L_ta  \\\n",
       "length itheta   beta nMC     ntherm                                         \n",
       "10.0   0.000000 1.6  10000.0 0.0       3.693286  0.086961    17.0    41.0   \n",
       "       0.392699 1.6  10000.0 0.0       2.844019  0.086869    69.0    37.0   \n",
       "       0.785398 1.6  10000.0 0.0       1.394511  0.086497    21.0    33.0   \n",
       "       1.570796 1.6  10000.0 0.0       1.373289  0.086414   158.0    95.0   \n",
       "       2.356194 1.6  10000.0 0.0       1.942084  0.087583   413.0   277.0   \n",
       "\n",
       "                                     ...   acc_std  corr_length_Re_std  \\\n",
       "length itheta   beta nMC     ntherm  ...                                 \n",
       "10.0   0.000000 1.6  10000.0 0.0     ...  0.000741            1.024573   \n",
       "       0.392699 1.6  10000.0 0.0     ...  0.000649            1.054887   \n",
       "       0.785398 1.6  10000.0 0.0     ...  0.000599            1.246056   \n",
       "       1.570796 1.6  10000.0 0.0     ...  0.000729            1.034008   \n",
       "       2.356194 1.6  10000.0 0.0     ...  0.000851            1.047562   \n",
       "\n",
       "                                     corr_length_Im_std  F_Re_py_std  \\\n",
       "length itheta   beta nMC     ntherm                                    \n",
       "10.0   0.000000 1.6  10000.0 0.0               0.042229          0.0   \n",
       "       0.392699 1.6  10000.0 0.0               0.172336          0.0   \n",
       "       0.785398 1.6  10000.0 0.0               0.399596          0.0   \n",
       "       1.570796 1.6  10000.0 0.0               0.088823          0.0   \n",
       "       2.356194 1.6  10000.0 0.0               0.321620          0.0   \n",
       "\n",
       "                                     F_Im_py_std  mass_gap_Re_std  \\\n",
       "length itheta   beta nMC     ntherm                                 \n",
       "10.0   0.000000 1.6  10000.0 0.0             0.0         0.023944   \n",
       "       0.392699 1.6  10000.0 0.0             0.0         0.019047   \n",
       "       0.785398 1.6  10000.0 0.0             0.0         0.022805   \n",
       "       1.570796 1.6  10000.0 0.0             0.0         0.017517   \n",
       "       2.356194 1.6  10000.0 0.0             0.0         0.029644   \n",
       "\n",
       "                                     mass_gap_Im_std  time (sec)  time (min)  \\\n",
       "length itheta   beta nMC     ntherm                                            \n",
       "10.0   0.000000 1.6  10000.0 0.0            0.000987         NaN         NaN   \n",
       "       0.392699 1.6  10000.0 0.0            0.013846       886.0   14.766667   \n",
       "       0.785398 1.6  10000.0 0.0            0.041967         NaN         NaN   \n",
       "       1.570796 1.6  10000.0 0.0            0.001505         NaN         NaN   \n",
       "       2.356194 1.6  10000.0 0.0            0.015170         NaN         NaN   \n",
       "\n",
       "                                     time (hr)  \n",
       "length itheta   beta nMC     ntherm             \n",
       "10.0   0.000000 1.6  10000.0 0.0           NaN  \n",
       "       0.392699 1.6  10000.0 0.0      0.246111  \n",
       "       0.785398 1.6  10000.0 0.0           NaN  \n",
       "       1.570796 1.6  10000.0 0.0           NaN  \n",
       "       2.356194 1.6  10000.0 0.0           NaN  \n",
       "\n",
       "[5 rows x 35 columns]"
      ]
     },
     "execution_count": 7,
     "metadata": {},
     "output_type": "execute_result"
    }
   ],
   "source": [
    "df_stats.head()"
   ]
  },
  {
   "cell_type": "markdown",
   "id": "450dedbf-c013-454d-8b7b-3188b0bf4e24",
   "metadata": {
    "tags": []
   },
   "source": [
    "# Observable plots"
   ]
  },
  {
   "cell_type": "code",
   "execution_count": 8,
   "id": "4aba8de4-cedc-4612-b8a4-61b32d6e0410",
   "metadata": {},
   "outputs": [],
   "source": [
    "beta = 1.6\n",
    "nMC = 10000\n",
    "plot_params = {\"beta\": beta, \"nMC\": nMC}"
   ]
  },
  {
   "cell_type": "code",
   "execution_count": 9,
   "id": "a5c80727-dbdb-47b5-a7b3-58ee77dcf353",
   "metadata": {},
   "outputs": [],
   "source": [
    "df_stats = analyzer.do_stats(therm = 0.4, **plot_params)"
   ]
  },
  {
   "cell_type": "code",
   "execution_count": 10,
   "id": "bcba1479-520d-45c5-be02-301c7930586a",
   "metadata": {},
   "outputs": [
    {
     "data": {
      "text/plain": [
       "Index(['|phi|_mean', 'Q_L_mean', 'A_L_mean', 'S_L_mean', 'Xi_L_mean',\n",
       "       'F_LRe_mean', 'F_LIm_mean', 'acc_mean', 'Q_L_ta', 'A_L_ta', 'S_L_ta',\n",
       "       'Xi_L_ta', 'corr_length_Re_mean', 'corr_length_Im_mean', 'F_Re_py_mean',\n",
       "       'F_Im_py_mean', 'mass_gap_Re_mean', 'mass_gap_Im_mean', '|phi|_std',\n",
       "       'Q_L_std', 'A_L_std', 'S_L_std', 'Xi_L_std', 'F_LRe_std', 'F_LIm_std',\n",
       "       'acc_std', 'corr_length_Re_std', 'corr_length_Im_std', 'F_Re_py_std',\n",
       "       'F_Im_py_std', 'mass_gap_Re_std', 'mass_gap_Im_std', 'time (sec)',\n",
       "       'time (min)', 'time (hr)'],\n",
       "      dtype='object')"
      ]
     },
     "execution_count": 10,
     "metadata": {},
     "output_type": "execute_result"
    }
   ],
   "source": [
    "df_stats.columns"
   ]
  },
  {
   "cell_type": "markdown",
   "id": "f039e1f0-401c-4780-91dd-a9703d1f0160",
   "metadata": {
    "tags": []
   },
   "source": [
    "### Q_L"
   ]
  },
  {
   "cell_type": "code",
   "execution_count": 11,
   "id": "a295b6a4-a23e-4c19-a67f-821c68ecd878",
   "metadata": {},
   "outputs": [
    {
     "data": {
      "image/png": "[encoded data removed]",
      "text/plain": [
       "<Figure size 432x288 with 1 Axes>"
      ]
     },
     "metadata": {
      "needs_background": "light"
     },
     "output_type": "display_data"
    }
   ],
   "source": [
    "sns.scatterplot(data = df_stats, x = \"itheta\", y = \"Q_L_mean\", hue = \"length\", \n",
    "                size = \"nMC\", palette = analyzer.palette)\n",
    "plt.show()"
   ]
  },
  {
   "cell_type": "markdown",
   "id": "a51a9bbb-a788-4d6f-8707-e0037e0af205",
   "metadata": {
    "tags": []
   },
   "source": [
    "### S_L"
   ]
  },
  {
   "cell_type": "code",
   "execution_count": 12,
   "id": "2611a9d2-3b7f-4397-b606-a1aac07ec493",
   "metadata": {},
   "outputs": [
    {
     "data": {
      "image/png": "[encoded data removed]",
      "text/plain": [
       "<Figure size 432x288 with 1 Axes>"
      ]
     },
     "metadata": {
      "needs_background": "light"
     },
     "output_type": "display_data"
    }
   ],
   "source": [
    "sns.scatterplot(data = df_stats, x = \"itheta\", y = \"S_L_mean\", hue = \"length\", \n",
    "                size = \"nMC\", palette = analyzer.palette)\n",
    "plt.show()"
   ]
  },
  {
   "cell_type": "markdown",
   "id": "67a80b70-2b73-4d24-a901-3ad432eb0818",
   "metadata": {
    "tags": []
   },
   "source": [
    "### Xi_L"
   ]
  },
  {
   "cell_type": "code",
   "execution_count": 13,
   "id": "435f2dc1-8282-47bd-98cc-55337ef0ceb9",
   "metadata": {},
   "outputs": [
    {
     "data": {
      "image/png": "[encoded data removed]",
      "text/plain": [
       "<Figure size 432x288 with 1 Axes>"
      ]
     },
     "metadata": {
      "needs_background": "light"
     },
     "output_type": "display_data"
    }
   ],
   "source": [
    "sns.scatterplot(data = df_stats, x = \"itheta\", y = \"Xi_L_mean\", hue = \"length\", \n",
    "                size = \"nMC\", palette = analyzer.palette)\n",
    "plt.show()"
   ]
  },
  {
   "cell_type": "markdown",
   "id": "e66df175-1ae4-48db-a119-377641dce114",
   "metadata": {},
   "source": [
    "### F_L Re"
   ]
  },
  {
   "cell_type": "code",
   "execution_count": 14,
   "id": "3da01ab3-b714-4be5-831b-d26481da591b",
   "metadata": {},
   "outputs": [
    {
     "data": {
      "image/png": "[encoded data removed]",
      "text/plain": [
       "<Figure size 432x288 with 1 Axes>"
      ]
     },
     "metadata": {
      "needs_background": "light"
     },
     "output_type": "display_data"
    }
   ],
   "source": [
    "sns.scatterplot(data = df_stats, x = \"itheta\", y = \"F_LRe_mean\", hue = \"length\", \n",
    "                size = \"nMC\", palette = analyzer.palette)\n",
    "\n",
    "plt.show()"
   ]
  },
  {
   "cell_type": "code",
   "execution_count": 15,
   "id": "48b658e3-6d87-4f48-a63b-fc536cd79d8d",
   "metadata": {},
   "outputs": [
    {
     "data": {
      "text/html": [
       "<div>\n",
       "<style scoped>\n",
       "    .dataframe tbody tr th:only-of-type {\n",
       "        vertical-align: middle;\n",
       "    }\n",
       "\n",
       "    .dataframe tbody tr th {\n",
       "        vertical-align: top;\n",
       "    }\n",
       "\n",
       "    .dataframe thead th {\n",
       "        text-align: right;\n",
       "    }\n",
       "</style>\n",
       "<table border=\"1\" class=\"dataframe\">\n",
       "  <thead>\n",
       "    <tr style=\"text-align: right;\">\n",
       "      <th></th>\n",
       "      <th></th>\n",
       "      <th></th>\n",
       "      <th></th>\n",
       "      <th></th>\n",
       "      <th></th>\n",
       "      <th>F_L</th>\n",
       "    </tr>\n",
       "    <tr>\n",
       "      <th>length</th>\n",
       "      <th>itheta</th>\n",
       "      <th>beta</th>\n",
       "      <th>nMC</th>\n",
       "      <th>ntherm</th>\n",
       "      <th>Source</th>\n",
       "      <th></th>\n",
       "    </tr>\n",
       "  </thead>\n",
       "  <tbody>\n",
       "    <tr>\n",
       "      <th rowspan=\"5\" valign=\"top\">10.0</th>\n",
       "      <th rowspan=\"2\" valign=\"top\">0.000000</th>\n",
       "      <th rowspan=\"2\" valign=\"top\">1.6</th>\n",
       "      <th rowspan=\"2\" valign=\"top\">10000.0</th>\n",
       "      <th rowspan=\"2\" valign=\"top\">0.0</th>\n",
       "      <th>C++</th>\n",
       "      <td>3.693286</td>\n",
       "    </tr>\n",
       "    <tr>\n",
       "      <th>Python</th>\n",
       "      <td>0.223807</td>\n",
       "    </tr>\n",
       "    <tr>\n",
       "      <th rowspan=\"2\" valign=\"top\">0.392699</th>\n",
       "      <th rowspan=\"2\" valign=\"top\">1.6</th>\n",
       "      <th rowspan=\"2\" valign=\"top\">10000.0</th>\n",
       "      <th rowspan=\"2\" valign=\"top\">0.0</th>\n",
       "      <th>C++</th>\n",
       "      <td>2.844019</td>\n",
       "    </tr>\n",
       "    <tr>\n",
       "      <th>Python</th>\n",
       "      <td>-0.356265</td>\n",
       "    </tr>\n",
       "    <tr>\n",
       "      <th>0.785398</th>\n",
       "      <th>1.6</th>\n",
       "      <th>10000.0</th>\n",
       "      <th>0.0</th>\n",
       "      <th>C++</th>\n",
       "      <td>1.394511</td>\n",
       "    </tr>\n",
       "  </tbody>\n",
       "</table>\n",
       "</div>"
      ],
      "text/plain": [
       "                                                 F_L\n",
       "length itheta   beta nMC     ntherm Source          \n",
       "10.0   0.000000 1.6  10000.0 0.0    C++     3.693286\n",
       "                                    Python  0.223807\n",
       "       0.392699 1.6  10000.0 0.0    C++     2.844019\n",
       "                                    Python -0.356265\n",
       "       0.785398 1.6  10000.0 0.0    C++     1.394511"
      ]
     },
     "execution_count": 15,
     "metadata": {},
     "output_type": "execute_result"
    }
   ],
   "source": [
    "F_L_Re_df = df_stats.filter([\"F_LRe_mean\",\"F_Re_py_mean\"])\n",
    "F_L_Re_df.rename(columns = {\"F_LRe_mean\":\"C++\",\"F_Re_py_mean\":\"Python\"},inplace = True)\n",
    "F_L_Re_df.columns.name = 'Source'\n",
    "F_L_Im_df = df_stats.filter([\"F_LIm_mean\",\"F_Im_py_mean\"])\n",
    "F_L_Im_df.rename(columns = {\"F_LIm_mean\":\"C++\",\"F_Im_py_mean\":\"Python\"},inplace = True)\n",
    "F_L_Im_df.columns.name = 'Source'\n",
    "F_L_Re_df = F_L_Re_df.stack()\n",
    "F_L_Im_df = F_L_Im_df.stack()\n",
    "F_L_Re_df.name = \"F_L\"\n",
    "F_L_Re_df = F_L_Re_df.to_frame()\n",
    "F_L_Im_df.name = \"F_L\"\n",
    "F_L_Im_df = F_L_Im_df.to_frame()\n",
    "F_L_Im_df.head()"
   ]
  },
  {
   "cell_type": "code",
   "execution_count": 16,
   "id": "8452432b-4eb9-46bf-be1e-fe4ce542d92c",
   "metadata": {},
   "outputs": [],
   "source": [
    "F_L_df = F_L_Re_df.join(F_L_Im_df, lsuffix = \"_Re\", rsuffix = \"_Im\")"
   ]
  },
  {
   "cell_type": "code",
   "execution_count": 21,
   "id": "6a50f266-00a8-4d58-8961-00638760f5b0",
   "metadata": {},
   "outputs": [
    {
     "data": {
      "text/html": [
       "<div>\n",
       "<style scoped>\n",
       "    .dataframe tbody tr th:only-of-type {\n",
       "        vertical-align: middle;\n",
       "    }\n",
       "\n",
       "    .dataframe tbody tr th {\n",
       "        vertical-align: top;\n",
       "    }\n",
       "\n",
       "    .dataframe thead th {\n",
       "        text-align: right;\n",
       "    }\n",
       "</style>\n",
       "<table border=\"1\" class=\"dataframe\">\n",
       "  <thead>\n",
       "    <tr style=\"text-align: right;\">\n",
       "      <th></th>\n",
       "      <th></th>\n",
       "      <th></th>\n",
       "      <th></th>\n",
       "      <th></th>\n",
       "      <th></th>\n",
       "      <th>F_L_Re</th>\n",
       "      <th>F_L_Im</th>\n",
       "    </tr>\n",
       "    <tr>\n",
       "      <th>length</th>\n",
       "      <th>itheta</th>\n",
       "      <th>beta</th>\n",
       "      <th>nMC</th>\n",
       "      <th>ntherm</th>\n",
       "      <th>Source</th>\n",
       "      <th></th>\n",
       "      <th></th>\n",
       "    </tr>\n",
       "  </thead>\n",
       "  <tbody>\n",
       "    <tr>\n",
       "      <th rowspan=\"5\" valign=\"top\">10.0</th>\n",
       "      <th rowspan=\"2\" valign=\"top\">0.000000</th>\n",
       "      <th rowspan=\"2\" valign=\"top\">1.6</th>\n",
       "      <th rowspan=\"2\" valign=\"top\">10000.0</th>\n",
       "      <th rowspan=\"2\" valign=\"top\">0.0</th>\n",
       "      <th>C++</th>\n",
       "      <td>6.964259</td>\n",
       "      <td>3.693286</td>\n",
       "    </tr>\n",
       "    <tr>\n",
       "      <th>Python</th>\n",
       "      <td>2.710455</td>\n",
       "      <td>0.223807</td>\n",
       "    </tr>\n",
       "    <tr>\n",
       "      <th rowspan=\"2\" valign=\"top\">0.392699</th>\n",
       "      <th rowspan=\"2\" valign=\"top\">1.6</th>\n",
       "      <th rowspan=\"2\" valign=\"top\">10000.0</th>\n",
       "      <th rowspan=\"2\" valign=\"top\">0.0</th>\n",
       "      <th>C++</th>\n",
       "      <td>7.581287</td>\n",
       "      <td>2.844019</td>\n",
       "    </tr>\n",
       "    <tr>\n",
       "      <th>Python</th>\n",
       "      <td>2.302333</td>\n",
       "      <td>-0.356265</td>\n",
       "    </tr>\n",
       "    <tr>\n",
       "      <th>0.785398</th>\n",
       "      <th>1.6</th>\n",
       "      <th>10000.0</th>\n",
       "      <th>0.0</th>\n",
       "      <th>C++</th>\n",
       "      <td>5.722368</td>\n",
       "      <td>1.394511</td>\n",
       "    </tr>\n",
       "  </tbody>\n",
       "</table>\n",
       "</div>"
      ],
      "text/plain": [
       "                                              F_L_Re    F_L_Im\n",
       "length itheta   beta nMC     ntherm Source                    \n",
       "10.0   0.000000 1.6  10000.0 0.0    C++     6.964259  3.693286\n",
       "                                    Python  2.710455  0.223807\n",
       "       0.392699 1.6  10000.0 0.0    C++     7.581287  2.844019\n",
       "                                    Python  2.302333 -0.356265\n",
       "       0.785398 1.6  10000.0 0.0    C++     5.722368  1.394511"
      ]
     },
     "execution_count": 21,
     "metadata": {},
     "output_type": "execute_result"
    }
   ],
   "source": [
    "F_L_df.head()"
   ]
  },
  {
   "cell_type": "code",
   "execution_count": 23,
   "id": "891bed1a-d85a-42c7-959d-c6a28bfc8f46",
   "metadata": {},
   "outputs": [
    {
     "data": {
      "image/png": "[encoded data removed]",
      "text/plain": [
       "<Figure size 432x288 with 1 Axes>"
      ]
     },
     "metadata": {
      "needs_background": "light"
     },
     "output_type": "display_data"
    }
   ],
   "source": [
    "sns.scatterplot(data = F_L_df, x = \"itheta\", y = \"F_L_Re\", hue = \"length\", \n",
    "                style = \"Source\", palette = sns.color_palette(\"Blues\", 3))\n",
    "plt.show()"
   ]
  },
  {
   "cell_type": "code",
   "execution_count": 24,
   "id": "3e9b87d1-6c2b-4371-b5e4-6e371404c693",
   "metadata": {},
   "outputs": [
    {
     "data": {
      "image/png": "[encoded data removed]",
      "text/plain": [
       "<Figure size 432x288 with 1 Axes>"
      ]
     },
     "metadata": {
      "needs_background": "light"
     },
     "output_type": "display_data"
    }
   ],
   "source": [
    "sns.scatterplot(data = F_L_df, x = \"itheta\", y = \"F_L_Im\", hue = \"length\", \n",
    "                style = \"Source\", palette = sns.color_palette(\"Reds\", 3))\n",
    "plt.show()"
   ]
  },
  {
   "cell_type": "markdown",
   "id": "59c341e8-446c-483b-af37-b0a3875ea618",
   "metadata": {},
   "source": [
    "## Correlation Length"
   ]
  },
  {
   "cell_type": "code",
   "execution_count": 19,
   "id": "bd0b6475-1281-4891-9db4-870c1bdd0886",
   "metadata": {},
   "outputs": [
    {
     "data": {
      "image/png": "[encoded data removed]",
      "text/plain": [
       "<Figure size 432x288 with 1 Axes>"
      ]
     },
     "metadata": {
      "needs_background": "light"
     },
     "output_type": "display_data"
    }
   ],
   "source": [
    "sns.scatterplot(data = df_stats, x = \"itheta\", y = \"corr_length_Re_mean\", hue = \"length\", \n",
    "                size = \"nMC\", palette = analyzer.palette)\n",
    "\n",
    "plt.show()"
   ]
  },
  {
   "cell_type": "markdown",
   "id": "0ebfa44f-00c7-4879-9eee-622e74ed513d",
   "metadata": {},
   "source": [
    "### Mass Gap"
   ]
  },
  {
   "cell_type": "code",
   "execution_count": 20,
   "id": "eeee1fb8-512e-40b9-982d-197e47b583a8",
   "metadata": {},
   "outputs": [
    {
     "data": {
      "image/png": "[encoded data removed]",
      "text/plain": [
       "<Figure size 432x288 with 1 Axes>"
      ]
     },
     "metadata": {
      "needs_background": "light"
     },
     "output_type": "display_data"
    }
   ],
   "source": [
    "sns.scatterplot(data = df_stats, x = \"itheta\", y = \"mass_gap_Re_mean\", hue = \"length\", \n",
    "                size = \"nMC\", palette = analyzer.palette)\n",
    "\n",
    "plt.show()"
   ]
  }
 ],
 "metadata": {
  "kernelspec": {
   "display_name": "Python 3 (ipykernel)",
   "language": "python",
   "name": "python3"
  },
  "language_info": {
   "codemirror_mode": {
    "name": "ipython",
    "version": 3
   },
   "file_extension": ".py",
   "mimetype": "text/x-python",
   "name": "python",
   "nbconvert_exporter": "python",
   "pygments_lexer": "ipython3",
   "version": "3.8.10"
  }
 },
 "nbformat": 4,
 "nbformat_minor": 5
}
