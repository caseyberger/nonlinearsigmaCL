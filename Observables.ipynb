{
 "cells": [
  {
   "cell_type": "code",
   "execution_count": 1,
   "id": "1d6672c5-0a61-45f8-803a-28812a4a9aca",
   "metadata": {},
   "outputs": [],
   "source": [
    "import os\n",
    "import numpy as np\n",
    "import pandas as pd\n",
    "import matplotlib.pyplot as plt\n",
    "import seaborn as sns\n",
    "from LatticeData import *"
   ]
  },
  {
   "cell_type": "markdown",
   "id": "09a42030-1f13-4783-9853-f1459b51f90e",
   "metadata": {},
   "source": [
    "# Create analyzer - instantiate class"
   ]
  },
  {
   "cell_type": "code",
   "execution_count": 2,
   "id": "3a8f83a8-69c3-4a84-913c-2a280a8f6ad2",
   "metadata": {},
   "outputs": [],
   "source": [
    "analyzer = LatticeData(datadir = \"/data_opt_no_omp/\")"
   ]
  },
  {
   "cell_type": "markdown",
   "id": "61491e67-091b-4173-95a6-06f977afcaeb",
   "metadata": {
    "tags": []
   },
   "source": [
    "## Basic statistics"
   ]
  },
  {
   "cell_type": "code",
   "execution_count": 3,
   "id": "b5680445-d9ea-4940-8252-3123e99b66ca",
   "metadata": {},
   "outputs": [],
   "source": [
    "df = analyzer.get_data()"
   ]
  },
  {
   "cell_type": "code",
   "execution_count": 4,
   "id": "131ea67c-88cf-4480-981c-e6d306ab0665",
   "metadata": {},
   "outputs": [
    {
     "data": {
      "text/html": [
       "<div>\n",
       "<style scoped>\n",
       "    .dataframe tbody tr th:only-of-type {\n",
       "        vertical-align: middle;\n",
       "    }\n",
       "\n",
       "    .dataframe tbody tr th {\n",
       "        vertical-align: top;\n",
       "    }\n",
       "\n",
       "    .dataframe thead th {\n",
       "        text-align: right;\n",
       "    }\n",
       "</style>\n",
       "<table border=\"1\" class=\"dataframe\">\n",
       "  <thead>\n",
       "    <tr style=\"text-align: right;\">\n",
       "      <th></th>\n",
       "      <th>step</th>\n",
       "      <th>|phi|</th>\n",
       "      <th>Q_L</th>\n",
       "      <th>A_L</th>\n",
       "      <th>S_L</th>\n",
       "      <th>Xi_L</th>\n",
       "      <th>F_LRe</th>\n",
       "      <th>F_LIm</th>\n",
       "      <th>acc</th>\n",
       "      <th>dt</th>\n",
       "      <th>...</th>\n",
       "      <th>Q_L_ta</th>\n",
       "      <th>A_L_ta</th>\n",
       "      <th>S_L_ta</th>\n",
       "      <th>Xi_L_ta</th>\n",
       "      <th>corr_length_Re</th>\n",
       "      <th>corr_length_Im</th>\n",
       "      <th>F_Re_py</th>\n",
       "      <th>F_Im_py</th>\n",
       "      <th>mass_gap_Re</th>\n",
       "      <th>mass_gap_Im</th>\n",
       "    </tr>\n",
       "  </thead>\n",
       "  <tbody>\n",
       "    <tr>\n",
       "      <th>0</th>\n",
       "      <td>0</td>\n",
       "      <td>64.0</td>\n",
       "      <td>51.696644</td>\n",
       "      <td>-83.130136</td>\n",
       "      <td>-164.335034</td>\n",
       "      <td>-2.785386</td>\n",
       "      <td>4.062949</td>\n",
       "      <td>1.309125</td>\n",
       "      <td>0.453125</td>\n",
       "      <td>0.0</td>\n",
       "      <td>...</td>\n",
       "      <td>158</td>\n",
       "      <td>63</td>\n",
       "      <td>49</td>\n",
       "      <td>64</td>\n",
       "      <td>0.563807</td>\n",
       "      <td>1.981677</td>\n",
       "      <td>0.952387</td>\n",
       "      <td>0.589658</td>\n",
       "      <td>0.132819</td>\n",
       "      <td>-0.466835</td>\n",
       "    </tr>\n",
       "    <tr>\n",
       "      <th>1</th>\n",
       "      <td>1</td>\n",
       "      <td>64.0</td>\n",
       "      <td>61.658206</td>\n",
       "      <td>-99.879755</td>\n",
       "      <td>-196.732239</td>\n",
       "      <td>-3.873138</td>\n",
       "      <td>4.062949</td>\n",
       "      <td>1.309125</td>\n",
       "      <td>0.421875</td>\n",
       "      <td>0.0</td>\n",
       "      <td>...</td>\n",
       "      <td>158</td>\n",
       "      <td>63</td>\n",
       "      <td>49</td>\n",
       "      <td>64</td>\n",
       "      <td>0.664843</td>\n",
       "      <td>2.336800</td>\n",
       "      <td>0.952387</td>\n",
       "      <td>0.589658</td>\n",
       "      <td>0.112635</td>\n",
       "      <td>-0.395890</td>\n",
       "    </tr>\n",
       "    <tr>\n",
       "      <th>2</th>\n",
       "      <td>2</td>\n",
       "      <td>64.0</td>\n",
       "      <td>46.995115</td>\n",
       "      <td>-140.378451</td>\n",
       "      <td>-214.198204</td>\n",
       "      <td>-2.358379</td>\n",
       "      <td>4.062949</td>\n",
       "      <td>1.309125</td>\n",
       "      <td>0.390625</td>\n",
       "      <td>0.0</td>\n",
       "      <td>...</td>\n",
       "      <td>158</td>\n",
       "      <td>63</td>\n",
       "      <td>49</td>\n",
       "      <td>64</td>\n",
       "      <td>0.518793</td>\n",
       "      <td>1.823463</td>\n",
       "      <td>0.952387</td>\n",
       "      <td>0.589658</td>\n",
       "      <td>0.144343</td>\n",
       "      <td>-0.507340</td>\n",
       "    </tr>\n",
       "    <tr>\n",
       "      <th>3</th>\n",
       "      <td>3</td>\n",
       "      <td>64.0</td>\n",
       "      <td>52.555401</td>\n",
       "      <td>-144.696480</td>\n",
       "      <td>-227.250311</td>\n",
       "      <td>-9.227184</td>\n",
       "      <td>4.062949</td>\n",
       "      <td>1.309125</td>\n",
       "      <td>0.359375</td>\n",
       "      <td>0.0</td>\n",
       "      <td>...</td>\n",
       "      <td>158</td>\n",
       "      <td>63</td>\n",
       "      <td>49</td>\n",
       "      <td>64</td>\n",
       "      <td>1.026177</td>\n",
       "      <td>3.606822</td>\n",
       "      <td>0.952387</td>\n",
       "      <td>0.589658</td>\n",
       "      <td>0.072974</td>\n",
       "      <td>-0.256491</td>\n",
       "    </tr>\n",
       "    <tr>\n",
       "      <th>4</th>\n",
       "      <td>4</td>\n",
       "      <td>64.0</td>\n",
       "      <td>50.359917</td>\n",
       "      <td>-167.038203</td>\n",
       "      <td>-246.143376</td>\n",
       "      <td>-10.524996</td>\n",
       "      <td>4.062949</td>\n",
       "      <td>1.309125</td>\n",
       "      <td>0.325000</td>\n",
       "      <td>0.0</td>\n",
       "      <td>...</td>\n",
       "      <td>158</td>\n",
       "      <td>63</td>\n",
       "      <td>49</td>\n",
       "      <td>64</td>\n",
       "      <td>1.095970</td>\n",
       "      <td>3.852131</td>\n",
       "      <td>0.952387</td>\n",
       "      <td>0.589658</td>\n",
       "      <td>0.068327</td>\n",
       "      <td>-0.240157</td>\n",
       "    </tr>\n",
       "  </tbody>\n",
       "</table>\n",
       "<p>5 rows × 25 columns</p>\n",
       "</div>"
      ],
      "text/plain": [
       "   step  |phi|        Q_L         A_L         S_L       Xi_L     F_LRe  \\\n",
       "0     0   64.0  51.696644  -83.130136 -164.335034  -2.785386  4.062949   \n",
       "1     1   64.0  61.658206  -99.879755 -196.732239  -3.873138  4.062949   \n",
       "2     2   64.0  46.995115 -140.378451 -214.198204  -2.358379  4.062949   \n",
       "3     3   64.0  52.555401 -144.696480 -227.250311  -9.227184  4.062949   \n",
       "4     4   64.0  50.359917 -167.038203 -246.143376 -10.524996  4.062949   \n",
       "\n",
       "      F_LIm       acc   dt  ...  Q_L_ta  A_L_ta  S_L_ta  Xi_L_ta  \\\n",
       "0  1.309125  0.453125  0.0  ...     158      63      49       64   \n",
       "1  1.309125  0.421875  0.0  ...     158      63      49       64   \n",
       "2  1.309125  0.390625  0.0  ...     158      63      49       64   \n",
       "3  1.309125  0.359375  0.0  ...     158      63      49       64   \n",
       "4  1.309125  0.325000  0.0  ...     158      63      49       64   \n",
       "\n",
       "   corr_length_Re  corr_length_Im   F_Re_py   F_Im_py  mass_gap_Re  \\\n",
       "0        0.563807        1.981677  0.952387  0.589658     0.132819   \n",
       "1        0.664843        2.336800  0.952387  0.589658     0.112635   \n",
       "2        0.518793        1.823463  0.952387  0.589658     0.144343   \n",
       "3        1.026177        3.606822  0.952387  0.589658     0.072974   \n",
       "4        1.095970        3.852131  0.952387  0.589658     0.068327   \n",
       "\n",
       "   mass_gap_Im  \n",
       "0    -0.466835  \n",
       "1    -0.395890  \n",
       "2    -0.507340  \n",
       "3    -0.256491  \n",
       "4    -0.240157  \n",
       "\n",
       "[5 rows x 25 columns]"
      ]
     },
     "execution_count": 4,
     "metadata": {},
     "output_type": "execute_result"
    }
   ],
   "source": [
    "df.head()"
   ]
  },
  {
   "cell_type": "code",
   "execution_count": 5,
   "id": "07380ff5-4fd2-477a-ab7b-0cbf5d9e2d70",
   "metadata": {},
   "outputs": [
    {
     "data": {
      "text/plain": [
       "array([1.570796, 0.      , 3.141593, 2.356194, 0.785398, 0.392699])"
      ]
     },
     "execution_count": 5,
     "metadata": {},
     "output_type": "execute_result"
    }
   ],
   "source": [
    "df[\"itheta\"].unique()"
   ]
  },
  {
   "cell_type": "code",
   "execution_count": 6,
   "id": "e3021073-d9cf-439c-868e-03a551f561aa",
   "metadata": {},
   "outputs": [],
   "source": [
    "df_stats = analyzer.do_stats(therm = 0.2)"
   ]
  },
  {
   "cell_type": "code",
   "execution_count": 7,
   "id": "8edfccd0-b085-4f72-847c-787a48a1503a",
   "metadata": {},
   "outputs": [
    {
     "data": {
      "text/html": [
       "<div>\n",
       "<style scoped>\n",
       "    .dataframe tbody tr th:only-of-type {\n",
       "        vertical-align: middle;\n",
       "    }\n",
       "\n",
       "    .dataframe tbody tr th {\n",
       "        vertical-align: top;\n",
       "    }\n",
       "\n",
       "    .dataframe thead th {\n",
       "        text-align: right;\n",
       "    }\n",
       "</style>\n",
       "<table border=\"1\" class=\"dataframe\">\n",
       "  <thead>\n",
       "    <tr style=\"text-align: right;\">\n",
       "      <th></th>\n",
       "      <th></th>\n",
       "      <th></th>\n",
       "      <th></th>\n",
       "      <th></th>\n",
       "      <th>|phi|_mean</th>\n",
       "      <th>Q_L_mean</th>\n",
       "      <th>A_L_mean</th>\n",
       "      <th>S_L_mean</th>\n",
       "      <th>Xi_L_mean</th>\n",
       "      <th>F_LRe_mean</th>\n",
       "      <th>F_LIm_mean</th>\n",
       "      <th>acc_mean</th>\n",
       "      <th>Q_L_ta</th>\n",
       "      <th>A_L_ta</th>\n",
       "      <th>...</th>\n",
       "      <th>acc_std</th>\n",
       "      <th>corr_length_Re_std</th>\n",
       "      <th>corr_length_Im_std</th>\n",
       "      <th>F_Re_py_std</th>\n",
       "      <th>F_Im_py_std</th>\n",
       "      <th>mass_gap_Re_std</th>\n",
       "      <th>mass_gap_Im_std</th>\n",
       "      <th>time (sec)</th>\n",
       "      <th>time (min)</th>\n",
       "      <th>time (hr)</th>\n",
       "    </tr>\n",
       "    <tr>\n",
       "      <th>length</th>\n",
       "      <th>itheta</th>\n",
       "      <th>beta</th>\n",
       "      <th>nMC</th>\n",
       "      <th>ntherm</th>\n",
       "      <th></th>\n",
       "      <th></th>\n",
       "      <th></th>\n",
       "      <th></th>\n",
       "      <th></th>\n",
       "      <th></th>\n",
       "      <th></th>\n",
       "      <th></th>\n",
       "      <th></th>\n",
       "      <th></th>\n",
       "      <th></th>\n",
       "      <th></th>\n",
       "      <th></th>\n",
       "      <th></th>\n",
       "      <th></th>\n",
       "      <th></th>\n",
       "      <th></th>\n",
       "      <th></th>\n",
       "      <th></th>\n",
       "      <th></th>\n",
       "      <th></th>\n",
       "    </tr>\n",
       "  </thead>\n",
       "  <tbody>\n",
       "    <tr>\n",
       "      <th rowspan=\"3\" valign=\"top\">4.0</th>\n",
       "      <th>0.785398</th>\n",
       "      <th>1.6</th>\n",
       "      <th>10000.0</th>\n",
       "      <th>0.0</th>\n",
       "      <td>16.0</td>\n",
       "      <td>0.950540</td>\n",
       "      <td>-86.399455</td>\n",
       "      <td>-87.146007</td>\n",
       "      <td>12.664993</td>\n",
       "      <td>0.407287</td>\n",
       "      <td>-0.296192</td>\n",
       "      <td>0.087619</td>\n",
       "      <td>19.0</td>\n",
       "      <td>22.0</td>\n",
       "      <td>...</td>\n",
       "      <td>0.000641</td>\n",
       "      <td>0.226699</td>\n",
       "      <td>0.021333</td>\n",
       "      <td>0.0</td>\n",
       "      <td>0.0</td>\n",
       "      <td>0.032957</td>\n",
       "      <td>0.003101</td>\n",
       "      <td>9.0</td>\n",
       "      <td>0.150000</td>\n",
       "      <td>0.002500</td>\n",
       "    </tr>\n",
       "    <tr>\n",
       "      <th>1.570796</th>\n",
       "      <th>1.6</th>\n",
       "      <th>10000.0</th>\n",
       "      <th>0.0</th>\n",
       "      <td>16.0</td>\n",
       "      <td>1.091545</td>\n",
       "      <td>-84.845311</td>\n",
       "      <td>-86.559906</td>\n",
       "      <td>12.208513</td>\n",
       "      <td>0.378685</td>\n",
       "      <td>-1.490459</td>\n",
       "      <td>0.094274</td>\n",
       "      <td>16.0</td>\n",
       "      <td>18.0</td>\n",
       "      <td>...</td>\n",
       "      <td>0.001169</td>\n",
       "      <td>0.365367</td>\n",
       "      <td>0.073404</td>\n",
       "      <td>0.0</td>\n",
       "      <td>0.0</td>\n",
       "      <td>0.707834</td>\n",
       "      <td>0.090257</td>\n",
       "      <td>9.0</td>\n",
       "      <td>0.150000</td>\n",
       "      <td>0.002500</td>\n",
       "    </tr>\n",
       "    <tr>\n",
       "      <th>3.141593</th>\n",
       "      <th>1.6</th>\n",
       "      <th>10000.0</th>\n",
       "      <th>0.0</th>\n",
       "      <td>16.0</td>\n",
       "      <td>30.198727</td>\n",
       "      <td>-36.436676</td>\n",
       "      <td>-131.308776</td>\n",
       "      <td>0.134008</td>\n",
       "      <td>0.809280</td>\n",
       "      <td>-0.737422</td>\n",
       "      <td>0.042014</td>\n",
       "      <td>14.0</td>\n",
       "      <td>34.0</td>\n",
       "      <td>...</td>\n",
       "      <td>0.000577</td>\n",
       "      <td>0.602905</td>\n",
       "      <td>0.715349</td>\n",
       "      <td>0.0</td>\n",
       "      <td>0.0</td>\n",
       "      <td>1.246521</td>\n",
       "      <td>1.387943</td>\n",
       "      <td>9.0</td>\n",
       "      <td>0.150000</td>\n",
       "      <td>0.002500</td>\n",
       "    </tr>\n",
       "    <tr>\n",
       "      <th rowspan=\"2\" valign=\"top\">8.0</th>\n",
       "      <th>0.785398</th>\n",
       "      <th>1.6</th>\n",
       "      <th>10000.0</th>\n",
       "      <th>0.0</th>\n",
       "      <td>64.0</td>\n",
       "      <td>4.208507</td>\n",
       "      <td>-339.222131</td>\n",
       "      <td>-342.527485</td>\n",
       "      <td>44.532248</td>\n",
       "      <td>6.547964</td>\n",
       "      <td>0.992736</td>\n",
       "      <td>0.091592</td>\n",
       "      <td>25.0</td>\n",
       "      <td>23.0</td>\n",
       "      <td>...</td>\n",
       "      <td>0.000588</td>\n",
       "      <td>1.022579</td>\n",
       "      <td>0.109316</td>\n",
       "      <td>0.0</td>\n",
       "      <td>0.0</td>\n",
       "      <td>0.037924</td>\n",
       "      <td>0.019441</td>\n",
       "      <td>55.0</td>\n",
       "      <td>0.916667</td>\n",
       "      <td>0.015278</td>\n",
       "    </tr>\n",
       "    <tr>\n",
       "      <th>1.570796</th>\n",
       "      <th>1.6</th>\n",
       "      <th>10000.0</th>\n",
       "      <th>0.0</th>\n",
       "      <td>64.0</td>\n",
       "      <td>4.913489</td>\n",
       "      <td>-333.919475</td>\n",
       "      <td>-341.637566</td>\n",
       "      <td>41.049910</td>\n",
       "      <td>4.062949</td>\n",
       "      <td>1.309125</td>\n",
       "      <td>0.095922</td>\n",
       "      <td>158.0</td>\n",
       "      <td>63.0</td>\n",
       "      <td>...</td>\n",
       "      <td>0.000311</td>\n",
       "      <td>1.229378</td>\n",
       "      <td>0.358359</td>\n",
       "      <td>0.0</td>\n",
       "      <td>0.0</td>\n",
       "      <td>0.082535</td>\n",
       "      <td>0.032607</td>\n",
       "      <td>55.0</td>\n",
       "      <td>0.916667</td>\n",
       "      <td>0.015278</td>\n",
       "    </tr>\n",
       "  </tbody>\n",
       "</table>\n",
       "<p>5 rows × 35 columns</p>\n",
       "</div>"
      ],
      "text/plain": [
       "                                     |phi|_mean   Q_L_mean    A_L_mean  \\\n",
       "length itheta   beta nMC     ntherm                                      \n",
       "4.0    0.785398 1.6  10000.0 0.0           16.0   0.950540  -86.399455   \n",
       "       1.570796 1.6  10000.0 0.0           16.0   1.091545  -84.845311   \n",
       "       3.141593 1.6  10000.0 0.0           16.0  30.198727  -36.436676   \n",
       "8.0    0.785398 1.6  10000.0 0.0           64.0   4.208507 -339.222131   \n",
       "       1.570796 1.6  10000.0 0.0           64.0   4.913489 -333.919475   \n",
       "\n",
       "                                       S_L_mean  Xi_L_mean  F_LRe_mean  \\\n",
       "length itheta   beta nMC     ntherm                                      \n",
       "4.0    0.785398 1.6  10000.0 0.0     -87.146007  12.664993    0.407287   \n",
       "       1.570796 1.6  10000.0 0.0     -86.559906  12.208513    0.378685   \n",
       "       3.141593 1.6  10000.0 0.0    -131.308776   0.134008    0.809280   \n",
       "8.0    0.785398 1.6  10000.0 0.0    -342.527485  44.532248    6.547964   \n",
       "       1.570796 1.6  10000.0 0.0    -341.637566  41.049910    4.062949   \n",
       "\n",
       "                                     F_LIm_mean  acc_mean  Q_L_ta  A_L_ta  \\\n",
       "length itheta   beta nMC     ntherm                                         \n",
       "4.0    0.785398 1.6  10000.0 0.0      -0.296192  0.087619    19.0    22.0   \n",
       "       1.570796 1.6  10000.0 0.0      -1.490459  0.094274    16.0    18.0   \n",
       "       3.141593 1.6  10000.0 0.0      -0.737422  0.042014    14.0    34.0   \n",
       "8.0    0.785398 1.6  10000.0 0.0       0.992736  0.091592    25.0    23.0   \n",
       "       1.570796 1.6  10000.0 0.0       1.309125  0.095922   158.0    63.0   \n",
       "\n",
       "                                     ...   acc_std  corr_length_Re_std  \\\n",
       "length itheta   beta nMC     ntherm  ...                                 \n",
       "4.0    0.785398 1.6  10000.0 0.0     ...  0.000641            0.226699   \n",
       "       1.570796 1.6  10000.0 0.0     ...  0.001169            0.365367   \n",
       "       3.141593 1.6  10000.0 0.0     ...  0.000577            0.602905   \n",
       "8.0    0.785398 1.6  10000.0 0.0     ...  0.000588            1.022579   \n",
       "       1.570796 1.6  10000.0 0.0     ...  0.000311            1.229378   \n",
       "\n",
       "                                     corr_length_Im_std  F_Re_py_std  \\\n",
       "length itheta   beta nMC     ntherm                                    \n",
       "4.0    0.785398 1.6  10000.0 0.0               0.021333          0.0   \n",
       "       1.570796 1.6  10000.0 0.0               0.073404          0.0   \n",
       "       3.141593 1.6  10000.0 0.0               0.715349          0.0   \n",
       "8.0    0.785398 1.6  10000.0 0.0               0.109316          0.0   \n",
       "       1.570796 1.6  10000.0 0.0               0.358359          0.0   \n",
       "\n",
       "                                     F_Im_py_std  mass_gap_Re_std  \\\n",
       "length itheta   beta nMC     ntherm                                 \n",
       "4.0    0.785398 1.6  10000.0 0.0             0.0         0.032957   \n",
       "       1.570796 1.6  10000.0 0.0             0.0         0.707834   \n",
       "       3.141593 1.6  10000.0 0.0             0.0         1.246521   \n",
       "8.0    0.785398 1.6  10000.0 0.0             0.0         0.037924   \n",
       "       1.570796 1.6  10000.0 0.0             0.0         0.082535   \n",
       "\n",
       "                                     mass_gap_Im_std  time (sec)  time (min)  \\\n",
       "length itheta   beta nMC     ntherm                                            \n",
       "4.0    0.785398 1.6  10000.0 0.0            0.003101         9.0    0.150000   \n",
       "       1.570796 1.6  10000.0 0.0            0.090257         9.0    0.150000   \n",
       "       3.141593 1.6  10000.0 0.0            1.387943         9.0    0.150000   \n",
       "8.0    0.785398 1.6  10000.0 0.0            0.019441        55.0    0.916667   \n",
       "       1.570796 1.6  10000.0 0.0            0.032607        55.0    0.916667   \n",
       "\n",
       "                                     time (hr)  \n",
       "length itheta   beta nMC     ntherm             \n",
       "4.0    0.785398 1.6  10000.0 0.0      0.002500  \n",
       "       1.570796 1.6  10000.0 0.0      0.002500  \n",
       "       3.141593 1.6  10000.0 0.0      0.002500  \n",
       "8.0    0.785398 1.6  10000.0 0.0      0.015278  \n",
       "       1.570796 1.6  10000.0 0.0      0.015278  \n",
       "\n",
       "[5 rows x 35 columns]"
      ]
     },
     "execution_count": 7,
     "metadata": {},
     "output_type": "execute_result"
    }
   ],
   "source": [
    "df_stats.head()"
   ]
  },
  {
   "cell_type": "markdown",
   "id": "450dedbf-c013-454d-8b7b-3188b0bf4e24",
   "metadata": {
    "tags": []
   },
   "source": [
    "# Observable plots"
   ]
  },
  {
   "cell_type": "code",
   "execution_count": 8,
   "id": "4aba8de4-cedc-4612-b8a4-61b32d6e0410",
   "metadata": {},
   "outputs": [],
   "source": [
    "beta = 1.6\n",
    "nMC = 10000\n",
    "plot_params = {\"beta\": beta, \"nMC\": nMC}"
   ]
  },
  {
   "cell_type": "code",
   "execution_count": 9,
   "id": "a5c80727-dbdb-47b5-a7b3-58ee77dcf353",
   "metadata": {},
   "outputs": [],
   "source": [
    "df_stats = analyzer.do_stats(therm = 0.4, **plot_params)"
   ]
  },
  {
   "cell_type": "code",
   "execution_count": 10,
   "id": "bcba1479-520d-45c5-be02-301c7930586a",
   "metadata": {},
   "outputs": [
    {
     "data": {
      "text/plain": [
       "Index(['|phi|_mean', 'Q_L_mean', 'A_L_mean', 'S_L_mean', 'Xi_L_mean',\n",
       "       'F_LRe_mean', 'F_LIm_mean', 'acc_mean', 'Q_L_ta', 'A_L_ta', 'S_L_ta',\n",
       "       'Xi_L_ta', 'corr_length_Re_mean', 'corr_length_Im_mean', 'F_Re_py_mean',\n",
       "       'F_Im_py_mean', 'mass_gap_Re_mean', 'mass_gap_Im_mean', '|phi|_std',\n",
       "       'Q_L_std', 'A_L_std', 'S_L_std', 'Xi_L_std', 'F_LRe_std', 'F_LIm_std',\n",
       "       'acc_std', 'corr_length_Re_std', 'corr_length_Im_std', 'F_Re_py_std',\n",
       "       'F_Im_py_std', 'mass_gap_Re_std', 'mass_gap_Im_std', 'time (sec)',\n",
       "       'time (min)', 'time (hr)'],\n",
       "      dtype='object')"
      ]
     },
     "execution_count": 10,
     "metadata": {},
     "output_type": "execute_result"
    }
   ],
   "source": [
    "df_stats.columns"
   ]
  },
  {
   "cell_type": "markdown",
   "id": "f039e1f0-401c-4780-91dd-a9703d1f0160",
   "metadata": {
    "tags": []
   },
   "source": [
    "### Q_L"
   ]
  },
  {
   "cell_type": "code",
   "execution_count": 11,
   "id": "a295b6a4-a23e-4c19-a67f-821c68ecd878",
   "metadata": {},
   "outputs": [
    {
     "data": {
      "image/png": "[encoded data removed]",
      "text/plain": [
       "<Figure size 432x288 with 1 Axes>"
      ]
     },
     "metadata": {
      "needs_background": "light"
     },
     "output_type": "display_data"
    }
   ],
   "source": [
    "sns.scatterplot(data = df_stats, x = \"itheta\", y = \"Q_L_mean\", hue = \"length\", \n",
    "                size = \"nMC\", palette = analyzer.palette)\n",
    "plt.show()"
   ]
  },
  {
   "cell_type": "markdown",
   "id": "a51a9bbb-a788-4d6f-8707-e0037e0af205",
   "metadata": {
    "tags": []
   },
   "source": [
    "### S_L"
   ]
  },
  {
   "cell_type": "code",
   "execution_count": 12,
   "id": "2611a9d2-3b7f-4397-b606-a1aac07ec493",
   "metadata": {},
   "outputs": [
    {
     "data": {
      "image/png": "[encoded data removed]",
      "text/plain": [
       "<Figure size 432x288 with 1 Axes>"
      ]
     },
     "metadata": {
      "needs_background": "light"
     },
     "output_type": "display_data"
    }
   ],
   "source": [
    "sns.scatterplot(data = df_stats, x = \"itheta\", y = \"S_L_mean\", hue = \"length\", \n",
    "                size = \"nMC\", palette = analyzer.palette)\n",
    "plt.show()"
   ]
  },
  {
   "cell_type": "markdown",
   "id": "67a80b70-2b73-4d24-a901-3ad432eb0818",
   "metadata": {
    "tags": []
   },
   "source": [
    "### Xi_L"
   ]
  },
  {
   "cell_type": "code",
   "execution_count": 13,
   "id": "435f2dc1-8282-47bd-98cc-55337ef0ceb9",
   "metadata": {},
   "outputs": [
    {
     "data": {
      "image/png": "[encoded data removed]",
      "text/plain": [
       "<Figure size 432x288 with 1 Axes>"
      ]
     },
     "metadata": {
      "needs_background": "light"
     },
     "output_type": "display_data"
    }
   ],
   "source": [
    "sns.scatterplot(data = df_stats, x = \"itheta\", y = \"Xi_L_mean\", hue = \"length\", \n",
    "                size = \"nMC\", palette = analyzer.palette)\n",
    "plt.show()"
   ]
  },
  {
   "cell_type": "markdown",
   "id": "e66df175-1ae4-48db-a119-377641dce114",
   "metadata": {},
   "source": [
    "### F_L Re"
   ]
  },
  {
   "cell_type": "code",
   "execution_count": 14,
   "id": "3da01ab3-b714-4be5-831b-d26481da591b",
   "metadata": {},
   "outputs": [
    {
     "data": {
      "image/png": "[encoded data removed]",
      "text/plain": [
       "<Figure size 432x288 with 1 Axes>"
      ]
     },
     "metadata": {
      "needs_background": "light"
     },
     "output_type": "display_data"
    }
   ],
   "source": [
    "sns.scatterplot(data = df_stats, x = \"itheta\", y = \"F_LRe_mean\", hue = \"length\", \n",
    "                size = \"nMC\", palette = analyzer.palette)\n",
    "\n",
    "plt.show()"
   ]
  },
  {
   "cell_type": "code",
   "execution_count": 15,
   "id": "48b658e3-6d87-4f48-a63b-fc536cd79d8d",
   "metadata": {},
   "outputs": [
    {
     "data": {
      "text/html": [
       "<div>\n",
       "<style scoped>\n",
       "    .dataframe tbody tr th:only-of-type {\n",
       "        vertical-align: middle;\n",
       "    }\n",
       "\n",
       "    .dataframe tbody tr th {\n",
       "        vertical-align: top;\n",
       "    }\n",
       "\n",
       "    .dataframe thead th {\n",
       "        text-align: right;\n",
       "    }\n",
       "</style>\n",
       "<table border=\"1\" class=\"dataframe\">\n",
       "  <thead>\n",
       "    <tr style=\"text-align: right;\">\n",
       "      <th></th>\n",
       "      <th></th>\n",
       "      <th></th>\n",
       "      <th></th>\n",
       "      <th></th>\n",
       "      <th></th>\n",
       "      <th>F_L</th>\n",
       "    </tr>\n",
       "    <tr>\n",
       "      <th>length</th>\n",
       "      <th>itheta</th>\n",
       "      <th>beta</th>\n",
       "      <th>nMC</th>\n",
       "      <th>ntherm</th>\n",
       "      <th>Source</th>\n",
       "      <th></th>\n",
       "    </tr>\n",
       "  </thead>\n",
       "  <tbody>\n",
       "    <tr>\n",
       "      <th rowspan=\"5\" valign=\"top\">4.0</th>\n",
       "      <th rowspan=\"2\" valign=\"top\">0.785398</th>\n",
       "      <th rowspan=\"2\" valign=\"top\">1.6</th>\n",
       "      <th rowspan=\"2\" valign=\"top\">10000.0</th>\n",
       "      <th rowspan=\"2\" valign=\"top\">0.0</th>\n",
       "      <th>C++</th>\n",
       "      <td>-0.296192</td>\n",
       "    </tr>\n",
       "    <tr>\n",
       "      <th>Python</th>\n",
       "      <td>0.133780</td>\n",
       "    </tr>\n",
       "    <tr>\n",
       "      <th rowspan=\"2\" valign=\"top\">1.570796</th>\n",
       "      <th rowspan=\"2\" valign=\"top\">1.6</th>\n",
       "      <th rowspan=\"2\" valign=\"top\">10000.0</th>\n",
       "      <th rowspan=\"2\" valign=\"top\">0.0</th>\n",
       "      <th>C++</th>\n",
       "      <td>-1.490459</td>\n",
       "    </tr>\n",
       "    <tr>\n",
       "      <th>Python</th>\n",
       "      <td>-0.109932</td>\n",
       "    </tr>\n",
       "    <tr>\n",
       "      <th>3.141593</th>\n",
       "      <th>1.6</th>\n",
       "      <th>10000.0</th>\n",
       "      <th>0.0</th>\n",
       "      <th>C++</th>\n",
       "      <td>-0.737422</td>\n",
       "    </tr>\n",
       "  </tbody>\n",
       "</table>\n",
       "</div>"
      ],
      "text/plain": [
       "                                                 F_L\n",
       "length itheta   beta nMC     ntherm Source          \n",
       "4.0    0.785398 1.6  10000.0 0.0    C++    -0.296192\n",
       "                                    Python  0.133780\n",
       "       1.570796 1.6  10000.0 0.0    C++    -1.490459\n",
       "                                    Python -0.109932\n",
       "       3.141593 1.6  10000.0 0.0    C++    -0.737422"
      ]
     },
     "execution_count": 15,
     "metadata": {},
     "output_type": "execute_result"
    }
   ],
   "source": [
    "F_L_Re_df = df_stats.filter([\"F_LRe_mean\",\"F_Re_py_mean\"])\n",
    "F_L_Re_df.rename(columns = {\"F_LRe_mean\":\"C++\",\"F_Re_py_mean\":\"Python\"},inplace = True)\n",
    "F_L_Re_df.columns.name = 'Source'\n",
    "F_L_Im_df = df_stats.filter([\"F_LIm_mean\",\"F_Im_py_mean\"])\n",
    "F_L_Im_df.rename(columns = {\"F_LIm_mean\":\"C++\",\"F_Im_py_mean\":\"Python\"},inplace = True)\n",
    "F_L_Im_df.columns.name = 'Source'\n",
    "F_L_Re_df = F_L_Re_df.stack()\n",
    "F_L_Im_df = F_L_Im_df.stack()\n",
    "F_L_Re_df.name = \"F_L\"\n",
    "F_L_Re_df = F_L_Re_df.to_frame()\n",
    "F_L_Im_df.name = \"F_L\"\n",
    "F_L_Im_df = F_L_Im_df.to_frame()\n",
    "F_L_Im_df.head()"
   ]
  },
  {
   "cell_type": "code",
   "execution_count": 16,
   "id": "8452432b-4eb9-46bf-be1e-fe4ce542d92c",
   "metadata": {},
   "outputs": [],
   "source": [
    "F_L_df = F_L_Re_df.join(F_L_Im_df, lsuffix = \"_Re\", rsuffix = \"_Im\")"
   ]
  },
  {
   "cell_type": "code",
   "execution_count": 17,
   "id": "6a50f266-00a8-4d58-8961-00638760f5b0",
   "metadata": {},
   "outputs": [
    {
     "data": {
      "text/html": [
       "<div>\n",
       "<style scoped>\n",
       "    .dataframe tbody tr th:only-of-type {\n",
       "        vertical-align: middle;\n",
       "    }\n",
       "\n",
       "    .dataframe tbody tr th {\n",
       "        vertical-align: top;\n",
       "    }\n",
       "\n",
       "    .dataframe thead th {\n",
       "        text-align: right;\n",
       "    }\n",
       "</style>\n",
       "<table border=\"1\" class=\"dataframe\">\n",
       "  <thead>\n",
       "    <tr style=\"text-align: right;\">\n",
       "      <th></th>\n",
       "      <th></th>\n",
       "      <th></th>\n",
       "      <th></th>\n",
       "      <th></th>\n",
       "      <th></th>\n",
       "      <th>F_L_Re</th>\n",
       "      <th>F_L_Im</th>\n",
       "    </tr>\n",
       "    <tr>\n",
       "      <th>length</th>\n",
       "      <th>itheta</th>\n",
       "      <th>beta</th>\n",
       "      <th>nMC</th>\n",
       "      <th>ntherm</th>\n",
       "      <th>Source</th>\n",
       "      <th></th>\n",
       "      <th></th>\n",
       "    </tr>\n",
       "  </thead>\n",
       "  <tbody>\n",
       "    <tr>\n",
       "      <th rowspan=\"5\" valign=\"top\">4.0</th>\n",
       "      <th rowspan=\"2\" valign=\"top\">0.785398</th>\n",
       "      <th rowspan=\"2\" valign=\"top\">1.6</th>\n",
       "      <th rowspan=\"2\" valign=\"top\">10000.0</th>\n",
       "      <th rowspan=\"2\" valign=\"top\">0.0</th>\n",
       "      <th>C++</th>\n",
       "      <td>0.407287</td>\n",
       "      <td>-0.296192</td>\n",
       "    </tr>\n",
       "    <tr>\n",
       "      <th>Python</th>\n",
       "      <td>0.704510</td>\n",
       "      <td>0.133780</td>\n",
       "    </tr>\n",
       "    <tr>\n",
       "      <th rowspan=\"2\" valign=\"top\">1.570796</th>\n",
       "      <th rowspan=\"2\" valign=\"top\">1.6</th>\n",
       "      <th rowspan=\"2\" valign=\"top\">10000.0</th>\n",
       "      <th rowspan=\"2\" valign=\"top\">0.0</th>\n",
       "      <th>C++</th>\n",
       "      <td>0.378685</td>\n",
       "      <td>-1.490459</td>\n",
       "    </tr>\n",
       "    <tr>\n",
       "      <th>Python</th>\n",
       "      <td>0.498366</td>\n",
       "      <td>-0.109932</td>\n",
       "    </tr>\n",
       "    <tr>\n",
       "      <th>3.141593</th>\n",
       "      <th>1.6</th>\n",
       "      <th>10000.0</th>\n",
       "      <th>0.0</th>\n",
       "      <th>C++</th>\n",
       "      <td>0.809280</td>\n",
       "      <td>-0.737422</td>\n",
       "    </tr>\n",
       "  </tbody>\n",
       "</table>\n",
       "</div>"
      ],
      "text/plain": [
       "                                              F_L_Re    F_L_Im\n",
       "length itheta   beta nMC     ntherm Source                    \n",
       "4.0    0.785398 1.6  10000.0 0.0    C++     0.407287 -0.296192\n",
       "                                    Python  0.704510  0.133780\n",
       "       1.570796 1.6  10000.0 0.0    C++     0.378685 -1.490459\n",
       "                                    Python  0.498366 -0.109932\n",
       "       3.141593 1.6  10000.0 0.0    C++     0.809280 -0.737422"
      ]
     },
     "execution_count": 17,
     "metadata": {},
     "output_type": "execute_result"
    }
   ],
   "source": [
    "F_L_df.head()"
   ]
  },
  {
   "cell_type": "code",
   "execution_count": 18,
   "id": "891bed1a-d85a-42c7-959d-c6a28bfc8f46",
   "metadata": {},
   "outputs": [
    {
     "data": {
      "image/png": "[encoded data removed]",
      "text/plain": [
       "<Figure size 432x288 with 1 Axes>"
      ]
     },
     "metadata": {
      "needs_background": "light"
     },
     "output_type": "display_data"
    }
   ],
   "source": [
    "sns.scatterplot(data = F_L_df, x = \"itheta\", y = \"F_L_Re\", hue = \"length\", \n",
    "                style = \"Source\", palette = sns.color_palette(\"Blues\", 3))\n",
    "plt.show()"
   ]
  },
  {
   "cell_type": "code",
   "execution_count": 19,
   "id": "3e9b87d1-6c2b-4371-b5e4-6e371404c693",
   "metadata": {},
   "outputs": [
    {
     "data": {
      "image/png": "[encoded data removed]",
      "text/plain": [
       "<Figure size 432x288 with 1 Axes>"
      ]
     },
     "metadata": {
      "needs_background": "light"
     },
     "output_type": "display_data"
    }
   ],
   "source": [
    "sns.scatterplot(data = F_L_df, x = \"itheta\", y = \"F_L_Im\", hue = \"length\", \n",
    "                style = \"Source\", palette = sns.color_palette(\"Reds\", 3))\n",
    "plt.show()"
   ]
  },
  {
   "cell_type": "markdown",
   "id": "59c341e8-446c-483b-af37-b0a3875ea618",
   "metadata": {},
   "source": [
    "## Correlation Length"
   ]
  },
  {
   "cell_type": "code",
   "execution_count": 20,
   "id": "bd0b6475-1281-4891-9db4-870c1bdd0886",
   "metadata": {},
   "outputs": [
    {
     "data": {
      "image/png": "[encoded data removed]",
      "text/plain": [
       "<Figure size 432x288 with 1 Axes>"
      ]
     },
     "metadata": {
      "needs_background": "light"
     },
     "output_type": "display_data"
    }
   ],
   "source": [
    "sns.scatterplot(data = df_stats, x = \"itheta\", y = \"corr_length_Re_mean\", hue = \"length\", \n",
    "                size = \"nMC\", palette = analyzer.palette)\n",
    "\n",
    "plt.show()"
   ]
  },
  {
   "cell_type": "markdown",
   "id": "0ebfa44f-00c7-4879-9eee-622e74ed513d",
   "metadata": {},
   "source": [
    "### Mass Gap"
   ]
  },
  {
   "cell_type": "code",
   "execution_count": 21,
   "id": "eeee1fb8-512e-40b9-982d-197e47b583a8",
   "metadata": {},
   "outputs": [
    {
     "data": {
      "image/png": "[encoded data removed]",
      "text/plain": [
       "<Figure size 432x288 with 1 Axes>"
      ]
     },
     "metadata": {
      "needs_background": "light"
     },
     "output_type": "display_data"
    }
   ],
   "source": [
    "sns.scatterplot(data = df_stats, x = \"itheta\", y = \"mass_gap_Re_mean\", hue = \"length\", \n",
    "                size = \"nMC\", palette = analyzer.palette)\n",
    "\n",
    "plt.show()"
   ]
  }
 ],
 "metadata": {
  "kernelspec": {
   "display_name": "Python 3 (ipykernel)",
   "language": "python",
   "name": "python3"
  },
  "language_info": {
   "codemirror_mode": {
    "name": "ipython",
    "version": 3
   },
   "file_extension": ".py",
   "mimetype": "text/x-python",
   "name": "python",
   "nbconvert_exporter": "python",
   "pygments_lexer": "ipython3",
   "version": "3.8.10"
  }
 },
 "nbformat": 4,
 "nbformat_minor": 5
}
