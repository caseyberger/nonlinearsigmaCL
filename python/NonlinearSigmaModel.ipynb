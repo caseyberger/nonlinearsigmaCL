{
 "cells": [
  {
   "cell_type": "markdown",
   "id": "20341281-47e9-45d3-829e-0dbb4a446e43",
   "metadata": {},
   "source": [
    "# First steps to simulating a non-linear sigma model with topological charge\n",
    "Start by looking at the 2D O(3) non-linear sigma model using complex Langevin. This model should not require CL as it doesn't have a sign problem, but once we introduce an additional non-zero theta term, we will need this formulation"
   ]
  },
  {
   "cell_type": "markdown",
   "id": "96aa397b-5df5-41a8-a2cb-06091612007b",
   "metadata": {
    "tags": []
   },
   "source": [
    "## Progress log"
   ]
  },
  {
   "cell_type": "markdown",
   "id": "e4dc0050-a677-4ffb-b6a1-56baf19503f0",
   "metadata": {
    "jp-MarkdownHeadingCollapsed": true,
    "tags": []
   },
   "source": [
    "### Old"
   ]
  },
  {
   "cell_type": "markdown",
   "id": "f82287ef-2039-49f9-8566-f94a01e3cc9e",
   "metadata": {},
   "source": [
    "Thurs, Sept 22\n",
    "* programmed the class fields\n",
    "    * initializes the lattice with 3-component random unit vectors (need to make these 0s and 1s...)\n",
    "    * loops over all 8 triangles at each vertex CCW\n",
    "    * calculates Q \n",
    "    * calculates A\n",
    "    * calculates the action\n",
    "    * checks that all values of Q fall between -1/2 and 1/2\n",
    "* outstanding questions:\n",
    "    * how to do the MC evolution -- they did analytic continuation of $\\theta$ to from real to imaginary\n",
    "    * can I do CL in python???"
   ]
  },
  {
   "cell_type": "markdown",
   "id": "4d1cbefd-4aa0-480a-8054-ae368bdd98a4",
   "metadata": {},
   "source": [
    "Tues, Sept 27\n",
    "* trying to figure out how to get access to scratch...\n",
    "* attempting CL in python\n",
    "    * started some notes\n",
    "    * will likely need to rewrite the whole class to handle the extra fields"
   ]
  },
  {
   "cell_type": "markdown",
   "id": "cf3907dc-7909-4b94-8477-fd772d2c849c",
   "metadata": {},
   "source": [
    "Tues, November 8\n",
    "* definitely need to figure out the MC piece of this\n",
    "* goal: do the simulation of the part without a sign problem\n",
    "* questions:\n",
    "    - Should the spins be a 1 in one direction and a 0 in the others?\n",
    "    - How do we \"flip\" a spin? (Maybe I should look at the potts model again) \n",
    "        * I ended up doing a change spin fucntion that generates a totally random new spin\n",
    "    - Instead of drawing a random number between 0 and 1, should I have the metropolis accept step be min(1,dS)? See this ref: https://mc-stan.org/docs/2_19/reference-manual/hamiltonian-monte-carlo.html\n",
    " * consider adding a checkpoint and restart option"
   ]
  },
  {
   "cell_type": "markdown",
   "id": "964c7613-2896-4172-ba5e-81b0102b1692",
   "metadata": {},
   "source": [
    "Fri Nov 9\n",
    "* add checkpoint and restart option"
   ]
  },
  {
   "cell_type": "markdown",
   "id": "a9928790-6381-4f05-9d5d-0b0bac432970",
   "metadata": {},
   "source": [
    "### Recent"
   ]
  },
  {
   "cell_type": "markdown",
   "id": "70494b89-52eb-4aaf-a7c6-86a41605d71b",
   "metadata": {},
   "source": [
    "Tue Jan 31\n",
    "* Added to github\n",
    "* rearranged structure so data (configurations for checkpoints) is stored separately from the github repo"
   ]
  },
  {
   "cell_type": "markdown",
   "id": "30f274a3-e8cd-494a-a4ea-44c1201bd433",
   "metadata": {},
   "source": [
    "NEXT TIME\n",
    "* Automate the checkpoint numbering! Right now you have to manually enter the numbers"
   ]
  },
  {
   "cell_type": "markdown",
   "id": "3535b6ab-dbeb-478f-a7a4-5aec8cf2ff06",
   "metadata": {
    "jp-MarkdownHeadingCollapsed": true,
    "tags": []
   },
   "source": [
    "## The physics/math"
   ]
  },
  {
   "cell_type": "markdown",
   "id": "1831f0c8-c6ff-4997-a702-59abb5527cfc",
   "metadata": {},
   "source": [
    "$S = \\frac{1}{2g} \\int d^{2} x \\left( \\partial_{\\mu} \\vec{\\phi}(x)\\right)^{2} - i \\theta \\int d^{2} x Q(x)$\n",
    "\n",
    "with\n",
    "\n",
    "$Q(x) = \\frac{1}{8 \\pi} \\epsilon^{\\mu \\nu} \\epsilon_{abc} \\partial_{\\mu} \\phi^{b}(x) \\partial_{\\nu}\\phi^{c}(x)$\n",
    "\n",
    "with $\\phi$ a 3-component unit vector.\n",
    "\n",
    "In lattice action form, we have (see B. Alles, M. Giordano, and A. Papa. Behavior near θ = π of the mass gap in the two-dimensional o(3) nonlinear sigma model. Phys. Rev. B, 90:184421, Nov 2014):\n",
    "\n",
    "$\n",
    "\\begin{eqnarray}\n",
    "S_{L} &=& A_{L} - i \\theta Q_{L}\\\\\n",
    "A_{L} &=& -\\frac{1}{g_{L}}\\sum_{x,\\mu}\\left(\\phi_{x}\\cdot \\phi_{x+\\hat{\\mu}}\\right)\\\\\n",
    "Q_{L} &=& \\sum_{x}\\sum_{\\Delta} Q_{L} \\Delta\n",
    "\\end{eqnarray}\n",
    "$\n",
    "\n",
    "where $\\vec{\\phi}$ a 3-component unit vector ($\\vec{\\phi} \\cdot\\vec{\\phi} = 1$) and $Q_{L}$ is the total topological charge on the lattice. The topological charge has been defined via sums over triangles created by cutting each square plaquette along the diagonal. Each vertex is labeled (numbered counter-clockwise), such that we call the fields at the sites of the vertices $\\vec{\\phi}_{1}$, $\\vec{\\phi}_{2}$, and $\\vec{\\phi}_{3}$. We perform the sums over all triangles on the lattice:"
   ]
  },
  {
   "cell_type": "markdown",
   "id": "9c9aaff9-d322-4d76-916e-dfd38e829b9f",
   "metadata": {},
   "source": [
    "### Regularization of the topological charge\n",
    "\n",
    "Each plaquette is cut through on the diagonal and turned into two triangles. We calculate the topological charge over each triangle, which obeys\n",
    "\n",
    "$\\exp(2 \\pi i Q_{L}(\\Delta)) = \\frac{1}{\\rho}\\left(1 + \\vec{\\phi}_{1}\\cdot\\vec{\\phi}_{2} + \\vec{\\phi}_{2}\\cdot\\vec{\\phi}_{3} + \\vec{\\phi}_{3}\\cdot\\vec{\\phi}_{1} + i \\vec{\\phi}_{1} \\cdot (\\vec{\\phi}_{2}\\times\\vec{\\phi}_{3})\\right)$\n",
    "\n",
    "with \n",
    "\n",
    "$\\rho^{2} = 2(1+\\vec{\\phi}_{1}\\cdot\\vec{\\phi}_{2})(1 + \\vec{\\phi}_{2}\\cdot\\vec{\\phi}_{3})(1+ \\vec{\\phi}_{3}\\cdot\\vec{\\phi}_{1})$ \n",
    "\n",
    "and \n",
    "\n",
    "$Q_{L}(\\Delta) \\in \\left[-\\frac{1}{2}, \\frac{1}{2}\\right]$\n",
    "\n",
    "When we sum over all triangles, the total topological charge should provide integer values."
   ]
  },
  {
   "cell_type": "markdown",
   "id": "34acf5d5-0730-4313-b922-fcf492aba1c5",
   "metadata": {
    "jp-MarkdownHeadingCollapsed": true,
    "tags": []
   },
   "source": [
    "# Python code\n",
    "try this in Python first and see what you can do. You will need to convert it to C++ though."
   ]
  },
  {
   "cell_type": "markdown",
   "id": "e9a049c9-344d-43f9-a145-5321050872d0",
   "metadata": {
    "tags": []
   },
   "source": [
    "### Lattice class\n",
    "Defined the fields class in an external python doc. Import that here."
   ]
  },
  {
   "cell_type": "code",
   "execution_count": null,
   "id": "8d0c4376-5f02-410f-833a-95358cca0ba6",
   "metadata": {},
   "outputs": [],
   "source": [
    "import numpy as np\n",
    "import os\n",
    "from lattice import *"
   ]
  },
  {
   "cell_type": "code",
   "execution_count": null,
   "id": "155329fe-a053-4405-bbf4-ea2d97f8e985",
   "metadata": {},
   "outputs": [],
   "source": [
    "checkpoint_folder = os.getcwd()+\"../Checkpoints/\""
   ]
  },
  {
   "cell_type": "code",
   "execution_count": null,
   "id": "2545e110-3fea-42b3-a311-00166bb0280a",
   "metadata": {},
   "outputs": [],
   "source": [
    "L = fields(Nx = 2,Ny = 2,gL = 1,n_eq = 100, n_MC = 100,integer = False)\n",
    "L.initialize_lattice()\n",
    "saved_L = L.representation\n",
    "L.initialize_lattice(config = saved_L)\n",
    "print([i==j for i,j in zip(L.representation, saved_L)])"
   ]
  },
  {
   "cell_type": "markdown",
   "id": "dad45d9f-4fe3-4187-9927-2f6ed0bd4855",
   "metadata": {},
   "source": [
    "## QMC for $\\theta = 0$"
   ]
  },
  {
   "cell_type": "markdown",
   "id": "898ee2e6-7b9c-42b0-a8fd-568f11e8ab2b",
   "metadata": {
    "tags": []
   },
   "source": [
    "### Checkpointed"
   ]
  },
  {
   "cell_type": "code",
   "execution_count": null,
   "id": "05e121de-d33f-41cd-ab86-6ceceb20e838",
   "metadata": {},
   "outputs": [],
   "source": [
    "# import a checkpoint\n",
    "cfgs = np.loadtxt(checkpoint_folder+\"mc_configs_0-99.csv\",delimiter = ',',dtype = float)"
   ]
  },
  {
   "cell_type": "code",
   "execution_count": null,
   "id": "51e6deba-0c2e-468f-8433-03421368e42a",
   "metadata": {},
   "outputs": [],
   "source": [
    "last_cfg = cfgs[-1,:]\n",
    "last_cfg = np.reshape(last_cfg,[180,180,3])"
   ]
  },
  {
   "cell_type": "code",
   "execution_count": null,
   "id": "e2928ddf-3d4c-40b4-adcc-0089c3db020d",
   "metadata": {},
   "outputs": [],
   "source": [
    "L_ref = 180\n",
    "L_test = 4\n",
    "gL_ref = 1/1.6\n",
    "gL_test = 0.6\n",
    "nMC = 100\n",
    "ntherm = 0\n",
    "L = fields(Nx = L_ref,Ny = L_ref,gL = gL_ref,n_eq = ntherm, n_MC = nMC)\n",
    "L.initialize_lattice(checkpoint = True, config = last_cfg)\n",
    "L.equilibrate()\n",
    "mc_configs, mc_S = L.Metropolis()"
   ]
  },
  {
   "cell_type": "markdown",
   "id": "925fa2ae-02ec-4bfe-b54e-fc59825d074c",
   "metadata": {
    "jp-MarkdownHeadingCollapsed": true,
    "tags": []
   },
   "source": [
    "### Not checkpointed"
   ]
  },
  {
   "cell_type": "code",
   "execution_count": 6,
   "id": "7b2369f1-36d9-4a33-a4bd-5a61c5d64ff3",
   "metadata": {},
   "outputs": [
    {
     "name": "stdout",
     "output_type": "stream",
     "text": [
      "MC iteration 0 complete\n"
     ]
    },
    {
     "ename": "KeyboardInterrupt",
     "evalue": "",
     "output_type": "error",
     "traceback": [
      "\u001b[0;31m---------------------------------------------------------------------------\u001b[0m",
      "\u001b[0;31mKeyboardInterrupt\u001b[0m                         Traceback (most recent call last)",
      "\u001b[0;32m/tmp/ipykernel_422843/1807158053.py\u001b[0m in \u001b[0;36m<module>\u001b[0;34m\u001b[0m\n\u001b[1;32m      8\u001b[0m \u001b[0mL\u001b[0m\u001b[0;34m.\u001b[0m\u001b[0minitialize_lattice\u001b[0m\u001b[0;34m(\u001b[0m\u001b[0mcheckpoint\u001b[0m \u001b[0;34m=\u001b[0m \u001b[0;32mFalse\u001b[0m\u001b[0;34m)\u001b[0m\u001b[0;34m\u001b[0m\u001b[0;34m\u001b[0m\u001b[0m\n\u001b[1;32m      9\u001b[0m \u001b[0mL\u001b[0m\u001b[0;34m.\u001b[0m\u001b[0mequilibrate\u001b[0m\u001b[0;34m(\u001b[0m\u001b[0;34m)\u001b[0m\u001b[0;34m\u001b[0m\u001b[0;34m\u001b[0m\u001b[0m\n\u001b[0;32m---> 10\u001b[0;31m \u001b[0mmc_configs\u001b[0m\u001b[0;34m,\u001b[0m \u001b[0mmc_S\u001b[0m \u001b[0;34m=\u001b[0m \u001b[0mL\u001b[0m\u001b[0;34m.\u001b[0m\u001b[0mMetropolis\u001b[0m\u001b[0;34m(\u001b[0m\u001b[0;34m)\u001b[0m\u001b[0;34m\u001b[0m\u001b[0;34m\u001b[0m\u001b[0m\n\u001b[0m",
      "\u001b[0;32m~/nonlinearsigmaCL/lattice.py\u001b[0m in \u001b[0;36mMetropolis\u001b[0;34m(self)\u001b[0m\n",
      "\u001b[0;32m~/nonlinearsigmaCL/lattice.py\u001b[0m in \u001b[0;36mchange_spin\u001b[0;34m(self, x, y)\u001b[0m\n",
      "\u001b[0;32m~/nonlinearsigmaCL/lattice.py\u001b[0m in \u001b[0;36mQ_L\u001b[0;34m(self, x, y)\u001b[0m\n",
      "\u001b[0;31mKeyboardInterrupt\u001b[0m: "
     ]
    }
   ],
   "source": [
    "L_ref = 180\n",
    "L_test = 4\n",
    "gL_ref = 1/1.6\n",
    "gL_test = 0.6\n",
    "nMC = 100\n",
    "ntherm = 0\n",
    "L = fields(Nx = L_ref,Ny = L_ref,gL = gL_ref,n_eq = ntherm, n_MC = nMC)\n",
    "L.initialize_lattice(checkpoint = False)\n",
    "L.equilibrate()\n",
    "mc_configs, mc_S = L.Metropolis()"
   ]
  },
  {
   "cell_type": "markdown",
   "id": "edc0f4ee-3e9e-454c-bfe3-8b8b4d6cc11b",
   "metadata": {},
   "source": [
    "### Visualization"
   ]
  },
  {
   "cell_type": "code",
   "execution_count": null,
   "id": "00b84ea3-5d9c-4a7b-a622-09b054c55795",
   "metadata": {},
   "outputs": [],
   "source": [
    "configs_out = [i.flatten() for i in mc_configs]\n",
    "np.savetxt(checkpoint_folder+\"mc_configs_100-199.csv\",configs_out, delimiter=\",\")"
   ]
  },
  {
   "cell_type": "code",
   "execution_count": null,
   "id": "782c2240-3667-41ee-b7ee-4e00a4d24f26",
   "metadata": {},
   "outputs": [],
   "source": [
    "import seaborn as sns\n",
    "import matplotlib.pyplot as plt"
   ]
  },
  {
   "cell_type": "code",
   "execution_count": null,
   "id": "1636310a-4e0c-47ab-b65a-a5d913950d53",
   "metadata": {},
   "outputs": [],
   "source": [
    "sns.scatterplot(x = np.arange(0,len(mc_S),1),y = mc_S)\n",
    "#plt.ylim(np.min(mc_S)-0.1,np.max(mc_S)+0.1)\n",
    "plt.show()"
   ]
  },
  {
   "cell_type": "code",
   "execution_count": null,
   "id": "4cedaa22-b956-4436-b377-ece6d07c03cb",
   "metadata": {},
   "outputs": [],
   "source": [
    "mc_configs = np.array(mc_configs)\n",
    "configs_x = mc_configs[:,:,:,0]"
   ]
  },
  {
   "cell_type": "code",
   "execution_count": null,
   "id": "dcbebebc-f27f-44b0-ac03-938e018b5ba5",
   "metadata": {},
   "outputs": [],
   "source": [
    "fig, axes = plt.subplots(10, 3, figsize = (12,48),sharex=True, sharey=True)\n",
    "for i in range(10):\n",
    "    for j in range(3):\n",
    "        axes[i,j].imshow(mc_configs[i,:,:,j],cmap = \"Greys\")\n",
    "plt.tight_layout()\n",
    "plt.show()"
   ]
  },
  {
   "cell_type": "markdown",
   "id": "48252e59-ddc8-4da9-8ca3-c5561b6f5b9d",
   "metadata": {},
   "source": [
    "# Complex Langevin"
   ]
  },
  {
   "cell_type": "markdown",
   "id": "1b20a07e-b4e2-4696-ac67-200aeeacf678",
   "metadata": {},
   "source": [
    "In this case, I believe the fields are already real. Which means we don't need to express the complex scalar fields as real fields first. That part is already done.\n",
    "\n",
    "What remains is to complexify the real fields and evolve them via CL.\n",
    "\n",
    "$\\phi_{a} \\rightarrow \\phi_{a}^{R} + i \\phi_{a}^{I}$ (will you have a missing factor of $\\sqrt{2}$?)\n",
    "\n",
    "You probably need to rewrite your class to manage this. You don't want complex numbers popping up anywhere -- you need the complexified fields to hold all of that.\n",
    "\n",
    "Try this soon..."
   ]
  },
  {
   "cell_type": "code",
   "execution_count": null,
   "id": "7af203fa-2503-4cac-8ea6-f51a6748e662",
   "metadata": {},
   "outputs": [],
   "source": []
  },
  {
   "cell_type": "markdown",
   "id": "4d40851b-72fa-4614-b078-93e49f38df38",
   "metadata": {},
   "source": [
    "# Getting access to scratch"
   ]
  },
  {
   "cell_type": "code",
   "execution_count": null,
   "id": "0baf08d0-15d2-4649-8d50-c348fdbe803d",
   "metadata": {},
   "outputs": [],
   "source": [
    "import os"
   ]
  },
  {
   "cell_type": "code",
   "execution_count": null,
   "id": "34817346-ae24-40b5-8bc3-8c51ca6072d1",
   "metadata": {},
   "outputs": [],
   "source": [
    "os.getcwd()"
   ]
  },
  {
   "cell_type": "code",
   "execution_count": null,
   "id": "e70f9208-6228-4023-b340-5ea6e3a4a4f8",
   "metadata": {},
   "outputs": [],
   "source": [
    "path = '/Users/cberger/scratch/bergerlab'"
   ]
  },
  {
   "cell_type": "code",
   "execution_count": null,
   "id": "5fc6c93d-edad-4c0a-b882-18b6b6a05223",
   "metadata": {},
   "outputs": [],
   "source": [
    "os.listdir(path)"
   ]
  },
  {
   "cell_type": "markdown",
   "id": "f655f8ad-9ad7-412a-808f-6be2727ecd85",
   "metadata": {},
   "source": [
    "Problem -- I can't access my research storage from JupyterHub"
   ]
  },
  {
   "cell_type": "code",
   "execution_count": null,
   "id": "8c497da8-f924-4008-828a-68868ca8a32d",
   "metadata": {},
   "outputs": [],
   "source": []
  }
 ],
 "metadata": {
  "kernelspec": {
   "display_name": "Python 3 (ipykernel)",
   "language": "python",
   "name": "python3"
  },
  "language_info": {
   "codemirror_mode": {
    "name": "ipython",
    "version": 3
   },
   "file_extension": ".py",
   "mimetype": "text/x-python",
   "name": "python",
   "nbconvert_exporter": "python",
   "pygments_lexer": "ipython3",
   "version": "3.8.10"
  }
 },
 "nbformat": 4,
 "nbformat_minor": 5
}
