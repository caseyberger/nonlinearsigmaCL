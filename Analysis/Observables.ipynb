{
 "cells": [
  {
   "cell_type": "code",
   "execution_count": 1,
   "id": "1d6672c5-0a61-45f8-803a-28812a4a9aca",
   "metadata": {},
   "outputs": [],
   "source": [
    "import os\n",
    "import numpy as np\n",
    "import pandas as pd\n",
    "import matplotlib.pyplot as plt\n",
    "import seaborn as sns\n",
    "from LatticeData import *"
   ]
  },
  {
   "cell_type": "markdown",
   "id": "09a42030-1f13-4783-9853-f1459b51f90e",
   "metadata": {},
   "source": [
    "# Create analyzer - instantiate class"
   ]
  },
  {
   "cell_type": "code",
   "execution_count": 2,
   "id": "3a8f83a8-69c3-4a84-913c-2a280a8f6ad2",
   "metadata": {},
   "outputs": [
    {
     "name": "stdout",
     "output_type": "stream",
     "text": [
      "run L_80_beta_1.600000_itheta_0.000000_ntherm_1000_nMC_10000_freq_100 not yet complete: 46 lines\n",
      "run L_80_beta_1.600000_itheta_2.356194_ntherm_1000_nMC_10000_freq_100 not yet complete: 45 lines\n",
      "run L_80_beta_1.600000_itheta_0.785398_ntherm_1000_nMC_10000_freq_100 not yet complete: 45 lines\n",
      "run L_80_beta_1.600000_itheta_3.141593_ntherm_1000_nMC_10000_freq_100 not yet complete: 45 lines\n",
      "run L_80_beta_1.600000_itheta_1.570796_ntherm_1000_nMC_10000_freq_100 not yet complete: 45 lines\n"
     ]
    }
   ],
   "source": [
    "analyzer = LatticeData(datadir = \"/data_nls_cos/\")\n",
    "src_dir = \"/run_7_14_23_cos/\"\n",
    "analyzer.collect_data(src_dir)"
   ]
  },
  {
   "cell_type": "markdown",
   "id": "61491e67-091b-4173-95a6-06f977afcaeb",
   "metadata": {
    "tags": []
   },
   "source": [
    "## Basic statistics"
   ]
  },
  {
   "cell_type": "code",
   "execution_count": 3,
   "id": "b5680445-d9ea-4940-8252-3123e99b66ca",
   "metadata": {},
   "outputs": [],
   "source": [
    "df = analyzer.get_data()"
   ]
  },
  {
   "cell_type": "code",
   "execution_count": 4,
   "id": "131ea67c-88cf-4480-981c-e6d306ab0665",
   "metadata": {},
   "outputs": [
    {
     "data": {
      "text/html": [
       "<div>\n",
       "<style scoped>\n",
       "    .dataframe tbody tr th:only-of-type {\n",
       "        vertical-align: middle;\n",
       "    }\n",
       "\n",
       "    .dataframe tbody tr th {\n",
       "        vertical-align: top;\n",
       "    }\n",
       "\n",
       "    .dataframe thead th {\n",
       "        text-align: right;\n",
       "    }\n",
       "</style>\n",
       "<table border=\"1\" class=\"dataframe\">\n",
       "  <thead>\n",
       "    <tr style=\"text-align: right;\">\n",
       "      <th></th>\n",
       "      <th>step</th>\n",
       "      <th>|phi|</th>\n",
       "      <th>Q_L</th>\n",
       "      <th>A_L</th>\n",
       "      <th>S_L</th>\n",
       "      <th>Xi_L</th>\n",
       "      <th>F_LRe</th>\n",
       "      <th>F_LIm</th>\n",
       "      <th>acc</th>\n",
       "      <th>dt</th>\n",
       "      <th>...</th>\n",
       "      <th>Q_L_ta</th>\n",
       "      <th>A_L_ta</th>\n",
       "      <th>S_L_ta</th>\n",
       "      <th>Xi_L_ta</th>\n",
       "      <th>corr_length_Re</th>\n",
       "      <th>corr_length_Im</th>\n",
       "      <th>F_Re_py</th>\n",
       "      <th>F_Im_py</th>\n",
       "      <th>mass_gap_Re</th>\n",
       "      <th>mass_gap_Im</th>\n",
       "    </tr>\n",
       "  </thead>\n",
       "  <tbody>\n",
       "    <tr>\n",
       "      <th>0</th>\n",
       "      <td>0</td>\n",
       "      <td>400.0</td>\n",
       "      <td>0.000000</td>\n",
       "      <td>-2137.292390</td>\n",
       "      <td>-2137.292390</td>\n",
       "      <td>-2.414255</td>\n",
       "      <td>31.17255</td>\n",
       "      <td>-57.054028</td>\n",
       "      <td>0.070000</td>\n",
       "      <td>0.0</td>\n",
       "      <td>...</td>\n",
       "      <td>1</td>\n",
       "      <td>4</td>\n",
       "      <td>4</td>\n",
       "      <td>6</td>\n",
       "      <td>1.437852</td>\n",
       "      <td>-2.874117</td>\n",
       "      <td>1.431987</td>\n",
       "      <td>-1.911072</td>\n",
       "      <td>0.139219</td>\n",
       "      <td>0.278285</td>\n",
       "    </tr>\n",
       "    <tr>\n",
       "      <th>1</th>\n",
       "      <td>100</td>\n",
       "      <td>400.0</td>\n",
       "      <td>-0.000015</td>\n",
       "      <td>-2125.605769</td>\n",
       "      <td>-2125.605757</td>\n",
       "      <td>122.666830</td>\n",
       "      <td>31.17255</td>\n",
       "      <td>-57.054028</td>\n",
       "      <td>0.083688</td>\n",
       "      <td>1.0</td>\n",
       "      <td>...</td>\n",
       "      <td>1</td>\n",
       "      <td>4</td>\n",
       "      <td>4</td>\n",
       "      <td>6</td>\n",
       "      <td>20.486910</td>\n",
       "      <td>10.249108</td>\n",
       "      <td>1.431987</td>\n",
       "      <td>-1.911072</td>\n",
       "      <td>0.039041</td>\n",
       "      <td>-0.019531</td>\n",
       "    </tr>\n",
       "    <tr>\n",
       "      <th>2</th>\n",
       "      <td>200</td>\n",
       "      <td>400.0</td>\n",
       "      <td>-0.000000</td>\n",
       "      <td>-2137.071110</td>\n",
       "      <td>-2137.071110</td>\n",
       "      <td>235.966732</td>\n",
       "      <td>31.17255</td>\n",
       "      <td>-57.054028</td>\n",
       "      <td>0.084440</td>\n",
       "      <td>2.0</td>\n",
       "      <td>...</td>\n",
       "      <td>1</td>\n",
       "      <td>4</td>\n",
       "      <td>4</td>\n",
       "      <td>6</td>\n",
       "      <td>28.414387</td>\n",
       "      <td>14.215034</td>\n",
       "      <td>1.431987</td>\n",
       "      <td>-1.911072</td>\n",
       "      <td>0.028149</td>\n",
       "      <td>-0.014082</td>\n",
       "    </tr>\n",
       "    <tr>\n",
       "      <th>3</th>\n",
       "      <td>300</td>\n",
       "      <td>400.0</td>\n",
       "      <td>-0.000001</td>\n",
       "      <td>-2172.206101</td>\n",
       "      <td>-2172.206100</td>\n",
       "      <td>105.763229</td>\n",
       "      <td>31.17255</td>\n",
       "      <td>-57.054028</td>\n",
       "      <td>0.083463</td>\n",
       "      <td>4.0</td>\n",
       "      <td>...</td>\n",
       "      <td>1</td>\n",
       "      <td>4</td>\n",
       "      <td>4</td>\n",
       "      <td>6</td>\n",
       "      <td>19.023054</td>\n",
       "      <td>9.516776</td>\n",
       "      <td>1.431987</td>\n",
       "      <td>-1.911072</td>\n",
       "      <td>0.042045</td>\n",
       "      <td>-0.021034</td>\n",
       "    </tr>\n",
       "    <tr>\n",
       "      <th>4</th>\n",
       "      <td>400</td>\n",
       "      <td>400.0</td>\n",
       "      <td>0.000000</td>\n",
       "      <td>-2131.261096</td>\n",
       "      <td>-2131.261096</td>\n",
       "      <td>147.305521</td>\n",
       "      <td>31.17255</td>\n",
       "      <td>-57.054028</td>\n",
       "      <td>0.083242</td>\n",
       "      <td>5.0</td>\n",
       "      <td>...</td>\n",
       "      <td>1</td>\n",
       "      <td>4</td>\n",
       "      <td>4</td>\n",
       "      <td>6</td>\n",
       "      <td>22.450313</td>\n",
       "      <td>11.231351</td>\n",
       "      <td>1.431987</td>\n",
       "      <td>-1.911072</td>\n",
       "      <td>0.035626</td>\n",
       "      <td>-0.017823</td>\n",
       "    </tr>\n",
       "  </tbody>\n",
       "</table>\n",
       "<p>5 rows × 26 columns</p>\n",
       "</div>"
      ],
      "text/plain": [
       "   step  |phi|       Q_L          A_L          S_L        Xi_L     F_LRe  \\\n",
       "0     0  400.0  0.000000 -2137.292390 -2137.292390   -2.414255  31.17255   \n",
       "1   100  400.0 -0.000015 -2125.605769 -2125.605757  122.666830  31.17255   \n",
       "2   200  400.0 -0.000000 -2137.071110 -2137.071110  235.966732  31.17255   \n",
       "3   300  400.0 -0.000001 -2172.206101 -2172.206100  105.763229  31.17255   \n",
       "4   400  400.0  0.000000 -2131.261096 -2131.261096  147.305521  31.17255   \n",
       "\n",
       "       F_LIm       acc   dt  ...  Q_L_ta  A_L_ta  S_L_ta  Xi_L_ta  \\\n",
       "0 -57.054028  0.070000  0.0  ...       1       4       4        6   \n",
       "1 -57.054028  0.083688  1.0  ...       1       4       4        6   \n",
       "2 -57.054028  0.084440  2.0  ...       1       4       4        6   \n",
       "3 -57.054028  0.083463  4.0  ...       1       4       4        6   \n",
       "4 -57.054028  0.083242  5.0  ...       1       4       4        6   \n",
       "\n",
       "   corr_length_Re  corr_length_Im   F_Re_py   F_Im_py  mass_gap_Re  \\\n",
       "0        1.437852       -2.874117  1.431987 -1.911072     0.139219   \n",
       "1       20.486910       10.249108  1.431987 -1.911072     0.039041   \n",
       "2       28.414387       14.215034  1.431987 -1.911072     0.028149   \n",
       "3       19.023054        9.516776  1.431987 -1.911072     0.042045   \n",
       "4       22.450313       11.231351  1.431987 -1.911072     0.035626   \n",
       "\n",
       "   mass_gap_Im  \n",
       "0     0.278285  \n",
       "1    -0.019531  \n",
       "2    -0.014082  \n",
       "3    -0.021034  \n",
       "4    -0.017823  \n",
       "\n",
       "[5 rows x 26 columns]"
      ]
     },
     "execution_count": 4,
     "metadata": {},
     "output_type": "execute_result"
    }
   ],
   "source": [
    "df.head()"
   ]
  },
  {
   "cell_type": "code",
   "execution_count": 5,
   "id": "07380ff5-4fd2-477a-ab7b-0cbf5d9e2d70",
   "metadata": {},
   "outputs": [
    {
     "data": {
      "text/plain": [
       "array([0.785398, 1.570796, 3.141593, 2.356194, 0.      ])"
      ]
     },
     "execution_count": 5,
     "metadata": {},
     "output_type": "execute_result"
    }
   ],
   "source": [
    "df[\"itheta\"].unique()"
   ]
  },
  {
   "cell_type": "code",
   "execution_count": 6,
   "id": "e3021073-d9cf-439c-868e-03a551f561aa",
   "metadata": {},
   "outputs": [],
   "source": [
    "df_stats = analyzer.do_stats(therm = 0)"
   ]
  },
  {
   "cell_type": "code",
   "execution_count": 7,
   "id": "8edfccd0-b085-4f72-847c-787a48a1503a",
   "metadata": {},
   "outputs": [
    {
     "data": {
      "text/html": [
       "<div>\n",
       "<style scoped>\n",
       "    .dataframe tbody tr th:only-of-type {\n",
       "        vertical-align: middle;\n",
       "    }\n",
       "\n",
       "    .dataframe tbody tr th {\n",
       "        vertical-align: top;\n",
       "    }\n",
       "\n",
       "    .dataframe thead th {\n",
       "        text-align: right;\n",
       "    }\n",
       "</style>\n",
       "<table border=\"1\" class=\"dataframe\">\n",
       "  <thead>\n",
       "    <tr style=\"text-align: right;\">\n",
       "      <th></th>\n",
       "      <th></th>\n",
       "      <th></th>\n",
       "      <th></th>\n",
       "      <th></th>\n",
       "      <th>|phi|_mean</th>\n",
       "      <th>Q_L_mean</th>\n",
       "      <th>A_L_mean</th>\n",
       "      <th>S_L_mean</th>\n",
       "      <th>Xi_L_mean</th>\n",
       "      <th>F_LRe_mean</th>\n",
       "      <th>F_LIm_mean</th>\n",
       "      <th>acc_mean</th>\n",
       "      <th>freq_mean</th>\n",
       "      <th>Q_L_ta</th>\n",
       "      <th>...</th>\n",
       "      <th>freq_std</th>\n",
       "      <th>corr_length_Re_std</th>\n",
       "      <th>corr_length_Im_std</th>\n",
       "      <th>F_Re_py_std</th>\n",
       "      <th>F_Im_py_std</th>\n",
       "      <th>mass_gap_Re_std</th>\n",
       "      <th>mass_gap_Im_std</th>\n",
       "      <th>time (sec)</th>\n",
       "      <th>time (min)</th>\n",
       "      <th>time (hr)</th>\n",
       "    </tr>\n",
       "    <tr>\n",
       "      <th>length</th>\n",
       "      <th>itheta</th>\n",
       "      <th>beta</th>\n",
       "      <th>nMC</th>\n",
       "      <th>ntherm</th>\n",
       "      <th></th>\n",
       "      <th></th>\n",
       "      <th></th>\n",
       "      <th></th>\n",
       "      <th></th>\n",
       "      <th></th>\n",
       "      <th></th>\n",
       "      <th></th>\n",
       "      <th></th>\n",
       "      <th></th>\n",
       "      <th></th>\n",
       "      <th></th>\n",
       "      <th></th>\n",
       "      <th></th>\n",
       "      <th></th>\n",
       "      <th></th>\n",
       "      <th></th>\n",
       "      <th></th>\n",
       "      <th></th>\n",
       "      <th></th>\n",
       "      <th></th>\n",
       "    </tr>\n",
       "  </thead>\n",
       "  <tbody>\n",
       "    <tr>\n",
       "      <th rowspan=\"5\" valign=\"top\">10.0</th>\n",
       "      <th>0.000000</th>\n",
       "      <th>1.6</th>\n",
       "      <th>10000.0</th>\n",
       "      <th>1000.0</th>\n",
       "      <td>100.0</td>\n",
       "      <td>-6.000000e-07</td>\n",
       "      <td>-537.575236</td>\n",
       "      <td>-537.575236</td>\n",
       "      <td>67.389943</td>\n",
       "      <td>1.692555</td>\n",
       "      <td>-3.112338</td>\n",
       "      <td>0.085682</td>\n",
       "      <td>100.0</td>\n",
       "      <td>1.0</td>\n",
       "      <td>...</td>\n",
       "      <td>0.0</td>\n",
       "      <td>2.959806</td>\n",
       "      <td>1.999546</td>\n",
       "      <td>0.0</td>\n",
       "      <td>0.0</td>\n",
       "      <td>0.009025</td>\n",
       "      <td>0.007999</td>\n",
       "      <td>28.0</td>\n",
       "      <td>0.466667</td>\n",
       "      <td>0.007778</td>\n",
       "    </tr>\n",
       "    <tr>\n",
       "      <th>0.785398</th>\n",
       "      <th>1.6</th>\n",
       "      <th>10000.0</th>\n",
       "      <th>1000.0</th>\n",
       "      <td>100.0</td>\n",
       "      <td>-3.400000e-07</td>\n",
       "      <td>-537.373225</td>\n",
       "      <td>-537.373225</td>\n",
       "      <td>68.328849</td>\n",
       "      <td>7.178208</td>\n",
       "      <td>1.383756</td>\n",
       "      <td>0.085631</td>\n",
       "      <td>100.0</td>\n",
       "      <td>1.0</td>\n",
       "      <td>...</td>\n",
       "      <td>0.0</td>\n",
       "      <td>2.213256</td>\n",
       "      <td>0.519524</td>\n",
       "      <td>0.0</td>\n",
       "      <td>0.0</td>\n",
       "      <td>0.011530</td>\n",
       "      <td>0.022069</td>\n",
       "      <td>25.0</td>\n",
       "      <td>0.416667</td>\n",
       "      <td>0.006944</td>\n",
       "    </tr>\n",
       "    <tr>\n",
       "      <th>1.570796</th>\n",
       "      <th>1.6</th>\n",
       "      <th>10000.0</th>\n",
       "      <th>1000.0</th>\n",
       "      <td>100.0</td>\n",
       "      <td>-1.800000e-07</td>\n",
       "      <td>-535.745035</td>\n",
       "      <td>-535.745035</td>\n",
       "      <td>69.829515</td>\n",
       "      <td>1.190562</td>\n",
       "      <td>0.817908</td>\n",
       "      <td>0.086070</td>\n",
       "      <td>100.0</td>\n",
       "      <td>1.0</td>\n",
       "      <td>...</td>\n",
       "      <td>0.0</td>\n",
       "      <td>2.308184</td>\n",
       "      <td>0.189573</td>\n",
       "      <td>0.0</td>\n",
       "      <td>0.0</td>\n",
       "      <td>0.005179</td>\n",
       "      <td>0.000425</td>\n",
       "      <td>29.0</td>\n",
       "      <td>0.483333</td>\n",
       "      <td>0.008056</td>\n",
       "    </tr>\n",
       "    <tr>\n",
       "      <th>2.356194</th>\n",
       "      <th>1.6</th>\n",
       "      <th>10000.0</th>\n",
       "      <th>1000.0</th>\n",
       "      <td>100.0</td>\n",
       "      <td>-5.200000e-07</td>\n",
       "      <td>-534.903504</td>\n",
       "      <td>-534.903502</td>\n",
       "      <td>71.460919</td>\n",
       "      <td>0.911349</td>\n",
       "      <td>-1.242737</td>\n",
       "      <td>0.085579</td>\n",
       "      <td>100.0</td>\n",
       "      <td>1.0</td>\n",
       "      <td>...</td>\n",
       "      <td>0.0</td>\n",
       "      <td>1.894507</td>\n",
       "      <td>0.166728</td>\n",
       "      <td>0.0</td>\n",
       "      <td>0.0</td>\n",
       "      <td>0.005930</td>\n",
       "      <td>0.000522</td>\n",
       "      <td>20.0</td>\n",
       "      <td>0.333333</td>\n",
       "      <td>0.005556</td>\n",
       "    </tr>\n",
       "    <tr>\n",
       "      <th>3.141593</th>\n",
       "      <th>1.6</th>\n",
       "      <th>10000.0</th>\n",
       "      <th>1000.0</th>\n",
       "      <td>100.0</td>\n",
       "      <td>-1.500000e-07</td>\n",
       "      <td>-538.485988</td>\n",
       "      <td>-538.485988</td>\n",
       "      <td>71.206487</td>\n",
       "      <td>-1.075759</td>\n",
       "      <td>-3.131418</td>\n",
       "      <td>0.086085</td>\n",
       "      <td>100.0</td>\n",
       "      <td>1.0</td>\n",
       "      <td>...</td>\n",
       "      <td>0.0</td>\n",
       "      <td>1.684245</td>\n",
       "      <td>1.541641</td>\n",
       "      <td>0.0</td>\n",
       "      <td>0.0</td>\n",
       "      <td>0.003755</td>\n",
       "      <td>0.003437</td>\n",
       "      <td>21.0</td>\n",
       "      <td>0.350000</td>\n",
       "      <td>0.005833</td>\n",
       "    </tr>\n",
       "  </tbody>\n",
       "</table>\n",
       "<p>5 rows × 37 columns</p>\n",
       "</div>"
      ],
      "text/plain": [
       "                                     |phi|_mean      Q_L_mean    A_L_mean  \\\n",
       "length itheta   beta nMC     ntherm                                         \n",
       "10.0   0.000000 1.6  10000.0 1000.0       100.0 -6.000000e-07 -537.575236   \n",
       "       0.785398 1.6  10000.0 1000.0       100.0 -3.400000e-07 -537.373225   \n",
       "       1.570796 1.6  10000.0 1000.0       100.0 -1.800000e-07 -535.745035   \n",
       "       2.356194 1.6  10000.0 1000.0       100.0 -5.200000e-07 -534.903504   \n",
       "       3.141593 1.6  10000.0 1000.0       100.0 -1.500000e-07 -538.485988   \n",
       "\n",
       "                                       S_L_mean  Xi_L_mean  F_LRe_mean  \\\n",
       "length itheta   beta nMC     ntherm                                      \n",
       "10.0   0.000000 1.6  10000.0 1000.0 -537.575236  67.389943    1.692555   \n",
       "       0.785398 1.6  10000.0 1000.0 -537.373225  68.328849    7.178208   \n",
       "       1.570796 1.6  10000.0 1000.0 -535.745035  69.829515    1.190562   \n",
       "       2.356194 1.6  10000.0 1000.0 -534.903502  71.460919    0.911349   \n",
       "       3.141593 1.6  10000.0 1000.0 -538.485988  71.206487   -1.075759   \n",
       "\n",
       "                                     F_LIm_mean  acc_mean  freq_mean  Q_L_ta  \\\n",
       "length itheta   beta nMC     ntherm                                            \n",
       "10.0   0.000000 1.6  10000.0 1000.0   -3.112338  0.085682      100.0     1.0   \n",
       "       0.785398 1.6  10000.0 1000.0    1.383756  0.085631      100.0     1.0   \n",
       "       1.570796 1.6  10000.0 1000.0    0.817908  0.086070      100.0     1.0   \n",
       "       2.356194 1.6  10000.0 1000.0   -1.242737  0.085579      100.0     1.0   \n",
       "       3.141593 1.6  10000.0 1000.0   -3.131418  0.086085      100.0     1.0   \n",
       "\n",
       "                                     ...  freq_std  corr_length_Re_std  \\\n",
       "length itheta   beta nMC     ntherm  ...                                 \n",
       "10.0   0.000000 1.6  10000.0 1000.0  ...       0.0            2.959806   \n",
       "       0.785398 1.6  10000.0 1000.0  ...       0.0            2.213256   \n",
       "       1.570796 1.6  10000.0 1000.0  ...       0.0            2.308184   \n",
       "       2.356194 1.6  10000.0 1000.0  ...       0.0            1.894507   \n",
       "       3.141593 1.6  10000.0 1000.0  ...       0.0            1.684245   \n",
       "\n",
       "                                     corr_length_Im_std  F_Re_py_std  \\\n",
       "length itheta   beta nMC     ntherm                                    \n",
       "10.0   0.000000 1.6  10000.0 1000.0            1.999546          0.0   \n",
       "       0.785398 1.6  10000.0 1000.0            0.519524          0.0   \n",
       "       1.570796 1.6  10000.0 1000.0            0.189573          0.0   \n",
       "       2.356194 1.6  10000.0 1000.0            0.166728          0.0   \n",
       "       3.141593 1.6  10000.0 1000.0            1.541641          0.0   \n",
       "\n",
       "                                     F_Im_py_std  mass_gap_Re_std  \\\n",
       "length itheta   beta nMC     ntherm                                 \n",
       "10.0   0.000000 1.6  10000.0 1000.0          0.0         0.009025   \n",
       "       0.785398 1.6  10000.0 1000.0          0.0         0.011530   \n",
       "       1.570796 1.6  10000.0 1000.0          0.0         0.005179   \n",
       "       2.356194 1.6  10000.0 1000.0          0.0         0.005930   \n",
       "       3.141593 1.6  10000.0 1000.0          0.0         0.003755   \n",
       "\n",
       "                                     mass_gap_Im_std  time (sec)  time (min)  \\\n",
       "length itheta   beta nMC     ntherm                                            \n",
       "10.0   0.000000 1.6  10000.0 1000.0         0.007999        28.0    0.466667   \n",
       "       0.785398 1.6  10000.0 1000.0         0.022069        25.0    0.416667   \n",
       "       1.570796 1.6  10000.0 1000.0         0.000425        29.0    0.483333   \n",
       "       2.356194 1.6  10000.0 1000.0         0.000522        20.0    0.333333   \n",
       "       3.141593 1.6  10000.0 1000.0         0.003437        21.0    0.350000   \n",
       "\n",
       "                                     time (hr)  \n",
       "length itheta   beta nMC     ntherm             \n",
       "10.0   0.000000 1.6  10000.0 1000.0   0.007778  \n",
       "       0.785398 1.6  10000.0 1000.0   0.006944  \n",
       "       1.570796 1.6  10000.0 1000.0   0.008056  \n",
       "       2.356194 1.6  10000.0 1000.0   0.005556  \n",
       "       3.141593 1.6  10000.0 1000.0   0.005833  \n",
       "\n",
       "[5 rows x 37 columns]"
      ]
     },
     "execution_count": 7,
     "metadata": {},
     "output_type": "execute_result"
    }
   ],
   "source": [
    "df_stats.head()"
   ]
  },
  {
   "cell_type": "markdown",
   "id": "450dedbf-c013-454d-8b7b-3188b0bf4e24",
   "metadata": {
    "tags": []
   },
   "source": [
    "# Observable quick plots (seaborn)"
   ]
  },
  {
   "cell_type": "code",
   "execution_count": 8,
   "id": "4aba8de4-cedc-4612-b8a4-61b32d6e0410",
   "metadata": {},
   "outputs": [],
   "source": [
    "beta = 1.6\n",
    "nMC = 10000\n",
    "plot_params = {\"beta\": beta, \"nMC\": nMC}"
   ]
  },
  {
   "cell_type": "code",
   "execution_count": 9,
   "id": "a5c80727-dbdb-47b5-a7b3-58ee77dcf353",
   "metadata": {},
   "outputs": [],
   "source": [
    "df_stats = analyzer.do_stats(therm = 0.4, **plot_params)"
   ]
  },
  {
   "cell_type": "code",
   "execution_count": 10,
   "id": "bcba1479-520d-45c5-be02-301c7930586a",
   "metadata": {},
   "outputs": [
    {
     "data": {
      "text/plain": [
       "Index(['|phi|_mean', 'Q_L_mean', 'A_L_mean', 'S_L_mean', 'Xi_L_mean',\n",
       "       'F_LRe_mean', 'F_LIm_mean', 'acc_mean', 'freq_mean', 'Q_L_ta', 'A_L_ta',\n",
       "       'S_L_ta', 'Xi_L_ta', 'corr_length_Re_mean', 'corr_length_Im_mean',\n",
       "       'F_Re_py_mean', 'F_Im_py_mean', 'mass_gap_Re_mean', 'mass_gap_Im_mean',\n",
       "       '|phi|_std', 'Q_L_std', 'A_L_std', 'S_L_std', 'Xi_L_std', 'F_LRe_std',\n",
       "       'F_LIm_std', 'acc_std', 'freq_std', 'corr_length_Re_std',\n",
       "       'corr_length_Im_std', 'F_Re_py_std', 'F_Im_py_std', 'mass_gap_Re_std',\n",
       "       'mass_gap_Im_std', 'time (sec)', 'time (min)', 'time (hr)'],\n",
       "      dtype='object')"
      ]
     },
     "execution_count": 10,
     "metadata": {},
     "output_type": "execute_result"
    }
   ],
   "source": [
    "df_stats.columns"
   ]
  },
  {
   "cell_type": "markdown",
   "id": "f039e1f0-401c-4780-91dd-a9703d1f0160",
   "metadata": {
    "tags": []
   },
   "source": [
    "### Q_L"
   ]
  },
  {
   "cell_type": "code",
   "execution_count": 11,
   "id": "a295b6a4-a23e-4c19-a67f-821c68ecd878",
   "metadata": {},
   "outputs": [
    {
     "data": {
      "image/png": "[encoded data removed]",
      "text/plain": [
       "<Figure size 432x288 with 1 Axes>"
      ]
     },
     "metadata": {
      "needs_background": "light"
     },
     "output_type": "display_data"
    }
   ],
   "source": [
    "sns.scatterplot(data = df_stats, x = \"itheta\", y = \"Q_L_mean\", hue = \"length\", \n",
    "                size = \"nMC\", palette = analyzer.palette)\n",
    "plt.show()"
   ]
  },
  {
   "cell_type": "markdown",
   "id": "a51a9bbb-a788-4d6f-8707-e0037e0af205",
   "metadata": {
    "tags": []
   },
   "source": [
    "### S_L"
   ]
  },
  {
   "cell_type": "code",
   "execution_count": 12,
   "id": "2611a9d2-3b7f-4397-b606-a1aac07ec493",
   "metadata": {},
   "outputs": [
    {
     "data": {
      "image/png": "[encoded data removed]",
      "text/plain": [
       "<Figure size 432x288 with 1 Axes>"
      ]
     },
     "metadata": {
      "needs_background": "light"
     },
     "output_type": "display_data"
    }
   ],
   "source": [
    "sns.scatterplot(data = df_stats, x = \"itheta\", y = \"S_L_mean\", hue = \"length\", \n",
    "                size = \"nMC\", palette = analyzer.palette)\n",
    "plt.show()"
   ]
  },
  {
   "cell_type": "markdown",
   "id": "67a80b70-2b73-4d24-a901-3ad432eb0818",
   "metadata": {
    "tags": []
   },
   "source": [
    "### Xi_L"
   ]
  },
  {
   "cell_type": "code",
   "execution_count": 13,
   "id": "435f2dc1-8282-47bd-98cc-55337ef0ceb9",
   "metadata": {},
   "outputs": [
    {
     "data": {
      "image/png": "[encoded data removed]",
      "text/plain": [
       "<Figure size 432x288 with 1 Axes>"
      ]
     },
     "metadata": {
      "needs_background": "light"
     },
     "output_type": "display_data"
    }
   ],
   "source": [
    "sns.scatterplot(data = df_stats, x = \"itheta\", y = \"Xi_L_mean\", hue = \"length\", \n",
    "                size = \"nMC\", palette = analyzer.palette)\n",
    "plt.show()"
   ]
  },
  {
   "cell_type": "markdown",
   "id": "e66df175-1ae4-48db-a119-377641dce114",
   "metadata": {},
   "source": [
    "### F_L Re"
   ]
  },
  {
   "cell_type": "code",
   "execution_count": 14,
   "id": "3da01ab3-b714-4be5-831b-d26481da591b",
   "metadata": {},
   "outputs": [
    {
     "data": {
      "image/png": "[encoded data removed]",
      "text/plain": [
       "<Figure size 432x288 with 1 Axes>"
      ]
     },
     "metadata": {
      "needs_background": "light"
     },
     "output_type": "display_data"
    }
   ],
   "source": [
    "sns.scatterplot(data = df_stats, x = \"itheta\", y = \"F_LRe_mean\", hue = \"length\", \n",
    "                size = \"nMC\", palette = analyzer.palette)\n",
    "\n",
    "plt.show()"
   ]
  },
  {
   "cell_type": "code",
   "execution_count": 15,
   "id": "48b658e3-6d87-4f48-a63b-fc536cd79d8d",
   "metadata": {},
   "outputs": [
    {
     "data": {
      "text/html": [
       "<div>\n",
       "<style scoped>\n",
       "    .dataframe tbody tr th:only-of-type {\n",
       "        vertical-align: middle;\n",
       "    }\n",
       "\n",
       "    .dataframe tbody tr th {\n",
       "        vertical-align: top;\n",
       "    }\n",
       "\n",
       "    .dataframe thead th {\n",
       "        text-align: right;\n",
       "    }\n",
       "</style>\n",
       "<table border=\"1\" class=\"dataframe\">\n",
       "  <thead>\n",
       "    <tr style=\"text-align: right;\">\n",
       "      <th></th>\n",
       "      <th></th>\n",
       "      <th></th>\n",
       "      <th></th>\n",
       "      <th></th>\n",
       "      <th></th>\n",
       "      <th>F_L</th>\n",
       "    </tr>\n",
       "    <tr>\n",
       "      <th>length</th>\n",
       "      <th>itheta</th>\n",
       "      <th>beta</th>\n",
       "      <th>nMC</th>\n",
       "      <th>ntherm</th>\n",
       "      <th>Source</th>\n",
       "      <th></th>\n",
       "    </tr>\n",
       "  </thead>\n",
       "  <tbody>\n",
       "    <tr>\n",
       "      <th rowspan=\"5\" valign=\"top\">10.0</th>\n",
       "      <th rowspan=\"2\" valign=\"top\">0.000000</th>\n",
       "      <th rowspan=\"2\" valign=\"top\">1.6</th>\n",
       "      <th rowspan=\"2\" valign=\"top\">10000.0</th>\n",
       "      <th rowspan=\"2\" valign=\"top\">1000.0</th>\n",
       "      <th>C++</th>\n",
       "      <td>-3.112338</td>\n",
       "    </tr>\n",
       "    <tr>\n",
       "      <th>Python</th>\n",
       "      <td>-0.189068</td>\n",
       "    </tr>\n",
       "    <tr>\n",
       "      <th rowspan=\"2\" valign=\"top\">0.785398</th>\n",
       "      <th rowspan=\"2\" valign=\"top\">1.6</th>\n",
       "      <th rowspan=\"2\" valign=\"top\">10000.0</th>\n",
       "      <th rowspan=\"2\" valign=\"top\">1000.0</th>\n",
       "      <th>C++</th>\n",
       "      <td>1.383756</td>\n",
       "    </tr>\n",
       "    <tr>\n",
       "      <th>Python</th>\n",
       "      <td>-0.058860</td>\n",
       "    </tr>\n",
       "    <tr>\n",
       "      <th>1.570796</th>\n",
       "      <th>1.6</th>\n",
       "      <th>10000.0</th>\n",
       "      <th>1000.0</th>\n",
       "      <th>C++</th>\n",
       "      <td>0.817908</td>\n",
       "    </tr>\n",
       "  </tbody>\n",
       "</table>\n",
       "</div>"
      ],
      "text/plain": [
       "                                                 F_L\n",
       "length itheta   beta nMC     ntherm Source          \n",
       "10.0   0.000000 1.6  10000.0 1000.0 C++    -3.112338\n",
       "                                    Python -0.189068\n",
       "       0.785398 1.6  10000.0 1000.0 C++     1.383756\n",
       "                                    Python -0.058860\n",
       "       1.570796 1.6  10000.0 1000.0 C++     0.817908"
      ]
     },
     "execution_count": 15,
     "metadata": {},
     "output_type": "execute_result"
    }
   ],
   "source": [
    "F_L_Re_df = df_stats.filter([\"F_LRe_mean\",\"F_Re_py_mean\"])\n",
    "F_L_Re_df.rename(columns = {\"F_LRe_mean\":\"C++\",\"F_Re_py_mean\":\"Python\"},inplace = True)\n",
    "F_L_Re_df.columns.name = 'Source'\n",
    "F_L_Im_df = df_stats.filter([\"F_LIm_mean\",\"F_Im_py_mean\"])\n",
    "F_L_Im_df.rename(columns = {\"F_LIm_mean\":\"C++\",\"F_Im_py_mean\":\"Python\"},inplace = True)\n",
    "F_L_Im_df.columns.name = 'Source'\n",
    "F_L_Re_df = F_L_Re_df.stack()\n",
    "F_L_Im_df = F_L_Im_df.stack()\n",
    "F_L_Re_df.name = \"F_L\"\n",
    "F_L_Re_df = F_L_Re_df.to_frame()\n",
    "F_L_Im_df.name = \"F_L\"\n",
    "F_L_Im_df = F_L_Im_df.to_frame()\n",
    "F_L_Im_df.head()"
   ]
  },
  {
   "cell_type": "code",
   "execution_count": 16,
   "id": "8452432b-4eb9-46bf-be1e-fe4ce542d92c",
   "metadata": {},
   "outputs": [],
   "source": [
    "F_L_df = F_L_Re_df.join(F_L_Im_df, lsuffix = \"_Re\", rsuffix = \"_Im\")"
   ]
  },
  {
   "cell_type": "code",
   "execution_count": 17,
   "id": "6a50f266-00a8-4d58-8961-00638760f5b0",
   "metadata": {},
   "outputs": [
    {
     "data": {
      "text/html": [
       "<div>\n",
       "<style scoped>\n",
       "    .dataframe tbody tr th:only-of-type {\n",
       "        vertical-align: middle;\n",
       "    }\n",
       "\n",
       "    .dataframe tbody tr th {\n",
       "        vertical-align: top;\n",
       "    }\n",
       "\n",
       "    .dataframe thead th {\n",
       "        text-align: right;\n",
       "    }\n",
       "</style>\n",
       "<table border=\"1\" class=\"dataframe\">\n",
       "  <thead>\n",
       "    <tr style=\"text-align: right;\">\n",
       "      <th></th>\n",
       "      <th></th>\n",
       "      <th></th>\n",
       "      <th></th>\n",
       "      <th></th>\n",
       "      <th></th>\n",
       "      <th>F_L_Re</th>\n",
       "      <th>F_L_Im</th>\n",
       "    </tr>\n",
       "    <tr>\n",
       "      <th>length</th>\n",
       "      <th>itheta</th>\n",
       "      <th>beta</th>\n",
       "      <th>nMC</th>\n",
       "      <th>ntherm</th>\n",
       "      <th>Source</th>\n",
       "      <th></th>\n",
       "      <th></th>\n",
       "    </tr>\n",
       "  </thead>\n",
       "  <tbody>\n",
       "    <tr>\n",
       "      <th rowspan=\"5\" valign=\"top\">10.0</th>\n",
       "      <th rowspan=\"2\" valign=\"top\">0.000000</th>\n",
       "      <th rowspan=\"2\" valign=\"top\">1.6</th>\n",
       "      <th rowspan=\"2\" valign=\"top\">10000.0</th>\n",
       "      <th rowspan=\"2\" valign=\"top\">1000.0</th>\n",
       "      <th>C++</th>\n",
       "      <td>1.692555</td>\n",
       "      <td>-3.112338</td>\n",
       "    </tr>\n",
       "    <tr>\n",
       "      <th>Python</th>\n",
       "      <td>0.373933</td>\n",
       "      <td>-0.189068</td>\n",
       "    </tr>\n",
       "    <tr>\n",
       "      <th rowspan=\"2\" valign=\"top\">0.785398</th>\n",
       "      <th rowspan=\"2\" valign=\"top\">1.6</th>\n",
       "      <th rowspan=\"2\" valign=\"top\">10000.0</th>\n",
       "      <th rowspan=\"2\" valign=\"top\">1000.0</th>\n",
       "      <th>C++</th>\n",
       "      <td>7.178208</td>\n",
       "      <td>1.383756</td>\n",
       "    </tr>\n",
       "    <tr>\n",
       "      <th>Python</th>\n",
       "      <td>0.770374</td>\n",
       "      <td>-0.058860</td>\n",
       "    </tr>\n",
       "    <tr>\n",
       "      <th>1.570796</th>\n",
       "      <th>1.6</th>\n",
       "      <th>10000.0</th>\n",
       "      <th>1000.0</th>\n",
       "      <th>C++</th>\n",
       "      <td>1.190562</td>\n",
       "      <td>0.817908</td>\n",
       "    </tr>\n",
       "  </tbody>\n",
       "</table>\n",
       "</div>"
      ],
      "text/plain": [
       "                                              F_L_Re    F_L_Im\n",
       "length itheta   beta nMC     ntherm Source                    \n",
       "10.0   0.000000 1.6  10000.0 1000.0 C++     1.692555 -3.112338\n",
       "                                    Python  0.373933 -0.189068\n",
       "       0.785398 1.6  10000.0 1000.0 C++     7.178208  1.383756\n",
       "                                    Python  0.770374 -0.058860\n",
       "       1.570796 1.6  10000.0 1000.0 C++     1.190562  0.817908"
      ]
     },
     "execution_count": 17,
     "metadata": {},
     "output_type": "execute_result"
    }
   ],
   "source": [
    "F_L_df.head()"
   ]
  },
  {
   "cell_type": "code",
   "execution_count": 19,
   "id": "891bed1a-d85a-42c7-959d-c6a28bfc8f46",
   "metadata": {},
   "outputs": [
    {
     "data": {
      "image/png": "[encoded data removed]",
      "text/plain": [
       "<Figure size 432x288 with 1 Axes>"
      ]
     },
     "metadata": {
      "needs_background": "light"
     },
     "output_type": "display_data"
    }
   ],
   "source": [
    "sns.scatterplot(data = F_L_df, x = \"itheta\", y = \"F_L_Re\", hue = \"length\", \n",
    "                style = \"Source\", palette = sns.color_palette(\"Blues\", 3))\n",
    "plt.show()"
   ]
  },
  {
   "cell_type": "code",
   "execution_count": 20,
   "id": "3e9b87d1-6c2b-4371-b5e4-6e371404c693",
   "metadata": {},
   "outputs": [
    {
     "data": {
      "image/png": "[encoded data removed]",
      "text/plain": [
       "<Figure size 432x288 with 1 Axes>"
      ]
     },
     "metadata": {
      "needs_background": "light"
     },
     "output_type": "display_data"
    }
   ],
   "source": [
    "sns.scatterplot(data = F_L_df, x = \"itheta\", y = \"F_L_Im\", hue = \"length\", \n",
    "                style = \"Source\", palette = sns.color_palette(\"Reds\", 3))\n",
    "plt.show()"
   ]
  },
  {
   "cell_type": "markdown",
   "id": "59c341e8-446c-483b-af37-b0a3875ea618",
   "metadata": {},
   "source": [
    "## Correlation Length"
   ]
  },
  {
   "cell_type": "code",
   "execution_count": 21,
   "id": "bd0b6475-1281-4891-9db4-870c1bdd0886",
   "metadata": {},
   "outputs": [
    {
     "data": {
      "image/png": "[encoded data removed]",
      "text/plain": [
       "<Figure size 432x288 with 1 Axes>"
      ]
     },
     "metadata": {
      "needs_background": "light"
     },
     "output_type": "display_data"
    }
   ],
   "source": [
    "sns.scatterplot(data = df_stats, x = \"itheta\", y = \"corr_length_Re_mean\", hue = \"length\", \n",
    "                size = \"nMC\", palette = analyzer.palette)\n",
    "\n",
    "plt.show()"
   ]
  },
  {
   "cell_type": "markdown",
   "id": "0ebfa44f-00c7-4879-9eee-622e74ed513d",
   "metadata": {},
   "source": [
    "### Mass Gap"
   ]
  },
  {
   "cell_type": "code",
   "execution_count": 22,
   "id": "eeee1fb8-512e-40b9-982d-197e47b583a8",
   "metadata": {},
   "outputs": [
    {
     "data": {
      "image/png": "[encoded data removed]",
      "text/plain": [
       "<Figure size 432x288 with 1 Axes>"
      ]
     },
     "metadata": {
      "needs_background": "light"
     },
     "output_type": "display_data"
    }
   ],
   "source": [
    "sns.scatterplot(data = df_stats, x = \"itheta\", y = \"mass_gap_Re_mean\", hue = \"length\", \n",
    "                size = \"nMC\", palette = analyzer.palette)\n",
    "\n",
    "plt.show()"
   ]
  },
  {
   "cell_type": "markdown",
   "id": "bd27a3b4-0d8b-4e3a-b451-d88f22f9d9d6",
   "metadata": {},
   "source": [
    "# Observable detailed plots with error (matplotlib)"
   ]
  },
  {
   "cell_type": "code",
   "execution_count": 28,
   "id": "f8005fa9-f944-4e8e-ba93-82da0660ffe4",
   "metadata": {},
   "outputs": [],
   "source": [
    "lengths = [10,20,40]\n",
    "colors = sns.color_palette(\"Blues\", len(lengths))\n",
    "observable = \"Q_L\""
   ]
  },
  {
   "cell_type": "code",
   "execution_count": 2,
   "id": "d5e00f55-a02c-492f-be1d-2cc25efbca9f",
   "metadata": {},
   "outputs": [
    {
     "ename": "NameError",
     "evalue": "name 'lengths' is not defined",
     "output_type": "error",
     "traceback": [
      "\u001b[0;31m---------------------------------------------------------------------------\u001b[0m",
      "\u001b[0;31mNameError\u001b[0m                                 Traceback (most recent call last)",
      "\u001b[0;32m/tmp/ipykernel_253020/3781524507.py\u001b[0m in \u001b[0;36m<module>\u001b[0;34m\u001b[0m\n\u001b[0;32m----> 1\u001b[0;31m \u001b[0;32mfor\u001b[0m \u001b[0mn\u001b[0m\u001b[0;34m,\u001b[0m\u001b[0mlength\u001b[0m \u001b[0;32min\u001b[0m \u001b[0menumerate\u001b[0m\u001b[0;34m(\u001b[0m\u001b[0mlengths\u001b[0m\u001b[0;34m)\u001b[0m\u001b[0;34m:\u001b[0m\u001b[0;34m\u001b[0m\u001b[0;34m\u001b[0m\u001b[0m\n\u001b[0m\u001b[1;32m      2\u001b[0m     \u001b[0mx\u001b[0m\u001b[0;34m,\u001b[0m\u001b[0my\u001b[0m\u001b[0;34m,\u001b[0m\u001b[0merr\u001b[0m \u001b[0;34m=\u001b[0m \u001b[0manalyzer\u001b[0m\u001b[0;34m.\u001b[0m\u001b[0mget_plot_data\u001b[0m\u001b[0;34m(\u001b[0m\u001b[0mobs\u001b[0m \u001b[0;34m=\u001b[0m \u001b[0mobservable\u001b[0m\u001b[0;34m,\u001b[0m \u001b[0mL\u001b[0m \u001b[0;34m=\u001b[0m \u001b[0mlength\u001b[0m\u001b[0;34m,\u001b[0m \u001b[0mbeta\u001b[0m \u001b[0;34m=\u001b[0m \u001b[0;36m1.6\u001b[0m\u001b[0;34m,\u001b[0m \u001b[0mnMC\u001b[0m \u001b[0;34m=\u001b[0m \u001b[0;36m10000\u001b[0m\u001b[0;34m,\u001b[0m \u001b[0mntherm\u001b[0m \u001b[0;34m=\u001b[0m \u001b[0;36m1000\u001b[0m\u001b[0;34m)\u001b[0m\u001b[0;34m\u001b[0m\u001b[0;34m\u001b[0m\u001b[0m\n\u001b[1;32m      3\u001b[0m     \u001b[0mplt\u001b[0m\u001b[0;34m.\u001b[0m\u001b[0merrorbar\u001b[0m\u001b[0;34m(\u001b[0m\u001b[0mx\u001b[0m\u001b[0;34m,\u001b[0m \u001b[0my\u001b[0m \u001b[0;34m,\u001b[0m \u001b[0myerr\u001b[0m \u001b[0;34m=\u001b[0m \u001b[0merr\u001b[0m\u001b[0;34m,\u001b[0m \u001b[0mmarker\u001b[0m \u001b[0;34m=\u001b[0m \u001b[0;34m\".\"\u001b[0m\u001b[0;34m,\u001b[0m \u001b[0mls\u001b[0m \u001b[0;34m=\u001b[0m \u001b[0;34m\"none\"\u001b[0m\u001b[0;34m,\u001b[0m \u001b[0mcolor\u001b[0m \u001b[0;34m=\u001b[0m \u001b[0mcolors\u001b[0m\u001b[0;34m[\u001b[0m\u001b[0mn\u001b[0m\u001b[0;34m]\u001b[0m\u001b[0;34m,\u001b[0m \u001b[0mlabel\u001b[0m \u001b[0;34m=\u001b[0m\u001b[0;34m\"L=\"\u001b[0m\u001b[0;34m+\u001b[0m\u001b[0mstr\u001b[0m\u001b[0;34m(\u001b[0m\u001b[0mlength\u001b[0m\u001b[0;34m)\u001b[0m\u001b[0;34m)\u001b[0m\u001b[0;34m\u001b[0m\u001b[0;34m\u001b[0m\u001b[0m\n\u001b[1;32m      4\u001b[0m \u001b[0mplt\u001b[0m\u001b[0;34m.\u001b[0m\u001b[0mlegend\u001b[0m\u001b[0;34m(\u001b[0m\u001b[0;34m)\u001b[0m\u001b[0;34m\u001b[0m\u001b[0;34m\u001b[0m\u001b[0m\n\u001b[1;32m      5\u001b[0m \u001b[0mplt\u001b[0m\u001b[0;34m.\u001b[0m\u001b[0mtitle\u001b[0m\u001b[0;34m(\u001b[0m\u001b[0mobservable\u001b[0m\u001b[0;34m)\u001b[0m\u001b[0;34m\u001b[0m\u001b[0;34m\u001b[0m\u001b[0m\n",
      "\u001b[0;31mNameError\u001b[0m: name 'lengths' is not defined"
     ]
    }
   ],
   "source": [
    "for n,length in enumerate(lengths):\n",
    "    x,y,err = analyzer.get_plot_data(obs = observable, L = length, beta = 1.6, nMC = 10000, ntherm = 1000)\n",
    "    plt.errorbar(x, y , yerr = err, marker = \".\", ls = \"none\", color = colors[n], label =\"L=\"+str(length))\n",
    "plt.legend()\n",
    "plt.title(observable)\n",
    "plt.show()"
   ]
  },
  {
   "cell_type": "code",
   "execution_count": null,
   "id": "ed25b48e-fc43-495b-a8d1-0b3df7f3605f",
   "metadata": {},
   "outputs": [],
   "source": []
  }
 ],
 "metadata": {
  "kernelspec": {
   "display_name": "Python 3 (ipykernel)",
   "language": "python",
   "name": "python3"
  },
  "language_info": {
   "codemirror_mode": {
    "name": "ipython",
    "version": 3
   },
   "file_extension": ".py",
   "mimetype": "text/x-python",
   "name": "python",
   "nbconvert_exporter": "python",
   "pygments_lexer": "ipython3",
   "version": "3.8.10"
  }
 },
 "nbformat": 4,
 "nbformat_minor": 5
}
