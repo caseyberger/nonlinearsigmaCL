{
 "cells": [
  {
   "cell_type": "code",
   "execution_count": 1,
   "id": "1d6672c5-0a61-45f8-803a-28812a4a9aca",
   "metadata": {},
   "outputs": [],
   "source": [
    "import os\n",
    "import numpy as np\n",
    "import pandas as pd\n",
    "import matplotlib.pyplot as plt\n",
    "import seaborn as sns\n",
    "from LatticeData import *"
   ]
  },
  {
   "cell_type": "markdown",
   "id": "09a42030-1f13-4783-9853-f1459b51f90e",
   "metadata": {},
   "source": [
    "# Create analyzer - instantiate class"
   ]
  },
  {
   "cell_type": "code",
   "execution_count": 2,
   "id": "3a8f83a8-69c3-4a84-913c-2a280a8f6ad2",
   "metadata": {},
   "outputs": [],
   "source": [
    "analyzer = LatticeData(datadir = \"/data_nls/\")"
   ]
  },
  {
   "cell_type": "code",
   "execution_count": 3,
   "id": "d4f35652-8a8b-4fd2-bf95-a8cece8e88f9",
   "metadata": {},
   "outputs": [],
   "source": [
    "src_dir = \"/run_7_14_23_old/\"\n",
    "analyzer.collect_data(src_dir)"
   ]
  },
  {
   "cell_type": "markdown",
   "id": "61491e67-091b-4173-95a6-06f977afcaeb",
   "metadata": {
    "tags": []
   },
   "source": [
    "## Basic statistics"
   ]
  },
  {
   "cell_type": "code",
   "execution_count": 4,
   "id": "b5680445-d9ea-4940-8252-3123e99b66ca",
   "metadata": {},
   "outputs": [],
   "source": [
    "df = analyzer.get_data()"
   ]
  },
  {
   "cell_type": "code",
   "execution_count": 5,
   "id": "131ea67c-88cf-4480-981c-e6d306ab0665",
   "metadata": {},
   "outputs": [
    {
     "data": {
      "text/html": [
       "<div>\n",
       "<style scoped>\n",
       "    .dataframe tbody tr th:only-of-type {\n",
       "        vertical-align: middle;\n",
       "    }\n",
       "\n",
       "    .dataframe tbody tr th {\n",
       "        vertical-align: top;\n",
       "    }\n",
       "\n",
       "    .dataframe thead th {\n",
       "        text-align: right;\n",
       "    }\n",
       "</style>\n",
       "<table border=\"1\" class=\"dataframe\">\n",
       "  <thead>\n",
       "    <tr style=\"text-align: right;\">\n",
       "      <th></th>\n",
       "      <th>step</th>\n",
       "      <th>|phi|</th>\n",
       "      <th>Q_L</th>\n",
       "      <th>A_L</th>\n",
       "      <th>S_L</th>\n",
       "      <th>Xi_L</th>\n",
       "      <th>F_LRe</th>\n",
       "      <th>F_LIm</th>\n",
       "      <th>acc</th>\n",
       "      <th>dt</th>\n",
       "      <th>...</th>\n",
       "      <th>Q_L_ta</th>\n",
       "      <th>A_L_ta</th>\n",
       "      <th>S_L_ta</th>\n",
       "      <th>Xi_L_ta</th>\n",
       "      <th>corr_length_Re</th>\n",
       "      <th>corr_length_Im</th>\n",
       "      <th>F_Re_py</th>\n",
       "      <th>F_Im_py</th>\n",
       "      <th>mass_gap_Re</th>\n",
       "      <th>mass_gap_Im</th>\n",
       "    </tr>\n",
       "  </thead>\n",
       "  <tbody>\n",
       "    <tr>\n",
       "      <th>0</th>\n",
       "      <td>0</td>\n",
       "      <td>400.0</td>\n",
       "      <td>-0.0</td>\n",
       "      <td>-2113.253215</td>\n",
       "      <td>-2113.253215</td>\n",
       "      <td>260.204216</td>\n",
       "      <td>-4.143037</td>\n",
       "      <td>5.008291</td>\n",
       "      <td>0.097500</td>\n",
       "      <td>0.0</td>\n",
       "      <td>...</td>\n",
       "      <td>1</td>\n",
       "      <td>8</td>\n",
       "      <td>8</td>\n",
       "      <td>2</td>\n",
       "      <td>67.642711</td>\n",
       "      <td>-18.322493</td>\n",
       "      <td>0.467254</td>\n",
       "      <td>0.273175</td>\n",
       "      <td>0.013773</td>\n",
       "      <td>0.003731</td>\n",
       "    </tr>\n",
       "    <tr>\n",
       "      <th>1</th>\n",
       "      <td>100</td>\n",
       "      <td>400.0</td>\n",
       "      <td>0.0</td>\n",
       "      <td>-2143.428607</td>\n",
       "      <td>-2143.428607</td>\n",
       "      <td>270.043036</td>\n",
       "      <td>-4.143037</td>\n",
       "      <td>5.008291</td>\n",
       "      <td>0.086510</td>\n",
       "      <td>2.0</td>\n",
       "      <td>...</td>\n",
       "      <td>1</td>\n",
       "      <td>8</td>\n",
       "      <td>8</td>\n",
       "      <td>2</td>\n",
       "      <td>68.909695</td>\n",
       "      <td>-18.665683</td>\n",
       "      <td>0.467254</td>\n",
       "      <td>0.273175</td>\n",
       "      <td>0.013520</td>\n",
       "      <td>0.003662</td>\n",
       "    </tr>\n",
       "    <tr>\n",
       "      <th>2</th>\n",
       "      <td>200</td>\n",
       "      <td>400.0</td>\n",
       "      <td>-0.0</td>\n",
       "      <td>-2169.985492</td>\n",
       "      <td>-2169.985492</td>\n",
       "      <td>108.059868</td>\n",
       "      <td>-4.143037</td>\n",
       "      <td>5.008291</td>\n",
       "      <td>0.086182</td>\n",
       "      <td>3.0</td>\n",
       "      <td>...</td>\n",
       "      <td>1</td>\n",
       "      <td>8</td>\n",
       "      <td>8</td>\n",
       "      <td>2</td>\n",
       "      <td>43.590922</td>\n",
       "      <td>-11.807545</td>\n",
       "      <td>0.467254</td>\n",
       "      <td>0.273175</td>\n",
       "      <td>0.021372</td>\n",
       "      <td>0.005789</td>\n",
       "    </tr>\n",
       "    <tr>\n",
       "      <th>3</th>\n",
       "      <td>300</td>\n",
       "      <td>400.0</td>\n",
       "      <td>0.0</td>\n",
       "      <td>-2122.275140</td>\n",
       "      <td>-2122.275140</td>\n",
       "      <td>299.846164</td>\n",
       "      <td>-4.143037</td>\n",
       "      <td>5.008291</td>\n",
       "      <td>0.085864</td>\n",
       "      <td>5.0</td>\n",
       "      <td>...</td>\n",
       "      <td>1</td>\n",
       "      <td>8</td>\n",
       "      <td>8</td>\n",
       "      <td>2</td>\n",
       "      <td>72.612784</td>\n",
       "      <td>-19.668745</td>\n",
       "      <td>0.467254</td>\n",
       "      <td>0.273175</td>\n",
       "      <td>0.012830</td>\n",
       "      <td>0.003475</td>\n",
       "    </tr>\n",
       "    <tr>\n",
       "      <th>4</th>\n",
       "      <td>400</td>\n",
       "      <td>400.0</td>\n",
       "      <td>0.0</td>\n",
       "      <td>-2160.991167</td>\n",
       "      <td>-2160.991167</td>\n",
       "      <td>311.752183</td>\n",
       "      <td>-4.143037</td>\n",
       "      <td>5.008291</td>\n",
       "      <td>0.086378</td>\n",
       "      <td>7.0</td>\n",
       "      <td>...</td>\n",
       "      <td>1</td>\n",
       "      <td>8</td>\n",
       "      <td>8</td>\n",
       "      <td>2</td>\n",
       "      <td>74.040372</td>\n",
       "      <td>-20.055438</td>\n",
       "      <td>0.467254</td>\n",
       "      <td>0.273175</td>\n",
       "      <td>0.012583</td>\n",
       "      <td>0.003408</td>\n",
       "    </tr>\n",
       "  </tbody>\n",
       "</table>\n",
       "<p>5 rows × 26 columns</p>\n",
       "</div>"
      ],
      "text/plain": [
       "   step  |phi|  Q_L          A_L          S_L        Xi_L     F_LRe     F_LIm  \\\n",
       "0     0  400.0 -0.0 -2113.253215 -2113.253215  260.204216 -4.143037  5.008291   \n",
       "1   100  400.0  0.0 -2143.428607 -2143.428607  270.043036 -4.143037  5.008291   \n",
       "2   200  400.0 -0.0 -2169.985492 -2169.985492  108.059868 -4.143037  5.008291   \n",
       "3   300  400.0  0.0 -2122.275140 -2122.275140  299.846164 -4.143037  5.008291   \n",
       "4   400  400.0  0.0 -2160.991167 -2160.991167  311.752183 -4.143037  5.008291   \n",
       "\n",
       "        acc   dt  ...  Q_L_ta  A_L_ta  S_L_ta  Xi_L_ta  corr_length_Re  \\\n",
       "0  0.097500  0.0  ...       1       8       8        2       67.642711   \n",
       "1  0.086510  2.0  ...       1       8       8        2       68.909695   \n",
       "2  0.086182  3.0  ...       1       8       8        2       43.590922   \n",
       "3  0.085864  5.0  ...       1       8       8        2       72.612784   \n",
       "4  0.086378  7.0  ...       1       8       8        2       74.040372   \n",
       "\n",
       "   corr_length_Im   F_Re_py   F_Im_py  mass_gap_Re  mass_gap_Im  \n",
       "0      -18.322493  0.467254  0.273175     0.013773     0.003731  \n",
       "1      -18.665683  0.467254  0.273175     0.013520     0.003662  \n",
       "2      -11.807545  0.467254  0.273175     0.021372     0.005789  \n",
       "3      -19.668745  0.467254  0.273175     0.012830     0.003475  \n",
       "4      -20.055438  0.467254  0.273175     0.012583     0.003408  \n",
       "\n",
       "[5 rows x 26 columns]"
      ]
     },
     "execution_count": 5,
     "metadata": {},
     "output_type": "execute_result"
    }
   ],
   "source": [
    "df.head()"
   ]
  },
  {
   "cell_type": "code",
   "execution_count": 6,
   "id": "07380ff5-4fd2-477a-ab7b-0cbf5d9e2d70",
   "metadata": {},
   "outputs": [
    {
     "data": {
      "text/plain": [
       "array([0.785398, 1.570796, 2.356194, 3.141593, 0.      ])"
      ]
     },
     "execution_count": 6,
     "metadata": {},
     "output_type": "execute_result"
    }
   ],
   "source": [
    "df[\"itheta\"].unique()"
   ]
  },
  {
   "cell_type": "code",
   "execution_count": 7,
   "id": "e3021073-d9cf-439c-868e-03a551f561aa",
   "metadata": {},
   "outputs": [],
   "source": [
    "df_stats = analyzer.do_stats(therm = 0)"
   ]
  },
  {
   "cell_type": "code",
   "execution_count": 8,
   "id": "8edfccd0-b085-4f72-847c-787a48a1503a",
   "metadata": {},
   "outputs": [
    {
     "data": {
      "text/html": [
       "<div>\n",
       "<style scoped>\n",
       "    .dataframe tbody tr th:only-of-type {\n",
       "        vertical-align: middle;\n",
       "    }\n",
       "\n",
       "    .dataframe tbody tr th {\n",
       "        vertical-align: top;\n",
       "    }\n",
       "\n",
       "    .dataframe thead th {\n",
       "        text-align: right;\n",
       "    }\n",
       "</style>\n",
       "<table border=\"1\" class=\"dataframe\">\n",
       "  <thead>\n",
       "    <tr style=\"text-align: right;\">\n",
       "      <th></th>\n",
       "      <th></th>\n",
       "      <th></th>\n",
       "      <th></th>\n",
       "      <th></th>\n",
       "      <th>|phi|_mean</th>\n",
       "      <th>Q_L_mean</th>\n",
       "      <th>A_L_mean</th>\n",
       "      <th>S_L_mean</th>\n",
       "      <th>Xi_L_mean</th>\n",
       "      <th>F_LRe_mean</th>\n",
       "      <th>F_LIm_mean</th>\n",
       "      <th>acc_mean</th>\n",
       "      <th>freq_mean</th>\n",
       "      <th>Q_L_ta</th>\n",
       "      <th>...</th>\n",
       "      <th>freq_std</th>\n",
       "      <th>corr_length_Re_std</th>\n",
       "      <th>corr_length_Im_std</th>\n",
       "      <th>F_Re_py_std</th>\n",
       "      <th>F_Im_py_std</th>\n",
       "      <th>mass_gap_Re_std</th>\n",
       "      <th>mass_gap_Im_std</th>\n",
       "      <th>time (sec)</th>\n",
       "      <th>time (min)</th>\n",
       "      <th>time (hr)</th>\n",
       "    </tr>\n",
       "    <tr>\n",
       "      <th>length</th>\n",
       "      <th>itheta</th>\n",
       "      <th>beta</th>\n",
       "      <th>nMC</th>\n",
       "      <th>ntherm</th>\n",
       "      <th></th>\n",
       "      <th></th>\n",
       "      <th></th>\n",
       "      <th></th>\n",
       "      <th></th>\n",
       "      <th></th>\n",
       "      <th></th>\n",
       "      <th></th>\n",
       "      <th></th>\n",
       "      <th></th>\n",
       "      <th></th>\n",
       "      <th></th>\n",
       "      <th></th>\n",
       "      <th></th>\n",
       "      <th></th>\n",
       "      <th></th>\n",
       "      <th></th>\n",
       "      <th></th>\n",
       "      <th></th>\n",
       "      <th></th>\n",
       "      <th></th>\n",
       "    </tr>\n",
       "  </thead>\n",
       "  <tbody>\n",
       "    <tr>\n",
       "      <th rowspan=\"5\" valign=\"top\">10.0</th>\n",
       "      <th>0.000000</th>\n",
       "      <th>1.6</th>\n",
       "      <th>10000.0</th>\n",
       "      <th>1000.0</th>\n",
       "      <td>100.0</td>\n",
       "      <td>0.00000</td>\n",
       "      <td>-537.575236</td>\n",
       "      <td>-537.575236</td>\n",
       "      <td>67.389943</td>\n",
       "      <td>1.692555</td>\n",
       "      <td>-3.112338</td>\n",
       "      <td>0.085682</td>\n",
       "      <td>100.0</td>\n",
       "      <td>1.0</td>\n",
       "      <td>...</td>\n",
       "      <td>0.0</td>\n",
       "      <td>2.959807</td>\n",
       "      <td>1.999546</td>\n",
       "      <td>0.0</td>\n",
       "      <td>0.0</td>\n",
       "      <td>0.009025</td>\n",
       "      <td>0.007999</td>\n",
       "      <td>32.0</td>\n",
       "      <td>0.533333</td>\n",
       "      <td>0.008889</td>\n",
       "    </tr>\n",
       "    <tr>\n",
       "      <th>0.785398</th>\n",
       "      <th>1.6</th>\n",
       "      <th>10000.0</th>\n",
       "      <th>1000.0</th>\n",
       "      <td>100.0</td>\n",
       "      <td>0.00000</td>\n",
       "      <td>-536.245763</td>\n",
       "      <td>-536.245763</td>\n",
       "      <td>69.730522</td>\n",
       "      <td>-0.033079</td>\n",
       "      <td>1.477292</td>\n",
       "      <td>0.085499</td>\n",
       "      <td>100.0</td>\n",
       "      <td>1.0</td>\n",
       "      <td>...</td>\n",
       "      <td>0.0</td>\n",
       "      <td>2.235355</td>\n",
       "      <td>0.749371</td>\n",
       "      <td>0.0</td>\n",
       "      <td>0.0</td>\n",
       "      <td>0.005074</td>\n",
       "      <td>0.001701</td>\n",
       "      <td>34.0</td>\n",
       "      <td>0.566667</td>\n",
       "      <td>0.009444</td>\n",
       "    </tr>\n",
       "    <tr>\n",
       "      <th>1.570796</th>\n",
       "      <th>1.6</th>\n",
       "      <th>10000.0</th>\n",
       "      <th>1000.0</th>\n",
       "      <td>100.0</td>\n",
       "      <td>0.00000</td>\n",
       "      <td>-534.924305</td>\n",
       "      <td>-534.924305</td>\n",
       "      <td>70.511411</td>\n",
       "      <td>0.294422</td>\n",
       "      <td>0.215351</td>\n",
       "      <td>0.084884</td>\n",
       "      <td>100.0</td>\n",
       "      <td>1.0</td>\n",
       "      <td>...</td>\n",
       "      <td>0.0</td>\n",
       "      <td>1.424884</td>\n",
       "      <td>0.588279</td>\n",
       "      <td>0.0</td>\n",
       "      <td>0.0</td>\n",
       "      <td>0.004782</td>\n",
       "      <td>0.001974</td>\n",
       "      <td>24.0</td>\n",
       "      <td>0.400000</td>\n",
       "      <td>0.006667</td>\n",
       "    </tr>\n",
       "    <tr>\n",
       "      <th>2.356194</th>\n",
       "      <th>1.6</th>\n",
       "      <th>10000.0</th>\n",
       "      <th>1000.0</th>\n",
       "      <td>100.0</td>\n",
       "      <td>0.00000</td>\n",
       "      <td>-536.380039</td>\n",
       "      <td>-536.380039</td>\n",
       "      <td>70.444567</td>\n",
       "      <td>3.686687</td>\n",
       "      <td>-6.083216</td>\n",
       "      <td>0.086166</td>\n",
       "      <td>100.0</td>\n",
       "      <td>1.0</td>\n",
       "      <td>...</td>\n",
       "      <td>0.0</td>\n",
       "      <td>1.390415</td>\n",
       "      <td>0.433872</td>\n",
       "      <td>0.0</td>\n",
       "      <td>0.0</td>\n",
       "      <td>0.009117</td>\n",
       "      <td>0.002845</td>\n",
       "      <td>24.0</td>\n",
       "      <td>0.400000</td>\n",
       "      <td>0.006667</td>\n",
       "    </tr>\n",
       "    <tr>\n",
       "      <th>3.141593</th>\n",
       "      <th>1.6</th>\n",
       "      <th>10000.0</th>\n",
       "      <th>1000.0</th>\n",
       "      <td>100.0</td>\n",
       "      <td>0.35982</td>\n",
       "      <td>-532.304424</td>\n",
       "      <td>-533.434833</td>\n",
       "      <td>64.865895</td>\n",
       "      <td>-3.958056</td>\n",
       "      <td>-3.912962</td>\n",
       "      <td>0.085829</td>\n",
       "      <td>100.0</td>\n",
       "      <td>1.0</td>\n",
       "      <td>...</td>\n",
       "      <td>0.0</td>\n",
       "      <td>1.961791</td>\n",
       "      <td>2.204512</td>\n",
       "      <td>0.0</td>\n",
       "      <td>0.0</td>\n",
       "      <td>0.026151</td>\n",
       "      <td>0.038354</td>\n",
       "      <td>26.0</td>\n",
       "      <td>0.433333</td>\n",
       "      <td>0.007222</td>\n",
       "    </tr>\n",
       "  </tbody>\n",
       "</table>\n",
       "<p>5 rows × 37 columns</p>\n",
       "</div>"
      ],
      "text/plain": [
       "                                     |phi|_mean  Q_L_mean    A_L_mean  \\\n",
       "length itheta   beta nMC     ntherm                                     \n",
       "10.0   0.000000 1.6  10000.0 1000.0       100.0   0.00000 -537.575236   \n",
       "       0.785398 1.6  10000.0 1000.0       100.0   0.00000 -536.245763   \n",
       "       1.570796 1.6  10000.0 1000.0       100.0   0.00000 -534.924305   \n",
       "       2.356194 1.6  10000.0 1000.0       100.0   0.00000 -536.380039   \n",
       "       3.141593 1.6  10000.0 1000.0       100.0   0.35982 -532.304424   \n",
       "\n",
       "                                       S_L_mean  Xi_L_mean  F_LRe_mean  \\\n",
       "length itheta   beta nMC     ntherm                                      \n",
       "10.0   0.000000 1.6  10000.0 1000.0 -537.575236  67.389943    1.692555   \n",
       "       0.785398 1.6  10000.0 1000.0 -536.245763  69.730522   -0.033079   \n",
       "       1.570796 1.6  10000.0 1000.0 -534.924305  70.511411    0.294422   \n",
       "       2.356194 1.6  10000.0 1000.0 -536.380039  70.444567    3.686687   \n",
       "       3.141593 1.6  10000.0 1000.0 -533.434833  64.865895   -3.958056   \n",
       "\n",
       "                                     F_LIm_mean  acc_mean  freq_mean  Q_L_ta  \\\n",
       "length itheta   beta nMC     ntherm                                            \n",
       "10.0   0.000000 1.6  10000.0 1000.0   -3.112338  0.085682      100.0     1.0   \n",
       "       0.785398 1.6  10000.0 1000.0    1.477292  0.085499      100.0     1.0   \n",
       "       1.570796 1.6  10000.0 1000.0    0.215351  0.084884      100.0     1.0   \n",
       "       2.356194 1.6  10000.0 1000.0   -6.083216  0.086166      100.0     1.0   \n",
       "       3.141593 1.6  10000.0 1000.0   -3.912962  0.085829      100.0     1.0   \n",
       "\n",
       "                                     ...  freq_std  corr_length_Re_std  \\\n",
       "length itheta   beta nMC     ntherm  ...                                 \n",
       "10.0   0.000000 1.6  10000.0 1000.0  ...       0.0            2.959807   \n",
       "       0.785398 1.6  10000.0 1000.0  ...       0.0            2.235355   \n",
       "       1.570796 1.6  10000.0 1000.0  ...       0.0            1.424884   \n",
       "       2.356194 1.6  10000.0 1000.0  ...       0.0            1.390415   \n",
       "       3.141593 1.6  10000.0 1000.0  ...       0.0            1.961791   \n",
       "\n",
       "                                     corr_length_Im_std  F_Re_py_std  \\\n",
       "length itheta   beta nMC     ntherm                                    \n",
       "10.0   0.000000 1.6  10000.0 1000.0            1.999546          0.0   \n",
       "       0.785398 1.6  10000.0 1000.0            0.749371          0.0   \n",
       "       1.570796 1.6  10000.0 1000.0            0.588279          0.0   \n",
       "       2.356194 1.6  10000.0 1000.0            0.433872          0.0   \n",
       "       3.141593 1.6  10000.0 1000.0            2.204512          0.0   \n",
       "\n",
       "                                     F_Im_py_std  mass_gap_Re_std  \\\n",
       "length itheta   beta nMC     ntherm                                 \n",
       "10.0   0.000000 1.6  10000.0 1000.0          0.0         0.009025   \n",
       "       0.785398 1.6  10000.0 1000.0          0.0         0.005074   \n",
       "       1.570796 1.6  10000.0 1000.0          0.0         0.004782   \n",
       "       2.356194 1.6  10000.0 1000.0          0.0         0.009117   \n",
       "       3.141593 1.6  10000.0 1000.0          0.0         0.026151   \n",
       "\n",
       "                                     mass_gap_Im_std  time (sec)  time (min)  \\\n",
       "length itheta   beta nMC     ntherm                                            \n",
       "10.0   0.000000 1.6  10000.0 1000.0         0.007999        32.0    0.533333   \n",
       "       0.785398 1.6  10000.0 1000.0         0.001701        34.0    0.566667   \n",
       "       1.570796 1.6  10000.0 1000.0         0.001974        24.0    0.400000   \n",
       "       2.356194 1.6  10000.0 1000.0         0.002845        24.0    0.400000   \n",
       "       3.141593 1.6  10000.0 1000.0         0.038354        26.0    0.433333   \n",
       "\n",
       "                                     time (hr)  \n",
       "length itheta   beta nMC     ntherm             \n",
       "10.0   0.000000 1.6  10000.0 1000.0   0.008889  \n",
       "       0.785398 1.6  10000.0 1000.0   0.009444  \n",
       "       1.570796 1.6  10000.0 1000.0   0.006667  \n",
       "       2.356194 1.6  10000.0 1000.0   0.006667  \n",
       "       3.141593 1.6  10000.0 1000.0   0.007222  \n",
       "\n",
       "[5 rows x 37 columns]"
      ]
     },
     "execution_count": 8,
     "metadata": {},
     "output_type": "execute_result"
    }
   ],
   "source": [
    "df_stats.head()"
   ]
  },
  {
   "cell_type": "markdown",
   "id": "450dedbf-c013-454d-8b7b-3188b0bf4e24",
   "metadata": {
    "tags": []
   },
   "source": [
    "# Observable plots"
   ]
  },
  {
   "cell_type": "code",
   "execution_count": 9,
   "id": "4aba8de4-cedc-4612-b8a4-61b32d6e0410",
   "metadata": {},
   "outputs": [],
   "source": [
    "beta = 1.6\n",
    "nMC = 10000\n",
    "plot_params = {\"beta\": beta, \"nMC\": nMC}"
   ]
  },
  {
   "cell_type": "code",
   "execution_count": 10,
   "id": "a5c80727-dbdb-47b5-a7b3-58ee77dcf353",
   "metadata": {},
   "outputs": [],
   "source": [
    "df_stats = analyzer.do_stats(therm = 0.4, **plot_params)"
   ]
  },
  {
   "cell_type": "code",
   "execution_count": 11,
   "id": "bcba1479-520d-45c5-be02-301c7930586a",
   "metadata": {},
   "outputs": [
    {
     "data": {
      "text/plain": [
       "Index(['|phi|_mean', 'Q_L_mean', 'A_L_mean', 'S_L_mean', 'Xi_L_mean',\n",
       "       'F_LRe_mean', 'F_LIm_mean', 'acc_mean', 'freq_mean', 'Q_L_ta', 'A_L_ta',\n",
       "       'S_L_ta', 'Xi_L_ta', 'corr_length_Re_mean', 'corr_length_Im_mean',\n",
       "       'F_Re_py_mean', 'F_Im_py_mean', 'mass_gap_Re_mean', 'mass_gap_Im_mean',\n",
       "       '|phi|_std', 'Q_L_std', 'A_L_std', 'S_L_std', 'Xi_L_std', 'F_LRe_std',\n",
       "       'F_LIm_std', 'acc_std', 'freq_std', 'corr_length_Re_std',\n",
       "       'corr_length_Im_std', 'F_Re_py_std', 'F_Im_py_std', 'mass_gap_Re_std',\n",
       "       'mass_gap_Im_std', 'time (sec)', 'time (min)', 'time (hr)'],\n",
       "      dtype='object')"
      ]
     },
     "execution_count": 11,
     "metadata": {},
     "output_type": "execute_result"
    }
   ],
   "source": [
    "df_stats.columns"
   ]
  },
  {
   "cell_type": "markdown",
   "id": "f039e1f0-401c-4780-91dd-a9703d1f0160",
   "metadata": {
    "tags": []
   },
   "source": [
    "### Q_L"
   ]
  },
  {
   "cell_type": "code",
   "execution_count": 12,
   "id": "a295b6a4-a23e-4c19-a67f-821c68ecd878",
   "metadata": {},
   "outputs": [
    {
     "data": {
      "image/png": "[encoded data removed]",
      "text/plain": [
       "<Figure size 432x288 with 1 Axes>"
      ]
     },
     "metadata": {
      "needs_background": "light"
     },
     "output_type": "display_data"
    }
   ],
   "source": [
    "sns.scatterplot(data = df_stats, x = \"itheta\", y = \"Q_L_mean\", hue = \"length\", \n",
    "                size = \"nMC\", palette = analyzer.palette)\n",
    "plt.show()"
   ]
  },
  {
   "cell_type": "markdown",
   "id": "a51a9bbb-a788-4d6f-8707-e0037e0af205",
   "metadata": {
    "tags": []
   },
   "source": [
    "### S_L"
   ]
  },
  {
   "cell_type": "code",
   "execution_count": 13,
   "id": "2611a9d2-3b7f-4397-b606-a1aac07ec493",
   "metadata": {},
   "outputs": [
    {
     "data": {
      "image/png": "[encoded data removed]",
      "text/plain": [
       "<Figure size 432x288 with 1 Axes>"
      ]
     },
     "metadata": {
      "needs_background": "light"
     },
     "output_type": "display_data"
    }
   ],
   "source": [
    "sns.scatterplot(data = df_stats, x = \"itheta\", y = \"S_L_mean\", hue = \"length\", \n",
    "                size = \"nMC\", palette = analyzer.palette)\n",
    "plt.show()"
   ]
  },
  {
   "cell_type": "markdown",
   "id": "67a80b70-2b73-4d24-a901-3ad432eb0818",
   "metadata": {
    "tags": []
   },
   "source": [
    "### Xi_L"
   ]
  },
  {
   "cell_type": "code",
   "execution_count": 14,
   "id": "435f2dc1-8282-47bd-98cc-55337ef0ceb9",
   "metadata": {},
   "outputs": [
    {
     "data": {
      "image/png": "[encoded data removed]",
      "text/plain": [
       "<Figure size 432x288 with 1 Axes>"
      ]
     },
     "metadata": {
      "needs_background": "light"
     },
     "output_type": "display_data"
    }
   ],
   "source": [
    "sns.scatterplot(data = df_stats, x = \"itheta\", y = \"Xi_L_mean\", hue = \"length\", \n",
    "                size = \"nMC\", palette = analyzer.palette)\n",
    "plt.show()"
   ]
  },
  {
   "cell_type": "markdown",
   "id": "e66df175-1ae4-48db-a119-377641dce114",
   "metadata": {},
   "source": [
    "### F_L Re"
   ]
  },
  {
   "cell_type": "code",
   "execution_count": 15,
   "id": "3da01ab3-b714-4be5-831b-d26481da591b",
   "metadata": {},
   "outputs": [
    {
     "data": {
      "image/png": "[encoded data removed]",
      "text/plain": [
       "<Figure size 432x288 with 1 Axes>"
      ]
     },
     "metadata": {
      "needs_background": "light"
     },
     "output_type": "display_data"
    }
   ],
   "source": [
    "sns.scatterplot(data = df_stats, x = \"itheta\", y = \"F_LRe_mean\", hue = \"length\", \n",
    "                size = \"nMC\", palette = analyzer.palette)\n",
    "\n",
    "plt.show()"
   ]
  },
  {
   "cell_type": "code",
   "execution_count": 16,
   "id": "48b658e3-6d87-4f48-a63b-fc536cd79d8d",
   "metadata": {},
   "outputs": [
    {
     "data": {
      "text/html": [
       "<div>\n",
       "<style scoped>\n",
       "    .dataframe tbody tr th:only-of-type {\n",
       "        vertical-align: middle;\n",
       "    }\n",
       "\n",
       "    .dataframe tbody tr th {\n",
       "        vertical-align: top;\n",
       "    }\n",
       "\n",
       "    .dataframe thead th {\n",
       "        text-align: right;\n",
       "    }\n",
       "</style>\n",
       "<table border=\"1\" class=\"dataframe\">\n",
       "  <thead>\n",
       "    <tr style=\"text-align: right;\">\n",
       "      <th></th>\n",
       "      <th></th>\n",
       "      <th></th>\n",
       "      <th></th>\n",
       "      <th></th>\n",
       "      <th></th>\n",
       "      <th>F_L</th>\n",
       "    </tr>\n",
       "    <tr>\n",
       "      <th>length</th>\n",
       "      <th>itheta</th>\n",
       "      <th>beta</th>\n",
       "      <th>nMC</th>\n",
       "      <th>ntherm</th>\n",
       "      <th>Source</th>\n",
       "      <th></th>\n",
       "    </tr>\n",
       "  </thead>\n",
       "  <tbody>\n",
       "    <tr>\n",
       "      <th rowspan=\"5\" valign=\"top\">10.0</th>\n",
       "      <th rowspan=\"2\" valign=\"top\">0.000000</th>\n",
       "      <th rowspan=\"2\" valign=\"top\">1.6</th>\n",
       "      <th rowspan=\"2\" valign=\"top\">10000.0</th>\n",
       "      <th rowspan=\"2\" valign=\"top\">1000.0</th>\n",
       "      <th>C++</th>\n",
       "      <td>-3.112338</td>\n",
       "    </tr>\n",
       "    <tr>\n",
       "      <th>Python</th>\n",
       "      <td>-0.189068</td>\n",
       "    </tr>\n",
       "    <tr>\n",
       "      <th rowspan=\"2\" valign=\"top\">0.785398</th>\n",
       "      <th rowspan=\"2\" valign=\"top\">1.6</th>\n",
       "      <th rowspan=\"2\" valign=\"top\">10000.0</th>\n",
       "      <th rowspan=\"2\" valign=\"top\">1000.0</th>\n",
       "      <th>C++</th>\n",
       "      <td>1.477292</td>\n",
       "    </tr>\n",
       "    <tr>\n",
       "      <th>Python</th>\n",
       "      <td>0.198780</td>\n",
       "    </tr>\n",
       "    <tr>\n",
       "      <th>1.570796</th>\n",
       "      <th>1.6</th>\n",
       "      <th>10000.0</th>\n",
       "      <th>1000.0</th>\n",
       "      <th>C++</th>\n",
       "      <td>0.215351</td>\n",
       "    </tr>\n",
       "  </tbody>\n",
       "</table>\n",
       "</div>"
      ],
      "text/plain": [
       "                                                 F_L\n",
       "length itheta   beta nMC     ntherm Source          \n",
       "10.0   0.000000 1.6  10000.0 1000.0 C++    -3.112338\n",
       "                                    Python -0.189068\n",
       "       0.785398 1.6  10000.0 1000.0 C++     1.477292\n",
       "                                    Python  0.198780\n",
       "       1.570796 1.6  10000.0 1000.0 C++     0.215351"
      ]
     },
     "execution_count": 16,
     "metadata": {},
     "output_type": "execute_result"
    }
   ],
   "source": [
    "F_L_Re_df = df_stats.filter([\"F_LRe_mean\",\"F_Re_py_mean\"])\n",
    "F_L_Re_df.rename(columns = {\"F_LRe_mean\":\"C++\",\"F_Re_py_mean\":\"Python\"},inplace = True)\n",
    "F_L_Re_df.columns.name = 'Source'\n",
    "F_L_Im_df = df_stats.filter([\"F_LIm_mean\",\"F_Im_py_mean\"])\n",
    "F_L_Im_df.rename(columns = {\"F_LIm_mean\":\"C++\",\"F_Im_py_mean\":\"Python\"},inplace = True)\n",
    "F_L_Im_df.columns.name = 'Source'\n",
    "F_L_Re_df = F_L_Re_df.stack()\n",
    "F_L_Im_df = F_L_Im_df.stack()\n",
    "F_L_Re_df.name = \"F_L\"\n",
    "F_L_Re_df = F_L_Re_df.to_frame()\n",
    "F_L_Im_df.name = \"F_L\"\n",
    "F_L_Im_df = F_L_Im_df.to_frame()\n",
    "F_L_Im_df.head()"
   ]
  },
  {
   "cell_type": "code",
   "execution_count": 17,
   "id": "8452432b-4eb9-46bf-be1e-fe4ce542d92c",
   "metadata": {},
   "outputs": [],
   "source": [
    "F_L_df = F_L_Re_df.join(F_L_Im_df, lsuffix = \"_Re\", rsuffix = \"_Im\")"
   ]
  },
  {
   "cell_type": "code",
   "execution_count": 18,
   "id": "6a50f266-00a8-4d58-8961-00638760f5b0",
   "metadata": {},
   "outputs": [
    {
     "data": {
      "text/html": [
       "<div>\n",
       "<style scoped>\n",
       "    .dataframe tbody tr th:only-of-type {\n",
       "        vertical-align: middle;\n",
       "    }\n",
       "\n",
       "    .dataframe tbody tr th {\n",
       "        vertical-align: top;\n",
       "    }\n",
       "\n",
       "    .dataframe thead th {\n",
       "        text-align: right;\n",
       "    }\n",
       "</style>\n",
       "<table border=\"1\" class=\"dataframe\">\n",
       "  <thead>\n",
       "    <tr style=\"text-align: right;\">\n",
       "      <th></th>\n",
       "      <th></th>\n",
       "      <th></th>\n",
       "      <th></th>\n",
       "      <th></th>\n",
       "      <th></th>\n",
       "      <th>F_L_Re</th>\n",
       "      <th>F_L_Im</th>\n",
       "    </tr>\n",
       "    <tr>\n",
       "      <th>length</th>\n",
       "      <th>itheta</th>\n",
       "      <th>beta</th>\n",
       "      <th>nMC</th>\n",
       "      <th>ntherm</th>\n",
       "      <th>Source</th>\n",
       "      <th></th>\n",
       "      <th></th>\n",
       "    </tr>\n",
       "  </thead>\n",
       "  <tbody>\n",
       "    <tr>\n",
       "      <th rowspan=\"5\" valign=\"top\">10.0</th>\n",
       "      <th rowspan=\"2\" valign=\"top\">0.000000</th>\n",
       "      <th rowspan=\"2\" valign=\"top\">1.6</th>\n",
       "      <th rowspan=\"2\" valign=\"top\">10000.0</th>\n",
       "      <th rowspan=\"2\" valign=\"top\">1000.0</th>\n",
       "      <th>C++</th>\n",
       "      <td>1.692555</td>\n",
       "      <td>-3.112338</td>\n",
       "    </tr>\n",
       "    <tr>\n",
       "      <th>Python</th>\n",
       "      <td>0.373933</td>\n",
       "      <td>-0.189068</td>\n",
       "    </tr>\n",
       "    <tr>\n",
       "      <th rowspan=\"2\" valign=\"top\">0.785398</th>\n",
       "      <th rowspan=\"2\" valign=\"top\">1.6</th>\n",
       "      <th rowspan=\"2\" valign=\"top\">10000.0</th>\n",
       "      <th rowspan=\"2\" valign=\"top\">1000.0</th>\n",
       "      <th>C++</th>\n",
       "      <td>-0.033079</td>\n",
       "      <td>1.477292</td>\n",
       "    </tr>\n",
       "    <tr>\n",
       "      <th>Python</th>\n",
       "      <td>0.263159</td>\n",
       "      <td>0.198780</td>\n",
       "    </tr>\n",
       "    <tr>\n",
       "      <th>1.570796</th>\n",
       "      <th>1.6</th>\n",
       "      <th>10000.0</th>\n",
       "      <th>1000.0</th>\n",
       "      <th>C++</th>\n",
       "      <td>0.294422</td>\n",
       "      <td>0.215351</td>\n",
       "    </tr>\n",
       "  </tbody>\n",
       "</table>\n",
       "</div>"
      ],
      "text/plain": [
       "                                              F_L_Re    F_L_Im\n",
       "length itheta   beta nMC     ntherm Source                    \n",
       "10.0   0.000000 1.6  10000.0 1000.0 C++     1.692555 -3.112338\n",
       "                                    Python  0.373933 -0.189068\n",
       "       0.785398 1.6  10000.0 1000.0 C++    -0.033079  1.477292\n",
       "                                    Python  0.263159  0.198780\n",
       "       1.570796 1.6  10000.0 1000.0 C++     0.294422  0.215351"
      ]
     },
     "execution_count": 18,
     "metadata": {},
     "output_type": "execute_result"
    }
   ],
   "source": [
    "F_L_df.head()"
   ]
  },
  {
   "cell_type": "code",
   "execution_count": 19,
   "id": "891bed1a-d85a-42c7-959d-c6a28bfc8f46",
   "metadata": {},
   "outputs": [
    {
     "ename": "ValueError",
     "evalue": "The palette list has the wrong number of colors.",
     "output_type": "error",
     "traceback": [
      "\u001b[0;31m---------------------------------------------------------------------------\u001b[0m",
      "\u001b[0;31mValueError\u001b[0m                                Traceback (most recent call last)",
      "\u001b[0;32m/tmp/ipykernel_2150314/678011309.py\u001b[0m in \u001b[0;36m<module>\u001b[0;34m\u001b[0m\n\u001b[0;32m----> 1\u001b[0;31m sns.scatterplot(data = F_L_df, x = \"itheta\", y = \"F_L_Re\", hue = \"length\", \n\u001b[0m\u001b[1;32m      2\u001b[0m                 style = \"Source\", palette = sns.color_palette(\"Blues\", 3))\n\u001b[1;32m      3\u001b[0m \u001b[0mplt\u001b[0m\u001b[0;34m.\u001b[0m\u001b[0mshow\u001b[0m\u001b[0;34m(\u001b[0m\u001b[0;34m)\u001b[0m\u001b[0;34m\u001b[0m\u001b[0;34m\u001b[0m\u001b[0m\n",
      "\u001b[0;32m/opt/jupyterhub/lib/python3.8/site-packages/seaborn/_decorators.py\u001b[0m in \u001b[0;36minner_f\u001b[0;34m(*args, **kwargs)\u001b[0m\n\u001b[1;32m     44\u001b[0m             )\n\u001b[1;32m     45\u001b[0m         \u001b[0mkwargs\u001b[0m\u001b[0;34m.\u001b[0m\u001b[0mupdate\u001b[0m\u001b[0;34m(\u001b[0m\u001b[0;34m{\u001b[0m\u001b[0mk\u001b[0m\u001b[0;34m:\u001b[0m \u001b[0marg\u001b[0m \u001b[0;32mfor\u001b[0m \u001b[0mk\u001b[0m\u001b[0;34m,\u001b[0m \u001b[0marg\u001b[0m \u001b[0;32min\u001b[0m \u001b[0mzip\u001b[0m\u001b[0;34m(\u001b[0m\u001b[0msig\u001b[0m\u001b[0;34m.\u001b[0m\u001b[0mparameters\u001b[0m\u001b[0;34m,\u001b[0m \u001b[0margs\u001b[0m\u001b[0;34m)\u001b[0m\u001b[0;34m}\u001b[0m\u001b[0;34m)\u001b[0m\u001b[0;34m\u001b[0m\u001b[0;34m\u001b[0m\u001b[0m\n\u001b[0;32m---> 46\u001b[0;31m         \u001b[0;32mreturn\u001b[0m \u001b[0mf\u001b[0m\u001b[0;34m(\u001b[0m\u001b[0;34m**\u001b[0m\u001b[0mkwargs\u001b[0m\u001b[0;34m)\u001b[0m\u001b[0;34m\u001b[0m\u001b[0;34m\u001b[0m\u001b[0m\n\u001b[0m\u001b[1;32m     47\u001b[0m     \u001b[0;32mreturn\u001b[0m \u001b[0minner_f\u001b[0m\u001b[0;34m\u001b[0m\u001b[0;34m\u001b[0m\u001b[0m\n\u001b[1;32m     48\u001b[0m \u001b[0;34m\u001b[0m\u001b[0m\n",
      "\u001b[0;32m/opt/jupyterhub/lib/python3.8/site-packages/seaborn/relational.py\u001b[0m in \u001b[0;36mscatterplot\u001b[0;34m(x, y, hue, style, size, data, palette, hue_order, hue_norm, sizes, size_order, size_norm, markers, style_order, x_bins, y_bins, units, estimator, ci, n_boot, alpha, x_jitter, y_jitter, legend, ax, **kwargs)\u001b[0m\n\u001b[1;32m    813\u001b[0m     )\n\u001b[1;32m    814\u001b[0m \u001b[0;34m\u001b[0m\u001b[0m\n\u001b[0;32m--> 815\u001b[0;31m     \u001b[0mp\u001b[0m\u001b[0;34m.\u001b[0m\u001b[0mmap_hue\u001b[0m\u001b[0;34m(\u001b[0m\u001b[0mpalette\u001b[0m\u001b[0;34m=\u001b[0m\u001b[0mpalette\u001b[0m\u001b[0;34m,\u001b[0m \u001b[0morder\u001b[0m\u001b[0;34m=\u001b[0m\u001b[0mhue_order\u001b[0m\u001b[0;34m,\u001b[0m \u001b[0mnorm\u001b[0m\u001b[0;34m=\u001b[0m\u001b[0mhue_norm\u001b[0m\u001b[0;34m)\u001b[0m\u001b[0;34m\u001b[0m\u001b[0;34m\u001b[0m\u001b[0m\n\u001b[0m\u001b[1;32m    816\u001b[0m     \u001b[0mp\u001b[0m\u001b[0;34m.\u001b[0m\u001b[0mmap_size\u001b[0m\u001b[0;34m(\u001b[0m\u001b[0msizes\u001b[0m\u001b[0;34m=\u001b[0m\u001b[0msizes\u001b[0m\u001b[0;34m,\u001b[0m \u001b[0morder\u001b[0m\u001b[0;34m=\u001b[0m\u001b[0msize_order\u001b[0m\u001b[0;34m,\u001b[0m \u001b[0mnorm\u001b[0m\u001b[0;34m=\u001b[0m\u001b[0msize_norm\u001b[0m\u001b[0;34m)\u001b[0m\u001b[0;34m\u001b[0m\u001b[0;34m\u001b[0m\u001b[0m\n\u001b[1;32m    817\u001b[0m     \u001b[0mp\u001b[0m\u001b[0;34m.\u001b[0m\u001b[0mmap_style\u001b[0m\u001b[0;34m(\u001b[0m\u001b[0mmarkers\u001b[0m\u001b[0;34m=\u001b[0m\u001b[0mmarkers\u001b[0m\u001b[0;34m,\u001b[0m \u001b[0morder\u001b[0m\u001b[0;34m=\u001b[0m\u001b[0mstyle_order\u001b[0m\u001b[0;34m)\u001b[0m\u001b[0;34m\u001b[0m\u001b[0;34m\u001b[0m\u001b[0m\n",
      "\u001b[0;32m/opt/jupyterhub/lib/python3.8/site-packages/seaborn/_core.py\u001b[0m in \u001b[0;36mmap\u001b[0;34m(cls, plotter, *args, **kwargs)\u001b[0m\n\u001b[1;32m     51\u001b[0m         \u001b[0;31m# This method is assigned the __init__ docstring\u001b[0m\u001b[0;34m\u001b[0m\u001b[0;34m\u001b[0m\u001b[0;34m\u001b[0m\u001b[0m\n\u001b[1;32m     52\u001b[0m         \u001b[0mmethod_name\u001b[0m \u001b[0;34m=\u001b[0m \u001b[0;34m\"_{}_map\"\u001b[0m\u001b[0;34m.\u001b[0m\u001b[0mformat\u001b[0m\u001b[0;34m(\u001b[0m\u001b[0mcls\u001b[0m\u001b[0;34m.\u001b[0m\u001b[0m__name__\u001b[0m\u001b[0;34m[\u001b[0m\u001b[0;34m:\u001b[0m\u001b[0;34m-\u001b[0m\u001b[0;36m7\u001b[0m\u001b[0;34m]\u001b[0m\u001b[0;34m.\u001b[0m\u001b[0mlower\u001b[0m\u001b[0;34m(\u001b[0m\u001b[0;34m)\u001b[0m\u001b[0;34m)\u001b[0m\u001b[0;34m\u001b[0m\u001b[0;34m\u001b[0m\u001b[0m\n\u001b[0;32m---> 53\u001b[0;31m         \u001b[0msetattr\u001b[0m\u001b[0;34m(\u001b[0m\u001b[0mplotter\u001b[0m\u001b[0;34m,\u001b[0m \u001b[0mmethod_name\u001b[0m\u001b[0;34m,\u001b[0m \u001b[0mcls\u001b[0m\u001b[0;34m(\u001b[0m\u001b[0mplotter\u001b[0m\u001b[0;34m,\u001b[0m \u001b[0;34m*\u001b[0m\u001b[0margs\u001b[0m\u001b[0;34m,\u001b[0m \u001b[0;34m**\u001b[0m\u001b[0mkwargs\u001b[0m\u001b[0;34m)\u001b[0m\u001b[0;34m)\u001b[0m\u001b[0;34m\u001b[0m\u001b[0;34m\u001b[0m\u001b[0m\n\u001b[0m\u001b[1;32m     54\u001b[0m         \u001b[0;32mreturn\u001b[0m \u001b[0mplotter\u001b[0m\u001b[0;34m\u001b[0m\u001b[0;34m\u001b[0m\u001b[0m\n\u001b[1;32m     55\u001b[0m \u001b[0;34m\u001b[0m\u001b[0m\n",
      "\u001b[0;32m/opt/jupyterhub/lib/python3.8/site-packages/seaborn/_core.py\u001b[0m in \u001b[0;36m__init__\u001b[0;34m(self, plotter, palette, order, norm)\u001b[0m\n\u001b[1;32m    116\u001b[0m \u001b[0;34m\u001b[0m\u001b[0m\n\u001b[1;32m    117\u001b[0m                 \u001b[0mcmap\u001b[0m \u001b[0;34m=\u001b[0m \u001b[0mnorm\u001b[0m \u001b[0;34m=\u001b[0m \u001b[0;32mNone\u001b[0m\u001b[0;34m\u001b[0m\u001b[0;34m\u001b[0m\u001b[0m\n\u001b[0;32m--> 118\u001b[0;31m                 levels, lookup_table = self.categorical_mapping(\n\u001b[0m\u001b[1;32m    119\u001b[0m                     \u001b[0mdata\u001b[0m\u001b[0;34m,\u001b[0m \u001b[0mpalette\u001b[0m\u001b[0;34m,\u001b[0m \u001b[0morder\u001b[0m\u001b[0;34m,\u001b[0m\u001b[0;34m\u001b[0m\u001b[0;34m\u001b[0m\u001b[0m\n\u001b[1;32m    120\u001b[0m                 )\n",
      "\u001b[0;32m/opt/jupyterhub/lib/python3.8/site-packages/seaborn/_core.py\u001b[0m in \u001b[0;36mcategorical_mapping\u001b[0;34m(self, data, palette, order)\u001b[0m\n\u001b[1;32m    202\u001b[0m                 \u001b[0;32mif\u001b[0m \u001b[0mlen\u001b[0m\u001b[0;34m(\u001b[0m\u001b[0mpalette\u001b[0m\u001b[0;34m)\u001b[0m \u001b[0;34m!=\u001b[0m \u001b[0mn_colors\u001b[0m\u001b[0;34m:\u001b[0m\u001b[0;34m\u001b[0m\u001b[0;34m\u001b[0m\u001b[0m\n\u001b[1;32m    203\u001b[0m                     \u001b[0merr\u001b[0m \u001b[0;34m=\u001b[0m \u001b[0;34m\"The palette list has the wrong number of colors.\"\u001b[0m\u001b[0;34m\u001b[0m\u001b[0;34m\u001b[0m\u001b[0m\n\u001b[0;32m--> 204\u001b[0;31m                     \u001b[0;32mraise\u001b[0m \u001b[0mValueError\u001b[0m\u001b[0;34m(\u001b[0m\u001b[0merr\u001b[0m\u001b[0;34m)\u001b[0m\u001b[0;34m\u001b[0m\u001b[0;34m\u001b[0m\u001b[0m\n\u001b[0m\u001b[1;32m    205\u001b[0m                 \u001b[0mcolors\u001b[0m \u001b[0;34m=\u001b[0m \u001b[0mpalette\u001b[0m\u001b[0;34m\u001b[0m\u001b[0;34m\u001b[0m\u001b[0m\n\u001b[1;32m    206\u001b[0m             \u001b[0;32melse\u001b[0m\u001b[0;34m:\u001b[0m\u001b[0;34m\u001b[0m\u001b[0;34m\u001b[0m\u001b[0m\n",
      "\u001b[0;31mValueError\u001b[0m: The palette list has the wrong number of colors."
     ]
    }
   ],
   "source": [
    "sns.scatterplot(data = F_L_df, x = \"itheta\", y = \"F_L_Re\", hue = \"length\", \n",
    "                style = \"Source\", palette = sns.color_palette(\"Blues\", 3))\n",
    "plt.show()"
   ]
  },
  {
   "cell_type": "code",
   "execution_count": null,
   "id": "3e9b87d1-6c2b-4371-b5e4-6e371404c693",
   "metadata": {},
   "outputs": [],
   "source": [
    "sns.scatterplot(data = F_L_df, x = \"itheta\", y = \"F_L_Im\", hue = \"length\", \n",
    "                style = \"Source\", palette = sns.color_palette(\"Reds\", 3))\n",
    "plt.show()"
   ]
  },
  {
   "cell_type": "markdown",
   "id": "59c341e8-446c-483b-af37-b0a3875ea618",
   "metadata": {},
   "source": [
    "## Correlation Length"
   ]
  },
  {
   "cell_type": "code",
   "execution_count": null,
   "id": "bd0b6475-1281-4891-9db4-870c1bdd0886",
   "metadata": {},
   "outputs": [],
   "source": [
    "sns.scatterplot(data = df_stats, x = \"itheta\", y = \"corr_length_Re_mean\", hue = \"length\", \n",
    "                size = \"nMC\", palette = analyzer.palette)\n",
    "\n",
    "plt.show()"
   ]
  },
  {
   "cell_type": "markdown",
   "id": "0ebfa44f-00c7-4879-9eee-622e74ed513d",
   "metadata": {},
   "source": [
    "### Mass Gap"
   ]
  },
  {
   "cell_type": "code",
   "execution_count": null,
   "id": "eeee1fb8-512e-40b9-982d-197e47b583a8",
   "metadata": {},
   "outputs": [],
   "source": [
    "sns.scatterplot(data = df_stats, x = \"itheta\", y = \"mass_gap_Re_mean\", hue = \"length\", \n",
    "                size = \"nMC\", palette = analyzer.palette)\n",
    "\n",
    "plt.show()"
   ]
  }
 ],
 "metadata": {
  "kernelspec": {
   "display_name": "Python 3 (ipykernel)",
   "language": "python",
   "name": "python3"
  },
  "language_info": {
   "codemirror_mode": {
    "name": "ipython",
    "version": 3
   },
   "file_extension": ".py",
   "mimetype": "text/x-python",
   "name": "python",
   "nbconvert_exporter": "python",
   "pygments_lexer": "ipython3",
   "version": "3.8.10"
  }
 },
 "nbformat": 4,
 "nbformat_minor": 5
}
