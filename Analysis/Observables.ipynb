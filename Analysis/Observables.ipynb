{
 "cells": [
  {
   "cell_type": "code",
   "execution_count": 1,
   "id": "1d6672c5-0a61-45f8-803a-28812a4a9aca",
   "metadata": {},
   "outputs": [],
   "source": [
    "import os\n",
    "import numpy as np\n",
    "import pandas as pd\n",
    "import matplotlib.pyplot as plt\n",
    "import seaborn as sns\n",
    "from LatticeData import *"
   ]
  },
  {
   "cell_type": "markdown",
   "id": "09a42030-1f13-4783-9853-f1459b51f90e",
   "metadata": {},
   "source": [
    "# Create analyzer - instantiate class"
   ]
  },
  {
   "cell_type": "code",
   "execution_count": 2,
   "id": "3a8f83a8-69c3-4a84-913c-2a280a8f6ad2",
   "metadata": {},
   "outputs": [],
   "source": [
    "analysis_data_filepath = \"/project/pi_cberger_smith_edu/nlsigma_data/\"\n",
    "source_data_filepath = \"/work/pi_cberger_smith_edu/data_QL_L180/\"\n",
    "analyzer = LatticeData(datadir = analysis_data_filepath, use_full_filepath = True)"
   ]
  },
  {
   "cell_type": "markdown",
   "id": "1ebdc7d7-f864-4e6c-a503-972ba1713290",
   "metadata": {},
   "source": [
    "## Collect Data"
   ]
  },
  {
   "cell_type": "code",
   "execution_count": 6,
   "id": "2e111867-1759-4432-b15e-53e483a40031",
   "metadata": {},
   "outputs": [
    {
     "name": "stdout",
     "output_type": "stream",
     "text": [
      "run not yet complete\n",
      "L_180_beta_1.600000_itheta_0.000000_ntherm_0_nMC_10000_freq_1\n",
      "Status: 5022 lines written\n",
      "run not yet complete\n",
      "L_180_beta_1.600000_itheta_0.392699_ntherm_0_nMC_10000_freq_1\n",
      "Status: 123 lines written\n",
      "run not yet complete\n",
      "L_180_beta_1.600000_itheta_0.785398_ntherm_0_nMC_10000_freq_1\n",
      "Status: 39 lines written\n",
      "run not yet complete\n",
      "L_180_beta_1.600000_itheta_1.570796_ntherm_0_nMC_10000_freq_1\n",
      "Status: 5191 lines written\n",
      "run not yet complete\n",
      "L_180_beta_1.600000_itheta_2.356194_ntherm_0_nMC_10000_freq_1\n",
      "Status: 4110 lines written\n",
      "run not yet complete\n",
      "L_180_beta_1.600000_itheta_2.748894_ntherm_0_nMC_10000_freq_1\n",
      "Status: 4067 lines written\n",
      "run not yet complete\n",
      "L_180_beta_1.600000_itheta_3.534292_ntherm_0_nMC_10000_freq_1\n",
      "Status: 3900 lines written\n"
     ]
    }
   ],
   "source": [
    "analyzer.copy_data_from_directory(source_data_filepath)"
   ]
  },
  {
   "cell_type": "markdown",
   "id": "61491e67-091b-4173-95a6-06f977afcaeb",
   "metadata": {
    "tags": []
   },
   "source": [
    "## Basic statistics"
   ]
  },
  {
   "cell_type": "code",
   "execution_count": 7,
   "id": "b5680445-d9ea-4940-8252-3123e99b66ca",
   "metadata": {},
   "outputs": [],
   "source": [
    "df = analyzer.get_data()"
   ]
  },
  {
   "cell_type": "code",
   "execution_count": 8,
   "id": "131ea67c-88cf-4480-981c-e6d306ab0665",
   "metadata": {},
   "outputs": [
    {
     "data": {
      "text/html": [
       "<div>\n",
       "<style scoped>\n",
       "    .dataframe tbody tr th:only-of-type {\n",
       "        vertical-align: middle;\n",
       "    }\n",
       "\n",
       "    .dataframe tbody tr th {\n",
       "        vertical-align: top;\n",
       "    }\n",
       "\n",
       "    .dataframe thead th {\n",
       "        text-align: right;\n",
       "    }\n",
       "</style>\n",
       "<table border=\"1\" class=\"dataframe\">\n",
       "  <thead>\n",
       "    <tr style=\"text-align: right;\">\n",
       "      <th></th>\n",
       "      <th>step</th>\n",
       "      <th>|phi|</th>\n",
       "      <th>Q_L</th>\n",
       "      <th>A_L</th>\n",
       "      <th>S_L</th>\n",
       "      <th>Xi_L</th>\n",
       "      <th>F_LRe</th>\n",
       "      <th>F_LIm</th>\n",
       "      <th>acc</th>\n",
       "      <th>dt</th>\n",
       "      <th>...</th>\n",
       "      <th>Q_L_ta</th>\n",
       "      <th>A_L_ta</th>\n",
       "      <th>S_L_ta</th>\n",
       "      <th>Xi_L_ta</th>\n",
       "      <th>corr_length_Re</th>\n",
       "      <th>corr_length_Im</th>\n",
       "      <th>F_Re_py</th>\n",
       "      <th>F_Im_py</th>\n",
       "      <th>mass_gap_Re</th>\n",
       "      <th>mass_gap_Im</th>\n",
       "    </tr>\n",
       "  </thead>\n",
       "  <tbody>\n",
       "    <tr>\n",
       "      <th>0</th>\n",
       "      <td>0</td>\n",
       "      <td>32400.0</td>\n",
       "      <td>203.0</td>\n",
       "      <td>-31701.860263</td>\n",
       "      <td>-31941.014004</td>\n",
       "      <td>-0.003313</td>\n",
       "      <td>0.004017</td>\n",
       "      <td>-0.000656</td>\n",
       "      <td>0.659568</td>\n",
       "      <td>8.0</td>\n",
       "      <td>...</td>\n",
       "      <td>490</td>\n",
       "      <td>755</td>\n",
       "      <td>755</td>\n",
       "      <td>1</td>\n",
       "      <td>0.629697</td>\n",
       "      <td>4.491934</td>\n",
       "      <td>0.127075</td>\n",
       "      <td>0.036342</td>\n",
       "      <td>0.030606</td>\n",
       "      <td>-0.218331</td>\n",
       "    </tr>\n",
       "    <tr>\n",
       "      <th>1</th>\n",
       "      <td>1</td>\n",
       "      <td>32400.0</td>\n",
       "      <td>231.0</td>\n",
       "      <td>-40504.294619</td>\n",
       "      <td>-40776.435083</td>\n",
       "      <td>-0.004435</td>\n",
       "      <td>0.004017</td>\n",
       "      <td>-0.000656</td>\n",
       "      <td>0.583642</td>\n",
       "      <td>16.0</td>\n",
       "      <td>...</td>\n",
       "      <td>490</td>\n",
       "      <td>755</td>\n",
       "      <td>755</td>\n",
       "      <td>1</td>\n",
       "      <td>0.728564</td>\n",
       "      <td>5.197200</td>\n",
       "      <td>0.127075</td>\n",
       "      <td>0.036342</td>\n",
       "      <td>0.026453</td>\n",
       "      <td>-0.188703</td>\n",
       "    </tr>\n",
       "    <tr>\n",
       "      <th>2</th>\n",
       "      <td>2</td>\n",
       "      <td>32400.0</td>\n",
       "      <td>240.0</td>\n",
       "      <td>-46005.836939</td>\n",
       "      <td>-46288.580278</td>\n",
       "      <td>-0.004663</td>\n",
       "      <td>0.004017</td>\n",
       "      <td>-0.000656</td>\n",
       "      <td>0.537346</td>\n",
       "      <td>24.0</td>\n",
       "      <td>...</td>\n",
       "      <td>490</td>\n",
       "      <td>755</td>\n",
       "      <td>755</td>\n",
       "      <td>1</td>\n",
       "      <td>0.747056</td>\n",
       "      <td>5.329118</td>\n",
       "      <td>0.127075</td>\n",
       "      <td>0.036342</td>\n",
       "      <td>0.025798</td>\n",
       "      <td>-0.184032</td>\n",
       "    </tr>\n",
       "    <tr>\n",
       "      <th>3</th>\n",
       "      <td>3</td>\n",
       "      <td>32400.0</td>\n",
       "      <td>207.0</td>\n",
       "      <td>-49547.906429</td>\n",
       "      <td>-49791.772559</td>\n",
       "      <td>-0.005438</td>\n",
       "      <td>0.004017</td>\n",
       "      <td>-0.000656</td>\n",
       "      <td>0.503372</td>\n",
       "      <td>31.0</td>\n",
       "      <td>...</td>\n",
       "      <td>490</td>\n",
       "      <td>755</td>\n",
       "      <td>755</td>\n",
       "      <td>1</td>\n",
       "      <td>0.806752</td>\n",
       "      <td>5.754959</td>\n",
       "      <td>0.127075</td>\n",
       "      <td>0.036342</td>\n",
       "      <td>0.023889</td>\n",
       "      <td>-0.170414</td>\n",
       "    </tr>\n",
       "    <tr>\n",
       "      <th>4</th>\n",
       "      <td>4</td>\n",
       "      <td>32400.0</td>\n",
       "      <td>200.0</td>\n",
       "      <td>-51880.687218</td>\n",
       "      <td>-52116.306667</td>\n",
       "      <td>-0.006818</td>\n",
       "      <td>0.004017</td>\n",
       "      <td>-0.000656</td>\n",
       "      <td>0.477611</td>\n",
       "      <td>39.0</td>\n",
       "      <td>...</td>\n",
       "      <td>490</td>\n",
       "      <td>755</td>\n",
       "      <td>755</td>\n",
       "      <td>1</td>\n",
       "      <td>0.903336</td>\n",
       "      <td>6.443934</td>\n",
       "      <td>0.127075</td>\n",
       "      <td>0.036342</td>\n",
       "      <td>0.021335</td>\n",
       "      <td>-0.152194</td>\n",
       "    </tr>\n",
       "  </tbody>\n",
       "</table>\n",
       "<p>5 rows × 26 columns</p>\n",
       "</div>"
      ],
      "text/plain": [
       "   step    |phi|    Q_L           A_L           S_L      Xi_L     F_LRe  \\\n",
       "0     0  32400.0  203.0 -31701.860263 -31941.014004 -0.003313  0.004017   \n",
       "1     1  32400.0  231.0 -40504.294619 -40776.435083 -0.004435  0.004017   \n",
       "2     2  32400.0  240.0 -46005.836939 -46288.580278 -0.004663  0.004017   \n",
       "3     3  32400.0  207.0 -49547.906429 -49791.772559 -0.005438  0.004017   \n",
       "4     4  32400.0  200.0 -51880.687218 -52116.306667 -0.006818  0.004017   \n",
       "\n",
       "      F_LIm       acc    dt  ...  Q_L_ta  A_L_ta  S_L_ta  Xi_L_ta  \\\n",
       "0 -0.000656  0.659568   8.0  ...     490     755     755        1   \n",
       "1 -0.000656  0.583642  16.0  ...     490     755     755        1   \n",
       "2 -0.000656  0.537346  24.0  ...     490     755     755        1   \n",
       "3 -0.000656  0.503372  31.0  ...     490     755     755        1   \n",
       "4 -0.000656  0.477611  39.0  ...     490     755     755        1   \n",
       "\n",
       "   corr_length_Re  corr_length_Im   F_Re_py   F_Im_py  mass_gap_Re  \\\n",
       "0        0.629697        4.491934  0.127075  0.036342     0.030606   \n",
       "1        0.728564        5.197200  0.127075  0.036342     0.026453   \n",
       "2        0.747056        5.329118  0.127075  0.036342     0.025798   \n",
       "3        0.806752        5.754959  0.127075  0.036342     0.023889   \n",
       "4        0.903336        6.443934  0.127075  0.036342     0.021335   \n",
       "\n",
       "   mass_gap_Im  \n",
       "0    -0.218331  \n",
       "1    -0.188703  \n",
       "2    -0.184032  \n",
       "3    -0.170414  \n",
       "4    -0.152194  \n",
       "\n",
       "[5 rows x 26 columns]"
      ]
     },
     "execution_count": 8,
     "metadata": {},
     "output_type": "execute_result"
    }
   ],
   "source": [
    "df.head()"
   ]
  },
  {
   "cell_type": "code",
   "execution_count": 9,
   "id": "07380ff5-4fd2-477a-ab7b-0cbf5d9e2d70",
   "metadata": {},
   "outputs": [
    {
     "data": {
      "text/plain": [
       "array([1.178097, 1.963495, 3.141593])"
      ]
     },
     "execution_count": 9,
     "metadata": {},
     "output_type": "execute_result"
    }
   ],
   "source": [
    "df[\"itheta\"].unique()"
   ]
  },
  {
   "cell_type": "code",
   "execution_count": 10,
   "id": "e3021073-d9cf-439c-868e-03a551f561aa",
   "metadata": {},
   "outputs": [],
   "source": [
    "df_stats = analyzer.do_stats(therm = 0)"
   ]
  },
  {
   "cell_type": "code",
   "execution_count": 11,
   "id": "8edfccd0-b085-4f72-847c-787a48a1503a",
   "metadata": {},
   "outputs": [
    {
     "data": {
      "text/html": [
       "<div>\n",
       "<style scoped>\n",
       "    .dataframe tbody tr th:only-of-type {\n",
       "        vertical-align: middle;\n",
       "    }\n",
       "\n",
       "    .dataframe tbody tr th {\n",
       "        vertical-align: top;\n",
       "    }\n",
       "\n",
       "    .dataframe thead th {\n",
       "        text-align: right;\n",
       "    }\n",
       "</style>\n",
       "<table border=\"1\" class=\"dataframe\">\n",
       "  <thead>\n",
       "    <tr style=\"text-align: right;\">\n",
       "      <th></th>\n",
       "      <th>length</th>\n",
       "      <th>itheta</th>\n",
       "      <th>beta</th>\n",
       "      <th>nMC</th>\n",
       "      <th>ntherm</th>\n",
       "      <th>freq</th>\n",
       "      <th>|phi|_mean</th>\n",
       "      <th>Q_L_mean</th>\n",
       "      <th>A_L_mean</th>\n",
       "      <th>S_L_mean</th>\n",
       "      <th>...</th>\n",
       "      <th>acc_std</th>\n",
       "      <th>corr_length_Re_std</th>\n",
       "      <th>corr_length_Im_std</th>\n",
       "      <th>F_Re_py_std</th>\n",
       "      <th>F_Im_py_std</th>\n",
       "      <th>mass_gap_Re_std</th>\n",
       "      <th>mass_gap_Im_std</th>\n",
       "      <th>time (sec)</th>\n",
       "      <th>time (min)</th>\n",
       "      <th>time (hr)</th>\n",
       "    </tr>\n",
       "  </thead>\n",
       "  <tbody>\n",
       "    <tr>\n",
       "      <th>0</th>\n",
       "      <td>180.0</td>\n",
       "      <td>1.178097</td>\n",
       "      <td>1.6</td>\n",
       "      <td>10000.0</td>\n",
       "      <td>0.0</td>\n",
       "      <td>1.0</td>\n",
       "      <td>32400.0</td>\n",
       "      <td>13.6395</td>\n",
       "      <td>-66950.198127</td>\n",
       "      <td>-66966.266785</td>\n",
       "      <td>...</td>\n",
       "      <td>0.010374</td>\n",
       "      <td>0.428173</td>\n",
       "      <td>3.054366</td>\n",
       "      <td>0.0</td>\n",
       "      <td>0.0</td>\n",
       "      <td>0.002307</td>\n",
       "      <td>0.016454</td>\n",
       "      <td>75404.0</td>\n",
       "      <td>1256.733333</td>\n",
       "      <td>20.945556</td>\n",
       "    </tr>\n",
       "    <tr>\n",
       "      <th>1</th>\n",
       "      <td>180.0</td>\n",
       "      <td>1.963495</td>\n",
       "      <td>1.6</td>\n",
       "      <td>10000.0</td>\n",
       "      <td>0.0</td>\n",
       "      <td>1.0</td>\n",
       "      <td>32400.0</td>\n",
       "      <td>29.7850</td>\n",
       "      <td>-66774.747461</td>\n",
       "      <td>-66833.230171</td>\n",
       "      <td>...</td>\n",
       "      <td>0.010415</td>\n",
       "      <td>0.006082</td>\n",
       "      <td>2.727224</td>\n",
       "      <td>0.0</td>\n",
       "      <td>0.0</td>\n",
       "      <td>0.000025</td>\n",
       "      <td>0.011288</td>\n",
       "      <td>91077.0</td>\n",
       "      <td>1517.950000</td>\n",
       "      <td>25.299167</td>\n",
       "    </tr>\n",
       "    <tr>\n",
       "      <th>2</th>\n",
       "      <td>180.0</td>\n",
       "      <td>3.141593</td>\n",
       "      <td>1.6</td>\n",
       "      <td>10000.0</td>\n",
       "      <td>0.0</td>\n",
       "      <td>1.0</td>\n",
       "      <td>32400.0</td>\n",
       "      <td>74.0504</td>\n",
       "      <td>-66268.850435</td>\n",
       "      <td>-66501.486628</td>\n",
       "      <td>...</td>\n",
       "      <td>0.010345</td>\n",
       "      <td>5.070743</td>\n",
       "      <td>2.152973</td>\n",
       "      <td>0.0</td>\n",
       "      <td>0.0</td>\n",
       "      <td>0.007030</td>\n",
       "      <td>0.003402</td>\n",
       "      <td>74440.0</td>\n",
       "      <td>1240.666667</td>\n",
       "      <td>20.677778</td>\n",
       "    </tr>\n",
       "  </tbody>\n",
       "</table>\n",
       "<p>3 rows × 41 columns</p>\n",
       "</div>"
      ],
      "text/plain": [
       "   length    itheta  beta      nMC  ntherm  freq  |phi|_mean  Q_L_mean  \\\n",
       "0   180.0  1.178097   1.6  10000.0     0.0   1.0     32400.0   13.6395   \n",
       "1   180.0  1.963495   1.6  10000.0     0.0   1.0     32400.0   29.7850   \n",
       "2   180.0  3.141593   1.6  10000.0     0.0   1.0     32400.0   74.0504   \n",
       "\n",
       "       A_L_mean      S_L_mean  ...   acc_std  corr_length_Re_std  \\\n",
       "0 -66950.198127 -66966.266785  ...  0.010374            0.428173   \n",
       "1 -66774.747461 -66833.230171  ...  0.010415            0.006082   \n",
       "2 -66268.850435 -66501.486628  ...  0.010345            5.070743   \n",
       "\n",
       "   corr_length_Im_std  F_Re_py_std  F_Im_py_std  mass_gap_Re_std  \\\n",
       "0            3.054366          0.0          0.0         0.002307   \n",
       "1            2.727224          0.0          0.0         0.000025   \n",
       "2            2.152973          0.0          0.0         0.007030   \n",
       "\n",
       "   mass_gap_Im_std  time (sec)   time (min)  time (hr)  \n",
       "0         0.016454     75404.0  1256.733333  20.945556  \n",
       "1         0.011288     91077.0  1517.950000  25.299167  \n",
       "2         0.003402     74440.0  1240.666667  20.677778  \n",
       "\n",
       "[3 rows x 41 columns]"
      ]
     },
     "execution_count": 11,
     "metadata": {},
     "output_type": "execute_result"
    }
   ],
   "source": [
    "df_stats.head()"
   ]
  },
  {
   "cell_type": "markdown",
   "id": "450dedbf-c013-454d-8b7b-3188b0bf4e24",
   "metadata": {
    "tags": []
   },
   "source": [
    "# Observable quick plots (seaborn)"
   ]
  },
  {
   "cell_type": "markdown",
   "id": "f039e1f0-401c-4780-91dd-a9703d1f0160",
   "metadata": {
    "tags": []
   },
   "source": [
    "### Q_L"
   ]
  },
  {
   "cell_type": "code",
   "execution_count": 12,
   "id": "a295b6a4-a23e-4c19-a67f-821c68ecd878",
   "metadata": {},
   "outputs": [
    {
     "data": {
      "image/png": "[encoded data removed]",
      "text/plain": [
       "<Figure size 640x480 with 1 Axes>"
      ]
     },
     "metadata": {},
     "output_type": "display_data"
    }
   ],
   "source": [
    "sns.scatterplot(data = df_stats, x = \"itheta\", y = \"Q_L_mean\", hue = \"length\", \n",
    "                size = \"nMC\", palette = analyzer.palette)\n",
    "plt.show()"
   ]
  },
  {
   "cell_type": "markdown",
   "id": "a51a9bbb-a788-4d6f-8707-e0037e0af205",
   "metadata": {
    "tags": []
   },
   "source": [
    "### S_L"
   ]
  },
  {
   "cell_type": "code",
   "execution_count": 13,
   "id": "2611a9d2-3b7f-4397-b606-a1aac07ec493",
   "metadata": {},
   "outputs": [
    {
     "data": {
      "image/png": "[encoded data removed]",
      "text/plain": [
       "<Figure size 640x480 with 1 Axes>"
      ]
     },
     "metadata": {},
     "output_type": "display_data"
    }
   ],
   "source": [
    "sns.scatterplot(data = df_stats, x = \"itheta\", y = \"S_L_mean\", hue = \"length\", \n",
    "                size = \"nMC\", palette = analyzer.palette)\n",
    "plt.show()"
   ]
  },
  {
   "cell_type": "markdown",
   "id": "67a80b70-2b73-4d24-a901-3ad432eb0818",
   "metadata": {
    "tags": []
   },
   "source": [
    "### Xi_L"
   ]
  },
  {
   "cell_type": "code",
   "execution_count": 14,
   "id": "435f2dc1-8282-47bd-98cc-55337ef0ceb9",
   "metadata": {},
   "outputs": [
    {
     "data": {
      "image/png": "[encoded data removed]",
      "text/plain": [
       "<Figure size 640x480 with 1 Axes>"
      ]
     },
     "metadata": {},
     "output_type": "display_data"
    }
   ],
   "source": [
    "sns.scatterplot(data = df_stats, x = \"itheta\", y = \"Xi_L_mean\", hue = \"length\", \n",
    "                size = \"nMC\", palette = analyzer.palette)\n",
    "plt.show()"
   ]
  },
  {
   "cell_type": "markdown",
   "id": "e66df175-1ae4-48db-a119-377641dce114",
   "metadata": {},
   "source": [
    "### F_L Re"
   ]
  },
  {
   "cell_type": "code",
   "execution_count": 15,
   "id": "3da01ab3-b714-4be5-831b-d26481da591b",
   "metadata": {},
   "outputs": [
    {
     "data": {
      "image/png": "[encoded data removed]",
      "text/plain": [
       "<Figure size 640x480 with 1 Axes>"
      ]
     },
     "metadata": {},
     "output_type": "display_data"
    }
   ],
   "source": [
    "sns.scatterplot(data = df_stats, x = \"itheta\", y = \"F_LRe_mean\", hue = \"length\", \n",
    "                size = \"nMC\", palette = analyzer.palette)\n",
    "\n",
    "plt.show()"
   ]
  },
  {
   "cell_type": "code",
   "execution_count": 16,
   "id": "48b658e3-6d87-4f48-a63b-fc536cd79d8d",
   "metadata": {},
   "outputs": [
    {
     "data": {
      "text/html": [
       "<div>\n",
       "<style scoped>\n",
       "    .dataframe tbody tr th:only-of-type {\n",
       "        vertical-align: middle;\n",
       "    }\n",
       "\n",
       "    .dataframe tbody tr th {\n",
       "        vertical-align: top;\n",
       "    }\n",
       "\n",
       "    .dataframe thead th {\n",
       "        text-align: right;\n",
       "    }\n",
       "</style>\n",
       "<table border=\"1\" class=\"dataframe\">\n",
       "  <thead>\n",
       "    <tr style=\"text-align: right;\">\n",
       "      <th></th>\n",
       "      <th></th>\n",
       "      <th>F_L</th>\n",
       "    </tr>\n",
       "    <tr>\n",
       "      <th></th>\n",
       "      <th>Source</th>\n",
       "      <th></th>\n",
       "    </tr>\n",
       "  </thead>\n",
       "  <tbody>\n",
       "    <tr>\n",
       "      <th rowspan=\"2\" valign=\"top\">0</th>\n",
       "      <th>C++</th>\n",
       "      <td>-0.000656</td>\n",
       "    </tr>\n",
       "    <tr>\n",
       "      <th>Python</th>\n",
       "      <td>0.036342</td>\n",
       "    </tr>\n",
       "    <tr>\n",
       "      <th rowspan=\"2\" valign=\"top\">1</th>\n",
       "      <th>C++</th>\n",
       "      <td>-0.004465</td>\n",
       "    </tr>\n",
       "    <tr>\n",
       "      <th>Python</th>\n",
       "      <td>0.000197</td>\n",
       "    </tr>\n",
       "    <tr>\n",
       "      <th>2</th>\n",
       "      <th>C++</th>\n",
       "      <td>0.005203</td>\n",
       "    </tr>\n",
       "  </tbody>\n",
       "</table>\n",
       "</div>"
      ],
      "text/plain": [
       "               F_L\n",
       "  Source          \n",
       "0 C++    -0.000656\n",
       "  Python  0.036342\n",
       "1 C++    -0.004465\n",
       "  Python  0.000197\n",
       "2 C++     0.005203"
      ]
     },
     "execution_count": 16,
     "metadata": {},
     "output_type": "execute_result"
    }
   ],
   "source": [
    "F_L_Re_df = df_stats.filter([\"F_LRe_mean\",\"F_Re_py_mean\"])\n",
    "F_L_Re_df.rename(columns = {\"F_LRe_mean\":\"C++\",\"F_Re_py_mean\":\"Python\"},inplace = True)\n",
    "F_L_Re_df.columns.name = 'Source'\n",
    "F_L_Im_df = df_stats.filter([\"F_LIm_mean\",\"F_Im_py_mean\"])\n",
    "F_L_Im_df.rename(columns = {\"F_LIm_mean\":\"C++\",\"F_Im_py_mean\":\"Python\"},inplace = True)\n",
    "F_L_Im_df.columns.name = 'Source'\n",
    "F_L_Re_df = F_L_Re_df.stack()\n",
    "F_L_Im_df = F_L_Im_df.stack()\n",
    "F_L_Re_df.name = \"F_L\"\n",
    "F_L_Re_df = F_L_Re_df.to_frame()\n",
    "F_L_Im_df.name = \"F_L\"\n",
    "F_L_Im_df = F_L_Im_df.to_frame()\n",
    "F_L_Im_df.head()"
   ]
  },
  {
   "cell_type": "code",
   "execution_count": 17,
   "id": "8452432b-4eb9-46bf-be1e-fe4ce542d92c",
   "metadata": {},
   "outputs": [],
   "source": [
    "F_L_df = F_L_Re_df.join(F_L_Im_df, lsuffix = \"_Re\", rsuffix = \"_Im\")"
   ]
  },
  {
   "cell_type": "code",
   "execution_count": 18,
   "id": "6a50f266-00a8-4d58-8961-00638760f5b0",
   "metadata": {},
   "outputs": [
    {
     "data": {
      "text/html": [
       "<div>\n",
       "<style scoped>\n",
       "    .dataframe tbody tr th:only-of-type {\n",
       "        vertical-align: middle;\n",
       "    }\n",
       "\n",
       "    .dataframe tbody tr th {\n",
       "        vertical-align: top;\n",
       "    }\n",
       "\n",
       "    .dataframe thead th {\n",
       "        text-align: right;\n",
       "    }\n",
       "</style>\n",
       "<table border=\"1\" class=\"dataframe\">\n",
       "  <thead>\n",
       "    <tr style=\"text-align: right;\">\n",
       "      <th></th>\n",
       "      <th></th>\n",
       "      <th>F_L_Re</th>\n",
       "      <th>F_L_Im</th>\n",
       "    </tr>\n",
       "    <tr>\n",
       "      <th></th>\n",
       "      <th>Source</th>\n",
       "      <th></th>\n",
       "      <th></th>\n",
       "    </tr>\n",
       "  </thead>\n",
       "  <tbody>\n",
       "    <tr>\n",
       "      <th rowspan=\"2\" valign=\"top\">0</th>\n",
       "      <th>C++</th>\n",
       "      <td>0.004017</td>\n",
       "      <td>-0.000656</td>\n",
       "    </tr>\n",
       "    <tr>\n",
       "      <th>Python</th>\n",
       "      <td>0.127075</td>\n",
       "      <td>0.036342</td>\n",
       "    </tr>\n",
       "    <tr>\n",
       "      <th rowspan=\"2\" valign=\"top\">1</th>\n",
       "      <th>C++</th>\n",
       "      <td>0.000811</td>\n",
       "      <td>-0.004465</td>\n",
       "    </tr>\n",
       "    <tr>\n",
       "      <th>Python</th>\n",
       "      <td>0.044062</td>\n",
       "      <td>0.000197</td>\n",
       "    </tr>\n",
       "    <tr>\n",
       "      <th>2</th>\n",
       "      <th>C++</th>\n",
       "      <td>0.001812</td>\n",
       "      <td>0.005203</td>\n",
       "    </tr>\n",
       "  </tbody>\n",
       "</table>\n",
       "</div>"
      ],
      "text/plain": [
       "            F_L_Re    F_L_Im\n",
       "  Source                    \n",
       "0 C++     0.004017 -0.000656\n",
       "  Python  0.127075  0.036342\n",
       "1 C++     0.000811 -0.004465\n",
       "  Python  0.044062  0.000197\n",
       "2 C++     0.001812  0.005203"
      ]
     },
     "execution_count": 18,
     "metadata": {},
     "output_type": "execute_result"
    }
   ],
   "source": [
    "F_L_df.head()"
   ]
  },
  {
   "cell_type": "markdown",
   "id": "59c341e8-446c-483b-af37-b0a3875ea618",
   "metadata": {},
   "source": [
    "## Correlation Length"
   ]
  },
  {
   "cell_type": "code",
   "execution_count": 19,
   "id": "bd0b6475-1281-4891-9db4-870c1bdd0886",
   "metadata": {},
   "outputs": [
    {
     "data": {
      "image/png": "[encoded data removed]",
      "text/plain": [
       "<Figure size 640x480 with 1 Axes>"
      ]
     },
     "metadata": {},
     "output_type": "display_data"
    }
   ],
   "source": [
    "sns.scatterplot(data = df_stats, x = \"itheta\", y = \"corr_length_Re_mean\", hue = \"length\", \n",
    "                size = \"nMC\", palette = analyzer.palette)\n",
    "\n",
    "plt.show()"
   ]
  },
  {
   "cell_type": "markdown",
   "id": "0ebfa44f-00c7-4879-9eee-622e74ed513d",
   "metadata": {},
   "source": [
    "### Mass Gap"
   ]
  },
  {
   "cell_type": "code",
   "execution_count": 20,
   "id": "eeee1fb8-512e-40b9-982d-197e47b583a8",
   "metadata": {},
   "outputs": [
    {
     "data": {
      "image/png": "[encoded data removed]",
      "text/plain": [
       "<Figure size 640x480 with 1 Axes>"
      ]
     },
     "metadata": {},
     "output_type": "display_data"
    }
   ],
   "source": [
    "sns.scatterplot(data = df_stats, x = \"itheta\", y = \"mass_gap_Re_mean\", hue = \"length\", \n",
    "                size = \"nMC\", palette = analyzer.palette)\n",
    "\n",
    "plt.show()"
   ]
  },
  {
   "cell_type": "markdown",
   "id": "bd27a3b4-0d8b-4e3a-b451-d88f22f9d9d6",
   "metadata": {},
   "source": [
    "# Observable detailed plots with error (matplotlib)"
   ]
  },
  {
   "cell_type": "code",
   "execution_count": 21,
   "id": "f8005fa9-f944-4e8e-ba93-82da0660ffe4",
   "metadata": {},
   "outputs": [
    {
     "name": "stdout",
     "output_type": "stream",
     "text": [
      "[180.]\n"
     ]
    }
   ],
   "source": [
    "lengths = df_stats[\"length\"].unique()\n",
    "print(lengths)\n",
    "colors = sns.color_palette(\"Blues\", len(lengths))\n",
    "observable = \"Q_L\""
   ]
  },
  {
   "cell_type": "code",
   "execution_count": 24,
   "id": "4017e43e-a333-4992-9a9f-daac95be5523",
   "metadata": {},
   "outputs": [
    {
     "data": {
      "text/html": [
       "<div>\n",
       "<style scoped>\n",
       "    .dataframe tbody tr th:only-of-type {\n",
       "        vertical-align: middle;\n",
       "    }\n",
       "\n",
       "    .dataframe tbody tr th {\n",
       "        vertical-align: top;\n",
       "    }\n",
       "\n",
       "    .dataframe thead th {\n",
       "        text-align: right;\n",
       "    }\n",
       "</style>\n",
       "<table border=\"1\" class=\"dataframe\">\n",
       "  <thead>\n",
       "    <tr style=\"text-align: right;\">\n",
       "      <th></th>\n",
       "      <th>length</th>\n",
       "      <th>itheta</th>\n",
       "      <th>beta</th>\n",
       "      <th>nMC</th>\n",
       "      <th>ntherm</th>\n",
       "      <th>freq</th>\n",
       "      <th>|phi|_mean</th>\n",
       "      <th>Q_L_mean</th>\n",
       "      <th>A_L_mean</th>\n",
       "      <th>S_L_mean</th>\n",
       "      <th>...</th>\n",
       "      <th>acc_std</th>\n",
       "      <th>corr_length_Re_std</th>\n",
       "      <th>corr_length_Im_std</th>\n",
       "      <th>F_Re_py_std</th>\n",
       "      <th>F_Im_py_std</th>\n",
       "      <th>mass_gap_Re_std</th>\n",
       "      <th>mass_gap_Im_std</th>\n",
       "      <th>time (sec)</th>\n",
       "      <th>time (min)</th>\n",
       "      <th>time (hr)</th>\n",
       "    </tr>\n",
       "  </thead>\n",
       "  <tbody>\n",
       "    <tr>\n",
       "      <th>0</th>\n",
       "      <td>180.0</td>\n",
       "      <td>1.178097</td>\n",
       "      <td>1.6</td>\n",
       "      <td>10000.0</td>\n",
       "      <td>0.0</td>\n",
       "      <td>1.0</td>\n",
       "      <td>32400.0</td>\n",
       "      <td>13.6395</td>\n",
       "      <td>-66950.198127</td>\n",
       "      <td>-66966.266785</td>\n",
       "      <td>...</td>\n",
       "      <td>0.010374</td>\n",
       "      <td>0.428173</td>\n",
       "      <td>3.054366</td>\n",
       "      <td>0.0</td>\n",
       "      <td>0.0</td>\n",
       "      <td>0.002307</td>\n",
       "      <td>0.016454</td>\n",
       "      <td>75404.0</td>\n",
       "      <td>1256.733333</td>\n",
       "      <td>20.945556</td>\n",
       "    </tr>\n",
       "    <tr>\n",
       "      <th>1</th>\n",
       "      <td>180.0</td>\n",
       "      <td>1.963495</td>\n",
       "      <td>1.6</td>\n",
       "      <td>10000.0</td>\n",
       "      <td>0.0</td>\n",
       "      <td>1.0</td>\n",
       "      <td>32400.0</td>\n",
       "      <td>29.7850</td>\n",
       "      <td>-66774.747461</td>\n",
       "      <td>-66833.230171</td>\n",
       "      <td>...</td>\n",
       "      <td>0.010415</td>\n",
       "      <td>0.006082</td>\n",
       "      <td>2.727224</td>\n",
       "      <td>0.0</td>\n",
       "      <td>0.0</td>\n",
       "      <td>0.000025</td>\n",
       "      <td>0.011288</td>\n",
       "      <td>91077.0</td>\n",
       "      <td>1517.950000</td>\n",
       "      <td>25.299167</td>\n",
       "    </tr>\n",
       "    <tr>\n",
       "      <th>2</th>\n",
       "      <td>180.0</td>\n",
       "      <td>3.141593</td>\n",
       "      <td>1.6</td>\n",
       "      <td>10000.0</td>\n",
       "      <td>0.0</td>\n",
       "      <td>1.0</td>\n",
       "      <td>32400.0</td>\n",
       "      <td>74.0504</td>\n",
       "      <td>-66268.850435</td>\n",
       "      <td>-66501.486628</td>\n",
       "      <td>...</td>\n",
       "      <td>0.010345</td>\n",
       "      <td>5.070743</td>\n",
       "      <td>2.152973</td>\n",
       "      <td>0.0</td>\n",
       "      <td>0.0</td>\n",
       "      <td>0.007030</td>\n",
       "      <td>0.003402</td>\n",
       "      <td>74440.0</td>\n",
       "      <td>1240.666667</td>\n",
       "      <td>20.677778</td>\n",
       "    </tr>\n",
       "  </tbody>\n",
       "</table>\n",
       "<p>3 rows × 41 columns</p>\n",
       "</div>"
      ],
      "text/plain": [
       "   length    itheta  beta      nMC  ntherm  freq  |phi|_mean  Q_L_mean  \\\n",
       "0   180.0  1.178097   1.6  10000.0     0.0   1.0     32400.0   13.6395   \n",
       "1   180.0  1.963495   1.6  10000.0     0.0   1.0     32400.0   29.7850   \n",
       "2   180.0  3.141593   1.6  10000.0     0.0   1.0     32400.0   74.0504   \n",
       "\n",
       "       A_L_mean      S_L_mean  ...   acc_std  corr_length_Re_std  \\\n",
       "0 -66950.198127 -66966.266785  ...  0.010374            0.428173   \n",
       "1 -66774.747461 -66833.230171  ...  0.010415            0.006082   \n",
       "2 -66268.850435 -66501.486628  ...  0.010345            5.070743   \n",
       "\n",
       "   corr_length_Im_std  F_Re_py_std  F_Im_py_std  mass_gap_Re_std  \\\n",
       "0            3.054366          0.0          0.0         0.002307   \n",
       "1            2.727224          0.0          0.0         0.000025   \n",
       "2            2.152973          0.0          0.0         0.007030   \n",
       "\n",
       "   mass_gap_Im_std  time (sec)   time (min)  time (hr)  \n",
       "0         0.016454     75404.0  1256.733333  20.945556  \n",
       "1         0.011288     91077.0  1517.950000  25.299167  \n",
       "2         0.003402     74440.0  1240.666667  20.677778  \n",
       "\n",
       "[3 rows x 41 columns]"
      ]
     },
     "execution_count": 24,
     "metadata": {},
     "output_type": "execute_result"
    }
   ],
   "source": [
    "df_stats[df_stats[\"length\"]==180].head(10)"
   ]
  },
  {
   "cell_type": "code",
   "execution_count": 31,
   "id": "d5e00f55-a02c-492f-be1d-2cc25efbca9f",
   "metadata": {},
   "outputs": [
    {
     "data": {
      "image/png": "[encoded data removed]",
      "text/plain": [
       "<Figure size 640x480 with 1 Axes>"
      ]
     },
     "metadata": {},
     "output_type": "display_data"
    }
   ],
   "source": [
    "for n,length in enumerate(lengths):\n",
    "    x,y,err = analyzer.get_plot_data(obs = observable, L = length, beta = 1.6, nMC = 10000, ntherm = 0, freq = 1)\n",
    "    plt.errorbar(x, y , yerr = err, marker = \".\", ls = \"none\", color = colors[n], label =\"L=\"+str(length))\n",
    "plt.legend()\n",
    "plt.xlim([0.0,4.0])\n",
    "plt.xlabel(r\"$i\\theta$\")\n",
    "plt.ylabel(r\"$\\langle Q_L \\rangle $\")\n",
    "#plt.title(observable)\n",
    "plt.savefig(\"../Figs_README/Q_L_preliminary.jpg\", format = \"jpg\")\n",
    "plt.show()"
   ]
  },
  {
   "cell_type": "code",
   "execution_count": null,
   "id": "ed25b48e-fc43-495b-a8d1-0b3df7f3605f",
   "metadata": {},
   "outputs": [],
   "source": []
  }
 ],
 "metadata": {
  "kernelspec": {
   "display_name": "Python [conda env:.conda-nlsigma]",
   "language": "python",
   "name": "conda-env-.conda-nlsigma-py"
  },
  "language_info": {
   "codemirror_mode": {
    "name": "ipython",
    "version": 3
   },
   "file_extension": ".py",
   "mimetype": "text/x-python",
   "name": "python",
   "nbconvert_exporter": "python",
   "pygments_lexer": "ipython3",
   "version": "3.11.7"
  }
 },
 "nbformat": 4,
 "nbformat_minor": 5
}
