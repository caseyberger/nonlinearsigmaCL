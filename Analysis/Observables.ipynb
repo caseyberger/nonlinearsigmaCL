{
 "cells": [
  {
   "cell_type": "code",
   "execution_count": 1,
   "id": "1d6672c5-0a61-45f8-803a-28812a4a9aca",
   "metadata": {},
   "outputs": [],
   "source": [
    "import os\n",
    "import numpy as np\n",
    "import pandas as pd\n",
    "import matplotlib.pyplot as plt\n",
    "import seaborn as sns\n",
    "from LatticeData import *"
   ]
  },
  {
   "cell_type": "markdown",
   "id": "09a42030-1f13-4783-9853-f1459b51f90e",
   "metadata": {},
   "source": [
    "# Create analyzer - instantiate class"
   ]
  },
  {
   "cell_type": "code",
   "execution_count": 2,
   "id": "3a8f83a8-69c3-4a84-913c-2a280a8f6ad2",
   "metadata": {},
   "outputs": [],
   "source": [
    "analysis_data_filepath = \"/project/pi_cberger_smith_edu/nlsigma_data_arccos/\"\n",
    "source_data_filepath = \"/work/pi_cberger_smith_edu/data_QL_L180_arccos/\"#QL_L180/\"#systematics/\"\n",
    "analyzer = LatticeData(datadir = analysis_data_filepath, use_full_filepath = True)"
   ]
  },
  {
   "cell_type": "markdown",
   "id": "1ebdc7d7-f864-4e6c-a503-972ba1713290",
   "metadata": {},
   "source": [
    "## Collect Data"
   ]
  },
  {
   "cell_type": "code",
   "execution_count": 3,
   "id": "2e111867-1759-4432-b15e-53e483a40031",
   "metadata": {},
   "outputs": [
    {
     "name": "stdout",
     "output_type": "stream",
     "text": [
      "run not yet complete\n",
      "L_180_beta_1.600000_itheta_0.392699_ntherm_0_nMC_10000_freq_1\n",
      "Status: 8963 lines written\n",
      "run not yet complete\n",
      "L_180_beta_1.600000_itheta_0.785398_ntherm_0_nMC_10000_freq_1\n",
      "Status: 9353 lines written\n",
      "run not yet complete\n",
      "L_180_beta_1.600000_itheta_1.178097_ntherm_0_nMC_10000_freq_1\n",
      "Status: 1986 lines written\n",
      "run not yet complete\n",
      "L_180_beta_1.600000_itheta_1.570796_ntherm_0_nMC_10000_freq_1\n",
      "Status: 8254 lines written\n"
     ]
    }
   ],
   "source": [
    "analyzer.copy_data_from_directory(source_data_filepath)"
   ]
  },
  {
   "cell_type": "markdown",
   "id": "61491e67-091b-4173-95a6-06f977afcaeb",
   "metadata": {
    "tags": []
   },
   "source": [
    "## Basic statistics"
   ]
  },
  {
   "cell_type": "code",
   "execution_count": 4,
   "id": "b5680445-d9ea-4940-8252-3123e99b66ca",
   "metadata": {},
   "outputs": [],
   "source": [
    "df = analyzer.get_data()"
   ]
  },
  {
   "cell_type": "code",
   "execution_count": 5,
   "id": "131ea67c-88cf-4480-981c-e6d306ab0665",
   "metadata": {},
   "outputs": [
    {
     "data": {
      "text/html": [
       "<div>\n",
       "<style scoped>\n",
       "    .dataframe tbody tr th:only-of-type {\n",
       "        vertical-align: middle;\n",
       "    }\n",
       "\n",
       "    .dataframe tbody tr th {\n",
       "        vertical-align: top;\n",
       "    }\n",
       "\n",
       "    .dataframe thead th {\n",
       "        text-align: right;\n",
       "    }\n",
       "</style>\n",
       "<table border=\"1\" class=\"dataframe\">\n",
       "  <thead>\n",
       "    <tr style=\"text-align: right;\">\n",
       "      <th></th>\n",
       "      <th>step</th>\n",
       "      <th>|phi|</th>\n",
       "      <th>Q_L</th>\n",
       "      <th>A_L</th>\n",
       "      <th>S_L</th>\n",
       "      <th>Xi_L</th>\n",
       "      <th>F_LRe</th>\n",
       "      <th>F_LIm</th>\n",
       "      <th>acc</th>\n",
       "      <th>dt</th>\n",
       "      <th>...</th>\n",
       "      <th>Q_L_ta</th>\n",
       "      <th>A_L_ta</th>\n",
       "      <th>S_L_ta</th>\n",
       "      <th>Xi_L_ta</th>\n",
       "      <th>corr_length_Re</th>\n",
       "      <th>corr_length_Im</th>\n",
       "      <th>F_Re_py</th>\n",
       "      <th>F_Im_py</th>\n",
       "      <th>mass_gap_Re</th>\n",
       "      <th>mass_gap_Im</th>\n",
       "    </tr>\n",
       "  </thead>\n",
       "  <tbody>\n",
       "    <tr>\n",
       "      <th>0</th>\n",
       "      <td>0</td>\n",
       "      <td>32400.0</td>\n",
       "      <td>-30.000006</td>\n",
       "      <td>-31924.350182</td>\n",
       "      <td>-31924.350182</td>\n",
       "      <td>-0.001801</td>\n",
       "      <td>-0.001541</td>\n",
       "      <td>0.00195</td>\n",
       "      <td>0.662809</td>\n",
       "      <td>14.0</td>\n",
       "      <td>...</td>\n",
       "      <td>53</td>\n",
       "      <td>545</td>\n",
       "      <td>545</td>\n",
       "      <td>1</td>\n",
       "      <td>7.504264</td>\n",
       "      <td>-8.221795</td>\n",
       "      <td>0.001086</td>\n",
       "      <td>-0.01188</td>\n",
       "      <td>0.060561</td>\n",
       "      <td>0.066352</td>\n",
       "    </tr>\n",
       "    <tr>\n",
       "      <th>1</th>\n",
       "      <td>1</td>\n",
       "      <td>32400.0</td>\n",
       "      <td>-37.000014</td>\n",
       "      <td>-40823.217516</td>\n",
       "      <td>-40823.217516</td>\n",
       "      <td>0.000462</td>\n",
       "      <td>-0.001541</td>\n",
       "      <td>0.00195</td>\n",
       "      <td>0.587361</td>\n",
       "      <td>34.0</td>\n",
       "      <td>...</td>\n",
       "      <td>53</td>\n",
       "      <td>545</td>\n",
       "      <td>545</td>\n",
       "      <td>1</td>\n",
       "      <td>4.164192</td>\n",
       "      <td>3.800775</td>\n",
       "      <td>0.001086</td>\n",
       "      <td>-0.01188</td>\n",
       "      <td>0.131006</td>\n",
       "      <td>-0.119572</td>\n",
       "    </tr>\n",
       "    <tr>\n",
       "      <th>2</th>\n",
       "      <td>2</td>\n",
       "      <td>32400.0</td>\n",
       "      <td>-1.000011</td>\n",
       "      <td>-46116.565430</td>\n",
       "      <td>-46116.565430</td>\n",
       "      <td>0.002276</td>\n",
       "      <td>-0.001541</td>\n",
       "      <td>0.00195</td>\n",
       "      <td>0.538714</td>\n",
       "      <td>43.0</td>\n",
       "      <td>...</td>\n",
       "      <td>53</td>\n",
       "      <td>545</td>\n",
       "      <td>545</td>\n",
       "      <td>1</td>\n",
       "      <td>9.242638</td>\n",
       "      <td>8.436015</td>\n",
       "      <td>0.001086</td>\n",
       "      <td>-0.01188</td>\n",
       "      <td>0.059023</td>\n",
       "      <td>-0.053872</td>\n",
       "    </tr>\n",
       "    <tr>\n",
       "      <th>3</th>\n",
       "      <td>3</td>\n",
       "      <td>32400.0</td>\n",
       "      <td>-17.000009</td>\n",
       "      <td>-49368.175894</td>\n",
       "      <td>-49368.175894</td>\n",
       "      <td>0.002618</td>\n",
       "      <td>-0.001541</td>\n",
       "      <td>0.00195</td>\n",
       "      <td>0.505980</td>\n",
       "      <td>68.0</td>\n",
       "      <td>...</td>\n",
       "      <td>53</td>\n",
       "      <td>545</td>\n",
       "      <td>545</td>\n",
       "      <td>1</td>\n",
       "      <td>9.912761</td>\n",
       "      <td>9.047655</td>\n",
       "      <td>0.001086</td>\n",
       "      <td>-0.01188</td>\n",
       "      <td>0.055033</td>\n",
       "      <td>-0.050230</td>\n",
       "    </tr>\n",
       "    <tr>\n",
       "      <th>4</th>\n",
       "      <td>4</td>\n",
       "      <td>32400.0</td>\n",
       "      <td>-9.000019</td>\n",
       "      <td>-51978.551482</td>\n",
       "      <td>-51978.551482</td>\n",
       "      <td>0.002563</td>\n",
       "      <td>-0.001541</td>\n",
       "      <td>0.00195</td>\n",
       "      <td>0.479858</td>\n",
       "      <td>104.0</td>\n",
       "      <td>...</td>\n",
       "      <td>53</td>\n",
       "      <td>545</td>\n",
       "      <td>545</td>\n",
       "      <td>1</td>\n",
       "      <td>9.808082</td>\n",
       "      <td>8.952113</td>\n",
       "      <td>0.001086</td>\n",
       "      <td>-0.01188</td>\n",
       "      <td>0.055621</td>\n",
       "      <td>-0.050767</td>\n",
       "    </tr>\n",
       "  </tbody>\n",
       "</table>\n",
       "<p>5 rows × 26 columns</p>\n",
       "</div>"
      ],
      "text/plain": [
       "   step    |phi|        Q_L           A_L           S_L      Xi_L     F_LRe  \\\n",
       "0     0  32400.0 -30.000006 -31924.350182 -31924.350182 -0.001801 -0.001541   \n",
       "1     1  32400.0 -37.000014 -40823.217516 -40823.217516  0.000462 -0.001541   \n",
       "2     2  32400.0  -1.000011 -46116.565430 -46116.565430  0.002276 -0.001541   \n",
       "3     3  32400.0 -17.000009 -49368.175894 -49368.175894  0.002618 -0.001541   \n",
       "4     4  32400.0  -9.000019 -51978.551482 -51978.551482  0.002563 -0.001541   \n",
       "\n",
       "     F_LIm       acc     dt  ...  Q_L_ta  A_L_ta  S_L_ta  Xi_L_ta  \\\n",
       "0  0.00195  0.662809   14.0  ...      53     545     545        1   \n",
       "1  0.00195  0.587361   34.0  ...      53     545     545        1   \n",
       "2  0.00195  0.538714   43.0  ...      53     545     545        1   \n",
       "3  0.00195  0.505980   68.0  ...      53     545     545        1   \n",
       "4  0.00195  0.479858  104.0  ...      53     545     545        1   \n",
       "\n",
       "   corr_length_Re  corr_length_Im   F_Re_py  F_Im_py  mass_gap_Re  mass_gap_Im  \n",
       "0        7.504264       -8.221795  0.001086 -0.01188     0.060561     0.066352  \n",
       "1        4.164192        3.800775  0.001086 -0.01188     0.131006    -0.119572  \n",
       "2        9.242638        8.436015  0.001086 -0.01188     0.059023    -0.053872  \n",
       "3        9.912761        9.047655  0.001086 -0.01188     0.055033    -0.050230  \n",
       "4        9.808082        8.952113  0.001086 -0.01188     0.055621    -0.050767  \n",
       "\n",
       "[5 rows x 26 columns]"
      ]
     },
     "execution_count": 5,
     "metadata": {},
     "output_type": "execute_result"
    }
   ],
   "source": [
    "df.head()"
   ]
  },
  {
   "cell_type": "code",
   "execution_count": 6,
   "id": "07380ff5-4fd2-477a-ab7b-0cbf5d9e2d70",
   "metadata": {},
   "outputs": [
    {
     "data": {
      "text/plain": [
       "array([0.])"
      ]
     },
     "execution_count": 6,
     "metadata": {},
     "output_type": "execute_result"
    }
   ],
   "source": [
    "df[\"itheta\"].unique()"
   ]
  },
  {
   "cell_type": "code",
   "execution_count": 7,
   "id": "e3021073-d9cf-439c-868e-03a551f561aa",
   "metadata": {},
   "outputs": [],
   "source": [
    "df_stats = analyzer.do_stats(therm_frac = 0.1)"
   ]
  },
  {
   "cell_type": "code",
   "execution_count": 8,
   "id": "8edfccd0-b085-4f72-847c-787a48a1503a",
   "metadata": {},
   "outputs": [
    {
     "data": {
      "text/html": [
       "<div>\n",
       "<style scoped>\n",
       "    .dataframe tbody tr th:only-of-type {\n",
       "        vertical-align: middle;\n",
       "    }\n",
       "\n",
       "    .dataframe tbody tr th {\n",
       "        vertical-align: top;\n",
       "    }\n",
       "\n",
       "    .dataframe thead th {\n",
       "        text-align: right;\n",
       "    }\n",
       "</style>\n",
       "<table border=\"1\" class=\"dataframe\">\n",
       "  <thead>\n",
       "    <tr style=\"text-align: right;\">\n",
       "      <th></th>\n",
       "      <th>length</th>\n",
       "      <th>itheta</th>\n",
       "      <th>beta</th>\n",
       "      <th>nMC</th>\n",
       "      <th>ntherm</th>\n",
       "      <th>freq</th>\n",
       "      <th>|phi|_mean</th>\n",
       "      <th>Q_L_mean</th>\n",
       "      <th>A_L_mean</th>\n",
       "      <th>S_L_mean</th>\n",
       "      <th>...</th>\n",
       "      <th>acc_std</th>\n",
       "      <th>corr_length_Re_std</th>\n",
       "      <th>corr_length_Im_std</th>\n",
       "      <th>F_Re_py_std</th>\n",
       "      <th>F_Im_py_std</th>\n",
       "      <th>mass_gap_Re_std</th>\n",
       "      <th>mass_gap_Im_std</th>\n",
       "      <th>time (sec)</th>\n",
       "      <th>time (min)</th>\n",
       "      <th>time (hr)</th>\n",
       "    </tr>\n",
       "  </thead>\n",
       "  <tbody>\n",
       "    <tr>\n",
       "      <th>0</th>\n",
       "      <td>180.0</td>\n",
       "      <td>0.0</td>\n",
       "      <td>1.6</td>\n",
       "      <td>10000.0</td>\n",
       "      <td>0.0</td>\n",
       "      <td>1.0</td>\n",
       "      <td>32400.0</td>\n",
       "      <td>0.670168</td>\n",
       "      <td>-67063.191197</td>\n",
       "      <td>-67063.191197</td>\n",
       "      <td>...</td>\n",
       "      <td>0.000852</td>\n",
       "      <td>4.497194</td>\n",
       "      <td>4.104715</td>\n",
       "      <td>0.0</td>\n",
       "      <td>0.0</td>\n",
       "      <td>0.000917</td>\n",
       "      <td>0.000837</td>\n",
       "      <td>121257.0</td>\n",
       "      <td>2020.95</td>\n",
       "      <td>33.6825</td>\n",
       "    </tr>\n",
       "  </tbody>\n",
       "</table>\n",
       "<p>1 rows × 41 columns</p>\n",
       "</div>"
      ],
      "text/plain": [
       "   length  itheta  beta      nMC  ntherm  freq  |phi|_mean  Q_L_mean  \\\n",
       "0   180.0     0.0   1.6  10000.0     0.0   1.0     32400.0  0.670168   \n",
       "\n",
       "       A_L_mean      S_L_mean  ...   acc_std  corr_length_Re_std  \\\n",
       "0 -67063.191197 -67063.191197  ...  0.000852            4.497194   \n",
       "\n",
       "   corr_length_Im_std  F_Re_py_std  F_Im_py_std  mass_gap_Re_std  \\\n",
       "0            4.104715          0.0          0.0         0.000917   \n",
       "\n",
       "   mass_gap_Im_std  time (sec)  time (min)  time (hr)  \n",
       "0         0.000837    121257.0     2020.95    33.6825  \n",
       "\n",
       "[1 rows x 41 columns]"
      ]
     },
     "execution_count": 8,
     "metadata": {},
     "output_type": "execute_result"
    }
   ],
   "source": [
    "df_stats.head()"
   ]
  },
  {
   "cell_type": "markdown",
   "id": "450dedbf-c013-454d-8b7b-3188b0bf4e24",
   "metadata": {
    "tags": []
   },
   "source": [
    "# Observable quick plots (seaborn)"
   ]
  },
  {
   "cell_type": "markdown",
   "id": "f039e1f0-401c-4780-91dd-a9703d1f0160",
   "metadata": {
    "tags": []
   },
   "source": [
    "### Q_L"
   ]
  },
  {
   "cell_type": "code",
   "execution_count": 9,
   "id": "a295b6a4-a23e-4c19-a67f-821c68ecd878",
   "metadata": {},
   "outputs": [
    {
     "data": {
      "image/png": "[encoded data removed]",
      "text/plain": [
       "<Figure size 640x480 with 1 Axes>"
      ]
     },
     "metadata": {},
     "output_type": "display_data"
    }
   ],
   "source": [
    "sns.scatterplot(data = df_stats, x = \"itheta\", y = \"Q_L_mean\", hue = \"length\", \n",
    "                size = \"nMC\", palette = analyzer.palette)\n",
    "plt.show()"
   ]
  },
  {
   "cell_type": "markdown",
   "id": "a51a9bbb-a788-4d6f-8707-e0037e0af205",
   "metadata": {
    "tags": []
   },
   "source": [
    "### S_L"
   ]
  },
  {
   "cell_type": "code",
   "execution_count": 10,
   "id": "2611a9d2-3b7f-4397-b606-a1aac07ec493",
   "metadata": {},
   "outputs": [],
   "source": [
    "# sns.scatterplot(data = df_stats, x = \"itheta\", y = \"S_L_mean\", hue = \"length\", \n",
    "#                 size = \"nMC\", palette = analyzer.palette)\n",
    "# plt.show()"
   ]
  },
  {
   "cell_type": "markdown",
   "id": "67a80b70-2b73-4d24-a901-3ad432eb0818",
   "metadata": {
    "tags": []
   },
   "source": [
    "### Xi_L"
   ]
  },
  {
   "cell_type": "code",
   "execution_count": 11,
   "id": "435f2dc1-8282-47bd-98cc-55337ef0ceb9",
   "metadata": {},
   "outputs": [],
   "source": [
    "# sns.scatterplot(data = df_stats, x = \"itheta\", y = \"Xi_L_mean\", hue = \"length\", \n",
    "#                 size = \"nMC\", palette = analyzer.palette)\n",
    "# plt.show()"
   ]
  },
  {
   "cell_type": "markdown",
   "id": "e66df175-1ae4-48db-a119-377641dce114",
   "metadata": {},
   "source": [
    "### F_L Re"
   ]
  },
  {
   "cell_type": "code",
   "execution_count": 12,
   "id": "3da01ab3-b714-4be5-831b-d26481da591b",
   "metadata": {},
   "outputs": [],
   "source": [
    "# sns.scatterplot(data = df_stats, x = \"itheta\", y = \"F_LRe_mean\", hue = \"length\", \n",
    "#                 size = \"nMC\", palette = analyzer.palette)\n",
    "\n",
    "# plt.show()"
   ]
  },
  {
   "cell_type": "code",
   "execution_count": 13,
   "id": "48b658e3-6d87-4f48-a63b-fc536cd79d8d",
   "metadata": {},
   "outputs": [
    {
     "data": {
      "text/html": [
       "<div>\n",
       "<style scoped>\n",
       "    .dataframe tbody tr th:only-of-type {\n",
       "        vertical-align: middle;\n",
       "    }\n",
       "\n",
       "    .dataframe tbody tr th {\n",
       "        vertical-align: top;\n",
       "    }\n",
       "\n",
       "    .dataframe thead th {\n",
       "        text-align: right;\n",
       "    }\n",
       "</style>\n",
       "<table border=\"1\" class=\"dataframe\">\n",
       "  <thead>\n",
       "    <tr style=\"text-align: right;\">\n",
       "      <th></th>\n",
       "      <th></th>\n",
       "      <th>F_L</th>\n",
       "    </tr>\n",
       "    <tr>\n",
       "      <th></th>\n",
       "      <th>Source</th>\n",
       "      <th></th>\n",
       "    </tr>\n",
       "  </thead>\n",
       "  <tbody>\n",
       "    <tr>\n",
       "      <th rowspan=\"2\" valign=\"top\">0</th>\n",
       "      <th>C++</th>\n",
       "      <td>0.00195</td>\n",
       "    </tr>\n",
       "    <tr>\n",
       "      <th>Python</th>\n",
       "      <td>-0.01188</td>\n",
       "    </tr>\n",
       "  </tbody>\n",
       "</table>\n",
       "</div>"
      ],
      "text/plain": [
       "              F_L\n",
       "  Source         \n",
       "0 C++     0.00195\n",
       "  Python -0.01188"
      ]
     },
     "execution_count": 13,
     "metadata": {},
     "output_type": "execute_result"
    }
   ],
   "source": [
    "F_L_Re_df = df_stats.filter([\"F_LRe_mean\",\"F_Re_py_mean\"])\n",
    "F_L_Re_df.rename(columns = {\"F_LRe_mean\":\"C++\",\"F_Re_py_mean\":\"Python\"},inplace = True)\n",
    "F_L_Re_df.columns.name = 'Source'\n",
    "F_L_Im_df = df_stats.filter([\"F_LIm_mean\",\"F_Im_py_mean\"])\n",
    "F_L_Im_df.rename(columns = {\"F_LIm_mean\":\"C++\",\"F_Im_py_mean\":\"Python\"},inplace = True)\n",
    "F_L_Im_df.columns.name = 'Source'\n",
    "F_L_Re_df = F_L_Re_df.stack()\n",
    "F_L_Im_df = F_L_Im_df.stack()\n",
    "F_L_Re_df.name = \"F_L\"\n",
    "F_L_Re_df = F_L_Re_df.to_frame()\n",
    "F_L_Im_df.name = \"F_L\"\n",
    "F_L_Im_df = F_L_Im_df.to_frame()\n",
    "F_L_Im_df.head()"
   ]
  },
  {
   "cell_type": "code",
   "execution_count": 14,
   "id": "8452432b-4eb9-46bf-be1e-fe4ce542d92c",
   "metadata": {},
   "outputs": [],
   "source": [
    "F_L_df = F_L_Re_df.join(F_L_Im_df, lsuffix = \"_Re\", rsuffix = \"_Im\")"
   ]
  },
  {
   "cell_type": "code",
   "execution_count": 15,
   "id": "6a50f266-00a8-4d58-8961-00638760f5b0",
   "metadata": {},
   "outputs": [
    {
     "data": {
      "text/html": [
       "<div>\n",
       "<style scoped>\n",
       "    .dataframe tbody tr th:only-of-type {\n",
       "        vertical-align: middle;\n",
       "    }\n",
       "\n",
       "    .dataframe tbody tr th {\n",
       "        vertical-align: top;\n",
       "    }\n",
       "\n",
       "    .dataframe thead th {\n",
       "        text-align: right;\n",
       "    }\n",
       "</style>\n",
       "<table border=\"1\" class=\"dataframe\">\n",
       "  <thead>\n",
       "    <tr style=\"text-align: right;\">\n",
       "      <th></th>\n",
       "      <th></th>\n",
       "      <th>F_L_Re</th>\n",
       "      <th>F_L_Im</th>\n",
       "    </tr>\n",
       "    <tr>\n",
       "      <th></th>\n",
       "      <th>Source</th>\n",
       "      <th></th>\n",
       "      <th></th>\n",
       "    </tr>\n",
       "  </thead>\n",
       "  <tbody>\n",
       "    <tr>\n",
       "      <th rowspan=\"2\" valign=\"top\">0</th>\n",
       "      <th>C++</th>\n",
       "      <td>-0.001541</td>\n",
       "      <td>0.00195</td>\n",
       "    </tr>\n",
       "    <tr>\n",
       "      <th>Python</th>\n",
       "      <td>0.001086</td>\n",
       "      <td>-0.01188</td>\n",
       "    </tr>\n",
       "  </tbody>\n",
       "</table>\n",
       "</div>"
      ],
      "text/plain": [
       "            F_L_Re   F_L_Im\n",
       "  Source                   \n",
       "0 C++    -0.001541  0.00195\n",
       "  Python  0.001086 -0.01188"
      ]
     },
     "execution_count": 15,
     "metadata": {},
     "output_type": "execute_result"
    }
   ],
   "source": [
    "F_L_df.head()"
   ]
  },
  {
   "cell_type": "markdown",
   "id": "59c341e8-446c-483b-af37-b0a3875ea618",
   "metadata": {},
   "source": [
    "## Correlation Length"
   ]
  },
  {
   "cell_type": "code",
   "execution_count": 16,
   "id": "bd0b6475-1281-4891-9db4-870c1bdd0886",
   "metadata": {},
   "outputs": [
    {
     "data": {
      "image/png": "[encoded data removed]",
      "text/plain": [
       "<Figure size 640x480 with 1 Axes>"
      ]
     },
     "metadata": {},
     "output_type": "display_data"
    }
   ],
   "source": [
    "sns.scatterplot(data = df_stats, x = \"itheta\", y = \"corr_length_Re_mean\", hue = \"length\", \n",
    "                size = \"nMC\", palette = analyzer.palette)\n",
    "\n",
    "plt.show()"
   ]
  },
  {
   "cell_type": "markdown",
   "id": "0ebfa44f-00c7-4879-9eee-622e74ed513d",
   "metadata": {},
   "source": [
    "### Mass Gap"
   ]
  },
  {
   "cell_type": "code",
   "execution_count": 17,
   "id": "eeee1fb8-512e-40b9-982d-197e47b583a8",
   "metadata": {},
   "outputs": [
    {
     "data": {
      "image/png": "[encoded data removed]",
      "text/plain": [
       "<Figure size 640x480 with 1 Axes>"
      ]
     },
     "metadata": {},
     "output_type": "display_data"
    }
   ],
   "source": [
    "sns.scatterplot(data = df_stats, x = \"itheta\", y = \"mass_gap_Re_mean\", hue = \"length\", \n",
    "                size = \"nMC\", palette = analyzer.palette)\n",
    "\n",
    "plt.show()"
   ]
  },
  {
   "cell_type": "markdown",
   "id": "bd27a3b4-0d8b-4e3a-b451-d88f22f9d9d6",
   "metadata": {},
   "source": [
    "# Observable detailed plots with error (matplotlib)"
   ]
  },
  {
   "cell_type": "code",
   "execution_count": 18,
   "id": "f8005fa9-f944-4e8e-ba93-82da0660ffe4",
   "metadata": {},
   "outputs": [
    {
     "name": "stdout",
     "output_type": "stream",
     "text": [
      "[180.]\n"
     ]
    }
   ],
   "source": [
    "lengths = df_stats[\"length\"].unique()\n",
    "print(lengths)\n",
    "colors = sns.color_palette(\"Blues\", len(lengths))\n",
    "observable = \"Q_L\""
   ]
  },
  {
   "cell_type": "code",
   "execution_count": 19,
   "id": "4017e43e-a333-4992-9a9f-daac95be5523",
   "metadata": {},
   "outputs": [
    {
     "data": {
      "text/html": [
       "<div>\n",
       "<style scoped>\n",
       "    .dataframe tbody tr th:only-of-type {\n",
       "        vertical-align: middle;\n",
       "    }\n",
       "\n",
       "    .dataframe tbody tr th {\n",
       "        vertical-align: top;\n",
       "    }\n",
       "\n",
       "    .dataframe thead th {\n",
       "        text-align: right;\n",
       "    }\n",
       "</style>\n",
       "<table border=\"1\" class=\"dataframe\">\n",
       "  <thead>\n",
       "    <tr style=\"text-align: right;\">\n",
       "      <th></th>\n",
       "      <th>length</th>\n",
       "      <th>itheta</th>\n",
       "      <th>beta</th>\n",
       "      <th>nMC</th>\n",
       "      <th>ntherm</th>\n",
       "      <th>freq</th>\n",
       "      <th>|phi|_mean</th>\n",
       "      <th>Q_L_mean</th>\n",
       "      <th>A_L_mean</th>\n",
       "      <th>S_L_mean</th>\n",
       "      <th>...</th>\n",
       "      <th>acc_std</th>\n",
       "      <th>corr_length_Re_std</th>\n",
       "      <th>corr_length_Im_std</th>\n",
       "      <th>F_Re_py_std</th>\n",
       "      <th>F_Im_py_std</th>\n",
       "      <th>mass_gap_Re_std</th>\n",
       "      <th>mass_gap_Im_std</th>\n",
       "      <th>time (sec)</th>\n",
       "      <th>time (min)</th>\n",
       "      <th>time (hr)</th>\n",
       "    </tr>\n",
       "  </thead>\n",
       "  <tbody>\n",
       "    <tr>\n",
       "      <th>0</th>\n",
       "      <td>180.0</td>\n",
       "      <td>0.0</td>\n",
       "      <td>1.6</td>\n",
       "      <td>10000.0</td>\n",
       "      <td>0.0</td>\n",
       "      <td>1.0</td>\n",
       "      <td>32400.0</td>\n",
       "      <td>0.670168</td>\n",
       "      <td>-67063.191197</td>\n",
       "      <td>-67063.191197</td>\n",
       "      <td>...</td>\n",
       "      <td>0.000852</td>\n",
       "      <td>4.497194</td>\n",
       "      <td>4.104715</td>\n",
       "      <td>0.0</td>\n",
       "      <td>0.0</td>\n",
       "      <td>0.000917</td>\n",
       "      <td>0.000837</td>\n",
       "      <td>121257.0</td>\n",
       "      <td>2020.95</td>\n",
       "      <td>33.6825</td>\n",
       "    </tr>\n",
       "  </tbody>\n",
       "</table>\n",
       "<p>1 rows × 41 columns</p>\n",
       "</div>"
      ],
      "text/plain": [
       "   length  itheta  beta      nMC  ntherm  freq  |phi|_mean  Q_L_mean  \\\n",
       "0   180.0     0.0   1.6  10000.0     0.0   1.0     32400.0  0.670168   \n",
       "\n",
       "       A_L_mean      S_L_mean  ...   acc_std  corr_length_Re_std  \\\n",
       "0 -67063.191197 -67063.191197  ...  0.000852            4.497194   \n",
       "\n",
       "   corr_length_Im_std  F_Re_py_std  F_Im_py_std  mass_gap_Re_std  \\\n",
       "0            4.104715          0.0          0.0         0.000917   \n",
       "\n",
       "   mass_gap_Im_std  time (sec)  time (min)  time (hr)  \n",
       "0         0.000837    121257.0     2020.95    33.6825  \n",
       "\n",
       "[1 rows x 41 columns]"
      ]
     },
     "execution_count": 19,
     "metadata": {},
     "output_type": "execute_result"
    }
   ],
   "source": [
    "df_stats[df_stats[\"length\"]==180].head(10)"
   ]
  },
  {
   "cell_type": "code",
   "execution_count": 20,
   "id": "d5e00f55-a02c-492f-be1d-2cc25efbca9f",
   "metadata": {},
   "outputs": [
    {
     "data": {
      "image/png": "[encoded data removed]",
      "text/plain": [
       "<Figure size 640x480 with 1 Axes>"
      ]
     },
     "metadata": {},
     "output_type": "display_data"
    }
   ],
   "source": [
    "for n,length in enumerate(lengths):\n",
    "    x,y,err = analyzer.get_plot_data(obs = observable, L = length, beta = 1.6, nMC = 10000, ntherm = 0, freq = 1)\n",
    "    plt.errorbar(x, 8.*y , yerr = err, marker = \".\", ls = \"none\", color = colors[n], label =\"L=\"+str(length))\n",
    "plt.legend()\n",
    "plt.xlim([0.0,4.0])\n",
    "plt.xlabel(r\"$i\\theta$\")\n",
    "plt.ylabel(r\"$\\langle Q_L \\rangle $\")\n",
    "#plt.title(observable)\n",
    "plt.savefig(\"../Figs_README/Q_L_preliminary.jpg\", format = \"jpg\")\n",
    "plt.show()"
   ]
  },
  {
   "cell_type": "markdown",
   "id": "b0118ab6-773b-45b6-9a3b-5a4583472ee6",
   "metadata": {},
   "source": [
    "## Recreating Alles et al"
   ]
  },
  {
   "cell_type": "code",
   "execution_count": 21,
   "id": "13e8bc9f-fb4d-40f4-94dd-60126136d1fa",
   "metadata": {},
   "outputs": [
    {
     "name": "stdout",
     "output_type": "stream",
     "text": [
      "run not yet complete\n",
      "L_180_beta_1.600000_itheta_0.785398_ntherm_0_nMC_10000_freq_1\n",
      "Status: 1994 lines written\n"
     ]
    }
   ],
   "source": [
    "analysis_data_filepath = \"/project/pi_cberger_smith_edu/nlsigma_data_arcsin/\"#arccos/\"\n",
    "source_data_filepath = \"/work/pi_cberger_smith_edu/data_QL_L180/\"#_arccos/\"#QL_L180/\"#systematics/\"\n",
    "alles_data_filepath = \"/project/pi_cberger_smith_edu/alles_et_al/\"\n",
    "\n",
    "analyzerL180 = LatticeData(datadir = analysis_data_filepath, use_full_filepath = True)\n",
    "analyzerL180.copy_data_from_directory(source_data_filepath)"
   ]
  },
  {
   "cell_type": "code",
   "execution_count": 22,
   "id": "f6cb10e7-7c3f-4382-8250-176adedec62f",
   "metadata": {},
   "outputs": [],
   "source": [
    "dfL180 = analyzerL180.get_data()\n",
    "df_statsL180 = analyzerL180.do_stats(therm_frac = 0.1)"
   ]
  },
  {
   "cell_type": "code",
   "execution_count": 23,
   "id": "965c2410-8b1c-4abc-b2af-e30d91bf2716",
   "metadata": {},
   "outputs": [],
   "source": [
    "colorsL180 = sns.color_palette(\"Blues\", 2)\n",
    "observable = \"Q_L\""
   ]
  },
  {
   "cell_type": "code",
   "execution_count": 24,
   "id": "5145c6b5-8d3f-4a01-9622-f3e6cdf4b5f7",
   "metadata": {},
   "outputs": [
    {
     "data": {
      "text/html": [
       "<div>\n",
       "<style scoped>\n",
       "    .dataframe tbody tr th:only-of-type {\n",
       "        vertical-align: middle;\n",
       "    }\n",
       "\n",
       "    .dataframe tbody tr th {\n",
       "        vertical-align: top;\n",
       "    }\n",
       "\n",
       "    .dataframe thead th {\n",
       "        text-align: right;\n",
       "    }\n",
       "</style>\n",
       "<table border=\"1\" class=\"dataframe\">\n",
       "  <thead>\n",
       "    <tr style=\"text-align: right;\">\n",
       "      <th></th>\n",
       "      <th>length</th>\n",
       "      <th>itheta</th>\n",
       "      <th>beta</th>\n",
       "      <th>nMC</th>\n",
       "      <th>ntherm</th>\n",
       "      <th>freq</th>\n",
       "      <th>|phi|_mean</th>\n",
       "      <th>Q_L_mean</th>\n",
       "      <th>A_L_mean</th>\n",
       "      <th>S_L_mean</th>\n",
       "      <th>...</th>\n",
       "      <th>acc_std</th>\n",
       "      <th>corr_length_Re_std</th>\n",
       "      <th>corr_length_Im_std</th>\n",
       "      <th>F_Re_py_std</th>\n",
       "      <th>F_Im_py_std</th>\n",
       "      <th>mass_gap_Re_std</th>\n",
       "      <th>mass_gap_Im_std</th>\n",
       "      <th>time (sec)</th>\n",
       "      <th>time (min)</th>\n",
       "      <th>time (hr)</th>\n",
       "    </tr>\n",
       "  </thead>\n",
       "  <tbody>\n",
       "    <tr>\n",
       "      <th>0</th>\n",
       "      <td>180.0</td>\n",
       "      <td>0.000000</td>\n",
       "      <td>1.6</td>\n",
       "      <td>10000.0</td>\n",
       "      <td>0.0</td>\n",
       "      <td>1.0</td>\n",
       "      <td>32400.0</td>\n",
       "      <td>-0.056889</td>\n",
       "      <td>-67076.638479</td>\n",
       "      <td>-67076.638479</td>\n",
       "      <td>...</td>\n",
       "      <td>0.000895</td>\n",
       "      <td>5.498848</td>\n",
       "      <td>4.949502</td>\n",
       "      <td>0.0</td>\n",
       "      <td>0.0</td>\n",
       "      <td>0.001787</td>\n",
       "      <td>0.001608</td>\n",
       "      <td>231392.0</td>\n",
       "      <td>3856.533333</td>\n",
       "      <td>64.275556</td>\n",
       "    </tr>\n",
       "    <tr>\n",
       "      <th>1</th>\n",
       "      <td>180.0</td>\n",
       "      <td>0.392699</td>\n",
       "      <td>1.6</td>\n",
       "      <td>10000.0</td>\n",
       "      <td>0.0</td>\n",
       "      <td>1.0</td>\n",
       "      <td>32400.0</td>\n",
       "      <td>4.829222</td>\n",
       "      <td>-67088.996880</td>\n",
       "      <td>-67090.893312</td>\n",
       "      <td>...</td>\n",
       "      <td>0.000884</td>\n",
       "      <td>3.474330</td>\n",
       "      <td>1.963145</td>\n",
       "      <td>0.0</td>\n",
       "      <td>0.0</td>\n",
       "      <td>0.024691</td>\n",
       "      <td>0.013951</td>\n",
       "      <td>390898.0</td>\n",
       "      <td>6514.966667</td>\n",
       "      <td>108.582778</td>\n",
       "    </tr>\n",
       "    <tr>\n",
       "      <th>2</th>\n",
       "      <td>180.0</td>\n",
       "      <td>1.178097</td>\n",
       "      <td>1.6</td>\n",
       "      <td>10000.0</td>\n",
       "      <td>0.0</td>\n",
       "      <td>1.0</td>\n",
       "      <td>32400.0</td>\n",
       "      <td>12.541444</td>\n",
       "      <td>-67012.041765</td>\n",
       "      <td>-67026.816806</td>\n",
       "      <td>...</td>\n",
       "      <td>0.000814</td>\n",
       "      <td>0.365706</td>\n",
       "      <td>2.608762</td>\n",
       "      <td>0.0</td>\n",
       "      <td>0.0</td>\n",
       "      <td>0.002032</td>\n",
       "      <td>0.014494</td>\n",
       "      <td>75404.0</td>\n",
       "      <td>1256.733333</td>\n",
       "      <td>20.945556</td>\n",
       "    </tr>\n",
       "    <tr>\n",
       "      <th>3</th>\n",
       "      <td>180.0</td>\n",
       "      <td>1.570796</td>\n",
       "      <td>1.6</td>\n",
       "      <td>10000.0</td>\n",
       "      <td>0.0</td>\n",
       "      <td>1.0</td>\n",
       "      <td>32400.0</td>\n",
       "      <td>18.171000</td>\n",
       "      <td>-66958.182664</td>\n",
       "      <td>-66986.725605</td>\n",
       "      <td>...</td>\n",
       "      <td>0.001068</td>\n",
       "      <td>2.222081</td>\n",
       "      <td>3.006684</td>\n",
       "      <td>0.0</td>\n",
       "      <td>0.0</td>\n",
       "      <td>0.007135</td>\n",
       "      <td>0.009654</td>\n",
       "      <td>163078.0</td>\n",
       "      <td>2717.966667</td>\n",
       "      <td>45.299444</td>\n",
       "    </tr>\n",
       "    <tr>\n",
       "      <th>4</th>\n",
       "      <td>180.0</td>\n",
       "      <td>1.963495</td>\n",
       "      <td>1.6</td>\n",
       "      <td>10000.0</td>\n",
       "      <td>0.0</td>\n",
       "      <td>1.0</td>\n",
       "      <td>32400.0</td>\n",
       "      <td>27.268889</td>\n",
       "      <td>-66847.812475</td>\n",
       "      <td>-66901.354813</td>\n",
       "      <td>...</td>\n",
       "      <td>0.001046</td>\n",
       "      <td>0.003499</td>\n",
       "      <td>1.569087</td>\n",
       "      <td>0.0</td>\n",
       "      <td>0.0</td>\n",
       "      <td>0.000003</td>\n",
       "      <td>0.001361</td>\n",
       "      <td>91077.0</td>\n",
       "      <td>1517.950000</td>\n",
       "      <td>25.299167</td>\n",
       "    </tr>\n",
       "  </tbody>\n",
       "</table>\n",
       "<p>5 rows × 41 columns</p>\n",
       "</div>"
      ],
      "text/plain": [
       "   length    itheta  beta      nMC  ntherm  freq  |phi|_mean   Q_L_mean  \\\n",
       "0   180.0  0.000000   1.6  10000.0     0.0   1.0     32400.0  -0.056889   \n",
       "1   180.0  0.392699   1.6  10000.0     0.0   1.0     32400.0   4.829222   \n",
       "2   180.0  1.178097   1.6  10000.0     0.0   1.0     32400.0  12.541444   \n",
       "3   180.0  1.570796   1.6  10000.0     0.0   1.0     32400.0  18.171000   \n",
       "4   180.0  1.963495   1.6  10000.0     0.0   1.0     32400.0  27.268889   \n",
       "\n",
       "       A_L_mean      S_L_mean  ...   acc_std  corr_length_Re_std  \\\n",
       "0 -67076.638479 -67076.638479  ...  0.000895            5.498848   \n",
       "1 -67088.996880 -67090.893312  ...  0.000884            3.474330   \n",
       "2 -67012.041765 -67026.816806  ...  0.000814            0.365706   \n",
       "3 -66958.182664 -66986.725605  ...  0.001068            2.222081   \n",
       "4 -66847.812475 -66901.354813  ...  0.001046            0.003499   \n",
       "\n",
       "   corr_length_Im_std  F_Re_py_std  F_Im_py_std  mass_gap_Re_std  \\\n",
       "0            4.949502          0.0          0.0         0.001787   \n",
       "1            1.963145          0.0          0.0         0.024691   \n",
       "2            2.608762          0.0          0.0         0.002032   \n",
       "3            3.006684          0.0          0.0         0.007135   \n",
       "4            1.569087          0.0          0.0         0.000003   \n",
       "\n",
       "   mass_gap_Im_std  time (sec)   time (min)   time (hr)  \n",
       "0         0.001608    231392.0  3856.533333   64.275556  \n",
       "1         0.013951    390898.0  6514.966667  108.582778  \n",
       "2         0.014494     75404.0  1256.733333   20.945556  \n",
       "3         0.009654    163078.0  2717.966667   45.299444  \n",
       "4         0.001361     91077.0  1517.950000   25.299167  \n",
       "\n",
       "[5 rows x 41 columns]"
      ]
     },
     "execution_count": 24,
     "metadata": {},
     "output_type": "execute_result"
    }
   ],
   "source": [
    "df_statsL180.head()"
   ]
  },
  {
   "cell_type": "code",
   "execution_count": 25,
   "id": "b65637fe-6c9b-4a4a-9ffe-bcf42ac1a0d3",
   "metadata": {},
   "outputs": [],
   "source": [
    "df_alles = pd.read_csv(alles_data_filepath+\"QL_plot_data.csv\")"
   ]
  },
  {
   "cell_type": "code",
   "execution_count": 26,
   "id": "b7d63b98-9b0b-4e09-bcd6-2e10dc8436a9",
   "metadata": {},
   "outputs": [],
   "source": [
    "df_alles.rename(columns = {\"x\":\"itheta\",\"y\":\"Q_L_mean\"},inplace=True)\n",
    "df_alles[\"Q_L_std\"] = 0.0\n",
    "df_alles[\"type\"] = \"Alles\""
   ]
  },
  {
   "cell_type": "code",
   "execution_count": 27,
   "id": "d2dfa169-ea0d-4797-b519-0c452e12fd3e",
   "metadata": {},
   "outputs": [
    {
     "data": {
      "text/html": [
       "<div>\n",
       "<style scoped>\n",
       "    .dataframe tbody tr th:only-of-type {\n",
       "        vertical-align: middle;\n",
       "    }\n",
       "\n",
       "    .dataframe tbody tr th {\n",
       "        vertical-align: top;\n",
       "    }\n",
       "\n",
       "    .dataframe thead th {\n",
       "        text-align: right;\n",
       "    }\n",
       "</style>\n",
       "<table border=\"1\" class=\"dataframe\">\n",
       "  <thead>\n",
       "    <tr style=\"text-align: right;\">\n",
       "      <th></th>\n",
       "      <th>itheta</th>\n",
       "      <th>Q_L_mean</th>\n",
       "      <th>Q_L_std</th>\n",
       "      <th>type</th>\n",
       "    </tr>\n",
       "  </thead>\n",
       "  <tbody>\n",
       "    <tr>\n",
       "      <th>0</th>\n",
       "      <td>0.597462</td>\n",
       "      <td>24.951259</td>\n",
       "      <td>0.0</td>\n",
       "      <td>Alles</td>\n",
       "    </tr>\n",
       "    <tr>\n",
       "      <th>1</th>\n",
       "      <td>0.497775</td>\n",
       "      <td>20.850330</td>\n",
       "      <td>0.0</td>\n",
       "      <td>Alles</td>\n",
       "    </tr>\n",
       "    <tr>\n",
       "      <th>2</th>\n",
       "      <td>0.099208</td>\n",
       "      <td>4.534258</td>\n",
       "      <td>0.0</td>\n",
       "      <td>Alles</td>\n",
       "    </tr>\n",
       "    <tr>\n",
       "      <th>3</th>\n",
       "      <td>0.195842</td>\n",
       "      <td>7.429891</td>\n",
       "      <td>0.0</td>\n",
       "      <td>Alles</td>\n",
       "    </tr>\n",
       "    <tr>\n",
       "      <th>4</th>\n",
       "      <td>0.299153</td>\n",
       "      <td>12.605223</td>\n",
       "      <td>0.0</td>\n",
       "      <td>Alles</td>\n",
       "    </tr>\n",
       "  </tbody>\n",
       "</table>\n",
       "</div>"
      ],
      "text/plain": [
       "     itheta   Q_L_mean  Q_L_std   type\n",
       "0  0.597462  24.951259      0.0  Alles\n",
       "1  0.497775  20.850330      0.0  Alles\n",
       "2  0.099208   4.534258      0.0  Alles\n",
       "3  0.195842   7.429891      0.0  Alles\n",
       "4  0.299153  12.605223      0.0  Alles"
      ]
     },
     "execution_count": 27,
     "metadata": {},
     "output_type": "execute_result"
    }
   ],
   "source": [
    "df_alles.head()"
   ]
  },
  {
   "cell_type": "code",
   "execution_count": 28,
   "id": "8607ca61-3d6d-40f5-9cb5-8a401b3752b8",
   "metadata": {},
   "outputs": [],
   "source": [
    "df_plot = df_statsL180[[\"itheta\",\"Q_L_mean\",\"Q_L_std\"]]"
   ]
  },
  {
   "cell_type": "code",
   "execution_count": 29,
   "id": "78c145ae-861c-44e0-9bc4-bfa064211ccc",
   "metadata": {},
   "outputs": [
    {
     "name": "stderr",
     "output_type": "stream",
     "text": [
      "/tmp/ipykernel_1042132/1070120515.py:1: SettingWithCopyWarning: \n",
      "A value is trying to be set on a copy of a slice from a DataFrame.\n",
      "Try using .loc[row_indexer,col_indexer] = value instead\n",
      "\n",
      "See the caveats in the documentation: https://pandas.pydata.org/pandas-docs/stable/user_guide/indexing.html#returning-a-view-versus-a-copy\n",
      "  df_plot[\"type\"] = \"Berger\"\n"
     ]
    }
   ],
   "source": [
    "df_plot[\"type\"] = \"Berger\""
   ]
  },
  {
   "cell_type": "code",
   "execution_count": 30,
   "id": "cf5a1639-3fd7-4c5d-8ba8-86471cbd6f4d",
   "metadata": {},
   "outputs": [],
   "source": [
    "df_plot = pd.concat([df_plot,df_alles])"
   ]
  },
  {
   "cell_type": "code",
   "execution_count": 31,
   "id": "1282874a-7241-4f0e-b669-c940f9fbfd0c",
   "metadata": {},
   "outputs": [
    {
     "data": {
      "text/html": [
       "<div>\n",
       "<style scoped>\n",
       "    .dataframe tbody tr th:only-of-type {\n",
       "        vertical-align: middle;\n",
       "    }\n",
       "\n",
       "    .dataframe tbody tr th {\n",
       "        vertical-align: top;\n",
       "    }\n",
       "\n",
       "    .dataframe thead th {\n",
       "        text-align: right;\n",
       "    }\n",
       "</style>\n",
       "<table border=\"1\" class=\"dataframe\">\n",
       "  <thead>\n",
       "    <tr style=\"text-align: right;\">\n",
       "      <th></th>\n",
       "      <th>itheta</th>\n",
       "      <th>Q_L_mean</th>\n",
       "      <th>Q_L_std</th>\n",
       "      <th>type</th>\n",
       "    </tr>\n",
       "  </thead>\n",
       "  <tbody>\n",
       "    <tr>\n",
       "      <th>0</th>\n",
       "      <td>0.000000</td>\n",
       "      <td>-0.056889</td>\n",
       "      <td>3.137103</td>\n",
       "      <td>Berger</td>\n",
       "    </tr>\n",
       "    <tr>\n",
       "      <th>1</th>\n",
       "      <td>0.392699</td>\n",
       "      <td>4.829222</td>\n",
       "      <td>2.761403</td>\n",
       "      <td>Berger</td>\n",
       "    </tr>\n",
       "    <tr>\n",
       "      <th>2</th>\n",
       "      <td>1.178097</td>\n",
       "      <td>12.541444</td>\n",
       "      <td>3.801242</td>\n",
       "      <td>Berger</td>\n",
       "    </tr>\n",
       "    <tr>\n",
       "      <th>3</th>\n",
       "      <td>1.570796</td>\n",
       "      <td>18.171000</td>\n",
       "      <td>4.355007</td>\n",
       "      <td>Berger</td>\n",
       "    </tr>\n",
       "    <tr>\n",
       "      <th>4</th>\n",
       "      <td>1.963495</td>\n",
       "      <td>27.268889</td>\n",
       "      <td>5.099883</td>\n",
       "      <td>Berger</td>\n",
       "    </tr>\n",
       "  </tbody>\n",
       "</table>\n",
       "</div>"
      ],
      "text/plain": [
       "     itheta   Q_L_mean   Q_L_std    type\n",
       "0  0.000000  -0.056889  3.137103  Berger\n",
       "1  0.392699   4.829222  2.761403  Berger\n",
       "2  1.178097  12.541444  3.801242  Berger\n",
       "3  1.570796  18.171000  4.355007  Berger\n",
       "4  1.963495  27.268889  5.099883  Berger"
      ]
     },
     "execution_count": 31,
     "metadata": {},
     "output_type": "execute_result"
    }
   ],
   "source": [
    "df_plot.head()"
   ]
  },
  {
   "cell_type": "code",
   "execution_count": 37,
   "id": "b9fe3be0-6154-4470-aa49-c8d013a83756",
   "metadata": {},
   "outputs": [
    {
     "data": {
      "image/png": "[encoded data removed]",
      "text/plain": [
       "<Figure size 640x480 with 1 Axes>"
      ]
     },
     "metadata": {},
     "output_type": "display_data"
    }
   ],
   "source": [
    "for n,length in enumerate(lengths):\n",
    "    x,y,err = analyzerL180.get_plot_data(obs = observable, L = length, beta = 1.6, nMC = 10000, ntherm = 0, freq = 1)\n",
    "    plt.errorbar(x, 2*np.pi*y , yerr = err, marker = \".\", ls = \"none\", color = colors[n], label =r\"$2\\pi Q_{L}$ at L=\"+str(length))\n",
    "    plt.errorbar(df_alles[\"itheta\"], df_alles[\"Q_L_mean\"] , yerr = df_alles[\"Q_L_std\"], marker = \".\", ls = \"none\", color = \"black\", label =\"Alles et al\")\n",
    "plt.legend()\n",
    "plt.xlim([0.0,4.0])\n",
    "plt.xlabel(r\"$i\\theta$\")\n",
    "plt.ylabel(r\"$\\langle Q_L \\rangle $\")\n",
    "#plt.title(observable)\n",
    "plt.savefig(\"../Figs_README/Q_L_comparison.jpg\", format = \"jpg\")\n",
    "plt.show()"
   ]
  },
  {
   "cell_type": "code",
   "execution_count": null,
   "id": "f4a89755-053f-43f7-8b62-41039fcbeb2b",
   "metadata": {},
   "outputs": [],
   "source": []
  }
 ],
 "metadata": {
  "kernelspec": {
   "display_name": "Python [conda env:.conda-nlsigma]",
   "language": "python",
   "name": "conda-env-.conda-nlsigma-py"
  },
  "language_info": {
   "codemirror_mode": {
    "name": "ipython",
    "version": 3
   },
   "file_extension": ".py",
   "mimetype": "text/x-python",
   "name": "python",
   "nbconvert_exporter": "python",
   "pygments_lexer": "ipython3",
   "version": "3.11.7"
  }
 },
 "nbformat": 4,
 "nbformat_minor": 5
}
