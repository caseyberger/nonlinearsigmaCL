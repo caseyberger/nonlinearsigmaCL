{
 "cells": [
  {
   "cell_type": "code",
   "execution_count": 1,
   "id": "1d6672c5-0a61-45f8-803a-28812a4a9aca",
   "metadata": {},
   "outputs": [],
   "source": [
    "import os\n",
    "import numpy as np\n",
    "import pandas as pd\n",
    "import matplotlib.pyplot as plt\n",
    "import seaborn as sns\n",
    "from LatticeData import *"
   ]
  },
  {
   "cell_type": "markdown",
   "id": "09a42030-1f13-4783-9853-f1459b51f90e",
   "metadata": {},
   "source": [
    "# Create analyzer - instantiate class"
   ]
  },
  {
   "cell_type": "code",
   "execution_count": 2,
   "id": "3a8f83a8-69c3-4a84-913c-2a280a8f6ad2",
   "metadata": {},
   "outputs": [],
   "source": [
    "analyzer = LatticeData(datadir = \"/data_latest/\")"
   ]
  },
  {
   "cell_type": "markdown",
   "id": "1ebdc7d7-f864-4e6c-a503-972ba1713290",
   "metadata": {},
   "source": [
    "## Collect Data"
   ]
  },
  {
   "cell_type": "code",
   "execution_count": 3,
   "id": "2e111867-1759-4432-b15e-53e483a40031",
   "metadata": {},
   "outputs": [],
   "source": [
    "analyzer.copy_data_from_directory(\"/data_unity/\")"
   ]
  },
  {
   "cell_type": "markdown",
   "id": "61491e67-091b-4173-95a6-06f977afcaeb",
   "metadata": {
    "tags": []
   },
   "source": [
    "## Basic statistics"
   ]
  },
  {
   "cell_type": "code",
   "execution_count": 4,
   "id": "b5680445-d9ea-4940-8252-3123e99b66ca",
   "metadata": {},
   "outputs": [],
   "source": [
    "df = analyzer.get_data()"
   ]
  },
  {
   "cell_type": "code",
   "execution_count": 5,
   "id": "131ea67c-88cf-4480-981c-e6d306ab0665",
   "metadata": {},
   "outputs": [
    {
     "data": {
      "text/html": [
       "<div>\n",
       "<style scoped>\n",
       "    .dataframe tbody tr th:only-of-type {\n",
       "        vertical-align: middle;\n",
       "    }\n",
       "\n",
       "    .dataframe tbody tr th {\n",
       "        vertical-align: top;\n",
       "    }\n",
       "\n",
       "    .dataframe thead th {\n",
       "        text-align: right;\n",
       "    }\n",
       "</style>\n",
       "<table border=\"1\" class=\"dataframe\">\n",
       "  <thead>\n",
       "    <tr style=\"text-align: right;\">\n",
       "      <th></th>\n",
       "      <th>step</th>\n",
       "      <th>|phi|</th>\n",
       "      <th>Q_L</th>\n",
       "      <th>A_L</th>\n",
       "      <th>S_L</th>\n",
       "      <th>Xi_L</th>\n",
       "      <th>F_LRe</th>\n",
       "      <th>F_LIm</th>\n",
       "      <th>acc</th>\n",
       "      <th>dt</th>\n",
       "      <th>...</th>\n",
       "      <th>Q_L_ta</th>\n",
       "      <th>A_L_ta</th>\n",
       "      <th>S_L_ta</th>\n",
       "      <th>Xi_L_ta</th>\n",
       "      <th>corr_length_Re</th>\n",
       "      <th>corr_length_Im</th>\n",
       "      <th>F_Re_py</th>\n",
       "      <th>F_Im_py</th>\n",
       "      <th>mass_gap_Re</th>\n",
       "      <th>mass_gap_Im</th>\n",
       "    </tr>\n",
       "  </thead>\n",
       "  <tbody>\n",
       "    <tr>\n",
       "      <th>0</th>\n",
       "      <td>0</td>\n",
       "      <td>400.0</td>\n",
       "      <td>0.000000</td>\n",
       "      <td>-828.864593</td>\n",
       "      <td>-828.864593</td>\n",
       "      <td>104.251811</td>\n",
       "      <td>9.601777</td>\n",
       "      <td>8.528313</td>\n",
       "      <td>0.210000</td>\n",
       "      <td>0.0</td>\n",
       "      <td>...</td>\n",
       "      <td>1</td>\n",
       "      <td>5</td>\n",
       "      <td>5</td>\n",
       "      <td>9</td>\n",
       "      <td>36.147627</td>\n",
       "      <td>-14.291794</td>\n",
       "      <td>0.514305</td>\n",
       "      <td>0.482037</td>\n",
       "      <td>0.023924</td>\n",
       "      <td>0.009459</td>\n",
       "    </tr>\n",
       "    <tr>\n",
       "      <th>1</th>\n",
       "      <td>100</td>\n",
       "      <td>400.0</td>\n",
       "      <td>-0.148727</td>\n",
       "      <td>-821.349255</td>\n",
       "      <td>-821.232445</td>\n",
       "      <td>-10.248539</td>\n",
       "      <td>9.601777</td>\n",
       "      <td>8.528313</td>\n",
       "      <td>0.196510</td>\n",
       "      <td>2.0</td>\n",
       "      <td>...</td>\n",
       "      <td>1</td>\n",
       "      <td>5</td>\n",
       "      <td>5</td>\n",
       "      <td>9</td>\n",
       "      <td>4.481010</td>\n",
       "      <td>11.333628</td>\n",
       "      <td>0.514305</td>\n",
       "      <td>0.482037</td>\n",
       "      <td>0.030169</td>\n",
       "      <td>-0.076305</td>\n",
       "    </tr>\n",
       "    <tr>\n",
       "      <th>2</th>\n",
       "      <td>200</td>\n",
       "      <td>400.0</td>\n",
       "      <td>0.000000</td>\n",
       "      <td>-835.206890</td>\n",
       "      <td>-835.206890</td>\n",
       "      <td>-56.045550</td>\n",
       "      <td>9.601777</td>\n",
       "      <td>8.528313</td>\n",
       "      <td>0.201294</td>\n",
       "      <td>4.0</td>\n",
       "      <td>...</td>\n",
       "      <td>1</td>\n",
       "      <td>5</td>\n",
       "      <td>5</td>\n",
       "      <td>9</td>\n",
       "      <td>10.478896</td>\n",
       "      <td>26.503825</td>\n",
       "      <td>0.514305</td>\n",
       "      <td>0.482037</td>\n",
       "      <td>0.012901</td>\n",
       "      <td>-0.032630</td>\n",
       "    </tr>\n",
       "    <tr>\n",
       "      <th>3</th>\n",
       "      <td>300</td>\n",
       "      <td>400.0</td>\n",
       "      <td>-0.688385</td>\n",
       "      <td>-803.091260</td>\n",
       "      <td>-802.550604</td>\n",
       "      <td>49.526606</td>\n",
       "      <td>9.601777</td>\n",
       "      <td>8.528313</td>\n",
       "      <td>0.201287</td>\n",
       "      <td>5.0</td>\n",
       "      <td>...</td>\n",
       "      <td>1</td>\n",
       "      <td>5</td>\n",
       "      <td>5</td>\n",
       "      <td>9</td>\n",
       "      <td>24.914792</td>\n",
       "      <td>-9.850635</td>\n",
       "      <td>0.514305</td>\n",
       "      <td>0.482037</td>\n",
       "      <td>0.034711</td>\n",
       "      <td>0.013724</td>\n",
       "    </tr>\n",
       "    <tr>\n",
       "      <th>4</th>\n",
       "      <td>400</td>\n",
       "      <td>400.0</td>\n",
       "      <td>1.181674</td>\n",
       "      <td>-802.410507</td>\n",
       "      <td>-803.338591</td>\n",
       "      <td>147.341176</td>\n",
       "      <td>9.601777</td>\n",
       "      <td>8.528313</td>\n",
       "      <td>0.201122</td>\n",
       "      <td>7.0</td>\n",
       "      <td>...</td>\n",
       "      <td>1</td>\n",
       "      <td>5</td>\n",
       "      <td>5</td>\n",
       "      <td>9</td>\n",
       "      <td>42.973434</td>\n",
       "      <td>-16.990534</td>\n",
       "      <td>0.514305</td>\n",
       "      <td>0.482037</td>\n",
       "      <td>0.020124</td>\n",
       "      <td>0.007957</td>\n",
       "    </tr>\n",
       "  </tbody>\n",
       "</table>\n",
       "<p>5 rows × 26 columns</p>\n",
       "</div>"
      ],
      "text/plain": [
       "   step  |phi|       Q_L         A_L         S_L        Xi_L     F_LRe  \\\n",
       "0     0  400.0  0.000000 -828.864593 -828.864593  104.251811  9.601777   \n",
       "1   100  400.0 -0.148727 -821.349255 -821.232445  -10.248539  9.601777   \n",
       "2   200  400.0  0.000000 -835.206890 -835.206890  -56.045550  9.601777   \n",
       "3   300  400.0 -0.688385 -803.091260 -802.550604   49.526606  9.601777   \n",
       "4   400  400.0  1.181674 -802.410507 -803.338591  147.341176  9.601777   \n",
       "\n",
       "      F_LIm       acc   dt  ...  Q_L_ta  A_L_ta  S_L_ta  Xi_L_ta  \\\n",
       "0  8.528313  0.210000  0.0  ...       1       5       5        9   \n",
       "1  8.528313  0.196510  2.0  ...       1       5       5        9   \n",
       "2  8.528313  0.201294  4.0  ...       1       5       5        9   \n",
       "3  8.528313  0.201287  5.0  ...       1       5       5        9   \n",
       "4  8.528313  0.201122  7.0  ...       1       5       5        9   \n",
       "\n",
       "   corr_length_Re  corr_length_Im   F_Re_py   F_Im_py  mass_gap_Re  \\\n",
       "0       36.147627      -14.291794  0.514305  0.482037     0.023924   \n",
       "1        4.481010       11.333628  0.514305  0.482037     0.030169   \n",
       "2       10.478896       26.503825  0.514305  0.482037     0.012901   \n",
       "3       24.914792       -9.850635  0.514305  0.482037     0.034711   \n",
       "4       42.973434      -16.990534  0.514305  0.482037     0.020124   \n",
       "\n",
       "   mass_gap_Im  \n",
       "0     0.009459  \n",
       "1    -0.076305  \n",
       "2    -0.032630  \n",
       "3     0.013724  \n",
       "4     0.007957  \n",
       "\n",
       "[5 rows x 26 columns]"
      ]
     },
     "execution_count": 5,
     "metadata": {},
     "output_type": "execute_result"
    }
   ],
   "source": [
    "df.head()"
   ]
  },
  {
   "cell_type": "code",
   "execution_count": 6,
   "id": "07380ff5-4fd2-477a-ab7b-0cbf5d9e2d70",
   "metadata": {},
   "outputs": [
    {
     "data": {
      "text/plain": [
       "array([0.785398, 1.570796, 0.392699, 3.141593, 1.178097, 1.963495,\n",
       "       2.356194, 0.      , 2.748894, 3.534292])"
      ]
     },
     "execution_count": 6,
     "metadata": {},
     "output_type": "execute_result"
    }
   ],
   "source": [
    "df[\"itheta\"].unique()"
   ]
  },
  {
   "cell_type": "code",
   "execution_count": 7,
   "id": "e3021073-d9cf-439c-868e-03a551f561aa",
   "metadata": {},
   "outputs": [],
   "source": [
    "df_stats = analyzer.do_stats(therm = 0)"
   ]
  },
  {
   "cell_type": "code",
   "execution_count": 8,
   "id": "8edfccd0-b085-4f72-847c-787a48a1503a",
   "metadata": {},
   "outputs": [
    {
     "data": {
      "text/html": [
       "<div>\n",
       "<style scoped>\n",
       "    .dataframe tbody tr th:only-of-type {\n",
       "        vertical-align: middle;\n",
       "    }\n",
       "\n",
       "    .dataframe tbody tr th {\n",
       "        vertical-align: top;\n",
       "    }\n",
       "\n",
       "    .dataframe thead th {\n",
       "        text-align: right;\n",
       "    }\n",
       "</style>\n",
       "<table border=\"1\" class=\"dataframe\">\n",
       "  <thead>\n",
       "    <tr style=\"text-align: right;\">\n",
       "      <th></th>\n",
       "      <th>length</th>\n",
       "      <th>itheta</th>\n",
       "      <th>beta</th>\n",
       "      <th>nMC</th>\n",
       "      <th>ntherm</th>\n",
       "      <th>freq</th>\n",
       "      <th>|phi|_mean</th>\n",
       "      <th>Q_L_mean</th>\n",
       "      <th>A_L_mean</th>\n",
       "      <th>S_L_mean</th>\n",
       "      <th>...</th>\n",
       "      <th>acc_std</th>\n",
       "      <th>corr_length_Re_std</th>\n",
       "      <th>corr_length_Im_std</th>\n",
       "      <th>F_Re_py_std</th>\n",
       "      <th>F_Im_py_std</th>\n",
       "      <th>mass_gap_Re_std</th>\n",
       "      <th>mass_gap_Im_std</th>\n",
       "      <th>time (sec)</th>\n",
       "      <th>time (min)</th>\n",
       "      <th>time (hr)</th>\n",
       "    </tr>\n",
       "  </thead>\n",
       "  <tbody>\n",
       "    <tr>\n",
       "      <th>0</th>\n",
       "      <td>10.0</td>\n",
       "      <td>0.000000</td>\n",
       "      <td>1.6</td>\n",
       "      <td>10000.0</td>\n",
       "      <td>1000.0</td>\n",
       "      <td>100.0</td>\n",
       "      <td>100.0</td>\n",
       "      <td>0.034202</td>\n",
       "      <td>-204.885439</td>\n",
       "      <td>-204.885439</td>\n",
       "      <td>...</td>\n",
       "      <td>0.009147</td>\n",
       "      <td>2.925980</td>\n",
       "      <td>3.049152</td>\n",
       "      <td>0.0</td>\n",
       "      <td>0.0</td>\n",
       "      <td>0.087460</td>\n",
       "      <td>0.215978</td>\n",
       "      <td>375.0</td>\n",
       "      <td>6.250000</td>\n",
       "      <td>0.104167</td>\n",
       "    </tr>\n",
       "    <tr>\n",
       "      <th>1</th>\n",
       "      <td>10.0</td>\n",
       "      <td>0.000000</td>\n",
       "      <td>1.6</td>\n",
       "      <td>10000.0</td>\n",
       "      <td>4000.0</td>\n",
       "      <td>100.0</td>\n",
       "      <td>100.0</td>\n",
       "      <td>0.021717</td>\n",
       "      <td>-205.062766</td>\n",
       "      <td>-205.062766</td>\n",
       "      <td>...</td>\n",
       "      <td>0.002524</td>\n",
       "      <td>4.821024</td>\n",
       "      <td>2.227360</td>\n",
       "      <td>0.0</td>\n",
       "      <td>0.0</td>\n",
       "      <td>0.025255</td>\n",
       "      <td>0.174023</td>\n",
       "      <td>166.0</td>\n",
       "      <td>2.766667</td>\n",
       "      <td>0.046111</td>\n",
       "    </tr>\n",
       "    <tr>\n",
       "      <th>2</th>\n",
       "      <td>10.0</td>\n",
       "      <td>0.392699</td>\n",
       "      <td>1.6</td>\n",
       "      <td>10000.0</td>\n",
       "      <td>1000.0</td>\n",
       "      <td>100.0</td>\n",
       "      <td>100.0</td>\n",
       "      <td>0.009802</td>\n",
       "      <td>-208.408625</td>\n",
       "      <td>-208.412474</td>\n",
       "      <td>...</td>\n",
       "      <td>0.001446</td>\n",
       "      <td>3.680436</td>\n",
       "      <td>1.289105</td>\n",
       "      <td>0.0</td>\n",
       "      <td>0.0</td>\n",
       "      <td>0.030408</td>\n",
       "      <td>0.048396</td>\n",
       "      <td>41.0</td>\n",
       "      <td>0.683333</td>\n",
       "      <td>0.011389</td>\n",
       "    </tr>\n",
       "    <tr>\n",
       "      <th>3</th>\n",
       "      <td>10.0</td>\n",
       "      <td>0.392699</td>\n",
       "      <td>1.6</td>\n",
       "      <td>10000.0</td>\n",
       "      <td>4000.0</td>\n",
       "      <td>100.0</td>\n",
       "      <td>100.0</td>\n",
       "      <td>0.022388</td>\n",
       "      <td>-207.874121</td>\n",
       "      <td>-207.882913</td>\n",
       "      <td>...</td>\n",
       "      <td>0.004237</td>\n",
       "      <td>2.819576</td>\n",
       "      <td>1.146101</td>\n",
       "      <td>0.0</td>\n",
       "      <td>0.0</td>\n",
       "      <td>0.046357</td>\n",
       "      <td>0.046491</td>\n",
       "      <td>33.0</td>\n",
       "      <td>0.550000</td>\n",
       "      <td>0.009167</td>\n",
       "    </tr>\n",
       "    <tr>\n",
       "      <th>4</th>\n",
       "      <td>10.0</td>\n",
       "      <td>0.785398</td>\n",
       "      <td>1.6</td>\n",
       "      <td>10000.0</td>\n",
       "      <td>1000.0</td>\n",
       "      <td>100.0</td>\n",
       "      <td>100.0</td>\n",
       "      <td>0.025667</td>\n",
       "      <td>-206.899562</td>\n",
       "      <td>-206.919720</td>\n",
       "      <td>...</td>\n",
       "      <td>0.003180</td>\n",
       "      <td>3.905533</td>\n",
       "      <td>1.060966</td>\n",
       "      <td>0.0</td>\n",
       "      <td>0.0</td>\n",
       "      <td>0.036599</td>\n",
       "      <td>0.010320</td>\n",
       "      <td>46.0</td>\n",
       "      <td>0.766667</td>\n",
       "      <td>0.012778</td>\n",
       "    </tr>\n",
       "  </tbody>\n",
       "</table>\n",
       "<p>5 rows × 41 columns</p>\n",
       "</div>"
      ],
      "text/plain": [
       "   length    itheta  beta      nMC  ntherm   freq  |phi|_mean  Q_L_mean  \\\n",
       "0    10.0  0.000000   1.6  10000.0  1000.0  100.0       100.0  0.034202   \n",
       "1    10.0  0.000000   1.6  10000.0  4000.0  100.0       100.0  0.021717   \n",
       "2    10.0  0.392699   1.6  10000.0  1000.0  100.0       100.0  0.009802   \n",
       "3    10.0  0.392699   1.6  10000.0  4000.0  100.0       100.0  0.022388   \n",
       "4    10.0  0.785398   1.6  10000.0  1000.0  100.0       100.0  0.025667   \n",
       "\n",
       "     A_L_mean    S_L_mean  ...   acc_std  corr_length_Re_std  \\\n",
       "0 -204.885439 -204.885439  ...  0.009147            2.925980   \n",
       "1 -205.062766 -205.062766  ...  0.002524            4.821024   \n",
       "2 -208.408625 -208.412474  ...  0.001446            3.680436   \n",
       "3 -207.874121 -207.882913  ...  0.004237            2.819576   \n",
       "4 -206.899562 -206.919720  ...  0.003180            3.905533   \n",
       "\n",
       "   corr_length_Im_std  F_Re_py_std  F_Im_py_std  mass_gap_Re_std  \\\n",
       "0            3.049152          0.0          0.0         0.087460   \n",
       "1            2.227360          0.0          0.0         0.025255   \n",
       "2            1.289105          0.0          0.0         0.030408   \n",
       "3            1.146101          0.0          0.0         0.046357   \n",
       "4            1.060966          0.0          0.0         0.036599   \n",
       "\n",
       "   mass_gap_Im_std  time (sec)  time (min)  time (hr)  \n",
       "0         0.215978       375.0    6.250000   0.104167  \n",
       "1         0.174023       166.0    2.766667   0.046111  \n",
       "2         0.048396        41.0    0.683333   0.011389  \n",
       "3         0.046491        33.0    0.550000   0.009167  \n",
       "4         0.010320        46.0    0.766667   0.012778  \n",
       "\n",
       "[5 rows x 41 columns]"
      ]
     },
     "execution_count": 8,
     "metadata": {},
     "output_type": "execute_result"
    }
   ],
   "source": [
    "df_stats.head()"
   ]
  },
  {
   "cell_type": "markdown",
   "id": "450dedbf-c013-454d-8b7b-3188b0bf4e24",
   "metadata": {
    "tags": []
   },
   "source": [
    "# Observable quick plots (seaborn)"
   ]
  },
  {
   "cell_type": "markdown",
   "id": "f039e1f0-401c-4780-91dd-a9703d1f0160",
   "metadata": {
    "tags": []
   },
   "source": [
    "### Q_L"
   ]
  },
  {
   "cell_type": "code",
   "execution_count": 9,
   "id": "a295b6a4-a23e-4c19-a67f-821c68ecd878",
   "metadata": {},
   "outputs": [
    {
     "data": {
      "image/png": "[encoded data removed]",
      "text/plain": [
       "<Figure size 432x288 with 1 Axes>"
      ]
     },
     "metadata": {
      "needs_background": "light"
     },
     "output_type": "display_data"
    }
   ],
   "source": [
    "sns.scatterplot(data = df_stats, x = \"itheta\", y = \"Q_L_mean\", hue = \"length\", \n",
    "                size = \"nMC\", palette = analyzer.palette)\n",
    "plt.show()"
   ]
  },
  {
   "cell_type": "markdown",
   "id": "a51a9bbb-a788-4d6f-8707-e0037e0af205",
   "metadata": {
    "tags": []
   },
   "source": [
    "### S_L"
   ]
  },
  {
   "cell_type": "code",
   "execution_count": 10,
   "id": "2611a9d2-3b7f-4397-b606-a1aac07ec493",
   "metadata": {},
   "outputs": [
    {
     "data": {
      "image/png": "[encoded data removed]",
      "text/plain": [
       "<Figure size 432x288 with 1 Axes>"
      ]
     },
     "metadata": {
      "needs_background": "light"
     },
     "output_type": "display_data"
    }
   ],
   "source": [
    "sns.scatterplot(data = df_stats, x = \"itheta\", y = \"S_L_mean\", hue = \"length\", \n",
    "                size = \"nMC\", palette = analyzer.palette)\n",
    "plt.show()"
   ]
  },
  {
   "cell_type": "markdown",
   "id": "67a80b70-2b73-4d24-a901-3ad432eb0818",
   "metadata": {
    "tags": []
   },
   "source": [
    "### Xi_L"
   ]
  },
  {
   "cell_type": "code",
   "execution_count": 11,
   "id": "435f2dc1-8282-47bd-98cc-55337ef0ceb9",
   "metadata": {},
   "outputs": [
    {
     "data": {
      "image/png": "[encoded data removed]",
      "text/plain": [
       "<Figure size 432x288 with 1 Axes>"
      ]
     },
     "metadata": {
      "needs_background": "light"
     },
     "output_type": "display_data"
    }
   ],
   "source": [
    "sns.scatterplot(data = df_stats, x = \"itheta\", y = \"Xi_L_mean\", hue = \"length\", \n",
    "                size = \"nMC\", palette = analyzer.palette)\n",
    "plt.show()"
   ]
  },
  {
   "cell_type": "markdown",
   "id": "e66df175-1ae4-48db-a119-377641dce114",
   "metadata": {},
   "source": [
    "### F_L Re"
   ]
  },
  {
   "cell_type": "code",
   "execution_count": 12,
   "id": "3da01ab3-b714-4be5-831b-d26481da591b",
   "metadata": {},
   "outputs": [
    {
     "data": {
      "image/png": "[encoded data removed]",
      "text/plain": [
       "<Figure size 432x288 with 1 Axes>"
      ]
     },
     "metadata": {
      "needs_background": "light"
     },
     "output_type": "display_data"
    }
   ],
   "source": [
    "sns.scatterplot(data = df_stats, x = \"itheta\", y = \"F_LRe_mean\", hue = \"length\", \n",
    "                size = \"nMC\", palette = analyzer.palette)\n",
    "\n",
    "plt.show()"
   ]
  },
  {
   "cell_type": "code",
   "execution_count": 13,
   "id": "48b658e3-6d87-4f48-a63b-fc536cd79d8d",
   "metadata": {},
   "outputs": [
    {
     "data": {
      "text/html": [
       "<div>\n",
       "<style scoped>\n",
       "    .dataframe tbody tr th:only-of-type {\n",
       "        vertical-align: middle;\n",
       "    }\n",
       "\n",
       "    .dataframe tbody tr th {\n",
       "        vertical-align: top;\n",
       "    }\n",
       "\n",
       "    .dataframe thead th {\n",
       "        text-align: right;\n",
       "    }\n",
       "</style>\n",
       "<table border=\"1\" class=\"dataframe\">\n",
       "  <thead>\n",
       "    <tr style=\"text-align: right;\">\n",
       "      <th></th>\n",
       "      <th></th>\n",
       "      <th>F_L</th>\n",
       "    </tr>\n",
       "    <tr>\n",
       "      <th></th>\n",
       "      <th>Source</th>\n",
       "      <th></th>\n",
       "    </tr>\n",
       "  </thead>\n",
       "  <tbody>\n",
       "    <tr>\n",
       "      <th rowspan=\"2\" valign=\"top\">0</th>\n",
       "      <th>C++</th>\n",
       "      <td>-11.888492</td>\n",
       "    </tr>\n",
       "    <tr>\n",
       "      <th>Python</th>\n",
       "      <td>-0.652329</td>\n",
       "    </tr>\n",
       "    <tr>\n",
       "      <th rowspan=\"2\" valign=\"top\">1</th>\n",
       "      <th>C++</th>\n",
       "      <td>-1.665910</td>\n",
       "    </tr>\n",
       "    <tr>\n",
       "      <th>Python</th>\n",
       "      <td>-0.041470</td>\n",
       "    </tr>\n",
       "    <tr>\n",
       "      <th>2</th>\n",
       "      <th>C++</th>\n",
       "      <td>4.276123</td>\n",
       "    </tr>\n",
       "  </tbody>\n",
       "</table>\n",
       "</div>"
      ],
      "text/plain": [
       "                F_L\n",
       "  Source           \n",
       "0 C++    -11.888492\n",
       "  Python  -0.652329\n",
       "1 C++     -1.665910\n",
       "  Python  -0.041470\n",
       "2 C++      4.276123"
      ]
     },
     "execution_count": 13,
     "metadata": {},
     "output_type": "execute_result"
    }
   ],
   "source": [
    "F_L_Re_df = df_stats.filter([\"F_LRe_mean\",\"F_Re_py_mean\"])\n",
    "F_L_Re_df.rename(columns = {\"F_LRe_mean\":\"C++\",\"F_Re_py_mean\":\"Python\"},inplace = True)\n",
    "F_L_Re_df.columns.name = 'Source'\n",
    "F_L_Im_df = df_stats.filter([\"F_LIm_mean\",\"F_Im_py_mean\"])\n",
    "F_L_Im_df.rename(columns = {\"F_LIm_mean\":\"C++\",\"F_Im_py_mean\":\"Python\"},inplace = True)\n",
    "F_L_Im_df.columns.name = 'Source'\n",
    "F_L_Re_df = F_L_Re_df.stack()\n",
    "F_L_Im_df = F_L_Im_df.stack()\n",
    "F_L_Re_df.name = \"F_L\"\n",
    "F_L_Re_df = F_L_Re_df.to_frame()\n",
    "F_L_Im_df.name = \"F_L\"\n",
    "F_L_Im_df = F_L_Im_df.to_frame()\n",
    "F_L_Im_df.head()"
   ]
  },
  {
   "cell_type": "code",
   "execution_count": 14,
   "id": "8452432b-4eb9-46bf-be1e-fe4ce542d92c",
   "metadata": {},
   "outputs": [],
   "source": [
    "F_L_df = F_L_Re_df.join(F_L_Im_df, lsuffix = \"_Re\", rsuffix = \"_Im\")"
   ]
  },
  {
   "cell_type": "code",
   "execution_count": 15,
   "id": "6a50f266-00a8-4d58-8961-00638760f5b0",
   "metadata": {},
   "outputs": [
    {
     "data": {
      "text/html": [
       "<div>\n",
       "<style scoped>\n",
       "    .dataframe tbody tr th:only-of-type {\n",
       "        vertical-align: middle;\n",
       "    }\n",
       "\n",
       "    .dataframe tbody tr th {\n",
       "        vertical-align: top;\n",
       "    }\n",
       "\n",
       "    .dataframe thead th {\n",
       "        text-align: right;\n",
       "    }\n",
       "</style>\n",
       "<table border=\"1\" class=\"dataframe\">\n",
       "  <thead>\n",
       "    <tr style=\"text-align: right;\">\n",
       "      <th></th>\n",
       "      <th></th>\n",
       "      <th>F_L_Re</th>\n",
       "      <th>F_L_Im</th>\n",
       "    </tr>\n",
       "    <tr>\n",
       "      <th></th>\n",
       "      <th>Source</th>\n",
       "      <th></th>\n",
       "      <th></th>\n",
       "    </tr>\n",
       "  </thead>\n",
       "  <tbody>\n",
       "    <tr>\n",
       "      <th rowspan=\"2\" valign=\"top\">0</th>\n",
       "      <th>C++</th>\n",
       "      <td>2.613301</td>\n",
       "      <td>-11.888492</td>\n",
       "    </tr>\n",
       "    <tr>\n",
       "      <th>Python</th>\n",
       "      <td>0.572698</td>\n",
       "      <td>-0.652329</td>\n",
       "    </tr>\n",
       "    <tr>\n",
       "      <th rowspan=\"2\" valign=\"top\">1</th>\n",
       "      <th>C++</th>\n",
       "      <td>1.719689</td>\n",
       "      <td>-1.665910</td>\n",
       "    </tr>\n",
       "    <tr>\n",
       "      <th>Python</th>\n",
       "      <td>0.490906</td>\n",
       "      <td>-0.041470</td>\n",
       "    </tr>\n",
       "    <tr>\n",
       "      <th>2</th>\n",
       "      <th>C++</th>\n",
       "      <td>-0.519629</td>\n",
       "      <td>4.276123</td>\n",
       "    </tr>\n",
       "  </tbody>\n",
       "</table>\n",
       "</div>"
      ],
      "text/plain": [
       "            F_L_Re     F_L_Im\n",
       "  Source                     \n",
       "0 C++     2.613301 -11.888492\n",
       "  Python  0.572698  -0.652329\n",
       "1 C++     1.719689  -1.665910\n",
       "  Python  0.490906  -0.041470\n",
       "2 C++    -0.519629   4.276123"
      ]
     },
     "execution_count": 15,
     "metadata": {},
     "output_type": "execute_result"
    }
   ],
   "source": [
    "F_L_df.head()"
   ]
  },
  {
   "cell_type": "markdown",
   "id": "59c341e8-446c-483b-af37-b0a3875ea618",
   "metadata": {},
   "source": [
    "## Correlation Length"
   ]
  },
  {
   "cell_type": "code",
   "execution_count": 16,
   "id": "bd0b6475-1281-4891-9db4-870c1bdd0886",
   "metadata": {},
   "outputs": [
    {
     "data": {
      "image/png": "[encoded data removed]",
      "text/plain": [
       "<Figure size 432x288 with 1 Axes>"
      ]
     },
     "metadata": {
      "needs_background": "light"
     },
     "output_type": "display_data"
    }
   ],
   "source": [
    "sns.scatterplot(data = df_stats, x = \"itheta\", y = \"corr_length_Re_mean\", hue = \"length\", \n",
    "                size = \"nMC\", palette = analyzer.palette)\n",
    "\n",
    "plt.show()"
   ]
  },
  {
   "cell_type": "markdown",
   "id": "0ebfa44f-00c7-4879-9eee-622e74ed513d",
   "metadata": {},
   "source": [
    "### Mass Gap"
   ]
  },
  {
   "cell_type": "code",
   "execution_count": 17,
   "id": "eeee1fb8-512e-40b9-982d-197e47b583a8",
   "metadata": {},
   "outputs": [
    {
     "data": {
      "image/png": "[encoded data removed]",
      "text/plain": [
       "<Figure size 432x288 with 1 Axes>"
      ]
     },
     "metadata": {
      "needs_background": "light"
     },
     "output_type": "display_data"
    }
   ],
   "source": [
    "sns.scatterplot(data = df_stats, x = \"itheta\", y = \"mass_gap_Re_mean\", hue = \"length\", \n",
    "                size = \"nMC\", palette = analyzer.palette)\n",
    "\n",
    "plt.show()"
   ]
  },
  {
   "cell_type": "markdown",
   "id": "bd27a3b4-0d8b-4e3a-b451-d88f22f9d9d6",
   "metadata": {},
   "source": [
    "# Observable detailed plots with error (matplotlib)"
   ]
  },
  {
   "cell_type": "code",
   "execution_count": 22,
   "id": "f8005fa9-f944-4e8e-ba93-82da0660ffe4",
   "metadata": {},
   "outputs": [],
   "source": [
    "lengths = df_stats[\"length\"].unique()\n",
    "lengths = [10,40]\n",
    "colors = sns.color_palette(\"Blues\", len(lengths))\n",
    "observable = \"Q_L\""
   ]
  },
  {
   "cell_type": "code",
   "execution_count": 23,
   "id": "d5e00f55-a02c-492f-be1d-2cc25efbca9f",
   "metadata": {},
   "outputs": [
    {
     "data": {
      "image/png": "[encoded data removed]",
      "text/plain": [
       "<Figure size 432x288 with 1 Axes>"
      ]
     },
     "metadata": {
      "needs_background": "light"
     },
     "output_type": "display_data"
    }
   ],
   "source": [
    "for n,length in enumerate(lengths):\n",
    "    x,y,err = analyzer.get_plot_data(obs = observable, L = length, beta = 1.6, nMC = 10000, ntherm = 4000, freq = 100)\n",
    "    plt.errorbar(x, y , yerr = err, marker = \".\", ls = \"none\", color = colors[n], label =\"L=\"+str(length))\n",
    "plt.legend()\n",
    "plt.xlim([0.0,4.0])\n",
    "plt.xlabel(r\"$i\\theta$\")\n",
    "plt.ylabel(r\"$\\langle Q_L \\rangle $\")\n",
    "#plt.title(observable)\n",
    "plt.savefig(\"../Figs_README/Q_L_preliminary.jpg\", format = \"jpg\")\n",
    "plt.show()"
   ]
  },
  {
   "cell_type": "code",
   "execution_count": null,
   "id": "ed25b48e-fc43-495b-a8d1-0b3df7f3605f",
   "metadata": {},
   "outputs": [],
   "source": []
  }
 ],
 "metadata": {
  "kernelspec": {
   "display_name": "Python 3 (ipykernel)",
   "language": "python",
   "name": "python3"
  },
  "language_info": {
   "codemirror_mode": {
    "name": "ipython",
    "version": 3
   },
   "file_extension": ".py",
   "mimetype": "text/x-python",
   "name": "python",
   "nbconvert_exporter": "python",
   "pygments_lexer": "ipython3",
   "version": "3.8.10"
  }
 },
 "nbformat": 4,
 "nbformat_minor": 5
}
