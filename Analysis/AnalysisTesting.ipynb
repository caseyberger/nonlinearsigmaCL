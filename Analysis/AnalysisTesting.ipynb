{
 "cells": [
  {
   "cell_type": "code",
   "execution_count": 1,
   "id": "599b7e16-e277-4c28-b73d-a4353abe8eef",
   "metadata": {},
   "outputs": [],
   "source": [
    "import os\n",
    "import shutil\n",
    "import numpy as np\n",
    "import pandas as pd\n",
    "import matplotlib.pyplot as plt\n",
    "import seaborn as sns\n",
    "from LatticeData import *"
   ]
  },
  {
   "cell_type": "code",
   "execution_count": 2,
   "id": "0d2d8d47-67ef-4982-b828-17da983516d9",
   "metadata": {},
   "outputs": [],
   "source": [
    "analyzer = LatticeData(datadir = \"/data_nls_sin/\")"
   ]
  },
  {
   "cell_type": "code",
   "execution_count": 3,
   "id": "a5f64b46-54de-4302-8f75-8ef57f34661a",
   "metadata": {},
   "outputs": [
    {
     "name": "stdout",
     "output_type": "stream",
     "text": [
      "Index(['length', 'itheta', 'beta', 'nMC', 'ntherm', 'freq', '|phi|_mean',\n",
      "       'Q_L_mean', 'A_L_mean', 'S_L_mean', 'Xi_L_mean', 'F_LRe_mean',\n",
      "       'F_LIm_mean', 'acc_mean', 'Q_L_ta', 'A_L_ta', 'S_L_ta', 'Xi_L_ta',\n",
      "       'corr_length_Re_mean', 'corr_length_Im_mean', 'F_Re_py_mean',\n",
      "       'F_Im_py_mean', 'mass_gap_Re_mean', 'mass_gap_Im_mean', '|phi|_std',\n",
      "       'Q_L_std', 'A_L_std', 'S_L_std', 'Xi_L_std', 'F_LRe_std', 'F_LIm_std',\n",
      "       'acc_std', 'corr_length_Re_std', 'corr_length_Im_std', 'F_Re_py_std',\n",
      "       'F_Im_py_std', 'mass_gap_Re_std', 'mass_gap_Im_std', 'time (sec)',\n",
      "       'time (min)', 'time (hr)'],\n",
      "      dtype='object')\n",
      "   length    itheta  beta      nMC  ntherm   freq  |phi|_mean  Q_L_mean  \\\n",
      "0    10.0  0.000000   1.6  10000.0  1000.0  100.0       100.0       0.0   \n",
      "1    10.0  0.785398   1.6  10000.0  1000.0  100.0       100.0       0.0   \n",
      "2    10.0  1.570796   1.6  10000.0  1000.0  100.0       100.0       0.0   \n",
      "3    10.0  2.356194   1.6  10000.0  1000.0  100.0       100.0       0.0   \n",
      "4    10.0  3.141593   1.6  10000.0  1000.0  100.0       100.0       0.0   \n",
      "\n",
      "     A_L_mean    S_L_mean  ...   acc_std  corr_length_Re_std  \\\n",
      "0 -537.575236 -537.575236  ...  0.005663            2.959807   \n",
      "1 -536.078401 -536.078401  ...  0.003643            2.911116   \n",
      "2 -538.049427 -538.049427  ...  0.001826            3.117460   \n",
      "3 -536.858330 -536.858330  ...  0.001380            2.070341   \n",
      "4 -535.422520 -535.422520  ...  0.002759            1.887476   \n",
      "\n",
      "   corr_length_Im_std  F_Re_py_std  F_Im_py_std  mass_gap_Re_std  \\\n",
      "0            1.999546          0.0          0.0         0.009025   \n",
      "1            1.208243          0.0          0.0         0.013159   \n",
      "2            0.511927          0.0          0.0         0.016452   \n",
      "3            0.034759          0.0          0.0         0.006044   \n",
      "4            0.114628          0.0          0.0         0.010293   \n",
      "\n",
      "   mass_gap_Im_std  time (sec)  time (min)  time (hr)  \n",
      "0         0.007999        33.0    0.550000   0.009167  \n",
      "1         0.012786        31.0    0.516667   0.008611  \n",
      "2         0.002702        34.0    0.566667   0.009444  \n",
      "3         0.000101        27.0    0.450000   0.007500  \n",
      "4         0.000625        30.0    0.500000   0.008333  \n",
      "\n",
      "[5 rows x 41 columns]\n"
     ]
    }
   ],
   "source": [
    "df = analyzer.do_stats(stack = False)"
   ]
  },
  {
   "cell_type": "code",
   "execution_count": 8,
   "id": "c0a5bcfb-5bb3-477f-baff-236fe506e91d",
   "metadata": {},
   "outputs": [],
   "source": [
    "Ls = df[\"length\"].unique()\n",
    "ithetas = df[\"itheta\"].unique()\n",
    "test_mask = (df[\"itheta\"]==ithetas[1]) & (df[\"length\"] <= Ls[3])"
   ]
  },
  {
   "cell_type": "code",
   "execution_count": 9,
   "id": "e68bfb40-0eb6-4f85-9f3e-43715d1f8750",
   "metadata": {},
   "outputs": [],
   "source": [
    "test = df[test_mask]"
   ]
  },
  {
   "cell_type": "code",
   "execution_count": 10,
   "id": "f2d0e96d-127d-4c2a-8669-9120a32d04a3",
   "metadata": {},
   "outputs": [
    {
     "data": {
      "text/html": [
       "<div>\n",
       "<style scoped>\n",
       "    .dataframe tbody tr th:only-of-type {\n",
       "        vertical-align: middle;\n",
       "    }\n",
       "\n",
       "    .dataframe tbody tr th {\n",
       "        vertical-align: top;\n",
       "    }\n",
       "\n",
       "    .dataframe thead th {\n",
       "        text-align: right;\n",
       "    }\n",
       "</style>\n",
       "<table border=\"1\" class=\"dataframe\">\n",
       "  <thead>\n",
       "    <tr style=\"text-align: right;\">\n",
       "      <th></th>\n",
       "      <th>length</th>\n",
       "      <th>itheta</th>\n",
       "      <th>beta</th>\n",
       "      <th>nMC</th>\n",
       "      <th>ntherm</th>\n",
       "      <th>freq</th>\n",
       "      <th>|phi|_mean</th>\n",
       "      <th>Q_L_mean</th>\n",
       "      <th>A_L_mean</th>\n",
       "      <th>S_L_mean</th>\n",
       "      <th>...</th>\n",
       "      <th>acc_std</th>\n",
       "      <th>corr_length_Re_std</th>\n",
       "      <th>corr_length_Im_std</th>\n",
       "      <th>F_Re_py_std</th>\n",
       "      <th>F_Im_py_std</th>\n",
       "      <th>mass_gap_Re_std</th>\n",
       "      <th>mass_gap_Im_std</th>\n",
       "      <th>time (sec)</th>\n",
       "      <th>time (min)</th>\n",
       "      <th>time (hr)</th>\n",
       "    </tr>\n",
       "  </thead>\n",
       "  <tbody>\n",
       "    <tr>\n",
       "      <th>1</th>\n",
       "      <td>10.0</td>\n",
       "      <td>0.785398</td>\n",
       "      <td>1.6</td>\n",
       "      <td>10000.0</td>\n",
       "      <td>1000.0</td>\n",
       "      <td>100.0</td>\n",
       "      <td>100.0</td>\n",
       "      <td>0.000000</td>\n",
       "      <td>-536.078401</td>\n",
       "      <td>-536.078401</td>\n",
       "      <td>...</td>\n",
       "      <td>0.003643</td>\n",
       "      <td>2.911116</td>\n",
       "      <td>1.208243</td>\n",
       "      <td>0.0</td>\n",
       "      <td>0.0</td>\n",
       "      <td>0.013159</td>\n",
       "      <td>0.012786</td>\n",
       "      <td>31.0</td>\n",
       "      <td>0.516667</td>\n",
       "      <td>0.008611</td>\n",
       "    </tr>\n",
       "    <tr>\n",
       "      <th>6</th>\n",
       "      <td>20.0</td>\n",
       "      <td>0.785398</td>\n",
       "      <td>1.6</td>\n",
       "      <td>10000.0</td>\n",
       "      <td>1000.0</td>\n",
       "      <td>100.0</td>\n",
       "      <td>400.0</td>\n",
       "      <td>-0.040000</td>\n",
       "      <td>-2135.730275</td>\n",
       "      <td>-2135.698859</td>\n",
       "      <td>...</td>\n",
       "      <td>0.000522</td>\n",
       "      <td>4.678793</td>\n",
       "      <td>0.725570</td>\n",
       "      <td>0.0</td>\n",
       "      <td>0.0</td>\n",
       "      <td>0.009574</td>\n",
       "      <td>0.001485</td>\n",
       "      <td>124.0</td>\n",
       "      <td>2.066667</td>\n",
       "      <td>0.034444</td>\n",
       "    </tr>\n",
       "    <tr>\n",
       "      <th>11</th>\n",
       "      <td>40.0</td>\n",
       "      <td>0.785398</td>\n",
       "      <td>1.6</td>\n",
       "      <td>10000.0</td>\n",
       "      <td>1000.0</td>\n",
       "      <td>100.0</td>\n",
       "      <td>1600.0</td>\n",
       "      <td>-0.140000</td>\n",
       "      <td>-8545.961392</td>\n",
       "      <td>-8545.851436</td>\n",
       "      <td>...</td>\n",
       "      <td>0.000890</td>\n",
       "      <td>29.381801</td>\n",
       "      <td>8.990098</td>\n",
       "      <td>0.0</td>\n",
       "      <td>0.0</td>\n",
       "      <td>0.005715</td>\n",
       "      <td>0.005305</td>\n",
       "      <td>680.0</td>\n",
       "      <td>11.333333</td>\n",
       "      <td>0.188889</td>\n",
       "    </tr>\n",
       "    <tr>\n",
       "      <th>16</th>\n",
       "      <td>80.0</td>\n",
       "      <td>0.785398</td>\n",
       "      <td>1.6</td>\n",
       "      <td>10000.0</td>\n",
       "      <td>1000.0</td>\n",
       "      <td>100.0</td>\n",
       "      <td>6400.0</td>\n",
       "      <td>1.896745</td>\n",
       "      <td>-34097.590112</td>\n",
       "      <td>-34099.079813</td>\n",
       "      <td>...</td>\n",
       "      <td>0.000117</td>\n",
       "      <td>138.100851</td>\n",
       "      <td>110.565708</td>\n",
       "      <td>0.0</td>\n",
       "      <td>0.0</td>\n",
       "      <td>0.006959</td>\n",
       "      <td>0.005263</td>\n",
       "      <td>8665.0</td>\n",
       "      <td>144.416667</td>\n",
       "      <td>2.406944</td>\n",
       "    </tr>\n",
       "  </tbody>\n",
       "</table>\n",
       "<p>4 rows × 41 columns</p>\n",
       "</div>"
      ],
      "text/plain": [
       "    length    itheta  beta      nMC  ntherm   freq  |phi|_mean  Q_L_mean  \\\n",
       "1     10.0  0.785398   1.6  10000.0  1000.0  100.0       100.0  0.000000   \n",
       "6     20.0  0.785398   1.6  10000.0  1000.0  100.0       400.0 -0.040000   \n",
       "11    40.0  0.785398   1.6  10000.0  1000.0  100.0      1600.0 -0.140000   \n",
       "16    80.0  0.785398   1.6  10000.0  1000.0  100.0      6400.0  1.896745   \n",
       "\n",
       "        A_L_mean      S_L_mean  ...   acc_std  corr_length_Re_std  \\\n",
       "1    -536.078401   -536.078401  ...  0.003643            2.911116   \n",
       "6   -2135.730275  -2135.698859  ...  0.000522            4.678793   \n",
       "11  -8545.961392  -8545.851436  ...  0.000890           29.381801   \n",
       "16 -34097.590112 -34099.079813  ...  0.000117          138.100851   \n",
       "\n",
       "    corr_length_Im_std  F_Re_py_std  F_Im_py_std  mass_gap_Re_std  \\\n",
       "1             1.208243          0.0          0.0         0.013159   \n",
       "6             0.725570          0.0          0.0         0.009574   \n",
       "11            8.990098          0.0          0.0         0.005715   \n",
       "16          110.565708          0.0          0.0         0.006959   \n",
       "\n",
       "    mass_gap_Im_std  time (sec)  time (min)  time (hr)  \n",
       "1          0.012786        31.0    0.516667   0.008611  \n",
       "6          0.001485       124.0    2.066667   0.034444  \n",
       "11         0.005305       680.0   11.333333   0.188889  \n",
       "16         0.005263      8665.0  144.416667   2.406944  \n",
       "\n",
       "[4 rows x 41 columns]"
      ]
     },
     "execution_count": 10,
     "metadata": {},
     "output_type": "execute_result"
    }
   ],
   "source": [
    "test"
   ]
  },
  {
   "cell_type": "code",
   "execution_count": 7,
   "id": "a936276d-af66-4e0d-bb05-8d09616ccfe4",
   "metadata": {},
   "outputs": [],
   "source": [
    "src_dir = \"/run_7_14_23_old/\"\n",
    "analyzer.collect_data(src_dir)"
   ]
  },
  {
   "cell_type": "code",
   "execution_count": null,
   "id": "a5c19194-d3eb-42ec-a28d-d99e81192b29",
   "metadata": {},
   "outputs": [],
   "source": [
    "itheta = np.pi\n",
    "beta = 1.6\n",
    "length = 20\n",
    "nMC = 10000\n",
    "ntherm = 0\n",
    "corr_params = {\"itheta\": itheta, \"beta\": beta,\"length\": length,\"nMC\": nMC, \"ntherm\": ntherm}"
   ]
  },
  {
   "cell_type": "code",
   "execution_count": null,
   "id": "73de8d1b-1174-45d8-803f-af33ed1d9cb8",
   "metadata": {},
   "outputs": [],
   "source": [
    "G_ij = analyzer.get_corr_func(suppress_output = False,**corr_params)"
   ]
  },
  {
   "cell_type": "code",
   "execution_count": null,
   "id": "7bded072-1086-406d-bace-ca57839576a2",
   "metadata": {},
   "outputs": [],
   "source": [
    "plt.imshow(G_ij, cmap = \"viridis\", aspect='equal')\n",
    "plt.colorbar()\n",
    "plt.show()"
   ]
  },
  {
   "cell_type": "code",
   "execution_count": null,
   "id": "ea9313af-a3b8-4468-ab61-d4cc8b303129",
   "metadata": {},
   "outputs": [],
   "source": [
    "itheta = np.pi\n",
    "beta = 1.6\n",
    "length = 20\n",
    "nMC = 10000\n",
    "ntherm = 0\n",
    "single_params = {\"itheta\": itheta, \"beta\": beta,\"length\": length,\"nMC\": nMC, \"ntherm\": ntherm}"
   ]
  },
  {
   "cell_type": "code",
   "execution_count": null,
   "id": "40b8ad0a-8ba7-49f0-97ac-6155806c4f1e",
   "metadata": {},
   "outputs": [],
   "source": [
    "run = analyzer.get_data(single_run = True)"
   ]
  },
  {
   "cell_type": "code",
   "execution_count": null,
   "id": "b7db1b5a-63dc-4669-ac48-f7ac771c4366",
   "metadata": {},
   "outputs": [],
   "source": [
    "run = analyzer.get_data(single_run = True, suppress_output = False, **single_params)"
   ]
  },
  {
   "cell_type": "code",
   "execution_count": null,
   "id": "23ed5ff4-2fa0-46e0-8c9d-ae7d41ef063a",
   "metadata": {},
   "outputs": [],
   "source": [
    "run = analyzer.get_data(single_run = True, **single_params)"
   ]
  },
  {
   "cell_type": "code",
   "execution_count": null,
   "id": "08058fc4-98ee-428c-bef7-98c20240c002",
   "metadata": {},
   "outputs": [],
   "source": [
    "run.describe()"
   ]
  },
  {
   "cell_type": "code",
   "execution_count": null,
   "id": "a9c50ad0-45df-43a1-a04c-6460ac0d7374",
   "metadata": {},
   "outputs": [],
   "source": [
    "sns.scatterplot(data = run, x = \"step\", y = \"Q_L\")\n",
    "plt.title(\"single run\")\n",
    "plt.show()"
   ]
  },
  {
   "cell_type": "code",
   "execution_count": null,
   "id": "f45115e7-43e8-4e9c-89c3-ffcdf79b6787",
   "metadata": {},
   "outputs": [],
   "source": [
    "sns.scatterplot(data = run, x = \"step\", y = \"mass_gap_Re\", color = \"blue\")\n",
    "sns.scatterplot(data = run, x = \"step\", y = \"mass_gap_Im\", color = \"red\")\n",
    "plt.title(\"single run\")\n",
    "plt.show()"
   ]
  },
  {
   "cell_type": "code",
   "execution_count": null,
   "id": "4a2910a7-980c-4c04-9067-9d431a5532f0",
   "metadata": {},
   "outputs": [],
   "source": [
    "sns.scatterplot(data = run, x = \"step\", y = \"corr_length_Re\", color = \"blue\")\n",
    "sns.scatterplot(data = run, x = \"step\", y = \"corr_length_Im\", color = \"red\")\n",
    "plt.title(\"single run\")\n",
    "plt.show()"
   ]
  },
  {
   "cell_type": "code",
   "execution_count": null,
   "id": "1567bcd1-b3f0-487b-a0c8-15b585057917",
   "metadata": {},
   "outputs": [],
   "source": [
    "itheta = np.pi\n",
    "beta = 1.6\n",
    "filter_params = {\"itheta\": itheta, \"beta\": beta}"
   ]
  },
  {
   "cell_type": "code",
   "execution_count": null,
   "id": "73835299-2f85-449a-ac74-0f077e82b520",
   "metadata": {},
   "outputs": [],
   "source": [
    "subset_df = analyzer.get_data(**filter_params)"
   ]
  },
  {
   "cell_type": "code",
   "execution_count": null,
   "id": "82f1a720-1be8-4a1a-bd07-2c5be1a4a9d5",
   "metadata": {},
   "outputs": [],
   "source": [
    "subset_df[\"itheta\"].unique()"
   ]
  },
  {
   "cell_type": "code",
   "execution_count": null,
   "id": "c23205eb-492f-4875-b9dd-e4a6740ea344",
   "metadata": {},
   "outputs": [],
   "source": [
    "subset_df[\"length\"].unique()"
   ]
  },
  {
   "cell_type": "code",
   "execution_count": null,
   "id": "d537d7e2-f177-4a01-a616-d7387a1384c2",
   "metadata": {},
   "outputs": [],
   "source": [
    "sns.scatterplot(data = subset_df, x = \"step\", y = \"Q_L\", hue = \"length\")\n",
    "plt.title(\"filtered run\")\n",
    "plt.show()"
   ]
  },
  {
   "cell_type": "code",
   "execution_count": null,
   "id": "dcb6e3e9-73bd-4265-8811-0820d1b29463",
   "metadata": {},
   "outputs": [],
   "source": [
    "all_data = analyzer.get_data()"
   ]
  },
  {
   "cell_type": "code",
   "execution_count": null,
   "id": "f3fb1064-2820-4d0c-8f5b-5318d0113e80",
   "metadata": {},
   "outputs": [],
   "source": [
    "all_data[\"itheta\"].unique()"
   ]
  },
  {
   "cell_type": "code",
   "execution_count": null,
   "id": "8223abc3-02b1-4fe2-804e-de1a783e09e3",
   "metadata": {},
   "outputs": [],
   "source": [
    "#sns.relplot(data = all_data, x = \"step\", y = \"Q_L\", hue = \"itheta\", col = \"length\")\n",
    "#plt.show()"
   ]
  },
  {
   "cell_type": "code",
   "execution_count": null,
   "id": "8de2d131-8824-4fc9-b49a-43948e1f1df6",
   "metadata": {},
   "outputs": [],
   "source": [
    "df_stats = analyzer.do_stats()"
   ]
  },
  {
   "cell_type": "code",
   "execution_count": null,
   "id": "8193a499-a759-49cd-9483-35314f5159f5",
   "metadata": {},
   "outputs": [],
   "source": [
    "df_stats"
   ]
  },
  {
   "cell_type": "code",
   "execution_count": null,
   "id": "ac4c9ef8-2053-403d-b6e6-f0cd881a42da",
   "metadata": {},
   "outputs": [],
   "source": []
  }
 ],
 "metadata": {
  "kernelspec": {
   "display_name": "Python 3 (ipykernel)",
   "language": "python",
   "name": "python3"
  },
  "language_info": {
   "codemirror_mode": {
    "name": "ipython",
    "version": 3
   },
   "file_extension": ".py",
   "mimetype": "text/x-python",
   "name": "python",
   "nbconvert_exporter": "python",
   "pygments_lexer": "ipython3",
   "version": "3.8.10"
  }
 },
 "nbformat": 4,
 "nbformat_minor": 5
}
