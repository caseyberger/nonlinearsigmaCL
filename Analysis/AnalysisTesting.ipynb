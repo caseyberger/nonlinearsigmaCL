{
 "cells": [
  {
   "cell_type": "code",
   "execution_count": 1,
   "id": "599b7e16-e277-4c28-b73d-a4353abe8eef",
   "metadata": {},
   "outputs": [],
   "source": [
    "import os\n",
    "import shutil\n",
    "import numpy as np\n",
    "import pandas as pd\n",
    "import matplotlib.pyplot as plt\n",
    "import seaborn as sns\n",
    "from LatticeData import *"
   ]
  },
  {
   "cell_type": "code",
   "execution_count": 2,
   "id": "0d2d8d47-67ef-4982-b828-17da983516d9",
   "metadata": {},
   "outputs": [],
   "source": [
    "analyzer = LatticeData(datadir = \"/data_test/\")"
   ]
  },
  {
   "cell_type": "code",
   "execution_count": 3,
   "id": "3ffaaebc-cc10-4144-bac6-6b439a326976",
   "metadata": {},
   "outputs": [
    {
     "name": "stdout",
     "output_type": "stream",
     "text": [
      "run L_180_beta_1.600000_itheta_0.000000_ntherm_5000_nMC_50000_freq_100 not yet complete: 378 lines\n",
      "run L_180_beta_1.600000_itheta_2.356194_ntherm_5000_nMC_50000_freq_100 not yet complete: 391 lines\n",
      "run L_180_beta_1.600000_itheta_3.141593_ntherm_5000_nMC_50000_freq_100 not yet complete: 237 lines\n",
      "run L_180_beta_1.600000_itheta_1.570796_ntherm_5000_nMC_50000_freq_100 not yet complete: 381 lines\n",
      "run L_180_beta_1.600000_itheta_0.785398_ntherm_5000_nMC_50000_freq_100 not yet complete: 240 lines\n"
     ]
    }
   ],
   "source": [
    "analyzer.copy_data_from_directory(\"run_7_18_23_stats\")"
   ]
  },
  {
   "cell_type": "code",
   "execution_count": 4,
   "id": "878a214f-9024-4028-b2a5-bb6f789a43e4",
   "metadata": {},
   "outputs": [],
   "source": [
    "params = analyzer.all_params()"
   ]
  },
  {
   "cell_type": "code",
   "execution_count": 5,
   "id": "c459b2f5-8eed-460c-b227-567ffd81ed19",
   "metadata": {},
   "outputs": [
    {
     "data": {
      "text/html": [
       "<div>\n",
       "<style scoped>\n",
       "    .dataframe tbody tr th:only-of-type {\n",
       "        vertical-align: middle;\n",
       "    }\n",
       "\n",
       "    .dataframe tbody tr th {\n",
       "        vertical-align: top;\n",
       "    }\n",
       "\n",
       "    .dataframe thead th {\n",
       "        text-align: right;\n",
       "    }\n",
       "</style>\n",
       "<table border=\"1\" class=\"dataframe\">\n",
       "  <thead>\n",
       "    <tr style=\"text-align: right;\">\n",
       "      <th></th>\n",
       "      <th>freq</th>\n",
       "      <th>nMC</th>\n",
       "      <th>ntherm</th>\n",
       "      <th>itheta</th>\n",
       "      <th>beta</th>\n",
       "      <th>length</th>\n",
       "    </tr>\n",
       "  </thead>\n",
       "  <tbody>\n",
       "    <tr>\n",
       "      <th>0</th>\n",
       "      <td>100.0</td>\n",
       "      <td>50000.0</td>\n",
       "      <td>5000.0</td>\n",
       "      <td>0.785398</td>\n",
       "      <td>1.6</td>\n",
       "      <td>20.0</td>\n",
       "    </tr>\n",
       "    <tr>\n",
       "      <th>1</th>\n",
       "      <td>100.0</td>\n",
       "      <td>50000.0</td>\n",
       "      <td>5000.0</td>\n",
       "      <td>0.000000</td>\n",
       "      <td>1.6</td>\n",
       "      <td>80.0</td>\n",
       "    </tr>\n",
       "    <tr>\n",
       "      <th>2</th>\n",
       "      <td>100.0</td>\n",
       "      <td>50000.0</td>\n",
       "      <td>5000.0</td>\n",
       "      <td>0.000000</td>\n",
       "      <td>1.6</td>\n",
       "      <td>20.0</td>\n",
       "    </tr>\n",
       "    <tr>\n",
       "      <th>3</th>\n",
       "      <td>100.0</td>\n",
       "      <td>50000.0</td>\n",
       "      <td>5000.0</td>\n",
       "      <td>1.570796</td>\n",
       "      <td>1.6</td>\n",
       "      <td>40.0</td>\n",
       "    </tr>\n",
       "    <tr>\n",
       "      <th>4</th>\n",
       "      <td>100.0</td>\n",
       "      <td>50000.0</td>\n",
       "      <td>5000.0</td>\n",
       "      <td>2.356194</td>\n",
       "      <td>1.6</td>\n",
       "      <td>10.0</td>\n",
       "    </tr>\n",
       "  </tbody>\n",
       "</table>\n",
       "</div>"
      ],
      "text/plain": [
       "    freq      nMC  ntherm    itheta  beta  length\n",
       "0  100.0  50000.0  5000.0  0.785398   1.6    20.0\n",
       "1  100.0  50000.0  5000.0  0.000000   1.6    80.0\n",
       "2  100.0  50000.0  5000.0  0.000000   1.6    20.0\n",
       "3  100.0  50000.0  5000.0  1.570796   1.6    40.0\n",
       "4  100.0  50000.0  5000.0  2.356194   1.6    10.0"
      ]
     },
     "execution_count": 5,
     "metadata": {},
     "output_type": "execute_result"
    }
   ],
   "source": [
    "params.head()"
   ]
  },
  {
   "cell_type": "code",
   "execution_count": 6,
   "id": "1e5d7a46-09d4-4e49-8cb7-24e5bc692473",
   "metadata": {},
   "outputs": [
    {
     "name": "stdout",
     "output_type": "stream",
     "text": [
      "freq 100\n",
      "nMC 50000\n",
      "ntherm 5000\n",
      "itheta 2.356194\n",
      "beta 1.6\n",
      "length 10\n"
     ]
    }
   ],
   "source": [
    "param_dict = {\"length\": 10, \"freq\": 100, \"itheta\":2.356194, \"beta\":1.6, \"nMC\":50000, \"ntherm\": 5000}\n",
    "one_run = analyzer.get_data(single_run = True, suppress_output = False, **param_dict)"
   ]
  },
  {
   "cell_type": "code",
   "execution_count": 7,
   "id": "994d6f5d-b77c-4607-95f9-65368f76f0b7",
   "metadata": {},
   "outputs": [
    {
     "data": {
      "text/html": [
       "<div>\n",
       "<style scoped>\n",
       "    .dataframe tbody tr th:only-of-type {\n",
       "        vertical-align: middle;\n",
       "    }\n",
       "\n",
       "    .dataframe tbody tr th {\n",
       "        vertical-align: top;\n",
       "    }\n",
       "\n",
       "    .dataframe thead th {\n",
       "        text-align: right;\n",
       "    }\n",
       "</style>\n",
       "<table border=\"1\" class=\"dataframe\">\n",
       "  <thead>\n",
       "    <tr style=\"text-align: right;\">\n",
       "      <th></th>\n",
       "      <th>step</th>\n",
       "      <th>|phi|</th>\n",
       "      <th>Q_L</th>\n",
       "      <th>A_L</th>\n",
       "      <th>S_L</th>\n",
       "      <th>Xi_L</th>\n",
       "      <th>F_LRe</th>\n",
       "      <th>F_LIm</th>\n",
       "      <th>acc</th>\n",
       "      <th>dt</th>\n",
       "      <th>...</th>\n",
       "      <th>Q_L_ta</th>\n",
       "      <th>A_L_ta</th>\n",
       "      <th>S_L_ta</th>\n",
       "      <th>Xi_L_ta</th>\n",
       "      <th>corr_length_Re</th>\n",
       "      <th>corr_length_Im</th>\n",
       "      <th>F_Re_py</th>\n",
       "      <th>F_Im_py</th>\n",
       "      <th>mass_gap_Re</th>\n",
       "      <th>mass_gap_Im</th>\n",
       "    </tr>\n",
       "  </thead>\n",
       "  <tbody>\n",
       "    <tr>\n",
       "      <th>0</th>\n",
       "      <td>0</td>\n",
       "      <td>100.0</td>\n",
       "      <td>0.479179</td>\n",
       "      <td>-183.166830</td>\n",
       "      <td>-184.295868</td>\n",
       "      <td>45.724903</td>\n",
       "      <td>3.675149</td>\n",
       "      <td>8.145972</td>\n",
       "      <td>0.240000</td>\n",
       "      <td>0.0</td>\n",
       "      <td>...</td>\n",
       "      <td>1</td>\n",
       "      <td>3</td>\n",
       "      <td>3</td>\n",
       "      <td>4</td>\n",
       "      <td>8.966957</td>\n",
       "      <td>-3.640801</td>\n",
       "      <td>0.916337</td>\n",
       "      <td>0.890996</td>\n",
       "      <td>0.095738</td>\n",
       "      <td>0.038872</td>\n",
       "    </tr>\n",
       "    <tr>\n",
       "      <th>1</th>\n",
       "      <td>100</td>\n",
       "      <td>100.0</td>\n",
       "      <td>0.159302</td>\n",
       "      <td>-195.846927</td>\n",
       "      <td>-196.222275</td>\n",
       "      <td>62.369185</td>\n",
       "      <td>3.675149</td>\n",
       "      <td>8.145972</td>\n",
       "      <td>0.203762</td>\n",
       "      <td>0.0</td>\n",
       "      <td>...</td>\n",
       "      <td>1</td>\n",
       "      <td>3</td>\n",
       "      <td>3</td>\n",
       "      <td>4</td>\n",
       "      <td>10.472580</td>\n",
       "      <td>-4.252121</td>\n",
       "      <td>0.916337</td>\n",
       "      <td>0.890996</td>\n",
       "      <td>0.081974</td>\n",
       "      <td>0.033283</td>\n",
       "    </tr>\n",
       "    <tr>\n",
       "      <th>2</th>\n",
       "      <td>200</td>\n",
       "      <td>100.0</td>\n",
       "      <td>0.000000</td>\n",
       "      <td>-199.012224</td>\n",
       "      <td>-199.012224</td>\n",
       "      <td>48.119359</td>\n",
       "      <td>3.675149</td>\n",
       "      <td>8.145972</td>\n",
       "      <td>0.207164</td>\n",
       "      <td>0.0</td>\n",
       "      <td>...</td>\n",
       "      <td>1</td>\n",
       "      <td>3</td>\n",
       "      <td>3</td>\n",
       "      <td>4</td>\n",
       "      <td>9.198745</td>\n",
       "      <td>-3.734913</td>\n",
       "      <td>0.916337</td>\n",
       "      <td>0.890996</td>\n",
       "      <td>0.093325</td>\n",
       "      <td>0.037892</td>\n",
       "    </tr>\n",
       "    <tr>\n",
       "      <th>3</th>\n",
       "      <td>300</td>\n",
       "      <td>100.0</td>\n",
       "      <td>0.312655</td>\n",
       "      <td>-179.261053</td>\n",
       "      <td>-179.997729</td>\n",
       "      <td>46.124447</td>\n",
       "      <td>3.675149</td>\n",
       "      <td>8.145972</td>\n",
       "      <td>0.205681</td>\n",
       "      <td>0.0</td>\n",
       "      <td>...</td>\n",
       "      <td>1</td>\n",
       "      <td>3</td>\n",
       "      <td>3</td>\n",
       "      <td>4</td>\n",
       "      <td>9.006048</td>\n",
       "      <td>-3.656673</td>\n",
       "      <td>0.916337</td>\n",
       "      <td>0.890996</td>\n",
       "      <td>0.095322</td>\n",
       "      <td>0.038703</td>\n",
       "    </tr>\n",
       "    <tr>\n",
       "      <th>4</th>\n",
       "      <td>400</td>\n",
       "      <td>100.0</td>\n",
       "      <td>0.000000</td>\n",
       "      <td>-210.091869</td>\n",
       "      <td>-210.091869</td>\n",
       "      <td>41.489411</td>\n",
       "      <td>3.675149</td>\n",
       "      <td>8.145972</td>\n",
       "      <td>0.203716</td>\n",
       "      <td>1.0</td>\n",
       "      <td>...</td>\n",
       "      <td>1</td>\n",
       "      <td>3</td>\n",
       "      <td>3</td>\n",
       "      <td>4</td>\n",
       "      <td>8.541562</td>\n",
       "      <td>-3.468081</td>\n",
       "      <td>0.916337</td>\n",
       "      <td>0.890996</td>\n",
       "      <td>0.100506</td>\n",
       "      <td>0.040808</td>\n",
       "    </tr>\n",
       "  </tbody>\n",
       "</table>\n",
       "<p>5 rows × 26 columns</p>\n",
       "</div>"
      ],
      "text/plain": [
       "   step  |phi|       Q_L         A_L         S_L       Xi_L     F_LRe  \\\n",
       "0     0  100.0  0.479179 -183.166830 -184.295868  45.724903  3.675149   \n",
       "1   100  100.0  0.159302 -195.846927 -196.222275  62.369185  3.675149   \n",
       "2   200  100.0  0.000000 -199.012224 -199.012224  48.119359  3.675149   \n",
       "3   300  100.0  0.312655 -179.261053 -179.997729  46.124447  3.675149   \n",
       "4   400  100.0  0.000000 -210.091869 -210.091869  41.489411  3.675149   \n",
       "\n",
       "      F_LIm       acc   dt  ...  Q_L_ta  A_L_ta  S_L_ta  Xi_L_ta  \\\n",
       "0  8.145972  0.240000  0.0  ...       1       3       3        4   \n",
       "1  8.145972  0.203762  0.0  ...       1       3       3        4   \n",
       "2  8.145972  0.207164  0.0  ...       1       3       3        4   \n",
       "3  8.145972  0.205681  0.0  ...       1       3       3        4   \n",
       "4  8.145972  0.203716  1.0  ...       1       3       3        4   \n",
       "\n",
       "   corr_length_Re  corr_length_Im   F_Re_py   F_Im_py  mass_gap_Re  \\\n",
       "0        8.966957       -3.640801  0.916337  0.890996     0.095738   \n",
       "1       10.472580       -4.252121  0.916337  0.890996     0.081974   \n",
       "2        9.198745       -3.734913  0.916337  0.890996     0.093325   \n",
       "3        9.006048       -3.656673  0.916337  0.890996     0.095322   \n",
       "4        8.541562       -3.468081  0.916337  0.890996     0.100506   \n",
       "\n",
       "   mass_gap_Im  \n",
       "0     0.038872  \n",
       "1     0.033283  \n",
       "2     0.037892  \n",
       "3     0.038703  \n",
       "4     0.040808  \n",
       "\n",
       "[5 rows x 26 columns]"
      ]
     },
     "execution_count": 7,
     "metadata": {},
     "output_type": "execute_result"
    }
   ],
   "source": [
    "one_run.head()"
   ]
  },
  {
   "cell_type": "code",
   "execution_count": 8,
   "id": "f0293bd3-483d-4013-bb2c-2769ea5e7151",
   "metadata": {},
   "outputs": [
    {
     "name": "stdout",
     "output_type": "stream",
     "text": [
      "Missing parameters in input: \n",
      "['ntherm']\n"
     ]
    }
   ],
   "source": [
    "param_dict = {\"length\": 10, \"freq\": 100, \"itheta\":2.356194, \"beta\":1.6, \"nMC\":50000}\n",
    "one_run = analyzer.get_data(single_run = True, suppress_output = False, **param_dict)"
   ]
  },
  {
   "cell_type": "code",
   "execution_count": 9,
   "id": "04e00035-8b56-4212-865a-898ac57dc450",
   "metadata": {},
   "outputs": [],
   "source": [
    "param_dict = {\"length\": 10, \"itheta\":2.356194}\n",
    "filtered_data = analyzer.get_data(single_run = False, suppress_output = True, **param_dict)"
   ]
  },
  {
   "cell_type": "code",
   "execution_count": 10,
   "id": "066a7992-9f1e-48d8-a127-6c69512e60fb",
   "metadata": {},
   "outputs": [
    {
     "data": {
      "text/html": [
       "<div>\n",
       "<style scoped>\n",
       "    .dataframe tbody tr th:only-of-type {\n",
       "        vertical-align: middle;\n",
       "    }\n",
       "\n",
       "    .dataframe tbody tr th {\n",
       "        vertical-align: top;\n",
       "    }\n",
       "\n",
       "    .dataframe thead th {\n",
       "        text-align: right;\n",
       "    }\n",
       "</style>\n",
       "<table border=\"1\" class=\"dataframe\">\n",
       "  <thead>\n",
       "    <tr style=\"text-align: right;\">\n",
       "      <th></th>\n",
       "      <th>step</th>\n",
       "      <th>|phi|</th>\n",
       "      <th>Q_L</th>\n",
       "      <th>A_L</th>\n",
       "      <th>S_L</th>\n",
       "      <th>Xi_L</th>\n",
       "      <th>F_LRe</th>\n",
       "      <th>F_LIm</th>\n",
       "      <th>acc</th>\n",
       "      <th>dt</th>\n",
       "      <th>...</th>\n",
       "      <th>Q_L_ta</th>\n",
       "      <th>A_L_ta</th>\n",
       "      <th>S_L_ta</th>\n",
       "      <th>Xi_L_ta</th>\n",
       "      <th>corr_length_Re</th>\n",
       "      <th>corr_length_Im</th>\n",
       "      <th>F_Re_py</th>\n",
       "      <th>F_Im_py</th>\n",
       "      <th>mass_gap_Re</th>\n",
       "      <th>mass_gap_Im</th>\n",
       "    </tr>\n",
       "  </thead>\n",
       "  <tbody>\n",
       "    <tr>\n",
       "      <th>0</th>\n",
       "      <td>0</td>\n",
       "      <td>100.0</td>\n",
       "      <td>0.479179</td>\n",
       "      <td>-183.166830</td>\n",
       "      <td>-184.295868</td>\n",
       "      <td>45.724903</td>\n",
       "      <td>3.675149</td>\n",
       "      <td>8.145972</td>\n",
       "      <td>0.240000</td>\n",
       "      <td>0.0</td>\n",
       "      <td>...</td>\n",
       "      <td>1</td>\n",
       "      <td>3</td>\n",
       "      <td>3</td>\n",
       "      <td>4</td>\n",
       "      <td>8.966957</td>\n",
       "      <td>-3.640801</td>\n",
       "      <td>0.916337</td>\n",
       "      <td>0.890996</td>\n",
       "      <td>0.095738</td>\n",
       "      <td>0.038872</td>\n",
       "    </tr>\n",
       "    <tr>\n",
       "      <th>1</th>\n",
       "      <td>100</td>\n",
       "      <td>100.0</td>\n",
       "      <td>0.159302</td>\n",
       "      <td>-195.846927</td>\n",
       "      <td>-196.222275</td>\n",
       "      <td>62.369185</td>\n",
       "      <td>3.675149</td>\n",
       "      <td>8.145972</td>\n",
       "      <td>0.203762</td>\n",
       "      <td>0.0</td>\n",
       "      <td>...</td>\n",
       "      <td>1</td>\n",
       "      <td>3</td>\n",
       "      <td>3</td>\n",
       "      <td>4</td>\n",
       "      <td>10.472580</td>\n",
       "      <td>-4.252121</td>\n",
       "      <td>0.916337</td>\n",
       "      <td>0.890996</td>\n",
       "      <td>0.081974</td>\n",
       "      <td>0.033283</td>\n",
       "    </tr>\n",
       "    <tr>\n",
       "      <th>2</th>\n",
       "      <td>200</td>\n",
       "      <td>100.0</td>\n",
       "      <td>0.000000</td>\n",
       "      <td>-199.012224</td>\n",
       "      <td>-199.012224</td>\n",
       "      <td>48.119359</td>\n",
       "      <td>3.675149</td>\n",
       "      <td>8.145972</td>\n",
       "      <td>0.207164</td>\n",
       "      <td>0.0</td>\n",
       "      <td>...</td>\n",
       "      <td>1</td>\n",
       "      <td>3</td>\n",
       "      <td>3</td>\n",
       "      <td>4</td>\n",
       "      <td>9.198745</td>\n",
       "      <td>-3.734913</td>\n",
       "      <td>0.916337</td>\n",
       "      <td>0.890996</td>\n",
       "      <td>0.093325</td>\n",
       "      <td>0.037892</td>\n",
       "    </tr>\n",
       "    <tr>\n",
       "      <th>3</th>\n",
       "      <td>300</td>\n",
       "      <td>100.0</td>\n",
       "      <td>0.312655</td>\n",
       "      <td>-179.261053</td>\n",
       "      <td>-179.997729</td>\n",
       "      <td>46.124447</td>\n",
       "      <td>3.675149</td>\n",
       "      <td>8.145972</td>\n",
       "      <td>0.205681</td>\n",
       "      <td>0.0</td>\n",
       "      <td>...</td>\n",
       "      <td>1</td>\n",
       "      <td>3</td>\n",
       "      <td>3</td>\n",
       "      <td>4</td>\n",
       "      <td>9.006048</td>\n",
       "      <td>-3.656673</td>\n",
       "      <td>0.916337</td>\n",
       "      <td>0.890996</td>\n",
       "      <td>0.095322</td>\n",
       "      <td>0.038703</td>\n",
       "    </tr>\n",
       "    <tr>\n",
       "      <th>4</th>\n",
       "      <td>400</td>\n",
       "      <td>100.0</td>\n",
       "      <td>0.000000</td>\n",
       "      <td>-210.091869</td>\n",
       "      <td>-210.091869</td>\n",
       "      <td>41.489411</td>\n",
       "      <td>3.675149</td>\n",
       "      <td>8.145972</td>\n",
       "      <td>0.203716</td>\n",
       "      <td>1.0</td>\n",
       "      <td>...</td>\n",
       "      <td>1</td>\n",
       "      <td>3</td>\n",
       "      <td>3</td>\n",
       "      <td>4</td>\n",
       "      <td>8.541562</td>\n",
       "      <td>-3.468081</td>\n",
       "      <td>0.916337</td>\n",
       "      <td>0.890996</td>\n",
       "      <td>0.100506</td>\n",
       "      <td>0.040808</td>\n",
       "    </tr>\n",
       "  </tbody>\n",
       "</table>\n",
       "<p>5 rows × 26 columns</p>\n",
       "</div>"
      ],
      "text/plain": [
       "   step  |phi|       Q_L         A_L         S_L       Xi_L     F_LRe  \\\n",
       "0     0  100.0  0.479179 -183.166830 -184.295868  45.724903  3.675149   \n",
       "1   100  100.0  0.159302 -195.846927 -196.222275  62.369185  3.675149   \n",
       "2   200  100.0  0.000000 -199.012224 -199.012224  48.119359  3.675149   \n",
       "3   300  100.0  0.312655 -179.261053 -179.997729  46.124447  3.675149   \n",
       "4   400  100.0  0.000000 -210.091869 -210.091869  41.489411  3.675149   \n",
       "\n",
       "      F_LIm       acc   dt  ...  Q_L_ta  A_L_ta  S_L_ta  Xi_L_ta  \\\n",
       "0  8.145972  0.240000  0.0  ...       1       3       3        4   \n",
       "1  8.145972  0.203762  0.0  ...       1       3       3        4   \n",
       "2  8.145972  0.207164  0.0  ...       1       3       3        4   \n",
       "3  8.145972  0.205681  0.0  ...       1       3       3        4   \n",
       "4  8.145972  0.203716  1.0  ...       1       3       3        4   \n",
       "\n",
       "   corr_length_Re  corr_length_Im   F_Re_py   F_Im_py  mass_gap_Re  \\\n",
       "0        8.966957       -3.640801  0.916337  0.890996     0.095738   \n",
       "1       10.472580       -4.252121  0.916337  0.890996     0.081974   \n",
       "2        9.198745       -3.734913  0.916337  0.890996     0.093325   \n",
       "3        9.006048       -3.656673  0.916337  0.890996     0.095322   \n",
       "4        8.541562       -3.468081  0.916337  0.890996     0.100506   \n",
       "\n",
       "   mass_gap_Im  \n",
       "0     0.038872  \n",
       "1     0.033283  \n",
       "2     0.037892  \n",
       "3     0.038703  \n",
       "4     0.040808  \n",
       "\n",
       "[5 rows x 26 columns]"
      ]
     },
     "execution_count": 10,
     "metadata": {},
     "output_type": "execute_result"
    }
   ],
   "source": [
    "filtered_data.head()"
   ]
  },
  {
   "cell_type": "code",
   "execution_count": 11,
   "id": "21451083-5c1a-40b6-b47d-a8ae98345343",
   "metadata": {},
   "outputs": [],
   "source": [
    "all_data = analyzer.get_data(single_run = False, suppress_output = True)"
   ]
  },
  {
   "cell_type": "code",
   "execution_count": 12,
   "id": "6f3e59a6-6556-4590-b8e1-5e262341e9fb",
   "metadata": {},
   "outputs": [],
   "source": [
    "df_stats = analyzer.do_stats(stack = False)"
   ]
  },
  {
   "cell_type": "code",
   "execution_count": 13,
   "id": "2d16f0ea-efb4-4d1e-8553-71b64325969d",
   "metadata": {},
   "outputs": [
    {
     "name": "stdout",
     "output_type": "stream",
     "text": [
      "10.0\n",
      "20.0\n",
      "40.0\n",
      "60.0\n",
      "80.0\n"
     ]
    },
    {
     "data": {
      "image/png": "[encoded data removed]",
      "text/plain": [
       "<Figure size 432x288 with 1 Axes>"
      ]
     },
     "metadata": {
      "needs_background": "light"
     },
     "output_type": "display_data"
    }
   ],
   "source": [
    "params = analyzer.all_params()\n",
    "lengths = sorted(params[\"length\"].unique())\n",
    "colors = sns.color_palette(\"Blues\", len(lengths))\n",
    "observable = \"Q_L\"\n",
    "\n",
    "for n,length in enumerate(lengths):\n",
    "    print(length)\n",
    "    x,y,err = analyzer.get_plot_data(obs = observable, L = length, beta = 1.6, nMC = 50000, \n",
    "                                     ntherm = 5000, freq = 100)\n",
    "    plt.errorbar(x, y , yerr = err, marker = \".\", ls = \"none\", color = colors[n], label =\"L=\"+str(length))\n",
    "plt.legend()\n",
    "plt.title(observable)\n",
    "plt.savefig(\"../Figs_README/QL_v_itheta_example.jpg\", format = \"jpg\")\n",
    "plt.show()"
   ]
  },
  {
   "cell_type": "code",
   "execution_count": 14,
   "id": "d329c365-5f7c-469e-860f-15e530f6020d",
   "metadata": {},
   "outputs": [
    {
     "data": {
      "image/png": "[encoded data removed]",
      "text/plain": [
       "<Figure size 432x288 with 1 Axes>"
      ]
     },
     "metadata": {
      "needs_background": "light"
     },
     "output_type": "display_data"
    }
   ],
   "source": [
    "params = analyzer.all_params()\n",
    "lengths = params[\"length\"].unique()\n",
    "colors = sns.color_palette(\"Reds\", len(lengths))\n",
    "observable = \"Xi_L\"\n",
    "\n",
    "for n,length in enumerate(lengths):\n",
    "    x,y,err = analyzer.get_plot_data(obs = observable, L = length, beta = 1.6, nMC = 50000, \n",
    "                                     ntherm = 5000, freq = 100)\n",
    "    plt.errorbar(x, y , yerr = err, marker = \".\", ls = \"none\", color = colors[n], label =\"L=\"+str(length))\n",
    "plt.legend()\n",
    "plt.title(observable)\n",
    "plt.savefig(\"../Figs_README/XiL_v_itheta_example.jpg\", format = \"jpg\")\n",
    "plt.show()"
   ]
  },
  {
   "cell_type": "code",
   "execution_count": 17,
   "id": "673b216b-a6d1-4185-98c0-704b5394b2db",
   "metadata": {},
   "outputs": [
    {
     "name": "stdout",
     "output_type": "stream",
     "text": [
      "Missing parameters in input: \n",
      "['ntherm', 'freq']\n"
     ]
    },
    {
     "ename": "TypeError",
     "evalue": "'NoneType' object is not subscriptable",
     "output_type": "error",
     "traceback": [
      "\u001b[0;31m---------------------------------------------------------------------------\u001b[0m",
      "\u001b[0;31mTypeError\u001b[0m                                 Traceback (most recent call last)",
      "\u001b[0;32m/tmp/ipykernel_256181/1835814542.py\u001b[0m in \u001b[0;36m<module>\u001b[0;34m\u001b[0m\n\u001b[1;32m      4\u001b[0m \u001b[0mnMC\u001b[0m \u001b[0;34m=\u001b[0m \u001b[0;36m50000\u001b[0m\u001b[0;34m\u001b[0m\u001b[0;34m\u001b[0m\u001b[0m\n\u001b[1;32m      5\u001b[0m \u001b[0mcorr_params\u001b[0m \u001b[0;34m=\u001b[0m \u001b[0;34m{\u001b[0m\u001b[0;34m\"itheta\"\u001b[0m\u001b[0;34m:\u001b[0m \u001b[0mitheta\u001b[0m\u001b[0;34m,\u001b[0m \u001b[0;34m\"beta\"\u001b[0m\u001b[0;34m:\u001b[0m \u001b[0mbeta\u001b[0m\u001b[0;34m,\u001b[0m\u001b[0;34m\"length\"\u001b[0m\u001b[0;34m:\u001b[0m \u001b[0mlength\u001b[0m\u001b[0;34m,\u001b[0m\u001b[0;34m\"nMC\"\u001b[0m\u001b[0;34m:\u001b[0m \u001b[0mnMC\u001b[0m\u001b[0;34m}\u001b[0m\u001b[0;34m\u001b[0m\u001b[0;34m\u001b[0m\u001b[0m\n\u001b[0;32m----> 6\u001b[0;31m \u001b[0mG_ij\u001b[0m \u001b[0;34m=\u001b[0m \u001b[0manalyzer\u001b[0m\u001b[0;34m.\u001b[0m\u001b[0mget_corr_func\u001b[0m\u001b[0;34m(\u001b[0m\u001b[0msuppress_output\u001b[0m \u001b[0;34m=\u001b[0m \u001b[0;32mFalse\u001b[0m\u001b[0;34m,\u001b[0m \u001b[0;34m**\u001b[0m\u001b[0mcorr_params\u001b[0m\u001b[0;34m)\u001b[0m\u001b[0;34m\u001b[0m\u001b[0;34m\u001b[0m\u001b[0m\n\u001b[0m",
      "\u001b[0;32m~/NonlinearSigmaModel/nonlinearsigmaCL/Analysis/LatticeData.py\u001b[0m in \u001b[0;36mget_corr_func\u001b[0;34m(self, suppress_output, **kwargs)\u001b[0m\n\u001b[1;32m    153\u001b[0m         \u001b[0mdf\u001b[0m \u001b[0;34m=\u001b[0m \u001b[0mself\u001b[0m\u001b[0;34m.\u001b[0m\u001b[0mget_data\u001b[0m\u001b[0;34m(\u001b[0m\u001b[0msingle_run\u001b[0m \u001b[0;34m=\u001b[0m \u001b[0;32mTrue\u001b[0m\u001b[0;34m,\u001b[0m \u001b[0mcorr\u001b[0m \u001b[0;34m=\u001b[0m \u001b[0;32mTrue\u001b[0m\u001b[0;34m,\u001b[0m \u001b[0msuppress_output\u001b[0m \u001b[0;34m=\u001b[0m \u001b[0msuppress_output\u001b[0m\u001b[0;34m,\u001b[0m \u001b[0;34m**\u001b[0m\u001b[0mkwargs\u001b[0m\u001b[0;34m)\u001b[0m\u001b[0;34m\u001b[0m\u001b[0;34m\u001b[0m\u001b[0m\n\u001b[1;32m    154\u001b[0m         \u001b[0mlength\u001b[0m \u001b[0;34m=\u001b[0m \u001b[0mkwargs\u001b[0m\u001b[0;34m[\u001b[0m\u001b[0;34m\"length\"\u001b[0m\u001b[0;34m]\u001b[0m\u001b[0;34m\u001b[0m\u001b[0;34m\u001b[0m\u001b[0m\n\u001b[0;32m--> 155\u001b[0;31m         \u001b[0mdf\u001b[0m\u001b[0;34m[\u001b[0m\u001b[0;34m\"i,j\"\u001b[0m\u001b[0;34m]\u001b[0m \u001b[0;34m=\u001b[0m \u001b[0mdf\u001b[0m\u001b[0;34m[\u001b[0m\u001b[0;34m\"i\"\u001b[0m\u001b[0;34m]\u001b[0m\u001b[0;34m+\u001b[0m\u001b[0mdf\u001b[0m\u001b[0;34m[\u001b[0m\u001b[0;34m\"j\"\u001b[0m\u001b[0;34m]\u001b[0m\u001b[0;34m\u001b[0m\u001b[0;34m\u001b[0m\u001b[0m\n\u001b[0m\u001b[1;32m    156\u001b[0m         \u001b[0mG_avg\u001b[0m \u001b[0;34m=\u001b[0m \u001b[0mdf\u001b[0m\u001b[0;34m[\u001b[0m\u001b[0;34m\"G_avg\"\u001b[0m\u001b[0;34m]\u001b[0m\u001b[0;34m.\u001b[0m\u001b[0mto_numpy\u001b[0m\u001b[0;34m(\u001b[0m\u001b[0;34m)\u001b[0m\u001b[0;34m\u001b[0m\u001b[0;34m\u001b[0m\u001b[0m\n\u001b[1;32m    157\u001b[0m         \u001b[0mG_avg\u001b[0m \u001b[0;34m=\u001b[0m \u001b[0mG_avg\u001b[0m\u001b[0;34m.\u001b[0m\u001b[0mreshape\u001b[0m\u001b[0;34m(\u001b[0m\u001b[0;34m(\u001b[0m\u001b[0mlength\u001b[0m\u001b[0;34m,\u001b[0m\u001b[0mlength\u001b[0m\u001b[0;34m)\u001b[0m\u001b[0;34m)\u001b[0m\u001b[0;34m\u001b[0m\u001b[0;34m\u001b[0m\u001b[0m\n",
      "\u001b[0;31mTypeError\u001b[0m: 'NoneType' object is not subscriptable"
     ]
    }
   ],
   "source": [
    "itheta = np.pi\n",
    "beta = 1.6\n",
    "length = 20\n",
    "nMC = 50000\n",
    "corr_params = {\"itheta\": itheta, \"beta\": beta,\"length\": length,\"nMC\": nMC}\n",
    "G_ij = analyzer.get_corr_func(suppress_output = False, **corr_params)"
   ]
  },
  {
   "cell_type": "code",
   "execution_count": 18,
   "id": "f83b6941-528e-4451-95b9-ac4e2f3b7eae",
   "metadata": {},
   "outputs": [
    {
     "name": "stdout",
     "output_type": "stream",
     "text": [
      "freq 100\n",
      "nMC 50000\n",
      "ntherm 5000\n",
      "itheta 3.141593\n",
      "beta 1.6\n",
      "length 20\n"
     ]
    }
   ],
   "source": [
    "itheta = np.pi\n",
    "beta = 1.6\n",
    "length = 20\n",
    "nMC = 50000\n",
    "ntherm = 5000\n",
    "freq = 100\n",
    "corr_params = {\"itheta\": itheta, \"beta\": beta,\"length\": length,\"nMC\": nMC, \"ntherm\": ntherm, \"freq\": freq}\n",
    "G_ij = analyzer.get_corr_func(suppress_output = False, **corr_params)"
   ]
  },
  {
   "cell_type": "code",
   "execution_count": 21,
   "id": "71c3df29-e0c8-4100-a7ab-f4eea7527a46",
   "metadata": {},
   "outputs": [
    {
     "data": {
      "image/png": "[encoded data removed]",
      "text/plain": [
       "<Figure size 432x288 with 2 Axes>"
      ]
     },
     "metadata": {
      "needs_background": "light"
     },
     "output_type": "display_data"
    }
   ],
   "source": [
    "plt.imshow(G_ij, cmap = \"viridis\", aspect='equal')\n",
    "plt.colorbar()\n",
    "plt.title(\"Correlation function for L = \"+str(corr_params[\"length\"])+\", itheta = \"+str(corr_params[\"itheta\"]))\n",
    "plt.savefig(\"../Figs_README/Gij_example.jpg\", format = \"jpg\")\n",
    "plt.show()"
   ]
  },
  {
   "cell_type": "code",
   "execution_count": null,
   "id": "0c53be87-77b8-41d6-bd74-6a51452f37a1",
   "metadata": {},
   "outputs": [],
   "source": []
  }
 ],
 "metadata": {
  "kernelspec": {
   "display_name": "Python 3 (ipykernel)",
   "language": "python",
   "name": "python3"
  },
  "language_info": {
   "codemirror_mode": {
    "name": "ipython",
    "version": 3
   },
   "file_extension": ".py",
   "mimetype": "text/x-python",
   "name": "python",
   "nbconvert_exporter": "python",
   "pygments_lexer": "ipython3",
   "version": "3.8.10"
  }
 },
 "nbformat": 4,
 "nbformat_minor": 5
}
