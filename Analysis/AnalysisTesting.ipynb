{
 "cells": [
  {
   "cell_type": "code",
   "execution_count": 7,
   "id": "599b7e16-e277-4c28-b73d-a4353abe8eef",
   "metadata": {},
   "outputs": [],
   "source": [
    "import os\n",
    "import shutil\n",
    "import numpy as np\n",
    "import pandas as pd\n",
    "import matplotlib.pyplot as plt\n",
    "import seaborn as sns\n",
    "from LatticeData import *"
   ]
  },
  {
   "cell_type": "code",
   "execution_count": 14,
   "id": "0d2d8d47-67ef-4982-b828-17da983516d9",
   "metadata": {},
   "outputs": [],
   "source": [
    "analyzer = LatticeData(datadir = \"/data_nls_sin/\")"
   ]
  },
  {
   "cell_type": "code",
   "execution_count": 16,
   "id": "a5f64b46-54de-4302-8f75-8ef57f34661a",
   "metadata": {},
   "outputs": [],
   "source": [
    "df = analyzer.get_data()"
   ]
  },
  {
   "cell_type": "code",
   "execution_count": 21,
   "id": "e68bfb40-0eb6-4f85-9f3e-43715d1f8750",
   "metadata": {},
   "outputs": [
    {
     "data": {
      "text/plain": [
       "array([20., 10.])"
      ]
     },
     "execution_count": 21,
     "metadata": {},
     "output_type": "execute_result"
    }
   ],
   "source": [
    "df[\"length\"].unique()"
   ]
  },
  {
   "cell_type": "code",
   "execution_count": 22,
   "id": "f2d0e96d-127d-4c2a-8669-9120a32d04a3",
   "metadata": {},
   "outputs": [
    {
     "data": {
      "text/html": [
       "<div>\n",
       "<style scoped>\n",
       "    .dataframe tbody tr th:only-of-type {\n",
       "        vertical-align: middle;\n",
       "    }\n",
       "\n",
       "    .dataframe tbody tr th {\n",
       "        vertical-align: top;\n",
       "    }\n",
       "\n",
       "    .dataframe thead th {\n",
       "        text-align: right;\n",
       "    }\n",
       "</style>\n",
       "<table border=\"1\" class=\"dataframe\">\n",
       "  <thead>\n",
       "    <tr style=\"text-align: right;\">\n",
       "      <th></th>\n",
       "      <th>step</th>\n",
       "      <th>|phi|</th>\n",
       "      <th>Q_L</th>\n",
       "      <th>A_L</th>\n",
       "      <th>S_L</th>\n",
       "      <th>Xi_L</th>\n",
       "      <th>F_LRe</th>\n",
       "      <th>F_LIm</th>\n",
       "      <th>acc</th>\n",
       "      <th>dt</th>\n",
       "      <th>...</th>\n",
       "      <th>Q_L_ta</th>\n",
       "      <th>A_L_ta</th>\n",
       "      <th>S_L_ta</th>\n",
       "      <th>Xi_L_ta</th>\n",
       "      <th>corr_length_Re</th>\n",
       "      <th>corr_length_Im</th>\n",
       "      <th>F_Re_py</th>\n",
       "      <th>F_Im_py</th>\n",
       "      <th>mass_gap_Re</th>\n",
       "      <th>mass_gap_Im</th>\n",
       "    </tr>\n",
       "  </thead>\n",
       "  <tbody>\n",
       "    <tr>\n",
       "      <th>0</th>\n",
       "      <td>0</td>\n",
       "      <td>400.0</td>\n",
       "      <td>-1.0</td>\n",
       "      <td>-2083.369774</td>\n",
       "      <td>-2082.584376</td>\n",
       "      <td>85.290209</td>\n",
       "      <td>68.055238</td>\n",
       "      <td>10.327712</td>\n",
       "      <td>0.087500</td>\n",
       "      <td>0.0</td>\n",
       "      <td>...</td>\n",
       "      <td>1</td>\n",
       "      <td>14</td>\n",
       "      <td>15</td>\n",
       "      <td>18</td>\n",
       "      <td>16.400012</td>\n",
       "      <td>-2.543255</td>\n",
       "      <td>3.0149</td>\n",
       "      <td>0.958121</td>\n",
       "      <td>0.059544</td>\n",
       "      <td>0.009234</td>\n",
       "    </tr>\n",
       "    <tr>\n",
       "      <th>1</th>\n",
       "      <td>100</td>\n",
       "      <td>400.0</td>\n",
       "      <td>-1.0</td>\n",
       "      <td>-2126.253602</td>\n",
       "      <td>-2125.468204</td>\n",
       "      <td>177.710208</td>\n",
       "      <td>68.055238</td>\n",
       "      <td>10.327712</td>\n",
       "      <td>0.085124</td>\n",
       "      <td>1.0</td>\n",
       "      <td>...</td>\n",
       "      <td>1</td>\n",
       "      <td>14</td>\n",
       "      <td>15</td>\n",
       "      <td>18</td>\n",
       "      <td>23.672861</td>\n",
       "      <td>-3.671103</td>\n",
       "      <td>3.0149</td>\n",
       "      <td>0.958121</td>\n",
       "      <td>0.041250</td>\n",
       "      <td>0.006397</td>\n",
       "    </tr>\n",
       "    <tr>\n",
       "      <th>2</th>\n",
       "      <td>200</td>\n",
       "      <td>400.0</td>\n",
       "      <td>-1.0</td>\n",
       "      <td>-2108.311384</td>\n",
       "      <td>-2107.525986</td>\n",
       "      <td>42.004610</td>\n",
       "      <td>68.055238</td>\n",
       "      <td>10.327712</td>\n",
       "      <td>0.086828</td>\n",
       "      <td>2.0</td>\n",
       "      <td>...</td>\n",
       "      <td>1</td>\n",
       "      <td>14</td>\n",
       "      <td>15</td>\n",
       "      <td>18</td>\n",
       "      <td>11.509145</td>\n",
       "      <td>-1.784797</td>\n",
       "      <td>3.0149</td>\n",
       "      <td>0.958121</td>\n",
       "      <td>0.084847</td>\n",
       "      <td>0.013158</td>\n",
       "    </tr>\n",
       "    <tr>\n",
       "      <th>3</th>\n",
       "      <td>300</td>\n",
       "      <td>400.0</td>\n",
       "      <td>-1.0</td>\n",
       "      <td>-2089.227222</td>\n",
       "      <td>-2088.441824</td>\n",
       "      <td>130.942490</td>\n",
       "      <td>68.055238</td>\n",
       "      <td>10.327712</td>\n",
       "      <td>0.087301</td>\n",
       "      <td>3.0</td>\n",
       "      <td>...</td>\n",
       "      <td>1</td>\n",
       "      <td>14</td>\n",
       "      <td>15</td>\n",
       "      <td>18</td>\n",
       "      <td>20.320522</td>\n",
       "      <td>-3.151234</td>\n",
       "      <td>3.0149</td>\n",
       "      <td>0.958121</td>\n",
       "      <td>0.048056</td>\n",
       "      <td>0.007452</td>\n",
       "    </tr>\n",
       "    <tr>\n",
       "      <th>4</th>\n",
       "      <td>400</td>\n",
       "      <td>400.0</td>\n",
       "      <td>-0.0</td>\n",
       "      <td>-2078.257625</td>\n",
       "      <td>-2078.257625</td>\n",
       "      <td>170.139348</td>\n",
       "      <td>68.055238</td>\n",
       "      <td>10.327712</td>\n",
       "      <td>0.088111</td>\n",
       "      <td>5.0</td>\n",
       "      <td>...</td>\n",
       "      <td>1</td>\n",
       "      <td>14</td>\n",
       "      <td>15</td>\n",
       "      <td>18</td>\n",
       "      <td>23.163114</td>\n",
       "      <td>-3.592053</td>\n",
       "      <td>3.0149</td>\n",
       "      <td>0.958121</td>\n",
       "      <td>0.042158</td>\n",
       "      <td>0.006538</td>\n",
       "    </tr>\n",
       "  </tbody>\n",
       "</table>\n",
       "<p>5 rows × 26 columns</p>\n",
       "</div>"
      ],
      "text/plain": [
       "   step  |phi|  Q_L          A_L          S_L        Xi_L      F_LRe  \\\n",
       "0     0  400.0 -1.0 -2083.369774 -2082.584376   85.290209  68.055238   \n",
       "1   100  400.0 -1.0 -2126.253602 -2125.468204  177.710208  68.055238   \n",
       "2   200  400.0 -1.0 -2108.311384 -2107.525986   42.004610  68.055238   \n",
       "3   300  400.0 -1.0 -2089.227222 -2088.441824  130.942490  68.055238   \n",
       "4   400  400.0 -0.0 -2078.257625 -2078.257625  170.139348  68.055238   \n",
       "\n",
       "       F_LIm       acc   dt  ...  Q_L_ta  A_L_ta  S_L_ta  Xi_L_ta  \\\n",
       "0  10.327712  0.087500  0.0  ...       1      14      15       18   \n",
       "1  10.327712  0.085124  1.0  ...       1      14      15       18   \n",
       "2  10.327712  0.086828  2.0  ...       1      14      15       18   \n",
       "3  10.327712  0.087301  3.0  ...       1      14      15       18   \n",
       "4  10.327712  0.088111  5.0  ...       1      14      15       18   \n",
       "\n",
       "   corr_length_Re  corr_length_Im  F_Re_py   F_Im_py  mass_gap_Re  mass_gap_Im  \n",
       "0       16.400012       -2.543255   3.0149  0.958121     0.059544     0.009234  \n",
       "1       23.672861       -3.671103   3.0149  0.958121     0.041250     0.006397  \n",
       "2       11.509145       -1.784797   3.0149  0.958121     0.084847     0.013158  \n",
       "3       20.320522       -3.151234   3.0149  0.958121     0.048056     0.007452  \n",
       "4       23.163114       -3.592053   3.0149  0.958121     0.042158     0.006538  \n",
       "\n",
       "[5 rows x 26 columns]"
      ]
     },
     "execution_count": 22,
     "metadata": {},
     "output_type": "execute_result"
    }
   ],
   "source": [
    "df.head()"
   ]
  },
  {
   "cell_type": "code",
   "execution_count": 6,
   "id": "a936276d-af66-4e0d-bb05-8d09616ccfe4",
   "metadata": {},
   "outputs": [
    {
     "name": "stdout",
     "output_type": "stream",
     "text": [
      "run L_40_beta_1.600000_itheta_0.785398_ntherm_1000_nMC_10000_freq_100 not yet complete: 56 lines\n"
     ]
    }
   ],
   "source": [
    "src_dir = \"/run_7_14_23_old/\"\n",
    "analyzer.collect_data(src_dir)"
   ]
  },
  {
   "cell_type": "code",
   "execution_count": null,
   "id": "a5c19194-d3eb-42ec-a28d-d99e81192b29",
   "metadata": {},
   "outputs": [],
   "source": [
    "itheta = np.pi\n",
    "beta = 1.6\n",
    "length = 20\n",
    "nMC = 10000\n",
    "ntherm = 0\n",
    "corr_params = {\"itheta\": itheta, \"beta\": beta,\"length\": length,\"nMC\": nMC, \"ntherm\": ntherm}"
   ]
  },
  {
   "cell_type": "code",
   "execution_count": null,
   "id": "73de8d1b-1174-45d8-803f-af33ed1d9cb8",
   "metadata": {},
   "outputs": [],
   "source": [
    "G_ij = analyzer.get_corr_func(suppress_output = False,**corr_params)"
   ]
  },
  {
   "cell_type": "code",
   "execution_count": null,
   "id": "7bded072-1086-406d-bace-ca57839576a2",
   "metadata": {},
   "outputs": [],
   "source": [
    "plt.imshow(G_ij, cmap = \"viridis\", aspect='equal')\n",
    "plt.colorbar()\n",
    "plt.show()"
   ]
  },
  {
   "cell_type": "code",
   "execution_count": null,
   "id": "ea9313af-a3b8-4468-ab61-d4cc8b303129",
   "metadata": {},
   "outputs": [],
   "source": [
    "itheta = np.pi\n",
    "beta = 1.6\n",
    "length = 20\n",
    "nMC = 10000\n",
    "ntherm = 0\n",
    "single_params = {\"itheta\": itheta, \"beta\": beta,\"length\": length,\"nMC\": nMC, \"ntherm\": ntherm}"
   ]
  },
  {
   "cell_type": "code",
   "execution_count": null,
   "id": "40b8ad0a-8ba7-49f0-97ac-6155806c4f1e",
   "metadata": {},
   "outputs": [],
   "source": [
    "run = analyzer.get_data(single_run = True)"
   ]
  },
  {
   "cell_type": "code",
   "execution_count": null,
   "id": "b7db1b5a-63dc-4669-ac48-f7ac771c4366",
   "metadata": {},
   "outputs": [],
   "source": [
    "run = analyzer.get_data(single_run = True, suppress_output = False, **single_params)"
   ]
  },
  {
   "cell_type": "code",
   "execution_count": null,
   "id": "23ed5ff4-2fa0-46e0-8c9d-ae7d41ef063a",
   "metadata": {},
   "outputs": [],
   "source": [
    "run = analyzer.get_data(single_run = True, **single_params)"
   ]
  },
  {
   "cell_type": "code",
   "execution_count": null,
   "id": "08058fc4-98ee-428c-bef7-98c20240c002",
   "metadata": {},
   "outputs": [],
   "source": [
    "run.describe()"
   ]
  },
  {
   "cell_type": "code",
   "execution_count": null,
   "id": "a9c50ad0-45df-43a1-a04c-6460ac0d7374",
   "metadata": {},
   "outputs": [],
   "source": [
    "sns.scatterplot(data = run, x = \"step\", y = \"Q_L\")\n",
    "plt.title(\"single run\")\n",
    "plt.show()"
   ]
  },
  {
   "cell_type": "code",
   "execution_count": null,
   "id": "f45115e7-43e8-4e9c-89c3-ffcdf79b6787",
   "metadata": {},
   "outputs": [],
   "source": [
    "sns.scatterplot(data = run, x = \"step\", y = \"mass_gap_Re\", color = \"blue\")\n",
    "sns.scatterplot(data = run, x = \"step\", y = \"mass_gap_Im\", color = \"red\")\n",
    "plt.title(\"single run\")\n",
    "plt.show()"
   ]
  },
  {
   "cell_type": "code",
   "execution_count": null,
   "id": "4a2910a7-980c-4c04-9067-9d431a5532f0",
   "metadata": {},
   "outputs": [],
   "source": [
    "sns.scatterplot(data = run, x = \"step\", y = \"corr_length_Re\", color = \"blue\")\n",
    "sns.scatterplot(data = run, x = \"step\", y = \"corr_length_Im\", color = \"red\")\n",
    "plt.title(\"single run\")\n",
    "plt.show()"
   ]
  },
  {
   "cell_type": "code",
   "execution_count": null,
   "id": "1567bcd1-b3f0-487b-a0c8-15b585057917",
   "metadata": {},
   "outputs": [],
   "source": [
    "itheta = np.pi\n",
    "beta = 1.6\n",
    "filter_params = {\"itheta\": itheta, \"beta\": beta}"
   ]
  },
  {
   "cell_type": "code",
   "execution_count": null,
   "id": "73835299-2f85-449a-ac74-0f077e82b520",
   "metadata": {},
   "outputs": [],
   "source": [
    "subset_df = analyzer.get_data(**filter_params)"
   ]
  },
  {
   "cell_type": "code",
   "execution_count": null,
   "id": "82f1a720-1be8-4a1a-bd07-2c5be1a4a9d5",
   "metadata": {},
   "outputs": [],
   "source": [
    "subset_df[\"itheta\"].unique()"
   ]
  },
  {
   "cell_type": "code",
   "execution_count": null,
   "id": "c23205eb-492f-4875-b9dd-e4a6740ea344",
   "metadata": {},
   "outputs": [],
   "source": [
    "subset_df[\"length\"].unique()"
   ]
  },
  {
   "cell_type": "code",
   "execution_count": null,
   "id": "d537d7e2-f177-4a01-a616-d7387a1384c2",
   "metadata": {},
   "outputs": [],
   "source": [
    "sns.scatterplot(data = subset_df, x = \"step\", y = \"Q_L\", hue = \"length\")\n",
    "plt.title(\"filtered run\")\n",
    "plt.show()"
   ]
  },
  {
   "cell_type": "code",
   "execution_count": null,
   "id": "dcb6e3e9-73bd-4265-8811-0820d1b29463",
   "metadata": {},
   "outputs": [],
   "source": [
    "all_data = analyzer.get_data()"
   ]
  },
  {
   "cell_type": "code",
   "execution_count": null,
   "id": "f3fb1064-2820-4d0c-8f5b-5318d0113e80",
   "metadata": {},
   "outputs": [],
   "source": [
    "all_data[\"itheta\"].unique()"
   ]
  },
  {
   "cell_type": "code",
   "execution_count": null,
   "id": "8223abc3-02b1-4fe2-804e-de1a783e09e3",
   "metadata": {},
   "outputs": [],
   "source": [
    "#sns.relplot(data = all_data, x = \"step\", y = \"Q_L\", hue = \"itheta\", col = \"length\")\n",
    "#plt.show()"
   ]
  },
  {
   "cell_type": "code",
   "execution_count": null,
   "id": "8de2d131-8824-4fc9-b49a-43948e1f1df6",
   "metadata": {},
   "outputs": [],
   "source": [
    "df_stats = analyzer.do_stats()"
   ]
  },
  {
   "cell_type": "code",
   "execution_count": null,
   "id": "8193a499-a759-49cd-9483-35314f5159f5",
   "metadata": {},
   "outputs": [],
   "source": [
    "df_stats"
   ]
  },
  {
   "cell_type": "code",
   "execution_count": null,
   "id": "ac4c9ef8-2053-403d-b6e6-f0cd881a42da",
   "metadata": {},
   "outputs": [],
   "source": []
  }
 ],
 "metadata": {
  "kernelspec": {
   "display_name": "Python 3 (ipykernel)",
   "language": "python",
   "name": "python3"
  },
  "language_info": {
   "codemirror_mode": {
    "name": "ipython",
    "version": 3
   },
   "file_extension": ".py",
   "mimetype": "text/x-python",
   "name": "python",
   "nbconvert_exporter": "python",
   "pygments_lexer": "ipython3",
   "version": "3.8.10"
  }
 },
 "nbformat": 4,
 "nbformat_minor": 5
}
