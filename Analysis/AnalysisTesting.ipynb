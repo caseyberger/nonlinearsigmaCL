{
 "cells": [
  {
   "cell_type": "code",
   "execution_count": 1,
   "id": "599b7e16-e277-4c28-b73d-a4353abe8eef",
   "metadata": {},
   "outputs": [],
   "source": [
    "import os\n",
    "import shutil\n",
    "import numpy as np\n",
    "import pandas as pd\n",
    "import matplotlib.pyplot as plt\n",
    "import seaborn as sns\n",
    "from LatticeData import *"
   ]
  },
  {
   "cell_type": "code",
   "execution_count": 2,
   "id": "0d2d8d47-67ef-4982-b828-17da983516d9",
   "metadata": {},
   "outputs": [],
   "source": [
    "analyzer = LatticeData(datadir = \"/data_nls/\")"
   ]
  },
  {
   "cell_type": "code",
   "execution_count": 3,
   "id": "a936276d-af66-4e0d-bb05-8d09616ccfe4",
   "metadata": {},
   "outputs": [
    {
     "name": "stdout",
     "output_type": "stream",
     "text": [
      "run L_20_beta_1.600000_itheta_0.785398_ntherm_1000_nMC_10000_freq_100 not yet complete: 58 lines\n"
     ]
    }
   ],
   "source": [
    "src_dir = \"/run_7_14_23_old/\"\n",
    "analyzer.collect_data(src_dir)"
   ]
  },
  {
   "cell_type": "code",
   "execution_count": null,
   "id": "a5c19194-d3eb-42ec-a28d-d99e81192b29",
   "metadata": {},
   "outputs": [],
   "source": [
    "itheta = np.pi\n",
    "beta = 1.6\n",
    "length = 20\n",
    "nMC = 10000\n",
    "ntherm = 0\n",
    "corr_params = {\"itheta\": itheta, \"beta\": beta,\"length\": length,\"nMC\": nMC, \"ntherm\": ntherm}"
   ]
  },
  {
   "cell_type": "code",
   "execution_count": null,
   "id": "73de8d1b-1174-45d8-803f-af33ed1d9cb8",
   "metadata": {},
   "outputs": [],
   "source": [
    "G_ij = analyzer.get_corr_func(suppress_output = False,**corr_params)"
   ]
  },
  {
   "cell_type": "code",
   "execution_count": null,
   "id": "7bded072-1086-406d-bace-ca57839576a2",
   "metadata": {},
   "outputs": [],
   "source": [
    "plt.imshow(G_ij, cmap = \"viridis\", aspect='equal')\n",
    "plt.colorbar()\n",
    "plt.show()"
   ]
  },
  {
   "cell_type": "code",
   "execution_count": null,
   "id": "ea9313af-a3b8-4468-ab61-d4cc8b303129",
   "metadata": {},
   "outputs": [],
   "source": [
    "itheta = np.pi\n",
    "beta = 1.6\n",
    "length = 20\n",
    "nMC = 10000\n",
    "ntherm = 0\n",
    "single_params = {\"itheta\": itheta, \"beta\": beta,\"length\": length,\"nMC\": nMC, \"ntherm\": ntherm}"
   ]
  },
  {
   "cell_type": "code",
   "execution_count": null,
   "id": "40b8ad0a-8ba7-49f0-97ac-6155806c4f1e",
   "metadata": {},
   "outputs": [],
   "source": [
    "run = analyzer.get_data(single_run = True)"
   ]
  },
  {
   "cell_type": "code",
   "execution_count": null,
   "id": "b7db1b5a-63dc-4669-ac48-f7ac771c4366",
   "metadata": {},
   "outputs": [],
   "source": [
    "run = analyzer.get_data(single_run = True, suppress_output = False, **single_params)"
   ]
  },
  {
   "cell_type": "code",
   "execution_count": null,
   "id": "23ed5ff4-2fa0-46e0-8c9d-ae7d41ef063a",
   "metadata": {},
   "outputs": [],
   "source": [
    "run = analyzer.get_data(single_run = True, **single_params)"
   ]
  },
  {
   "cell_type": "code",
   "execution_count": null,
   "id": "08058fc4-98ee-428c-bef7-98c20240c002",
   "metadata": {},
   "outputs": [],
   "source": [
    "run.describe()"
   ]
  },
  {
   "cell_type": "code",
   "execution_count": null,
   "id": "a9c50ad0-45df-43a1-a04c-6460ac0d7374",
   "metadata": {},
   "outputs": [],
   "source": [
    "sns.scatterplot(data = run, x = \"step\", y = \"Q_L\")\n",
    "plt.title(\"single run\")\n",
    "plt.show()"
   ]
  },
  {
   "cell_type": "code",
   "execution_count": null,
   "id": "f45115e7-43e8-4e9c-89c3-ffcdf79b6787",
   "metadata": {},
   "outputs": [],
   "source": [
    "sns.scatterplot(data = run, x = \"step\", y = \"mass_gap_Re\", color = \"blue\")\n",
    "sns.scatterplot(data = run, x = \"step\", y = \"mass_gap_Im\", color = \"red\")\n",
    "plt.title(\"single run\")\n",
    "plt.show()"
   ]
  },
  {
   "cell_type": "code",
   "execution_count": null,
   "id": "4a2910a7-980c-4c04-9067-9d431a5532f0",
   "metadata": {},
   "outputs": [],
   "source": [
    "sns.scatterplot(data = run, x = \"step\", y = \"corr_length_Re\", color = \"blue\")\n",
    "sns.scatterplot(data = run, x = \"step\", y = \"corr_length_Im\", color = \"red\")\n",
    "plt.title(\"single run\")\n",
    "plt.show()"
   ]
  },
  {
   "cell_type": "code",
   "execution_count": null,
   "id": "1567bcd1-b3f0-487b-a0c8-15b585057917",
   "metadata": {},
   "outputs": [],
   "source": [
    "itheta = np.pi\n",
    "beta = 1.6\n",
    "filter_params = {\"itheta\": itheta, \"beta\": beta}"
   ]
  },
  {
   "cell_type": "code",
   "execution_count": null,
   "id": "73835299-2f85-449a-ac74-0f077e82b520",
   "metadata": {},
   "outputs": [],
   "source": [
    "subset_df = analyzer.get_data(**filter_params)"
   ]
  },
  {
   "cell_type": "code",
   "execution_count": null,
   "id": "82f1a720-1be8-4a1a-bd07-2c5be1a4a9d5",
   "metadata": {},
   "outputs": [],
   "source": [
    "subset_df[\"itheta\"].unique()"
   ]
  },
  {
   "cell_type": "code",
   "execution_count": null,
   "id": "c23205eb-492f-4875-b9dd-e4a6740ea344",
   "metadata": {},
   "outputs": [],
   "source": [
    "subset_df[\"length\"].unique()"
   ]
  },
  {
   "cell_type": "code",
   "execution_count": null,
   "id": "d537d7e2-f177-4a01-a616-d7387a1384c2",
   "metadata": {},
   "outputs": [],
   "source": [
    "sns.scatterplot(data = subset_df, x = \"step\", y = \"Q_L\", hue = \"length\")\n",
    "plt.title(\"filtered run\")\n",
    "plt.show()"
   ]
  },
  {
   "cell_type": "code",
   "execution_count": null,
   "id": "dcb6e3e9-73bd-4265-8811-0820d1b29463",
   "metadata": {},
   "outputs": [],
   "source": [
    "all_data = analyzer.get_data()"
   ]
  },
  {
   "cell_type": "code",
   "execution_count": null,
   "id": "f3fb1064-2820-4d0c-8f5b-5318d0113e80",
   "metadata": {},
   "outputs": [],
   "source": [
    "all_data[\"itheta\"].unique()"
   ]
  },
  {
   "cell_type": "code",
   "execution_count": null,
   "id": "8223abc3-02b1-4fe2-804e-de1a783e09e3",
   "metadata": {},
   "outputs": [],
   "source": [
    "#sns.relplot(data = all_data, x = \"step\", y = \"Q_L\", hue = \"itheta\", col = \"length\")\n",
    "#plt.show()"
   ]
  },
  {
   "cell_type": "code",
   "execution_count": null,
   "id": "8de2d131-8824-4fc9-b49a-43948e1f1df6",
   "metadata": {},
   "outputs": [],
   "source": [
    "df_stats = analyzer.do_stats()"
   ]
  },
  {
   "cell_type": "code",
   "execution_count": null,
   "id": "8193a499-a759-49cd-9483-35314f5159f5",
   "metadata": {},
   "outputs": [],
   "source": [
    "df_stats"
   ]
  },
  {
   "cell_type": "code",
   "execution_count": null,
   "id": "ac4c9ef8-2053-403d-b6e6-f0cd881a42da",
   "metadata": {},
   "outputs": [],
   "source": []
  }
 ],
 "metadata": {
  "kernelspec": {
   "display_name": "Python 3 (ipykernel)",
   "language": "python",
   "name": "python3"
  },
  "language_info": {
   "codemirror_mode": {
    "name": "ipython",
    "version": 3
   },
   "file_extension": ".py",
   "mimetype": "text/x-python",
   "name": "python",
   "nbconvert_exporter": "python",
   "pygments_lexer": "ipython3",
   "version": "3.8.10"
  }
 },
 "nbformat": 4,
 "nbformat_minor": 5
}
