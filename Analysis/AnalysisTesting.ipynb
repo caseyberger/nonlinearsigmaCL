{
 "cells": [
  {
   "cell_type": "code",
   "execution_count": 1,
   "id": "599b7e16-e277-4c28-b73d-a4353abe8eef",
   "metadata": {},
   "outputs": [],
   "source": [
    "import os\n",
    "import shutil\n",
    "import numpy as np\n",
    "import pandas as pd\n",
    "import matplotlib.pyplot as plt\n",
    "import seaborn as sns\n",
    "from LatticeData import *"
   ]
  },
  {
   "cell_type": "code",
   "execution_count": 2,
   "id": "0d2d8d47-67ef-4982-b828-17da983516d9",
   "metadata": {},
   "outputs": [],
   "source": [
    "analyzer = LatticeData(datadir = \"/data_smith/\")"
   ]
  },
  {
   "cell_type": "code",
   "execution_count": 3,
   "id": "3ffaaebc-cc10-4144-bac6-6b439a326976",
   "metadata": {},
   "outputs": [],
   "source": [
    "analyzer.copy_data_from_directory(\"run_2023_09_26\")"
   ]
  },
  {
   "cell_type": "code",
   "execution_count": 4,
   "id": "878a214f-9024-4028-b2a5-bb6f789a43e4",
   "metadata": {},
   "outputs": [],
   "source": [
    "params = analyzer.all_params()"
   ]
  },
  {
   "cell_type": "code",
   "execution_count": 5,
   "id": "c459b2f5-8eed-460c-b227-567ffd81ed19",
   "metadata": {},
   "outputs": [
    {
     "data": {
      "text/html": [
       "<div>\n",
       "<style scoped>\n",
       "    .dataframe tbody tr th:only-of-type {\n",
       "        vertical-align: middle;\n",
       "    }\n",
       "\n",
       "    .dataframe tbody tr th {\n",
       "        vertical-align: top;\n",
       "    }\n",
       "\n",
       "    .dataframe thead th {\n",
       "        text-align: right;\n",
       "    }\n",
       "</style>\n",
       "<table border=\"1\" class=\"dataframe\">\n",
       "  <thead>\n",
       "    <tr style=\"text-align: right;\">\n",
       "      <th></th>\n",
       "      <th>freq</th>\n",
       "      <th>nMC</th>\n",
       "      <th>ntherm</th>\n",
       "      <th>itheta</th>\n",
       "      <th>beta</th>\n",
       "      <th>length</th>\n",
       "      <th>itheta/pi</th>\n",
       "    </tr>\n",
       "  </thead>\n",
       "  <tbody>\n",
       "    <tr>\n",
       "      <th>0</th>\n",
       "      <td>100.0</td>\n",
       "      <td>10000.0</td>\n",
       "      <td>4000.0</td>\n",
       "      <td>1.178097</td>\n",
       "      <td>1.6</td>\n",
       "      <td>10.0</td>\n",
       "      <td>0.375</td>\n",
       "    </tr>\n",
       "    <tr>\n",
       "      <th>1</th>\n",
       "      <td>100.0</td>\n",
       "      <td>10000.0</td>\n",
       "      <td>4000.0</td>\n",
       "      <td>1.963495</td>\n",
       "      <td>1.6</td>\n",
       "      <td>10.0</td>\n",
       "      <td>0.625</td>\n",
       "    </tr>\n",
       "    <tr>\n",
       "      <th>2</th>\n",
       "      <td>100.0</td>\n",
       "      <td>10000.0</td>\n",
       "      <td>4000.0</td>\n",
       "      <td>0.785398</td>\n",
       "      <td>1.6</td>\n",
       "      <td>10.0</td>\n",
       "      <td>0.250</td>\n",
       "    </tr>\n",
       "    <tr>\n",
       "      <th>3</th>\n",
       "      <td>100.0</td>\n",
       "      <td>10000.0</td>\n",
       "      <td>4000.0</td>\n",
       "      <td>0.392699</td>\n",
       "      <td>1.6</td>\n",
       "      <td>40.0</td>\n",
       "      <td>0.125</td>\n",
       "    </tr>\n",
       "    <tr>\n",
       "      <th>4</th>\n",
       "      <td>100.0</td>\n",
       "      <td>10000.0</td>\n",
       "      <td>4000.0</td>\n",
       "      <td>2.356194</td>\n",
       "      <td>1.6</td>\n",
       "      <td>40.0</td>\n",
       "      <td>0.750</td>\n",
       "    </tr>\n",
       "  </tbody>\n",
       "</table>\n",
       "</div>"
      ],
      "text/plain": [
       "    freq      nMC  ntherm    itheta  beta  length  itheta/pi\n",
       "0  100.0  10000.0  4000.0  1.178097   1.6    10.0      0.375\n",
       "1  100.0  10000.0  4000.0  1.963495   1.6    10.0      0.625\n",
       "2  100.0  10000.0  4000.0  0.785398   1.6    10.0      0.250\n",
       "3  100.0  10000.0  4000.0  0.392699   1.6    40.0      0.125\n",
       "4  100.0  10000.0  4000.0  2.356194   1.6    40.0      0.750"
      ]
     },
     "execution_count": 5,
     "metadata": {},
     "output_type": "execute_result"
    }
   ],
   "source": [
    "params.head()"
   ]
  },
  {
   "cell_type": "code",
   "execution_count": 6,
   "id": "1e5d7a46-09d4-4e49-8cb7-24e5bc692473",
   "metadata": {},
   "outputs": [
    {
     "name": "stdout",
     "output_type": "stream",
     "text": [
      "freq 100\n",
      "nMC 10000\n",
      "ntherm 4000\n",
      "itheta 2.356194\n",
      "beta 1.6\n",
      "length 10\n"
     ]
    }
   ],
   "source": [
    "param_dict = {\"length\": 10, \"freq\": 100, \"itheta\":2.356194, \"beta\":1.6, \"nMC\":10000, \"ntherm\": 4000}\n",
    "one_run = analyzer.get_data(single_run = True, suppress_output = False, **param_dict)"
   ]
  },
  {
   "cell_type": "code",
   "execution_count": 7,
   "id": "994d6f5d-b77c-4607-95f9-65368f76f0b7",
   "metadata": {},
   "outputs": [
    {
     "data": {
      "text/html": [
       "<div>\n",
       "<style scoped>\n",
       "    .dataframe tbody tr th:only-of-type {\n",
       "        vertical-align: middle;\n",
       "    }\n",
       "\n",
       "    .dataframe tbody tr th {\n",
       "        vertical-align: top;\n",
       "    }\n",
       "\n",
       "    .dataframe thead th {\n",
       "        text-align: right;\n",
       "    }\n",
       "</style>\n",
       "<table border=\"1\" class=\"dataframe\">\n",
       "  <thead>\n",
       "    <tr style=\"text-align: right;\">\n",
       "      <th></th>\n",
       "      <th>step</th>\n",
       "      <th>|phi|</th>\n",
       "      <th>Q_L</th>\n",
       "      <th>A_L</th>\n",
       "      <th>S_L</th>\n",
       "      <th>Xi_L</th>\n",
       "      <th>F_LRe</th>\n",
       "      <th>F_LIm</th>\n",
       "      <th>acc</th>\n",
       "      <th>dt</th>\n",
       "      <th>...</th>\n",
       "      <th>Q_L_ta</th>\n",
       "      <th>A_L_ta</th>\n",
       "      <th>S_L_ta</th>\n",
       "      <th>Xi_L_ta</th>\n",
       "      <th>corr_length_Re</th>\n",
       "      <th>corr_length_Im</th>\n",
       "      <th>F_Re_py</th>\n",
       "      <th>F_Im_py</th>\n",
       "      <th>mass_gap_Re</th>\n",
       "      <th>mass_gap_Im</th>\n",
       "    </tr>\n",
       "  </thead>\n",
       "  <tbody>\n",
       "    <tr>\n",
       "      <th>0</th>\n",
       "      <td>0</td>\n",
       "      <td>100.0</td>\n",
       "      <td>-0.000000</td>\n",
       "      <td>-201.967438</td>\n",
       "      <td>-201.967438</td>\n",
       "      <td>0.496030</td>\n",
       "      <td>0.008225</td>\n",
       "      <td>0.011924</td>\n",
       "      <td>0.220000</td>\n",
       "      <td>0.0</td>\n",
       "      <td>...</td>\n",
       "      <td>1</td>\n",
       "      <td>6</td>\n",
       "      <td>6</td>\n",
       "      <td>1</td>\n",
       "      <td>2.387691</td>\n",
       "      <td>-0.558664</td>\n",
       "      <td>0.193545</td>\n",
       "      <td>0.095815</td>\n",
       "      <td>0.397077</td>\n",
       "      <td>0.092907</td>\n",
       "    </tr>\n",
       "    <tr>\n",
       "      <th>1</th>\n",
       "      <td>100</td>\n",
       "      <td>100.0</td>\n",
       "      <td>-0.091002</td>\n",
       "      <td>-202.060680</td>\n",
       "      <td>-201.846260</td>\n",
       "      <td>2.610412</td>\n",
       "      <td>0.008225</td>\n",
       "      <td>0.011924</td>\n",
       "      <td>0.190990</td>\n",
       "      <td>0.0</td>\n",
       "      <td>...</td>\n",
       "      <td>1</td>\n",
       "      <td>6</td>\n",
       "      <td>6</td>\n",
       "      <td>1</td>\n",
       "      <td>5.477453</td>\n",
       "      <td>-1.281596</td>\n",
       "      <td>0.193545</td>\n",
       "      <td>0.095815</td>\n",
       "      <td>0.173091</td>\n",
       "      <td>0.040499</td>\n",
       "    </tr>\n",
       "    <tr>\n",
       "      <th>2</th>\n",
       "      <td>200</td>\n",
       "      <td>100.0</td>\n",
       "      <td>-0.000000</td>\n",
       "      <td>-210.398559</td>\n",
       "      <td>-210.398559</td>\n",
       "      <td>2.829112</td>\n",
       "      <td>0.008225</td>\n",
       "      <td>0.011924</td>\n",
       "      <td>0.198756</td>\n",
       "      <td>0.0</td>\n",
       "      <td>...</td>\n",
       "      <td>1</td>\n",
       "      <td>6</td>\n",
       "      <td>6</td>\n",
       "      <td>1</td>\n",
       "      <td>5.702289</td>\n",
       "      <td>-1.334203</td>\n",
       "      <td>0.193545</td>\n",
       "      <td>0.095815</td>\n",
       "      <td>0.166266</td>\n",
       "      <td>0.038902</td>\n",
       "    </tr>\n",
       "    <tr>\n",
       "      <th>3</th>\n",
       "      <td>300</td>\n",
       "      <td>100.0</td>\n",
       "      <td>-0.000000</td>\n",
       "      <td>-210.096003</td>\n",
       "      <td>-210.096003</td>\n",
       "      <td>2.965907</td>\n",
       "      <td>0.008225</td>\n",
       "      <td>0.011924</td>\n",
       "      <td>0.206844</td>\n",
       "      <td>0.0</td>\n",
       "      <td>...</td>\n",
       "      <td>1</td>\n",
       "      <td>6</td>\n",
       "      <td>6</td>\n",
       "      <td>1</td>\n",
       "      <td>5.838522</td>\n",
       "      <td>-1.366078</td>\n",
       "      <td>0.193545</td>\n",
       "      <td>0.095815</td>\n",
       "      <td>0.162386</td>\n",
       "      <td>0.037995</td>\n",
       "    </tr>\n",
       "    <tr>\n",
       "      <th>4</th>\n",
       "      <td>400</td>\n",
       "      <td>100.0</td>\n",
       "      <td>1.689967</td>\n",
       "      <td>-189.540672</td>\n",
       "      <td>-193.522563</td>\n",
       "      <td>3.043159</td>\n",
       "      <td>0.008225</td>\n",
       "      <td>0.011924</td>\n",
       "      <td>0.208479</td>\n",
       "      <td>1.0</td>\n",
       "      <td>...</td>\n",
       "      <td>1</td>\n",
       "      <td>6</td>\n",
       "      <td>6</td>\n",
       "      <td>1</td>\n",
       "      <td>5.914070</td>\n",
       "      <td>-1.383755</td>\n",
       "      <td>0.193545</td>\n",
       "      <td>0.095815</td>\n",
       "      <td>0.160312</td>\n",
       "      <td>0.037509</td>\n",
       "    </tr>\n",
       "  </tbody>\n",
       "</table>\n",
       "<p>5 rows × 26 columns</p>\n",
       "</div>"
      ],
      "text/plain": [
       "   step  |phi|       Q_L         A_L         S_L      Xi_L     F_LRe  \\\n",
       "0     0  100.0 -0.000000 -201.967438 -201.967438  0.496030  0.008225   \n",
       "1   100  100.0 -0.091002 -202.060680 -201.846260  2.610412  0.008225   \n",
       "2   200  100.0 -0.000000 -210.398559 -210.398559  2.829112  0.008225   \n",
       "3   300  100.0 -0.000000 -210.096003 -210.096003  2.965907  0.008225   \n",
       "4   400  100.0  1.689967 -189.540672 -193.522563  3.043159  0.008225   \n",
       "\n",
       "      F_LIm       acc   dt  ...  Q_L_ta  A_L_ta  S_L_ta  Xi_L_ta  \\\n",
       "0  0.011924  0.220000  0.0  ...       1       6       6        1   \n",
       "1  0.011924  0.190990  0.0  ...       1       6       6        1   \n",
       "2  0.011924  0.198756  0.0  ...       1       6       6        1   \n",
       "3  0.011924  0.206844  0.0  ...       1       6       6        1   \n",
       "4  0.011924  0.208479  1.0  ...       1       6       6        1   \n",
       "\n",
       "   corr_length_Re  corr_length_Im   F_Re_py   F_Im_py  mass_gap_Re  \\\n",
       "0        2.387691       -0.558664  0.193545  0.095815     0.397077   \n",
       "1        5.477453       -1.281596  0.193545  0.095815     0.173091   \n",
       "2        5.702289       -1.334203  0.193545  0.095815     0.166266   \n",
       "3        5.838522       -1.366078  0.193545  0.095815     0.162386   \n",
       "4        5.914070       -1.383755  0.193545  0.095815     0.160312   \n",
       "\n",
       "   mass_gap_Im  \n",
       "0     0.092907  \n",
       "1     0.040499  \n",
       "2     0.038902  \n",
       "3     0.037995  \n",
       "4     0.037509  \n",
       "\n",
       "[5 rows x 26 columns]"
      ]
     },
     "execution_count": 7,
     "metadata": {},
     "output_type": "execute_result"
    }
   ],
   "source": [
    "one_run.head()"
   ]
  },
  {
   "cell_type": "code",
   "execution_count": 8,
   "id": "f0293bd3-483d-4013-bb2c-2769ea5e7151",
   "metadata": {},
   "outputs": [
    {
     "name": "stdout",
     "output_type": "stream",
     "text": [
      "Missing parameters in input: \n",
      "['ntherm']\n"
     ]
    }
   ],
   "source": [
    "param_dict = {\"length\": 10, \"freq\": 100, \"itheta\":2.356194, \"beta\":1.6, \"nMC\":10000}\n",
    "one_run = analyzer.get_data(single_run = True, suppress_output = False, **param_dict)"
   ]
  },
  {
   "cell_type": "code",
   "execution_count": 9,
   "id": "04e00035-8b56-4212-865a-898ac57dc450",
   "metadata": {},
   "outputs": [],
   "source": [
    "param_dict = {\"length\": 10, \"itheta\":2.356194}\n",
    "filtered_data = analyzer.get_data(single_run = False, suppress_output = True, **param_dict)"
   ]
  },
  {
   "cell_type": "code",
   "execution_count": 10,
   "id": "066a7992-9f1e-48d8-a127-6c69512e60fb",
   "metadata": {},
   "outputs": [
    {
     "data": {
      "text/html": [
       "<div>\n",
       "<style scoped>\n",
       "    .dataframe tbody tr th:only-of-type {\n",
       "        vertical-align: middle;\n",
       "    }\n",
       "\n",
       "    .dataframe tbody tr th {\n",
       "        vertical-align: top;\n",
       "    }\n",
       "\n",
       "    .dataframe thead th {\n",
       "        text-align: right;\n",
       "    }\n",
       "</style>\n",
       "<table border=\"1\" class=\"dataframe\">\n",
       "  <thead>\n",
       "    <tr style=\"text-align: right;\">\n",
       "      <th></th>\n",
       "      <th>step</th>\n",
       "      <th>|phi|</th>\n",
       "      <th>Q_L</th>\n",
       "      <th>A_L</th>\n",
       "      <th>S_L</th>\n",
       "      <th>Xi_L</th>\n",
       "      <th>F_LRe</th>\n",
       "      <th>F_LIm</th>\n",
       "      <th>acc</th>\n",
       "      <th>dt</th>\n",
       "      <th>...</th>\n",
       "      <th>Q_L_ta</th>\n",
       "      <th>A_L_ta</th>\n",
       "      <th>S_L_ta</th>\n",
       "      <th>Xi_L_ta</th>\n",
       "      <th>corr_length_Re</th>\n",
       "      <th>corr_length_Im</th>\n",
       "      <th>F_Re_py</th>\n",
       "      <th>F_Im_py</th>\n",
       "      <th>mass_gap_Re</th>\n",
       "      <th>mass_gap_Im</th>\n",
       "    </tr>\n",
       "  </thead>\n",
       "  <tbody>\n",
       "    <tr>\n",
       "      <th>0</th>\n",
       "      <td>0</td>\n",
       "      <td>100.0</td>\n",
       "      <td>-0.000000</td>\n",
       "      <td>-201.967438</td>\n",
       "      <td>-201.967438</td>\n",
       "      <td>0.496030</td>\n",
       "      <td>0.008225</td>\n",
       "      <td>0.011924</td>\n",
       "      <td>0.220000</td>\n",
       "      <td>0.0</td>\n",
       "      <td>...</td>\n",
       "      <td>1</td>\n",
       "      <td>6</td>\n",
       "      <td>6</td>\n",
       "      <td>1</td>\n",
       "      <td>2.387691</td>\n",
       "      <td>-0.558664</td>\n",
       "      <td>0.193545</td>\n",
       "      <td>0.095815</td>\n",
       "      <td>0.397077</td>\n",
       "      <td>0.092907</td>\n",
       "    </tr>\n",
       "    <tr>\n",
       "      <th>1</th>\n",
       "      <td>100</td>\n",
       "      <td>100.0</td>\n",
       "      <td>-0.091002</td>\n",
       "      <td>-202.060680</td>\n",
       "      <td>-201.846260</td>\n",
       "      <td>2.610412</td>\n",
       "      <td>0.008225</td>\n",
       "      <td>0.011924</td>\n",
       "      <td>0.190990</td>\n",
       "      <td>0.0</td>\n",
       "      <td>...</td>\n",
       "      <td>1</td>\n",
       "      <td>6</td>\n",
       "      <td>6</td>\n",
       "      <td>1</td>\n",
       "      <td>5.477453</td>\n",
       "      <td>-1.281596</td>\n",
       "      <td>0.193545</td>\n",
       "      <td>0.095815</td>\n",
       "      <td>0.173091</td>\n",
       "      <td>0.040499</td>\n",
       "    </tr>\n",
       "    <tr>\n",
       "      <th>2</th>\n",
       "      <td>200</td>\n",
       "      <td>100.0</td>\n",
       "      <td>-0.000000</td>\n",
       "      <td>-210.398559</td>\n",
       "      <td>-210.398559</td>\n",
       "      <td>2.829112</td>\n",
       "      <td>0.008225</td>\n",
       "      <td>0.011924</td>\n",
       "      <td>0.198756</td>\n",
       "      <td>0.0</td>\n",
       "      <td>...</td>\n",
       "      <td>1</td>\n",
       "      <td>6</td>\n",
       "      <td>6</td>\n",
       "      <td>1</td>\n",
       "      <td>5.702289</td>\n",
       "      <td>-1.334203</td>\n",
       "      <td>0.193545</td>\n",
       "      <td>0.095815</td>\n",
       "      <td>0.166266</td>\n",
       "      <td>0.038902</td>\n",
       "    </tr>\n",
       "    <tr>\n",
       "      <th>3</th>\n",
       "      <td>300</td>\n",
       "      <td>100.0</td>\n",
       "      <td>-0.000000</td>\n",
       "      <td>-210.096003</td>\n",
       "      <td>-210.096003</td>\n",
       "      <td>2.965907</td>\n",
       "      <td>0.008225</td>\n",
       "      <td>0.011924</td>\n",
       "      <td>0.206844</td>\n",
       "      <td>0.0</td>\n",
       "      <td>...</td>\n",
       "      <td>1</td>\n",
       "      <td>6</td>\n",
       "      <td>6</td>\n",
       "      <td>1</td>\n",
       "      <td>5.838522</td>\n",
       "      <td>-1.366078</td>\n",
       "      <td>0.193545</td>\n",
       "      <td>0.095815</td>\n",
       "      <td>0.162386</td>\n",
       "      <td>0.037995</td>\n",
       "    </tr>\n",
       "    <tr>\n",
       "      <th>4</th>\n",
       "      <td>400</td>\n",
       "      <td>100.0</td>\n",
       "      <td>1.689967</td>\n",
       "      <td>-189.540672</td>\n",
       "      <td>-193.522563</td>\n",
       "      <td>3.043159</td>\n",
       "      <td>0.008225</td>\n",
       "      <td>0.011924</td>\n",
       "      <td>0.208479</td>\n",
       "      <td>1.0</td>\n",
       "      <td>...</td>\n",
       "      <td>1</td>\n",
       "      <td>6</td>\n",
       "      <td>6</td>\n",
       "      <td>1</td>\n",
       "      <td>5.914070</td>\n",
       "      <td>-1.383755</td>\n",
       "      <td>0.193545</td>\n",
       "      <td>0.095815</td>\n",
       "      <td>0.160312</td>\n",
       "      <td>0.037509</td>\n",
       "    </tr>\n",
       "  </tbody>\n",
       "</table>\n",
       "<p>5 rows × 26 columns</p>\n",
       "</div>"
      ],
      "text/plain": [
       "   step  |phi|       Q_L         A_L         S_L      Xi_L     F_LRe  \\\n",
       "0     0  100.0 -0.000000 -201.967438 -201.967438  0.496030  0.008225   \n",
       "1   100  100.0 -0.091002 -202.060680 -201.846260  2.610412  0.008225   \n",
       "2   200  100.0 -0.000000 -210.398559 -210.398559  2.829112  0.008225   \n",
       "3   300  100.0 -0.000000 -210.096003 -210.096003  2.965907  0.008225   \n",
       "4   400  100.0  1.689967 -189.540672 -193.522563  3.043159  0.008225   \n",
       "\n",
       "      F_LIm       acc   dt  ...  Q_L_ta  A_L_ta  S_L_ta  Xi_L_ta  \\\n",
       "0  0.011924  0.220000  0.0  ...       1       6       6        1   \n",
       "1  0.011924  0.190990  0.0  ...       1       6       6        1   \n",
       "2  0.011924  0.198756  0.0  ...       1       6       6        1   \n",
       "3  0.011924  0.206844  0.0  ...       1       6       6        1   \n",
       "4  0.011924  0.208479  1.0  ...       1       6       6        1   \n",
       "\n",
       "   corr_length_Re  corr_length_Im   F_Re_py   F_Im_py  mass_gap_Re  \\\n",
       "0        2.387691       -0.558664  0.193545  0.095815     0.397077   \n",
       "1        5.477453       -1.281596  0.193545  0.095815     0.173091   \n",
       "2        5.702289       -1.334203  0.193545  0.095815     0.166266   \n",
       "3        5.838522       -1.366078  0.193545  0.095815     0.162386   \n",
       "4        5.914070       -1.383755  0.193545  0.095815     0.160312   \n",
       "\n",
       "   mass_gap_Im  \n",
       "0     0.092907  \n",
       "1     0.040499  \n",
       "2     0.038902  \n",
       "3     0.037995  \n",
       "4     0.037509  \n",
       "\n",
       "[5 rows x 26 columns]"
      ]
     },
     "execution_count": 10,
     "metadata": {},
     "output_type": "execute_result"
    }
   ],
   "source": [
    "filtered_data.head()"
   ]
  },
  {
   "cell_type": "code",
   "execution_count": 11,
   "id": "21451083-5c1a-40b6-b47d-a8ae98345343",
   "metadata": {},
   "outputs": [],
   "source": [
    "all_data = analyzer.get_data(single_run = False, suppress_output = True)"
   ]
  },
  {
   "cell_type": "code",
   "execution_count": 12,
   "id": "6f3e59a6-6556-4590-b8e1-5e262341e9fb",
   "metadata": {},
   "outputs": [],
   "source": [
    "df_stats = analyzer.do_stats(stack = False)"
   ]
  },
  {
   "cell_type": "code",
   "execution_count": 13,
   "id": "2d16f0ea-efb4-4d1e-8553-71b64325969d",
   "metadata": {},
   "outputs": [
    {
     "name": "stdout",
     "output_type": "stream",
     "text": [
      "10.0\n",
      "40.0\n"
     ]
    },
    {
     "data": {
      "image/png": "[encoded data removed]",
      "text/plain": [
       "<Figure size 432x288 with 1 Axes>"
      ]
     },
     "metadata": {
      "needs_background": "light"
     },
     "output_type": "display_data"
    }
   ],
   "source": [
    "params = analyzer.all_params()\n",
    "lengths = sorted(params[\"length\"].unique())\n",
    "colors = sns.color_palette(\"Blues\", len(lengths))\n",
    "observable = \"Q_L\"\n",
    "\n",
    "for n,length in enumerate(lengths):\n",
    "    print(length)\n",
    "    x,y,err = analyzer.get_plot_data(obs = observable, L = length, beta = 1.6, nMC = 10000, \n",
    "                                     ntherm = 4000, freq = 100)\n",
    "    plt.errorbar(x, y , yerr = err, marker = \".\", ls = \"none\", color = colors[n], label =\"L=\"+str(length))\n",
    "plt.legend()\n",
    "plt.title(observable)\n",
    "#plt.savefig(\"../Figs_README/QL_v_itheta_example.jpg\", format = \"jpg\")\n",
    "plt.show()"
   ]
  },
  {
   "cell_type": "code",
   "execution_count": 14,
   "id": "d329c365-5f7c-469e-860f-15e530f6020d",
   "metadata": {},
   "outputs": [
    {
     "data": {
      "image/png": "[encoded data removed]",
      "text/plain": [
       "<Figure size 432x288 with 1 Axes>"
      ]
     },
     "metadata": {
      "needs_background": "light"
     },
     "output_type": "display_data"
    }
   ],
   "source": [
    "params = analyzer.all_params()\n",
    "lengths = params[\"length\"].unique()\n",
    "colors = sns.color_palette(\"Reds\", len(lengths))\n",
    "observable = \"Xi_L\"\n",
    "\n",
    "for n,length in enumerate(lengths):\n",
    "    x,y,err = analyzer.get_plot_data(obs = observable, L = length, beta = 1.6, nMC = 10000, \n",
    "                                     ntherm = 4000, freq = 100)\n",
    "    plt.errorbar(x, y , yerr = err, marker = \".\", ls = \"none\", color = colors[n], label =\"L=\"+str(length))\n",
    "plt.legend()\n",
    "plt.title(observable)\n",
    "plt.savefig(\"../Figs_README/XiL_v_itheta_example.jpg\", format = \"jpg\")\n",
    "plt.show()"
   ]
  },
  {
   "cell_type": "code",
   "execution_count": 15,
   "id": "673b216b-a6d1-4185-98c0-704b5394b2db",
   "metadata": {},
   "outputs": [
    {
     "name": "stdout",
     "output_type": "stream",
     "text": [
      "freq 100\n",
      "nMC 10000\n",
      "ntherm 4000\n",
      "itheta 3.141593\n",
      "beta 1.6\n",
      "length 10\n"
     ]
    }
   ],
   "source": [
    "itheta = np.pi\n",
    "beta = 1.6\n",
    "length = 10\n",
    "nMC = 10000\n",
    "ntherm = 4000\n",
    "freq = 100\n",
    "corr_params = {\"itheta\": itheta, \"beta\": beta,\"length\": length,\"nMC\": nMC, \"ntherm\": ntherm, \"freq\": freq }\n",
    "G_ij = analyzer.get_corr_func(suppress_output = False, **corr_params)"
   ]
  },
  {
   "cell_type": "code",
   "execution_count": 16,
   "id": "71c3df29-e0c8-4100-a7ab-f4eea7527a46",
   "metadata": {},
   "outputs": [
    {
     "data": {
      "image/png": "[encoded data removed]",
      "text/plain": [
       "<Figure size 432x288 with 2 Axes>"
      ]
     },
     "metadata": {
      "needs_background": "light"
     },
     "output_type": "display_data"
    }
   ],
   "source": [
    "plt.imshow(G_ij, cmap = \"viridis\", aspect='equal')\n",
    "plt.colorbar()\n",
    "plt.title(\"Correlation function for L = \"+str(corr_params[\"length\"])+\", itheta = \"+str(corr_params[\"itheta\"]))\n",
    "plt.savefig(\"../Figs_README/Gij_example.jpg\", format = \"jpg\")\n",
    "plt.show()"
   ]
  },
  {
   "cell_type": "code",
   "execution_count": 17,
   "id": "0c53be87-77b8-41d6-bd74-6a51452f37a1",
   "metadata": {},
   "outputs": [
    {
     "data": {
      "text/plain": [
       "(0.3764068166757886-0.04453111253134049j)"
      ]
     },
     "execution_count": 17,
     "metadata": {},
     "output_type": "execute_result"
    }
   ],
   "source": [
    "analyzer.calc_F(**corr_params)"
   ]
  },
  {
   "cell_type": "code",
   "execution_count": 18,
   "id": "a92bdc9b-3bbb-44d8-a2c5-79a5d114ae5e",
   "metadata": {},
   "outputs": [
    {
     "data": {
      "text/plain": [
       "Index(['length', 'itheta', 'beta', 'nMC', 'ntherm', 'freq', '|phi|_mean',\n",
       "       'Q_L_mean', 'A_L_mean', 'S_L_mean', 'Xi_L_mean', 'F_LRe_mean',\n",
       "       'F_LIm_mean', 'acc_mean', 'Q_L_ta', 'A_L_ta', 'S_L_ta', 'Xi_L_ta',\n",
       "       'corr_length_Re_mean', 'corr_length_Im_mean', 'F_Re_py_mean',\n",
       "       'F_Im_py_mean', 'mass_gap_Re_mean', 'mass_gap_Im_mean', '|phi|_std',\n",
       "       'Q_L_std', 'A_L_std', 'S_L_std', 'Xi_L_std', 'F_LRe_std', 'F_LIm_std',\n",
       "       'acc_std', 'corr_length_Re_std', 'corr_length_Im_std', 'F_Re_py_std',\n",
       "       'F_Im_py_std', 'mass_gap_Re_std', 'mass_gap_Im_std', 'time (sec)',\n",
       "       'time (min)', 'time (hr)'],\n",
       "      dtype='object')"
      ]
     },
     "execution_count": 18,
     "metadata": {},
     "output_type": "execute_result"
    }
   ],
   "source": [
    "df_stats.columns"
   ]
  },
  {
   "cell_type": "code",
   "execution_count": 19,
   "id": "16242072-d870-4984-a98d-b8ee373e46fc",
   "metadata": {},
   "outputs": [],
   "source": [
    "df_F = df_stats[['length', 'itheta', 'beta', 'nMC', 'ntherm', 'freq', 'F_LRe_mean',\n",
    "       'F_LIm_mean','F_Re_py_mean','F_Im_py_mean','F_LRe_std', 'F_LIm_std', 'F_Re_py_std',\n",
    "       'F_Im_py_std']].copy()\n",
    "df_F = df_F[df_F[\"length\"]==10]"
   ]
  },
  {
   "cell_type": "code",
   "execution_count": 20,
   "id": "6a861a08-86e4-4d72-b6e4-b035aeea4a7b",
   "metadata": {},
   "outputs": [
    {
     "data": {
      "image/png": "[encoded data removed]",
      "text/plain": [
       "<Figure size 432x288 with 1 Axes>"
      ]
     },
     "metadata": {
      "needs_background": "light"
     },
     "output_type": "display_data"
    }
   ],
   "source": [
    "itheta = df_F[\"itheta\"].unique()\n",
    "plt.scatter(x = itheta,y = df_F[\"F_LRe_mean\"], color = \"darkblue\")\n",
    "plt.errorbar(x = itheta,y = df_F[\"F_LRe_mean\"],yerr = df_F[\"F_LRe_std\"], color = \"darkblue\")\n",
    "plt.scatter(x = itheta,y = df_F[\"F_LIm_mean\"], color = \"darkred\")\n",
    "plt.errorbar(x = itheta,y = df_F[\"F_LIm_mean\"], yerr = df_F[\"F_LIm_std\"], color = \"darkred\")\n",
    "plt.scatter(x = itheta,y = df_F[\"F_Re_py_mean\"], color = \"blue\")\n",
    "plt.scatter(x = itheta,y = df_F[\"F_Im_py_mean\"], color = \"red\")\n",
    "plt.show()"
   ]
  },
  {
   "cell_type": "code",
   "execution_count": 21,
   "id": "38fc0b75-ab9e-4249-acd8-5a7495976919",
   "metadata": {},
   "outputs": [
    {
     "data": {
      "text/html": [
       "<div>\n",
       "<style scoped>\n",
       "    .dataframe tbody tr th:only-of-type {\n",
       "        vertical-align: middle;\n",
       "    }\n",
       "\n",
       "    .dataframe tbody tr th {\n",
       "        vertical-align: top;\n",
       "    }\n",
       "\n",
       "    .dataframe thead th {\n",
       "        text-align: right;\n",
       "    }\n",
       "</style>\n",
       "<table border=\"1\" class=\"dataframe\">\n",
       "  <thead>\n",
       "    <tr style=\"text-align: right;\">\n",
       "      <th></th>\n",
       "      <th>length</th>\n",
       "      <th>itheta</th>\n",
       "      <th>beta</th>\n",
       "      <th>nMC</th>\n",
       "      <th>ntherm</th>\n",
       "      <th>freq</th>\n",
       "      <th>F_LRe_mean</th>\n",
       "      <th>F_LIm_mean</th>\n",
       "      <th>F_Re_py_mean</th>\n",
       "      <th>F_Im_py_mean</th>\n",
       "      <th>F_LRe_std</th>\n",
       "      <th>F_LIm_std</th>\n",
       "      <th>F_Re_py_std</th>\n",
       "      <th>F_Im_py_std</th>\n",
       "    </tr>\n",
       "  </thead>\n",
       "  <tbody>\n",
       "    <tr>\n",
       "      <th>0</th>\n",
       "      <td>10.0</td>\n",
       "      <td>0.000000</td>\n",
       "      <td>1.6</td>\n",
       "      <td>10000.0</td>\n",
       "      <td>4000.0</td>\n",
       "      <td>100.0</td>\n",
       "      <td>0.017027</td>\n",
       "      <td>-0.016494</td>\n",
       "      <td>0.174824</td>\n",
       "      <td>-0.018091</td>\n",
       "      <td>0.0</td>\n",
       "      <td>0.0</td>\n",
       "      <td>0.0</td>\n",
       "      <td>0.0</td>\n",
       "    </tr>\n",
       "    <tr>\n",
       "      <th>1</th>\n",
       "      <td>10.0</td>\n",
       "      <td>0.392699</td>\n",
       "      <td>1.6</td>\n",
       "      <td>10000.0</td>\n",
       "      <td>4000.0</td>\n",
       "      <td>100.0</td>\n",
       "      <td>0.005677</td>\n",
       "      <td>0.038717</td>\n",
       "      <td>0.392708</td>\n",
       "      <td>0.110771</td>\n",
       "      <td>0.0</td>\n",
       "      <td>0.0</td>\n",
       "      <td>0.0</td>\n",
       "      <td>0.0</td>\n",
       "    </tr>\n",
       "    <tr>\n",
       "      <th>2</th>\n",
       "      <td>10.0</td>\n",
       "      <td>0.785398</td>\n",
       "      <td>1.6</td>\n",
       "      <td>10000.0</td>\n",
       "      <td>4000.0</td>\n",
       "      <td>100.0</td>\n",
       "      <td>-0.017346</td>\n",
       "      <td>0.007532</td>\n",
       "      <td>0.268991</td>\n",
       "      <td>0.095759</td>\n",
       "      <td>0.0</td>\n",
       "      <td>0.0</td>\n",
       "      <td>0.0</td>\n",
       "      <td>0.0</td>\n",
       "    </tr>\n",
       "    <tr>\n",
       "      <th>3</th>\n",
       "      <td>10.0</td>\n",
       "      <td>1.178097</td>\n",
       "      <td>1.6</td>\n",
       "      <td>10000.0</td>\n",
       "      <td>4000.0</td>\n",
       "      <td>100.0</td>\n",
       "      <td>0.080226</td>\n",
       "      <td>0.005893</td>\n",
       "      <td>0.496576</td>\n",
       "      <td>-0.016936</td>\n",
       "      <td>0.0</td>\n",
       "      <td>0.0</td>\n",
       "      <td>0.0</td>\n",
       "      <td>0.0</td>\n",
       "    </tr>\n",
       "    <tr>\n",
       "      <th>4</th>\n",
       "      <td>10.0</td>\n",
       "      <td>1.570796</td>\n",
       "      <td>1.6</td>\n",
       "      <td>10000.0</td>\n",
       "      <td>4000.0</td>\n",
       "      <td>100.0</td>\n",
       "      <td>-0.002927</td>\n",
       "      <td>0.024464</td>\n",
       "      <td>0.314564</td>\n",
       "      <td>-0.093049</td>\n",
       "      <td>0.0</td>\n",
       "      <td>0.0</td>\n",
       "      <td>0.0</td>\n",
       "      <td>0.0</td>\n",
       "    </tr>\n",
       "  </tbody>\n",
       "</table>\n",
       "</div>"
      ],
      "text/plain": [
       "   length    itheta  beta      nMC  ntherm   freq  F_LRe_mean  F_LIm_mean  \\\n",
       "0    10.0  0.000000   1.6  10000.0  4000.0  100.0    0.017027   -0.016494   \n",
       "1    10.0  0.392699   1.6  10000.0  4000.0  100.0    0.005677    0.038717   \n",
       "2    10.0  0.785398   1.6  10000.0  4000.0  100.0   -0.017346    0.007532   \n",
       "3    10.0  1.178097   1.6  10000.0  4000.0  100.0    0.080226    0.005893   \n",
       "4    10.0  1.570796   1.6  10000.0  4000.0  100.0   -0.002927    0.024464   \n",
       "\n",
       "   F_Re_py_mean  F_Im_py_mean  F_LRe_std  F_LIm_std  F_Re_py_std  F_Im_py_std  \n",
       "0      0.174824     -0.018091        0.0        0.0          0.0          0.0  \n",
       "1      0.392708      0.110771        0.0        0.0          0.0          0.0  \n",
       "2      0.268991      0.095759        0.0        0.0          0.0          0.0  \n",
       "3      0.496576     -0.016936        0.0        0.0          0.0          0.0  \n",
       "4      0.314564     -0.093049        0.0        0.0          0.0          0.0  "
      ]
     },
     "execution_count": 21,
     "metadata": {},
     "output_type": "execute_result"
    }
   ],
   "source": [
    "df_F.head()"
   ]
  },
  {
   "cell_type": "code",
   "execution_count": null,
   "id": "34ae1cd8-ebce-4587-bb53-e0827cbacbf7",
   "metadata": {},
   "outputs": [],
   "source": []
  }
 ],
 "metadata": {
  "kernelspec": {
   "display_name": "Python 3 (ipykernel)",
   "language": "python",
   "name": "python3"
  },
  "language_info": {
   "codemirror_mode": {
    "name": "ipython",
    "version": 3
   },
   "file_extension": ".py",
   "mimetype": "text/x-python",
   "name": "python",
   "nbconvert_exporter": "python",
   "pygments_lexer": "ipython3",
   "version": "3.8.10"
  }
 },
 "nbformat": 4,
 "nbformat_minor": 5
}
