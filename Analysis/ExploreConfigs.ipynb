{
 "cells": [
  {
   "cell_type": "code",
   "execution_count": 1,
   "id": "023b9e67-48c1-48de-b50d-ed6d0e5807dd",
   "metadata": {},
   "outputs": [],
   "source": [
    "import numpy as np\n",
    "import pandas as pd\n",
    "import matplotlib.pyplot as plt\n",
    "import seaborn as sns\n",
    "from LatticeData import *"
   ]
  },
  {
   "cell_type": "markdown",
   "id": "f44b0c24-18fa-4df8-873b-2a4791449003",
   "metadata": {},
   "source": [
    "# Explore difference in exceptional configurations between two runs"
   ]
  },
  {
   "cell_type": "code",
   "execution_count": 2,
   "id": "1d357cb9-e4dd-4974-be4a-b50f257a7b61",
   "metadata": {},
   "outputs": [],
   "source": [
    "dest_new = \"/project/pi_cberger_smith_edu/cfg_test_new/\"\n",
    "src_new = \"/work/pi_cberger_smith_edu/data_configs_test/\"\n",
    "analyzer_new = LatticeData(datadir = dest_new, use_full_filepath = True)\n",
    "\n",
    "dest_old =\"/project/pi_cberger_smith_edu/cfg_test_old/\"\n",
    "src_old = \"/work/pi_cberger_smith_edu/data_configs_Andy/\"\n",
    "analyzer_old = LatticeData(datadir = dest_old, use_full_filepath = True)\n",
    "\n",
    "analyzer_old.copy_data_from_directory(src_old)\n",
    "analyzer_new.copy_data_from_directory(src_new)"
   ]
  },
  {
   "cell_type": "code",
   "execution_count": 3,
   "id": "81b682eb-d436-4c1e-9b11-6792fdbbd7d7",
   "metadata": {},
   "outputs": [
    {
     "name": "stdout",
     "output_type": "stream",
     "text": [
      "fetching exceptional configurations from source directories\n",
      "Old data in df: \n",
      "   freq   nMC  ntherm  itheta  beta  length  config  num_exc  any_exc\n",
      "0     1  1000       0     0.0   1.6      10       0        6        1\n",
      "0     1  1000       0     0.0   1.6      10       1        8        1\n",
      "0     1  1000       0     0.0   1.6      10      10        4        1\n",
      "0     1  1000       0     0.0   1.6      10     100        0        0\n",
      "0     1  1000       0     0.0   1.6      10     101        0        0\n",
      "New data in df: \n",
      "   freq   nMC  ntherm  itheta  beta  length  config  num_exc  any_exc\n",
      "0     1  1000       0     0.0   1.6      10       0        2        1\n",
      "0     1  1000       0     0.0   1.6      10       1        1        1\n",
      "0     1  1000       0     0.0   1.6      10      10        1        1\n",
      "0     1  1000       0     0.0   1.6      10     100        0        0\n",
      "0     1  1000       0     0.0   1.6      10     101        0        0\n",
      "Number of exceptional configurations in old data:\n",
      "[  6   8   4   0   1   3   2   5   7 108  66  17   9  14  13  24  10  12\n",
      "  19  72  11  25  15  51  45  37  16  32  29  23  20 125  97  22  21  79\n",
      "  46  49  56  41  33]\n",
      "Number of exceptional configurations in new data:\n",
      "[ 2  1  0  3 39 35 10  4  7  6  5 29  9 23  8 16 17 13 59 42 14 18 19 20]\n",
      "Grouping old data \n",
      "                                       config  num_exc  any_exc\n",
      "length itheta   beta nMC  ntherm freq                          \n",
      "10     0.000000 1.6  1000 0      1     499500      194      126\n",
      "       1.570796 1.6  1000 0      1     499500      184      140\n",
      "40     0.000000 1.6  1000 0      1     499500     5454      989\n",
      "       1.570796 1.6  1000 0      1     499500     6492      988\n",
      "Grouping new data \n",
      "                                       config  num_exc  any_exc\n",
      "length itheta   beta nMC  ntherm freq                          \n",
      "10     0.000000 1.6  1000 0      1     499500       81       69\n",
      "       1.570796 1.6  1000 0      1     499500       99       89\n",
      "40     0.000000 1.6  1000 0      1     499500     2125      855\n",
      "       1.570796 1.6  1000 0      1     499500     2298      842\n"
     ]
    }
   ],
   "source": [
    "print(\"fetching exceptional configurations from source directories\")\n",
    "df_old = analyzer_old.get_exceptional_configurations(src_old)\n",
    "df_new = analyzer_new.get_exceptional_configurations(src_new)\n",
    "\n",
    "print(\"Old data in df: \")\n",
    "print(df_old.head())\n",
    "print(\"New data in df: \")\n",
    "print(df_new.head())\n",
    "\n",
    "print(\"Number of exceptional configurations in old data:\") #note -- are these triangles or whole configurations?\n",
    "print(df_old[\"num_exc\"].unique())\n",
    "print(\"Number of exceptional configurations in new data:\")#note -- are these triangles or whole configurations?\n",
    "print(df_new[\"num_exc\"].unique())\n",
    "\n",
    "print(\"Grouping old data \")\n",
    "old_grouped = df_old.groupby([\"length\",\"itheta\",\"beta\",\"nMC\",\"ntherm\", \"freq\"]).sum()\n",
    "print(old_grouped)\n",
    "print(\"Grouping new data \")\n",
    "new_grouped = df_new.groupby([\"length\",\"itheta\",\"beta\",\"nMC\",\"ntherm\", \"freq\"]).sum()\n",
    "print(new_grouped)"
   ]
  },
  {
   "cell_type": "markdown",
   "id": "2614d4a5-b4c3-4f21-bb34-fabba168c055",
   "metadata": {},
   "source": [
    "# Explore attempts to create non-exceptional configurations"
   ]
  },
  {
   "cell_type": "code",
   "execution_count": 9,
   "id": "ba459957-122a-460e-be7c-512b7652d563",
   "metadata": {},
   "outputs": [],
   "source": [
    "run_dirpath = '/project/pi_cberger_smith_edu/nonlinearsigmaCL/data_cfg_test/'\n",
    "data_dirpath = '/project/pi_cberger_smith_edu/nonlinearsigmaCL/data_cfg_test/all/'\n",
    "run_params = {\"itheta\": 0.0, \"beta\": 1.6,\"length\": 40,\"nMC\": 20, \"ntherm\": 0, \"freq\": 1}"
   ]
  },
  {
   "cell_type": "code",
   "execution_count": 10,
   "id": "73c0ca9e-a7de-4c72-a856-bbf4f7b01b95",
   "metadata": {},
   "outputs": [],
   "source": [
    "from TestingSuite import *"
   ]
  },
  {
   "cell_type": "code",
   "execution_count": 11,
   "id": "50bb8f24-ea22-4080-9142-8a25c1d35008",
   "metadata": {},
   "outputs": [],
   "source": [
    "test = TestingSuite(datadir = data_dirpath, use_full_filepath = True)\n",
    "test.setup(run_dirpath)"
   ]
  },
  {
   "cell_type": "code",
   "execution_count": 12,
   "id": "58675661-9603-4d5f-8fe6-56b386361866",
   "metadata": {},
   "outputs": [
    {
     "data": {
      "text/plain": [
       "'/project/pi_cberger_smith_edu/nonlinearsigmaCL/data_cfg_test//'"
      ]
     },
     "execution_count": 12,
     "metadata": {},
     "output_type": "execute_result"
    }
   ],
   "source": [
    "test.test_run_dir"
   ]
  },
  {
   "cell_type": "code",
   "execution_count": null,
   "id": "e45bf548-c99c-4e99-a4ad-abdb10bd9d11",
   "metadata": {},
   "outputs": [],
   "source": [
    "test.catalog_sites(**run_params)\n",
    "test.site_catalog"
   ]
  },
  {
   "cell_type": "code",
   "execution_count": null,
   "id": "2334934b-d8bd-4153-addf-7a02f2389e2b",
   "metadata": {},
   "outputs": [],
   "source": [
    "missing = test.check_for_missing_sites()"
   ]
  },
  {
   "cell_type": "code",
   "execution_count": null,
   "id": "bf3b7f9e-5136-49ad-913f-d236da9594d5",
   "metadata": {},
   "outputs": [],
   "source": [
    "sites = test.site_catalog"
   ]
  },
  {
   "cell_type": "code",
   "execution_count": null,
   "id": "4c4c7444-bfa5-4fd6-addd-12cb1dc4841d",
   "metadata": {},
   "outputs": [],
   "source": [
    "missing = sites[sites[\"line\"].isna()]\n",
    "len(missing)/(test.nMC*test.L*test.L)"
   ]
  },
  {
   "cell_type": "code",
   "execution_count": null,
   "id": "f380c46f-afda-41e3-9f73-e85f9c3fd7c2",
   "metadata": {},
   "outputs": [],
   "source": [
    "missing.head()"
   ]
  },
  {
   "cell_type": "code",
   "execution_count": null,
   "id": "1339048a-b5aa-452c-99c0-03d0738312ae",
   "metadata": {},
   "outputs": [],
   "source": [
    "print(\"Fetching exceptional configurations from run \")\n",
    "data_exc = LatticeData(datadir = data_dirpath)\n",
    "exc_cfgs = data_exc.get_exceptional_configurations(run_dirpath)\n",
    "print(exc_cfgs.head())"
   ]
  },
  {
   "cell_type": "code",
   "execution_count": null,
   "id": "356b0376-9fcc-4396-822c-71ea36ed1e7e",
   "metadata": {},
   "outputs": [],
   "source": [
    "print(\"Graphing exceptional configurations from run:\")\n",
    "excdf=data_exc.find_exc(run_dirpath,**run_params)\\\n",
    "\n",
    "# With the new format of the function, this is how to look at just one configuration. Change 'config' to look at different configurations\n",
    "config=0\n",
    "fig,ax=plt.subplots()\n",
    "ax.imshow(list(excdf.iloc[config]))\n",
    "plt.show()"
   ]
  },
  {
   "cell_type": "code",
   "execution_count": null,
   "id": "253746e4-c598-4e22-8b97-3e018aeb288a",
   "metadata": {},
   "outputs": [],
   "source": [
    "excarray = list(excdf.iloc[config])\n",
    "i = 0\n",
    "j = 3\n",
    "print(excarray[i][j])\n",
    "test.find_site(i = i,j = j, step = 0)"
   ]
  },
  {
   "cell_type": "code",
   "execution_count": null,
   "id": "a4159b18-f241-4476-b3a1-d8ad7e1b4df9",
   "metadata": {},
   "outputs": [],
   "source": [
    "excarray = list(excdf.iloc[config])\n",
    "i = 3\n",
    "j = 4\n",
    "print(excarray[i][j])\n",
    "test.find_site(i = i,j = j, step = 0)"
   ]
  },
  {
   "cell_type": "code",
   "execution_count": null,
   "id": "acc4c0d0-dddb-4f55-a25e-20b7faf40ad5",
   "metadata": {},
   "outputs": [],
   "source": [
    "excarray = list(excdf.iloc[config])\n",
    "i = 9\n",
    "j = 0\n",
    "print(excarray[i][j])\n",
    "test.find_site(i = i,j = j, step = 0)"
   ]
  },
  {
   "cell_type": "code",
   "execution_count": null,
   "id": "438ce0b3-7398-426b-9c66-be90e99d099e",
   "metadata": {},
   "outputs": [],
   "source": [
    "excarray = list(excdf.iloc[config])\n",
    "i = 9\n",
    "j = 1\n",
    "print(excarray[i][j])\n",
    "test.find_site(i = i,j = j, step = 0)"
   ]
  },
  {
   "cell_type": "code",
   "execution_count": null,
   "id": "c98a5f7c-7086-4591-9c4e-cd6d44ac98c3",
   "metadata": {},
   "outputs": [],
   "source": [
    "excarray = list(excdf.iloc[config])\n",
    "i = 9\n",
    "j = 5\n",
    "print(excarray[i][j])\n",
    "test.find_site(i = i,j = j, step = 0)"
   ]
  },
  {
   "cell_type": "code",
   "execution_count": null,
   "id": "aff8c064-a5ba-430c-b9a6-a18628ed24f7",
   "metadata": {},
   "outputs": [],
   "source": [
    "excarray = list(excdf.iloc[config])\n",
    "i = 9\n",
    "j = 6\n",
    "print(excarray[i][j])\n",
    "test.find_site(i = i,j = j, step = 0)"
   ]
  },
  {
   "cell_type": "code",
   "execution_count": null,
   "id": "57614510-9acb-4e75-87d0-6b5edae57b9b",
   "metadata": {},
   "outputs": [],
   "source": [
    "test.find_site(i = 0,j = 3, step = 0)"
   ]
  },
  {
   "cell_type": "code",
   "execution_count": null,
   "id": "2ebd0c24-963e-44bd-8072-3af4909f5629",
   "metadata": {},
   "outputs": [],
   "source": [
    "df = test.site_catalog"
   ]
  },
  {
   "cell_type": "code",
   "execution_count": null,
   "id": "834f6ee2-498a-425a-a0c8-67dd4f6a74f5",
   "metadata": {},
   "outputs": [],
   "source": [
    "step0 = df[df[\"step\"] == 0]"
   ]
  },
  {
   "cell_type": "code",
   "execution_count": null,
   "id": "35cf6797-db3c-4c36-8498-fae9246d7269",
   "metadata": {},
   "outputs": [],
   "source": [
    "step0i2 = step0[step0[\"i\"]==2]\n",
    "step0i2[step0i2[\"j\"]==2]"
   ]
  }
 ],
 "metadata": {
  "kernelspec": {
   "display_name": "Python [conda env:.conda-nlsigma]",
   "language": "python",
   "name": "conda-env-.conda-nlsigma-py"
  },
  "language_info": {
   "codemirror_mode": {
    "name": "ipython",
    "version": 3
   },
   "file_extension": ".py",
   "mimetype": "text/x-python",
   "name": "python",
   "nbconvert_exporter": "python",
   "pygments_lexer": "ipython3",
   "version": "3.11.7"
  }
 },
 "nbformat": 4,
 "nbformat_minor": 5
}
