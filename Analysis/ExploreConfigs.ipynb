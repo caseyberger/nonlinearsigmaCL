{
 "cells": [
  {
   "cell_type": "code",
   "execution_count": 1,
   "id": "023b9e67-48c1-48de-b50d-ed6d0e5807dd",
   "metadata": {},
   "outputs": [],
   "source": [
    "import numpy as np\n",
    "import pandas as pd\n",
    "import matplotlib.pyplot as plt\n",
    "import seaborn as sns\n",
    "from LatticeData import *"
   ]
  },
  {
   "cell_type": "code",
   "execution_count": 2,
   "id": "1d357cb9-e4dd-4974-be4a-b50f257a7b61",
   "metadata": {},
   "outputs": [
    {
     "name": "stdout",
     "output_type": "stream",
     "text": [
      "run L_160_beta_1.600000_itheta_0.000000_ntherm_0_nMC_20000_freq_10 not yet complete: 1889 lines\n",
      "run L_160_beta_1.600000_itheta_1.570796_ntherm_0_nMC_20000_freq_10 not yet complete: 1761 lines\n"
     ]
    }
   ],
   "source": [
    "data_old = LatticeData(datadir = \"/exc_cfg_old/\")\n",
    "src_old = \"run_2023_10_27_exc_config_test\"\n",
    "data_old.copy_data_from_directory(src_old)"
   ]
  },
  {
   "cell_type": "code",
   "execution_count": 3,
   "id": "6fb6774b-3238-45d3-8be0-3dc63fac1539",
   "metadata": {},
   "outputs": [],
   "source": [
    "data_new = LatticeData(datadir = \"/exc_cfg_new/\")\n",
    "src_new = \"run_2023_11_02_test\"\n",
    "data_new.copy_data_from_directory(src_new)"
   ]
  },
  {
   "cell_type": "code",
   "execution_count": null,
   "id": "81b682eb-d436-4c1e-9b11-6792fdbbd7d7",
   "metadata": {},
   "outputs": [
    {
     "name": "stdout",
     "output_type": "stream",
     "text": [
      "run L_160_beta_1.600000_itheta_0.000000_ntherm_0_nMC_20000_freq_10 not yet complete: 1889 lines\n",
      "run L_160_beta_1.600000_itheta_1.570796_ntherm_0_nMC_20000_freq_10 not yet complete: 1761 lines\n"
     ]
    }
   ],
   "source": [
    "df_old = data_old.get_exceptional_configurations(src_old)\n",
    "df_new = data_new.get_exceptional_configurations(src_new)"
   ]
  },
  {
   "cell_type": "code",
   "execution_count": null,
   "id": "592229c2-9388-47ae-ad1a-0ed8b3433f48",
   "metadata": {},
   "outputs": [],
   "source": [
    "df_old.head()"
   ]
  },
  {
   "cell_type": "code",
   "execution_count": null,
   "id": "ee0b2130-ee36-4174-a666-c089262b7967",
   "metadata": {},
   "outputs": [],
   "source": [
    "df_new.head()"
   ]
  },
  {
   "cell_type": "code",
   "execution_count": null,
   "id": "ba201879-a5a8-4704-8975-fb6974e52fea",
   "metadata": {},
   "outputs": [],
   "source": [
    "old_grouped = df_old.groupby([\"length\",\"itheta\",\"beta\",\"nMC\",\"ntherm\", \"freq\"]).sum()\n",
    "old_grouped"
   ]
  },
  {
   "cell_type": "code",
   "execution_count": null,
   "id": "6fc28287-0f22-41ea-84ff-fdadd140664b",
   "metadata": {},
   "outputs": [],
   "source": [
    "new_grouped = df_new.groupby([\"length\",\"itheta\",\"beta\",\"nMC\",\"ntherm\", \"freq\"]).sum()\n",
    "new_grouped"
   ]
  },
  {
   "cell_type": "code",
   "execution_count": null,
   "id": "68254476-4337-4e47-b65c-498190e1cbf4",
   "metadata": {},
   "outputs": [],
   "source": [
    "df_old[\"num_exc\"].unique()"
   ]
  },
  {
   "cell_type": "code",
   "execution_count": null,
   "id": "31ca1f21-ac91-4f62-8287-146142dcda1d",
   "metadata": {},
   "outputs": [],
   "source": [
    "df_old[\"num_exc\"].unique()"
   ]
  }
 ],
 "metadata": {
  "kernelspec": {
   "display_name": "Python 3 (ipykernel)",
   "language": "python",
   "name": "python3"
  },
  "language_info": {
   "codemirror_mode": {
    "name": "ipython",
    "version": 3
   },
   "file_extension": ".py",
   "mimetype": "text/x-python",
   "name": "python",
   "nbconvert_exporter": "python",
   "pygments_lexer": "ipython3",
   "version": "3.8.10"
  }
 },
 "nbformat": 4,
 "nbformat_minor": 5
}
