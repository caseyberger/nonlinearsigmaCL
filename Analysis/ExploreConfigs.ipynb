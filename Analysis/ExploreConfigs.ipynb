{
 "cells": [
  {
   "cell_type": "code",
   "execution_count": 1,
   "id": "023b9e67-48c1-48de-b50d-ed6d0e5807dd",
   "metadata": {},
   "outputs": [],
   "source": [
    "import numpy as np\n",
    "import pandas as pd\n",
    "import matplotlib.pyplot as plt\n",
    "import seaborn as sns\n",
    "from LatticeData import *"
   ]
  },
  {
   "cell_type": "markdown",
   "id": "f44b0c24-18fa-4df8-873b-2a4791449003",
   "metadata": {},
   "source": [
    "# Explore difference in exceptional configurations between two runs"
   ]
  },
  {
   "cell_type": "code",
   "execution_count": 2,
   "id": "1d357cb9-e4dd-4974-be4a-b50f257a7b61",
   "metadata": {},
   "outputs": [
    {
     "name": "stdout",
     "output_type": "stream",
     "text": [
      "fetching data from directory run_2023_10_27_exc_config_test and moving it to /exc_cfg_old/\n",
      "run not yet complete\n",
      "L_160_beta_1.600000_itheta_0.000000_ntherm_0_nMC_20000_freq_10\n",
      "Status: 1889 lines written\n",
      "run not yet complete\n",
      "L_160_beta_1.600000_itheta_1.570796_ntherm_0_nMC_20000_freq_10\n",
      "Status: 1761 lines written\n"
     ]
    }
   ],
   "source": [
    "src_old = \"run_2023_10_27_exc_config_test\"\n",
    "dest_old = \"/exc_cfg_old/\"\n",
    "print(\"fetching data from directory \"+src_old+\" and moving it to \"+ dest_old)\n",
    "data_old = LatticeData(datadir = dest_old)\n",
    "data_old.copy_data_from_directory(src_old)\n",
    "\n",
    "# src_new = \"run_2023_11_02_test\"\n",
    "# dest_new = \"/exc_cfg_new/\"\n",
    "# print(\"fetching data from directory \"+src_new+\" and moving it to \"+ dest_new)\n",
    "# data_new = LatticeData(datadir = dest_new)\n",
    "# data_new.copy_data_from_directory(src_new)"
   ]
  },
  {
   "cell_type": "code",
   "execution_count": 3,
   "id": "81b682eb-d436-4c1e-9b11-6792fdbbd7d7",
   "metadata": {},
   "outputs": [],
   "source": [
    "# print(\"fetching exceptional configurations from source directories\")\n",
    "# df_old = data_old.get_exceptional_configurations(src_old)\n",
    "# df_new = data_new.get_exceptional_configurations(src_new)\n",
    "\n",
    "# print(\"Old data in df: \")\n",
    "# print(df_old.head())\n",
    "# print(\"New data in df: \")\n",
    "# print(df_new.head())\n",
    "\n",
    "# print(\"Number of exceptional configurations in old data:\") #note -- are these triangles or whole configurations?\n",
    "# print(df_old[\"num_exc\"].unique())\n",
    "# print(\"Number of exceptional configurations in new data:\")#note -- are these triangles or whole configurations?\n",
    "# print(df_new[\"num_exc\"].unique())\n",
    "\n",
    "# print(\"Grouping old data \")\n",
    "# old_grouped = df_old.groupby([\"length\",\"itheta\",\"beta\",\"nMC\",\"ntherm\", \"freq\"]).sum()\n",
    "# print(old_grouped)\n",
    "# print(\"Grouping new data \")\n",
    "# new_grouped = df_new.groupby([\"length\",\"itheta\",\"beta\",\"nMC\",\"ntherm\", \"freq\"]).sum()\n",
    "# print(new_grouped)"
   ]
  },
  {
   "cell_type": "markdown",
   "id": "2614d4a5-b4c3-4f21-bb34-fabba168c055",
   "metadata": {},
   "source": [
    "# Explore attempts to create non-exceptional configurations"
   ]
  },
  {
   "cell_type": "code",
   "execution_count": 9,
   "id": "ba459957-122a-460e-be7c-512b7652d563",
   "metadata": {},
   "outputs": [],
   "source": [
    "run_dirpath = \"/data_exc_cfg_test/\"\n",
    "data_dirpath = \"/data_test/\"\n",
    "run_params = {\"itheta\": 1.0, \"beta\": 1.6,\"length\": 20,\"nMC\": 20, \"ntherm\": 0, \"freq\": 1}"
   ]
  },
  {
   "cell_type": "code",
   "execution_count": 10,
   "id": "73c0ca9e-a7de-4c72-a856-bbf4f7b01b95",
   "metadata": {},
   "outputs": [],
   "source": [
    "from TestingSuite import *"
   ]
  },
  {
   "cell_type": "code",
   "execution_count": 11,
   "id": "50bb8f24-ea22-4080-9142-8a25c1d35008",
   "metadata": {},
   "outputs": [],
   "source": [
    "test = TestingSuite(datadir = data_dirpath)\n",
    "test.setup(run_dirpath)"
   ]
  },
  {
   "cell_type": "code",
   "execution_count": 12,
   "id": "58675661-9603-4d5f-8fe6-56b386361866",
   "metadata": {},
   "outputs": [
    {
     "data": {
      "text/plain": [
       "'/Users/cberger/NonlinearSigmaModel/nonlinearsigmaCL/Analysis//data_exc_cfg_test/'"
      ]
     },
     "execution_count": 12,
     "metadata": {},
     "output_type": "execute_result"
    }
   ],
   "source": [
    "test.test_run_dir"
   ]
  },
  {
   "cell_type": "code",
   "execution_count": 13,
   "id": "e45bf548-c99c-4e99-a4ad-abdb10bd9d11",
   "metadata": {},
   "outputs": [
    {
     "data": {
      "text/html": [
       "<div>\n",
       "<style scoped>\n",
       "    .dataframe tbody tr th:only-of-type {\n",
       "        vertical-align: middle;\n",
       "    }\n",
       "\n",
       "    .dataframe tbody tr th {\n",
       "        vertical-align: top;\n",
       "    }\n",
       "\n",
       "    .dataframe thead th {\n",
       "        text-align: right;\n",
       "    }\n",
       "</style>\n",
       "<table border=\"1\" class=\"dataframe\">\n",
       "  <thead>\n",
       "    <tr style=\"text-align: right;\">\n",
       "      <th></th>\n",
       "      <th>index</th>\n",
       "      <th>step</th>\n",
       "      <th>i</th>\n",
       "      <th>j</th>\n",
       "      <th>line</th>\n",
       "    </tr>\n",
       "  </thead>\n",
       "  <tbody>\n",
       "    <tr>\n",
       "      <th>0</th>\n",
       "      <td>0</td>\n",
       "      <td>0</td>\n",
       "      <td>18</td>\n",
       "      <td>7</td>\n",
       "      <td>481</td>\n",
       "    </tr>\n",
       "    <tr>\n",
       "      <th>1</th>\n",
       "      <td>0</td>\n",
       "      <td>0</td>\n",
       "      <td>14</td>\n",
       "      <td>3</td>\n",
       "      <td>484</td>\n",
       "    </tr>\n",
       "    <tr>\n",
       "      <th>2</th>\n",
       "      <td>0</td>\n",
       "      <td>0</td>\n",
       "      <td>6</td>\n",
       "      <td>4</td>\n",
       "      <td>487</td>\n",
       "    </tr>\n",
       "    <tr>\n",
       "      <th>3</th>\n",
       "      <td>0</td>\n",
       "      <td>0</td>\n",
       "      <td>14</td>\n",
       "      <td>5</td>\n",
       "      <td>490</td>\n",
       "    </tr>\n",
       "    <tr>\n",
       "      <th>4</th>\n",
       "      <td>0</td>\n",
       "      <td>0</td>\n",
       "      <td>2</td>\n",
       "      <td>6</td>\n",
       "      <td>493</td>\n",
       "    </tr>\n",
       "    <tr>\n",
       "      <th>...</th>\n",
       "      <td>...</td>\n",
       "      <td>...</td>\n",
       "      <td>...</td>\n",
       "      <td>...</td>\n",
       "      <td>...</td>\n",
       "    </tr>\n",
       "    <tr>\n",
       "      <th>1737</th>\n",
       "      <td>0</td>\n",
       "      <td>19</td>\n",
       "      <td>0</td>\n",
       "      <td>15</td>\n",
       "      <td>5931</td>\n",
       "    </tr>\n",
       "    <tr>\n",
       "      <th>1738</th>\n",
       "      <td>0</td>\n",
       "      <td>19</td>\n",
       "      <td>1</td>\n",
       "      <td>0</td>\n",
       "      <td>5934</td>\n",
       "    </tr>\n",
       "    <tr>\n",
       "      <th>1739</th>\n",
       "      <td>0</td>\n",
       "      <td>19</td>\n",
       "      <td>9</td>\n",
       "      <td>0</td>\n",
       "      <td>5937</td>\n",
       "    </tr>\n",
       "    <tr>\n",
       "      <th>1740</th>\n",
       "      <td>0</td>\n",
       "      <td>19</td>\n",
       "      <td>0</td>\n",
       "      <td>4</td>\n",
       "      <td>5940</td>\n",
       "    </tr>\n",
       "    <tr>\n",
       "      <th>1741</th>\n",
       "      <td>0</td>\n",
       "      <td>19</td>\n",
       "      <td>10</td>\n",
       "      <td>9</td>\n",
       "      <td>5943</td>\n",
       "    </tr>\n",
       "  </tbody>\n",
       "</table>\n",
       "<p>1742 rows × 5 columns</p>\n",
       "</div>"
      ],
      "text/plain": [
       "      index  step   i   j  line\n",
       "0         0     0  18   7   481\n",
       "1         0     0  14   3   484\n",
       "2         0     0   6   4   487\n",
       "3         0     0  14   5   490\n",
       "4         0     0   2   6   493\n",
       "...     ...   ...  ..  ..   ...\n",
       "1737      0    19   0  15  5931\n",
       "1738      0    19   1   0  5934\n",
       "1739      0    19   9   0  5937\n",
       "1740      0    19   0   4  5940\n",
       "1741      0    19  10   9  5943\n",
       "\n",
       "[1742 rows x 5 columns]"
      ]
     },
     "execution_count": 13,
     "metadata": {},
     "output_type": "execute_result"
    }
   ],
   "source": [
    "test.catalog_sites(**run_params)\n",
    "test.site_catalog"
   ]
  },
  {
   "cell_type": "code",
   "execution_count": 14,
   "id": "2334934b-d8bd-4153-addf-7a02f2389e2b",
   "metadata": {},
   "outputs": [],
   "source": [
    "missing = test.check_for_missing_sites()"
   ]
  },
  {
   "cell_type": "code",
   "execution_count": 15,
   "id": "bf3b7f9e-5136-49ad-913f-d236da9594d5",
   "metadata": {},
   "outputs": [],
   "source": [
    "sites = test.site_catalog"
   ]
  },
  {
   "cell_type": "code",
   "execution_count": 16,
   "id": "4c4c7444-bfa5-4fd6-addd-12cb1dc4841d",
   "metadata": {},
   "outputs": [
    {
     "data": {
      "text/plain": [
       "0.847125"
      ]
     },
     "execution_count": 16,
     "metadata": {},
     "output_type": "execute_result"
    }
   ],
   "source": [
    "missing = sites[sites[\"line\"].isna()]\n",
    "len(missing)/(test.nMC*test.L*test.L)"
   ]
  },
  {
   "cell_type": "code",
   "execution_count": 17,
   "id": "f380c46f-afda-41e3-9f73-e85f9c3fd7c2",
   "metadata": {},
   "outputs": [
    {
     "data": {
      "text/html": [
       "<div>\n",
       "<style scoped>\n",
       "    .dataframe tbody tr th:only-of-type {\n",
       "        vertical-align: middle;\n",
       "    }\n",
       "\n",
       "    .dataframe tbody tr th {\n",
       "        vertical-align: top;\n",
       "    }\n",
       "\n",
       "    .dataframe thead th {\n",
       "        text-align: right;\n",
       "    }\n",
       "</style>\n",
       "<table border=\"1\" class=\"dataframe\">\n",
       "  <thead>\n",
       "    <tr style=\"text-align: right;\">\n",
       "      <th></th>\n",
       "      <th>index</th>\n",
       "      <th>step</th>\n",
       "      <th>i</th>\n",
       "      <th>j</th>\n",
       "      <th>line</th>\n",
       "    </tr>\n",
       "  </thead>\n",
       "  <tbody>\n",
       "    <tr>\n",
       "      <th>0</th>\n",
       "      <td>NaN</td>\n",
       "      <td>0</td>\n",
       "      <td>0</td>\n",
       "      <td>0</td>\n",
       "      <td>NaN</td>\n",
       "    </tr>\n",
       "    <tr>\n",
       "      <th>0</th>\n",
       "      <td>NaN</td>\n",
       "      <td>0</td>\n",
       "      <td>0</td>\n",
       "      <td>1</td>\n",
       "      <td>NaN</td>\n",
       "    </tr>\n",
       "    <tr>\n",
       "      <th>0</th>\n",
       "      <td>NaN</td>\n",
       "      <td>0</td>\n",
       "      <td>0</td>\n",
       "      <td>4</td>\n",
       "      <td>NaN</td>\n",
       "    </tr>\n",
       "    <tr>\n",
       "      <th>0</th>\n",
       "      <td>NaN</td>\n",
       "      <td>0</td>\n",
       "      <td>0</td>\n",
       "      <td>5</td>\n",
       "      <td>NaN</td>\n",
       "    </tr>\n",
       "    <tr>\n",
       "      <th>0</th>\n",
       "      <td>NaN</td>\n",
       "      <td>0</td>\n",
       "      <td>0</td>\n",
       "      <td>6</td>\n",
       "      <td>NaN</td>\n",
       "    </tr>\n",
       "  </tbody>\n",
       "</table>\n",
       "</div>"
      ],
      "text/plain": [
       "   index  step  i  j  line\n",
       "0    NaN     0  0  0   NaN\n",
       "0    NaN     0  0  1   NaN\n",
       "0    NaN     0  0  4   NaN\n",
       "0    NaN     0  0  5   NaN\n",
       "0    NaN     0  0  6   NaN"
      ]
     },
     "execution_count": 17,
     "metadata": {},
     "output_type": "execute_result"
    }
   ],
   "source": [
    "missing.head()"
   ]
  },
  {
   "cell_type": "code",
   "execution_count": 18,
   "id": "1339048a-b5aa-452c-99c0-03d0738312ae",
   "metadata": {},
   "outputs": [
    {
     "name": "stdout",
     "output_type": "stream",
     "text": [
      "Fetching exceptional configurations from run \n",
      "run not yet complete\n",
      "L_40_beta_1.600000_itheta_3.141593_ntherm_0_nMC_100_freq_1\n",
      "Status: 101 lines written\n",
      "   freq   nMC  ntherm    itheta  beta  length  config  num_exc  any_exc\n",
      "0   1.0  20.0     0.0  3.141593   1.6    20.0    11.0      9.0        1\n",
      "1   1.0  20.0     0.0  3.141593   1.6    20.0     7.0      5.0        1\n",
      "2   1.0  20.0     0.0  3.141593   1.6    20.0     4.0     12.0        1\n",
      "3   1.0  20.0     0.0  3.141593   1.6    20.0    10.0     14.0        1\n",
      "4   1.0  20.0     0.0  3.141593   1.6    20.0     8.0      6.0        1\n"
     ]
    }
   ],
   "source": [
    "print(\"Fetching exceptional configurations from run \")\n",
    "data_exc = LatticeData(datadir = data_dirpath)\n",
    "exc_cfgs = data_exc.get_exceptional_configurations(run_dirpath)\n",
    "print(exc_cfgs.head())"
   ]
  },
  {
   "cell_type": "code",
   "execution_count": 28,
   "id": "356b0376-9fcc-4396-822c-71ea36ed1e7e",
   "metadata": {},
   "outputs": [
    {
     "name": "stdout",
     "output_type": "stream",
     "text": [
      "Graphing exceptional configurations from run:\n"
     ]
    },
    {
     "data": {
      "image/png": "[encoded data removed]",
      "text/plain": [
       "<Figure size 432x288 with 1 Axes>"
      ]
     },
     "metadata": {
      "needs_background": "light"
     },
     "output_type": "display_data"
    }
   ],
   "source": [
    "print(\"Graphing exceptional configurations from run:\")\n",
    "excdf=data_exc.find_exc(run_dirpath,**run_params)\\\n",
    "\n",
    "# With the new format of the function, this is how to look at just one configuration. Change 'config' to look at different configurations\n",
    "config=0\n",
    "fig,ax=plt.subplots()\n",
    "ax.imshow(list(excdf.iloc[config]))\n",
    "plt.show()"
   ]
  },
  {
   "cell_type": "code",
   "execution_count": 46,
   "id": "253746e4-c598-4e22-8b97-3e018aeb288a",
   "metadata": {},
   "outputs": [
    {
     "name": "stdout",
     "output_type": "stream",
     "text": [
      "True\n"
     ]
    },
    {
     "data": {
      "text/html": [
       "<div>\n",
       "<style scoped>\n",
       "    .dataframe tbody tr th:only-of-type {\n",
       "        vertical-align: middle;\n",
       "    }\n",
       "\n",
       "    .dataframe tbody tr th {\n",
       "        vertical-align: top;\n",
       "    }\n",
       "\n",
       "    .dataframe thead th {\n",
       "        text-align: right;\n",
       "    }\n",
       "</style>\n",
       "<table border=\"1\" class=\"dataframe\">\n",
       "  <thead>\n",
       "    <tr style=\"text-align: right;\">\n",
       "      <th></th>\n",
       "      <th>index</th>\n",
       "      <th>step</th>\n",
       "      <th>i</th>\n",
       "      <th>j</th>\n",
       "      <th>line</th>\n",
       "    </tr>\n",
       "  </thead>\n",
       "  <tbody>\n",
       "    <tr>\n",
       "      <th>160</th>\n",
       "      <td>0.0</td>\n",
       "      <td>0</td>\n",
       "      <td>0</td>\n",
       "      <td>3</td>\n",
       "      <td>977.0</td>\n",
       "    </tr>\n",
       "    <tr>\n",
       "      <th>161</th>\n",
       "      <td>0.0</td>\n",
       "      <td>0</td>\n",
       "      <td>0</td>\n",
       "      <td>3</td>\n",
       "      <td>980.0</td>\n",
       "    </tr>\n",
       "  </tbody>\n",
       "</table>\n",
       "</div>"
      ],
      "text/plain": [
       "     index  step  i  j   line\n",
       "160    0.0     0  0  3  977.0\n",
       "161    0.0     0  0  3  980.0"
      ]
     },
     "execution_count": 46,
     "metadata": {},
     "output_type": "execute_result"
    }
   ],
   "source": [
    "excarray = list(excdf.iloc[config])\n",
    "i = 0\n",
    "j = 3\n",
    "print(excarray[i][j])\n",
    "test.find_site(i = i,j = j, step = 0)"
   ]
  },
  {
   "cell_type": "code",
   "execution_count": 47,
   "id": "a4159b18-f241-4476-b3a1-d8ad7e1b4df9",
   "metadata": {},
   "outputs": [
    {
     "name": "stdout",
     "output_type": "stream",
     "text": [
      "True\n"
     ]
    },
    {
     "data": {
      "text/html": [
       "<div>\n",
       "<style scoped>\n",
       "    .dataframe tbody tr th:only-of-type {\n",
       "        vertical-align: middle;\n",
       "    }\n",
       "\n",
       "    .dataframe tbody tr th {\n",
       "        vertical-align: top;\n",
       "    }\n",
       "\n",
       "    .dataframe thead th {\n",
       "        text-align: right;\n",
       "    }\n",
       "</style>\n",
       "<table border=\"1\" class=\"dataframe\">\n",
       "  <thead>\n",
       "    <tr style=\"text-align: right;\">\n",
       "      <th></th>\n",
       "      <th>index</th>\n",
       "      <th>step</th>\n",
       "      <th>i</th>\n",
       "      <th>j</th>\n",
       "      <th>line</th>\n",
       "    </tr>\n",
       "  </thead>\n",
       "  <tbody>\n",
       "    <tr>\n",
       "      <th>0</th>\n",
       "      <td>NaN</td>\n",
       "      <td>0</td>\n",
       "      <td>3</td>\n",
       "      <td>4</td>\n",
       "      <td>NaN</td>\n",
       "    </tr>\n",
       "  </tbody>\n",
       "</table>\n",
       "</div>"
      ],
      "text/plain": [
       "   index  step  i  j  line\n",
       "0    NaN     0  3  4   NaN"
      ]
     },
     "execution_count": 47,
     "metadata": {},
     "output_type": "execute_result"
    }
   ],
   "source": [
    "excarray = list(excdf.iloc[config])\n",
    "i = 3\n",
    "j = 4\n",
    "print(excarray[i][j])\n",
    "test.find_site(i = i,j = j, step = 0)"
   ]
  },
  {
   "cell_type": "code",
   "execution_count": 48,
   "id": "acc4c0d0-dddb-4f55-a25e-20b7faf40ad5",
   "metadata": {},
   "outputs": [
    {
     "name": "stdout",
     "output_type": "stream",
     "text": [
      "True\n"
     ]
    },
    {
     "data": {
      "text/html": [
       "<div>\n",
       "<style scoped>\n",
       "    .dataframe tbody tr th:only-of-type {\n",
       "        vertical-align: middle;\n",
       "    }\n",
       "\n",
       "    .dataframe tbody tr th {\n",
       "        vertical-align: top;\n",
       "    }\n",
       "\n",
       "    .dataframe thead th {\n",
       "        text-align: right;\n",
       "    }\n",
       "</style>\n",
       "<table border=\"1\" class=\"dataframe\">\n",
       "  <thead>\n",
       "    <tr style=\"text-align: right;\">\n",
       "      <th></th>\n",
       "      <th>index</th>\n",
       "      <th>step</th>\n",
       "      <th>i</th>\n",
       "      <th>j</th>\n",
       "      <th>line</th>\n",
       "    </tr>\n",
       "  </thead>\n",
       "  <tbody>\n",
       "    <tr>\n",
       "      <th>353</th>\n",
       "      <td>0.0</td>\n",
       "      <td>0</td>\n",
       "      <td>9</td>\n",
       "      <td>0</td>\n",
       "      <td>1581.0</td>\n",
       "    </tr>\n",
       "  </tbody>\n",
       "</table>\n",
       "</div>"
      ],
      "text/plain": [
       "     index  step  i  j    line\n",
       "353    0.0     0  9  0  1581.0"
      ]
     },
     "execution_count": 48,
     "metadata": {},
     "output_type": "execute_result"
    }
   ],
   "source": [
    "excarray = list(excdf.iloc[config])\n",
    "i = 9\n",
    "j = 0\n",
    "print(excarray[i][j])\n",
    "test.find_site(i = i,j = j, step = 0)"
   ]
  },
  {
   "cell_type": "code",
   "execution_count": 53,
   "id": "438ce0b3-7398-426b-9c66-be90e99d099e",
   "metadata": {},
   "outputs": [
    {
     "name": "stdout",
     "output_type": "stream",
     "text": [
      "False\n"
     ]
    },
    {
     "data": {
      "text/html": [
       "<div>\n",
       "<style scoped>\n",
       "    .dataframe tbody tr th:only-of-type {\n",
       "        vertical-align: middle;\n",
       "    }\n",
       "\n",
       "    .dataframe tbody tr th {\n",
       "        vertical-align: top;\n",
       "    }\n",
       "\n",
       "    .dataframe thead th {\n",
       "        text-align: right;\n",
       "    }\n",
       "</style>\n",
       "<table border=\"1\" class=\"dataframe\">\n",
       "  <thead>\n",
       "    <tr style=\"text-align: right;\">\n",
       "      <th></th>\n",
       "      <th>index</th>\n",
       "      <th>step</th>\n",
       "      <th>i</th>\n",
       "      <th>j</th>\n",
       "      <th>line</th>\n",
       "    </tr>\n",
       "  </thead>\n",
       "  <tbody>\n",
       "    <tr>\n",
       "      <th>245</th>\n",
       "      <td>0.0</td>\n",
       "      <td>0</td>\n",
       "      <td>9</td>\n",
       "      <td>1</td>\n",
       "      <td>1242.0</td>\n",
       "    </tr>\n",
       "  </tbody>\n",
       "</table>\n",
       "</div>"
      ],
      "text/plain": [
       "     index  step  i  j    line\n",
       "245    0.0     0  9  1  1242.0"
      ]
     },
     "execution_count": 53,
     "metadata": {},
     "output_type": "execute_result"
    }
   ],
   "source": [
    "excarray = list(excdf.iloc[config])\n",
    "i = 9\n",
    "j = 1\n",
    "print(excarray[i][j])\n",
    "test.find_site(i = i,j = j, step = 0)"
   ]
  },
  {
   "cell_type": "code",
   "execution_count": 52,
   "id": "c98a5f7c-7086-4591-9c4e-cd6d44ac98c3",
   "metadata": {},
   "outputs": [
    {
     "name": "stdout",
     "output_type": "stream",
     "text": [
      "True\n"
     ]
    },
    {
     "data": {
      "text/html": [
       "<div>\n",
       "<style scoped>\n",
       "    .dataframe tbody tr th:only-of-type {\n",
       "        vertical-align: middle;\n",
       "    }\n",
       "\n",
       "    .dataframe tbody tr th {\n",
       "        vertical-align: top;\n",
       "    }\n",
       "\n",
       "    .dataframe thead th {\n",
       "        text-align: right;\n",
       "    }\n",
       "</style>\n",
       "<table border=\"1\" class=\"dataframe\">\n",
       "  <thead>\n",
       "    <tr style=\"text-align: right;\">\n",
       "      <th></th>\n",
       "      <th>index</th>\n",
       "      <th>step</th>\n",
       "      <th>i</th>\n",
       "      <th>j</th>\n",
       "      <th>line</th>\n",
       "    </tr>\n",
       "  </thead>\n",
       "  <tbody>\n",
       "    <tr>\n",
       "      <th>0</th>\n",
       "      <td>NaN</td>\n",
       "      <td>0</td>\n",
       "      <td>9</td>\n",
       "      <td>5</td>\n",
       "      <td>NaN</td>\n",
       "    </tr>\n",
       "  </tbody>\n",
       "</table>\n",
       "</div>"
      ],
      "text/plain": [
       "   index  step  i  j  line\n",
       "0    NaN     0  9  5   NaN"
      ]
     },
     "execution_count": 52,
     "metadata": {},
     "output_type": "execute_result"
    }
   ],
   "source": [
    "excarray = list(excdf.iloc[config])\n",
    "i = 9\n",
    "j = 5\n",
    "print(excarray[i][j])\n",
    "test.find_site(i = i,j = j, step = 0)"
   ]
  },
  {
   "cell_type": "code",
   "execution_count": 51,
   "id": "aff8c064-a5ba-430c-b9a6-a18628ed24f7",
   "metadata": {},
   "outputs": [
    {
     "name": "stdout",
     "output_type": "stream",
     "text": [
      "False\n"
     ]
    },
    {
     "data": {
      "text/html": [
       "<div>\n",
       "<style scoped>\n",
       "    .dataframe tbody tr th:only-of-type {\n",
       "        vertical-align: middle;\n",
       "    }\n",
       "\n",
       "    .dataframe tbody tr th {\n",
       "        vertical-align: top;\n",
       "    }\n",
       "\n",
       "    .dataframe thead th {\n",
       "        text-align: right;\n",
       "    }\n",
       "</style>\n",
       "<table border=\"1\" class=\"dataframe\">\n",
       "  <thead>\n",
       "    <tr style=\"text-align: right;\">\n",
       "      <th></th>\n",
       "      <th>index</th>\n",
       "      <th>step</th>\n",
       "      <th>i</th>\n",
       "      <th>j</th>\n",
       "      <th>line</th>\n",
       "    </tr>\n",
       "  </thead>\n",
       "  <tbody>\n",
       "    <tr>\n",
       "      <th>24</th>\n",
       "      <td>0.0</td>\n",
       "      <td>0</td>\n",
       "      <td>9</td>\n",
       "      <td>6</td>\n",
       "      <td>555.0</td>\n",
       "    </tr>\n",
       "    <tr>\n",
       "      <th>25</th>\n",
       "      <td>0.0</td>\n",
       "      <td>0</td>\n",
       "      <td>9</td>\n",
       "      <td>6</td>\n",
       "      <td>559.0</td>\n",
       "    </tr>\n",
       "    <tr>\n",
       "      <th>226</th>\n",
       "      <td>0.0</td>\n",
       "      <td>0</td>\n",
       "      <td>9</td>\n",
       "      <td>6</td>\n",
       "      <td>1184.0</td>\n",
       "    </tr>\n",
       "    <tr>\n",
       "      <th>227</th>\n",
       "      <td>0.0</td>\n",
       "      <td>0</td>\n",
       "      <td>9</td>\n",
       "      <td>6</td>\n",
       "      <td>1187.0</td>\n",
       "    </tr>\n",
       "    <tr>\n",
       "      <th>228</th>\n",
       "      <td>0.0</td>\n",
       "      <td>0</td>\n",
       "      <td>9</td>\n",
       "      <td>6</td>\n",
       "      <td>1190.0</td>\n",
       "    </tr>\n",
       "    <tr>\n",
       "      <th>229</th>\n",
       "      <td>0.0</td>\n",
       "      <td>0</td>\n",
       "      <td>9</td>\n",
       "      <td>6</td>\n",
       "      <td>1193.0</td>\n",
       "    </tr>\n",
       "  </tbody>\n",
       "</table>\n",
       "</div>"
      ],
      "text/plain": [
       "     index  step  i  j    line\n",
       "24     0.0     0  9  6   555.0\n",
       "25     0.0     0  9  6   559.0\n",
       "226    0.0     0  9  6  1184.0\n",
       "227    0.0     0  9  6  1187.0\n",
       "228    0.0     0  9  6  1190.0\n",
       "229    0.0     0  9  6  1193.0"
      ]
     },
     "execution_count": 51,
     "metadata": {},
     "output_type": "execute_result"
    }
   ],
   "source": [
    "excarray = list(excdf.iloc[config])\n",
    "i = 9\n",
    "j = 6\n",
    "print(excarray[i][j])\n",
    "test.find_site(i = i,j = j, step = 0)"
   ]
  },
  {
   "cell_type": "code",
   "execution_count": null,
   "id": "57614510-9acb-4e75-87d0-6b5edae57b9b",
   "metadata": {},
   "outputs": [],
   "source": [
    "test.find_site(i = 0,j = 3, step = 0)"
   ]
  },
  {
   "cell_type": "code",
   "execution_count": null,
   "id": "2ebd0c24-963e-44bd-8072-3af4909f5629",
   "metadata": {},
   "outputs": [],
   "source": [
    "df = test.site_catalog"
   ]
  },
  {
   "cell_type": "code",
   "execution_count": null,
   "id": "834f6ee2-498a-425a-a0c8-67dd4f6a74f5",
   "metadata": {},
   "outputs": [],
   "source": [
    "step0 = df[df[\"step\"] == 0]"
   ]
  },
  {
   "cell_type": "code",
   "execution_count": null,
   "id": "35cf6797-db3c-4c36-8498-fae9246d7269",
   "metadata": {},
   "outputs": [],
   "source": [
    "step0i2 = step0[step0[\"i\"]==2]\n",
    "step0i2[step0i2[\"j\"]==2]"
   ]
  }
 ],
 "metadata": {
  "kernelspec": {
   "display_name": "Python 3 (ipykernel)",
   "language": "python",
   "name": "python3"
  },
  "language_info": {
   "codemirror_mode": {
    "name": "ipython",
    "version": 3
   },
   "file_extension": ".py",
   "mimetype": "text/x-python",
   "name": "python",
   "nbconvert_exporter": "python",
   "pygments_lexer": "ipython3",
   "version": "3.8.10"
  }
 },
 "nbformat": 4,
 "nbformat_minor": 5
}
