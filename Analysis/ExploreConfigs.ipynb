{
 "cells": [
  {
   "cell_type": "code",
   "execution_count": 1,
   "id": "023b9e67-48c1-48de-b50d-ed6d0e5807dd",
   "metadata": {},
   "outputs": [],
   "source": [
    "import numpy as np\n",
    "import pandas as pd\n",
    "import matplotlib.pyplot as plt\n",
    "import seaborn as sns\n",
    "from LatticeData import *"
   ]
  },
  {
   "cell_type": "markdown",
   "id": "f44b0c24-18fa-4df8-873b-2a4791449003",
   "metadata": {},
   "source": [
    "# Explore difference in exceptional configurations between two runs"
   ]
  },
  {
   "cell_type": "code",
   "execution_count": 2,
   "id": "1d357cb9-e4dd-4974-be4a-b50f257a7b61",
   "metadata": {},
   "outputs": [
    {
     "name": "stdout",
     "output_type": "stream",
     "text": [
      "fetching data from directory run_2023_10_27_exc_config_test and moving it to /exc_cfg_old/\n",
      "run not yet complete\n",
      "L_160_beta_1.600000_itheta_0.000000_ntherm_0_nMC_20000_freq_10\n",
      "Status: 1889 lines written\n",
      "run not yet complete\n",
      "L_160_beta_1.600000_itheta_1.570796_ntherm_0_nMC_20000_freq_10\n",
      "Status: 1761 lines written\n"
     ]
    }
   ],
   "source": [
    "src_old = \"run_2023_10_27_exc_config_test\"\n",
    "dest_old = \"/exc_cfg_old/\"\n",
    "print(\"fetching data from directory \"+src_old+\" and moving it to \"+ dest_old)\n",
    "data_old = LatticeData(datadir = dest_old)\n",
    "data_old.copy_data_from_directory(src_old)\n",
    "\n",
    "# src_new = \"run_2023_11_02_test\"\n",
    "# dest_new = \"/exc_cfg_new/\"\n",
    "# print(\"fetching data from directory \"+src_new+\" and moving it to \"+ dest_new)\n",
    "# data_new = LatticeData(datadir = dest_new)\n",
    "# data_new.copy_data_from_directory(src_new)"
   ]
  },
  {
   "cell_type": "code",
   "execution_count": 3,
   "id": "81b682eb-d436-4c1e-9b11-6792fdbbd7d7",
   "metadata": {},
   "outputs": [],
   "source": [
    "# print(\"fetching exceptional configurations from source directories\")\n",
    "# df_old = data_old.get_exceptional_configurations(src_old)\n",
    "# df_new = data_new.get_exceptional_configurations(src_new)\n",
    "\n",
    "# print(\"Old data in df: \")\n",
    "# print(df_old.head())\n",
    "# print(\"New data in df: \")\n",
    "# print(df_new.head())\n",
    "\n",
    "# print(\"Number of exceptional configurations in old data:\") #note -- are these triangles or whole configurations?\n",
    "# print(df_old[\"num_exc\"].unique())\n",
    "# print(\"Number of exceptional configurations in new data:\")#note -- are these triangles or whole configurations?\n",
    "# print(df_new[\"num_exc\"].unique())\n",
    "\n",
    "# print(\"Grouping old data \")\n",
    "# old_grouped = df_old.groupby([\"length\",\"itheta\",\"beta\",\"nMC\",\"ntherm\", \"freq\"]).sum()\n",
    "# print(old_grouped)\n",
    "# print(\"Grouping new data \")\n",
    "# new_grouped = df_new.groupby([\"length\",\"itheta\",\"beta\",\"nMC\",\"ntherm\", \"freq\"]).sum()\n",
    "# print(new_grouped)"
   ]
  },
  {
   "cell_type": "markdown",
   "id": "2614d4a5-b4c3-4f21-bb34-fabba168c055",
   "metadata": {},
   "source": [
    "# Explore attempts to create non-exceptional configurations"
   ]
  },
  {
   "cell_type": "code",
   "execution_count": 4,
   "id": "ba459957-122a-460e-be7c-512b7652d563",
   "metadata": {},
   "outputs": [
    {
     "name": "stdout",
     "output_type": "stream",
     "text": [
      "Fetching exceptional configurations from run \n",
      "   freq    nMC  ntherm    itheta  beta  length  config  num_exc  any_exc\n",
      "0   1.0  200.0     0.0  3.141593   1.6    10.0    48.0      2.0        1\n",
      "1   1.0  200.0     0.0  3.141593   1.6    10.0    36.0      3.0        1\n",
      "2   1.0  200.0     0.0  3.141593   1.6    10.0   104.0      0.0        0\n",
      "3   1.0  200.0     0.0  3.141593   1.6    10.0    11.0      1.0        1\n",
      "4   1.0  200.0     0.0  3.141593   1.6    10.0     7.0      6.0        1\n"
     ]
    }
   ],
   "source": [
    "print(\"Fetching exceptional configurations from run \")\n",
    "run_dirpath = \"/data_exc_cfg_test/\"\n",
    "data_dirpath = \"/data_test/\"\n",
    "data_exc = LatticeData(datadir = data_dirpath)\n",
    "exc_cfgs = data_exc.get_exceptional_configurations(run_dirpath)\n",
    "print(exc_cfgs.head())"
   ]
  },
  {
   "cell_type": "code",
   "execution_count": null,
   "id": "78574f15-0120-4607-9d94-ccee27e52e09",
   "metadata": {},
   "outputs": [],
   "source": [
    "print(\"Graphing exceptional configurations from run:\")\n",
    "run_params = {\"itheta\": 1.0, \"beta\": 1.6,\"length\": 10,\"nMC\": 200, \"ntherm\": 0, \"freq\": 1}\n",
    "excarray=data_exc.find_exc(run_dirpath,**run_params)\n",
    "aconfig=excarray[:,:,0] #0 if you want to show the first configuration, or put in another number\n",
    "plt.imshow(aconfig)"
   ]
  },
  {
   "cell_type": "code",
   "execution_count": null,
   "id": "50bb8f24-ea22-4080-9142-8a25c1d35008",
   "metadata": {},
   "outputs": [],
   "source": []
  }
 ],
 "metadata": {
  "kernelspec": {
   "display_name": "Python 3 (ipykernel)",
   "language": "python",
   "name": "python3"
  },
  "language_info": {
   "codemirror_mode": {
    "name": "ipython",
    "version": 3
   },
   "file_extension": ".py",
   "mimetype": "text/x-python",
   "name": "python",
   "nbconvert_exporter": "python",
   "pygments_lexer": "ipython3",
   "version": "3.8.10"
  }
 },
 "nbformat": 4,
 "nbformat_minor": 5
}
