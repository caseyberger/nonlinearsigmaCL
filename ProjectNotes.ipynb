{
 "cells": [
  {
   "cell_type": "markdown",
   "id": "82a4e8bd-4567-41d1-a7f8-544a9152c01a",
   "metadata": {},
   "source": [
    "# Comparative Study of the $2D$ $O(3)$ Nonlinear Sigma Model with Topological Term $\\theta$"
   ]
  },
  {
   "cell_type": "markdown",
   "id": "eb8c66f3-7cff-4206-9365-1f1bfd070b8d",
   "metadata": {
    "tags": [],
    "toc-hr-collapsed": true
   },
   "source": [
    "## Background and Theory"
   ]
  },
  {
   "cell_type": "markdown",
   "id": "c350aba9-76ab-41f9-b879-855426eba67b",
   "metadata": {
    "jp-MarkdownHeadingCollapsed": true,
    "tags": []
   },
   "source": [
    "### Context"
   ]
  },
  {
   "cell_type": "markdown",
   "id": "d156ed4f-43b1-4c26-9d4b-cbbf8895b829",
   "metadata": {},
   "source": [
    "<div class=\"alert alert-warning\"> To be filled in from literature review. Questions to consider:\n",
    "\n",
    "What work has been done on this model before?\n",
    "\n",
    "What challenges arise/have arisen?\n",
    "    \n",
    "Where does machine learning come into play here?\n",
    "    \n",
    "What do we hope to get out of the comparative study?\n",
    "</div>"
   ]
  },
  {
   "cell_type": "markdown",
   "id": "666d7651-f68e-428a-97ad-0f7a77e14fd9",
   "metadata": {
    "jp-MarkdownHeadingCollapsed": true,
    "tags": []
   },
   "source": [
    "### The theory"
   ]
  },
  {
   "cell_type": "markdown",
   "id": "6883b203-418a-4e16-ad1b-a1e02d3fd03d",
   "metadata": {
    "jp-MarkdownHeadingCollapsed": true,
    "tags": []
   },
   "source": [
    "#### The lattice action"
   ]
  },
  {
   "cell_type": "markdown",
   "id": "bf835f15-3e5e-45a4-a22f-47b35a155dc9",
   "metadata": {},
   "source": [
    "In the continuum, the model has action\n",
    "\n",
    "$S = \\frac{1}{2g} \\int d^{2} x \\left( \\partial_{\\mu} \\vec{\\phi}(x)\\right)^{2} - i \\theta \\int d^{2} x Q(x)$\n",
    "\n",
    "with\n",
    "\n",
    "$Q(x) = \\frac{1}{8 \\pi} \\epsilon^{\\mu \\nu} \\epsilon_{abc} \\partial_{\\mu} \\phi^{b}(x) \\partial_{\\nu}\\phi^{c}(x)$\n",
    "\n",
    "with $\\phi$ a 3-component unit vector.\n",
    "\n",
    "In lattice action form, we have (see [B. Alles, M. Giordano, and A. Papa Behavior near θ = π of the mass gap in the two-dimensional o(3) nonlinear sigma model. Phys. Rev. B, 90:184421, Nov 2014](https://arxiv.org/abs/1409.1704)):\n",
    "\n",
    "$S_{L} = A_{L} - i \\theta Q_{L}$\n",
    "\n",
    "\n",
    "$A_{L} = -\\frac{1}{g_{L}}\\sum_{x,\\mu}\\left(\\phi_{x}\\cdot \\phi_{x+\\hat{\\mu}}\\right)$\n",
    "\n",
    "$Q_{L} = \\sum_{x}\\sum_{\\Delta} Q_{L} \\Delta$\n",
    "\n",
    "where $\\vec{\\phi}$ is a 3-component unit vector ($\\vec{\\phi} \\cdot\\vec{\\phi} = 1$) and $Q_{L}$ is the total topological charge on the lattice. "
   ]
  },
  {
   "cell_type": "markdown",
   "id": "6d410a70-b772-4b18-95ba-05b47a0935e8",
   "metadata": {
    "jp-MarkdownHeadingCollapsed": true,
    "tags": []
   },
   "source": [
    "#### The topological charge"
   ]
  },
  {
   "cell_type": "markdown",
   "id": "a4fa222f-cbde-4935-9732-acbbaf94152d",
   "metadata": {
    "jp-MarkdownHeadingCollapsed": true,
    "tags": []
   },
   "source": [
    "##### What is $Q_{L}$?"
   ]
  },
  {
   "cell_type": "markdown",
   "id": "c081b18c-4a8c-4916-bf87-af94a8b16320",
   "metadata": {},
   "source": [
    "<div class=\"alert alert-warning\"> Fill in with more detail. \n",
    "\n",
    "What is the significance of QL?\n",
    "\n",
    "Is it extensive or intensive?\n",
    "    \n",
    "How does it relate to the mass gap?\n",
    "    \n",
    "Is there a measurable quantity that this relates to or represents?\n",
    "</div>"
   ]
  },
  {
   "cell_type": "markdown",
   "id": "d1cd8b9d-a29a-4993-8df4-0f06ed25395f",
   "metadata": {
    "jp-MarkdownHeadingCollapsed": true,
    "tags": []
   },
   "source": [
    "##### Calculating and regularizing "
   ]
  },
  {
   "cell_type": "markdown",
   "id": "312a9c59-da7c-4fdc-b421-ba73ba08afa8",
   "metadata": {},
   "source": [
    "The topological charge has been defined via sums over triangles created by cutting each square plaquette along the diagonal. Each vertex is labeled (numbered counter-clockwise), such that we call the fields at the sites of the vertices $\\vec{\\phi}_{1},$ $\\vec{\\phi}_{2},$ and $\\vec{\\phi}_{3}$.\n",
    "\n",
    "The topological charge over each triangle obeys\n",
    "\n",
    "$$\\exp(2 \\pi i Q_{L}(\\Delta)) = \\frac{1}{\\rho}\\left(1 + \\vec{\\phi}_{1}\\cdot\\vec{\\phi}_{2} + \\vec{\\phi}_{2}\\cdot\\vec{\\phi}_{3} + \\vec{\\phi}_{3}\\cdot\\vec{\\phi}_{1} + i \\vec{\\phi}_{1} \\cdot (\\vec{\\phi}_{2}\\times\\vec{\\phi}_{3})\\right)$$\n",
    "\n",
    "with \n",
    "\n",
    "$$\\rho^{2} = 2(1+\\vec{\\phi}_{1}\\cdot\\vec{\\phi}_{2})(1 + \\vec{\\phi}_{2}\\cdot\\vec{\\phi}_{3})(1+ \\vec{\\phi}_{3}\\cdot\\vec{\\phi}_{1})$$ \n",
    "\n",
    "and \n",
    "\n",
    "$$Q_{L}(\\Delta) \\in \\left[-\\frac{1}{2}, \\frac{1}{2}\\right]$$\n",
    "\n",
    "We use the arcsin of the quantity $\\exp(2 \\pi i Q_{L}(\\Delta))$ to compute $Q_{L}(\\Delta)$, as in C++ the domain of arcsin is symmetric about $0$, which prevents the need to adjust the domain to fit the expectation given above.\n",
    "\n",
    "<div class=\"alert alert-warning\">\n",
    "When we sum over all unique triangles on the lattice, the total topological charge $Q_{L} = \\sum_{\\Delta} Q_{}(\\Delta)$ should return integer values, however we are currently not finding this to be the case. More investigation is required here.\n",
    "</div>"
   ]
  },
  {
   "cell_type": "markdown",
   "id": "030b9c5d-a1ac-4163-886c-08a4353c34ba",
   "metadata": {},
   "source": [
    "#### The mass gap"
   ]
  },
  {
   "cell_type": "markdown",
   "id": "76da450b-dce4-4499-bc28-4f9b4165d4d4",
   "metadata": {},
   "source": [
    "Our goal with this project is to determine the mass gap, which should vanish as $\\theta \\to \\pi$. The mass gap is the inverse of the correlation length, which we compute in the simulation.\n",
    "\n",
    "<div class=\"alert alert-warning\">\n",
    "The correlation length should be a real number, but our simulations are currently returning a complex result, due to the complexity of the correlation function. More investigation is required here.\n",
    "</div>"
   ]
  },
  {
   "cell_type": "markdown",
   "id": "034b6469-002a-409d-a588-8476487a7b68",
   "metadata": {},
   "source": [
    "## Monte Carlo with Analytical Continuation"
   ]
  },
  {
   "cell_type": "markdown",
   "id": "f32b9ae0-9351-47fb-8cd1-98b213afe7b7",
   "metadata": {},
   "source": [
    "### Markov Chain Monte Carlo"
   ]
  },
  {
   "cell_type": "markdown",
   "id": "a52ceac1-78ce-4af6-b73f-82c81dd39649",
   "metadata": {},
   "source": [
    "<div class=\"alert alert-warning\">Fill in with the algorithm for MCMC on this system.\n",
    "    \n",
    "Discuss the way the lattice is updated, including exceptional configs? You can link to the later discussion of that.\n",
    "</div>"
   ]
  },
  {
   "cell_type": "markdown",
   "id": "e1fec106-4988-42b9-a772-1cf5435a15b3",
   "metadata": {},
   "source": [
    "### Calculating observables"
   ]
  },
  {
   "cell_type": "markdown",
   "id": "727dd4e3-1783-4048-9efa-983b470e372b",
   "metadata": {},
   "source": [
    "<div class=\"alert alert-warning\">Fill in -- discuss which observables we calculate, which configs we output, and why.\n",
    "</div>"
   ]
  },
  {
   "cell_type": "markdown",
   "id": "a518afec-1cef-4def-a922-2cfa11f8c8ee",
   "metadata": {},
   "source": [
    "### Analytic continuation"
   ]
  },
  {
   "cell_type": "markdown",
   "id": "86177f89-27ec-49c0-82c3-a3dbc821a501",
   "metadata": {},
   "source": [
    "The simulation is run for imaginary values of $\\theta$, which means we must analytically continue our results for real $\\theta$. To do this, we fit our results to a curve and then substitute our imaginary $i \\theta = \\nu$ for a real $\\theta = -i \\nu$."
   ]
  },
  {
   "cell_type": "markdown",
   "id": "334c2d5e-0a09-488b-a4ab-3b235fac6e41",
   "metadata": {},
   "source": [
    "### Testing and Troubleshooting"
   ]
  },
  {
   "cell_type": "markdown",
   "id": "253ef506-4dcd-446a-b3df-dcd4f25d600b",
   "metadata": {},
   "source": [
    "#### Optimization and parallelization"
   ]
  },
  {
   "cell_type": "markdown",
   "id": "59c93d97-be18-48c1-bd49-a642c4890d38",
   "metadata": {},
   "source": [
    "<div class=\"alert alert-warning\">Add a speedup plot here to show your parallelization results.\n",
    "</div>"
   ]
  },
  {
   "cell_type": "markdown",
   "id": "c849fd55-249d-4bb5-ba6a-dc66b9ae0288",
   "metadata": {},
   "source": [
    "#### Non-integer $Q_L$"
   ]
  },
  {
   "cell_type": "markdown",
   "id": "a1f6d186-2327-4160-9202-0e5dfd0c628b",
   "metadata": {},
   "source": [
    "Tests of the code revealed that it was not yielding integer values for $Q_L$, at least not all the time. When the code returned an integer value for $Q_L$, it was always one of the following: $-1, 0, 1, 2, 3$. And in the event that $Q_L$ was a non-integer, it would often be a very large number. This is true for calculations of $Q_L$ using both arccos and arcsin, but the problem is much more severe for arccos (e.g. when arccos was used to compute $Q_L$, it could go up to $140$, while arcsin's largest values were under $20$). We discuss possible reasons for the difference in output using arcsin and arccos [below](#QL_trig_comp).\n",
    "\n",
    "In the figure below, we can see results for $Q_L$ calculated using arccos (top) and arcsin (bottom). The x-axis represents individual runs (the numbering is arbitrary, but represents unique parameter combinations). On the y-axis are the values of $Q_L$ calculated at 100 steps in the Monte Carlo trajectory, demonstrating the spread of values."
   ]
  },
  {
   "cell_type": "markdown",
   "id": "d6e165e0-ca20-4255-aa63-42a5cbb0f561",
   "metadata": {},
   "source": [
    "<img src = \"./Figs_Notes/QL_arcsin_v_arccos_noninteger.png\" width=\"250\"/>\n",
    "\n",
    "**Figure and analysis credit: Andy Esseln, Smith College**"
   ]
  },
  {
   "cell_type": "markdown",
   "id": "7e8e9939-fb7c-441a-8471-b5155718ed77",
   "metadata": {},
   "source": [
    "<div class=\"alert alert-warning\"> Update this figure -- reduce alpha and maybe plot both on the same axes to show the massive difference in size? Is there a way to highlight where integers do occur or are these all non-integer values?\n",
    "</div>"
   ]
  },
  {
   "cell_type": "markdown",
   "id": "1942dfa8-0847-4b40-8e22-c41c0e0a572b",
   "metadata": {},
   "source": [
    "Length and topoligcal term $\\theta$ clearly both have an effect on the number of integer values of $Q_L$. The effect of length appears to be stronger than that of itheta, and its existence makes sense, as there are more lattice sites and more places where problems can arise and compound. Interestingly, though, it appears not just to decrease the number of integer values, but the fraction of values which are integers decreases rapidly with lattice length.\n",
    "\n",
    "It is less clear how $i \\theta$ introduces this issue, although it could be as simple as shifting $\\theta$ away from zero shifts $Q_L$ away from zero (an integer) and therefore the effects of length are more obvious at higher $i \\theta$. The figure below clearly illustrates the larger effect of length, as for $L = 40$, we have almost zero integer values for $Q_{L}$ even at $i \\theta = 0$."
   ]
  },
  {
   "cell_type": "markdown",
   "id": "0e0c76c1-344c-4778-ab66-3a78febce35c",
   "metadata": {},
   "source": [
    "<img src = \"./Figs_Notes/integer_proportions_L.png\" width=\"750\"/>\n",
    "\n",
    "**Figure and analysis credit: Andy Esseln, Smith College**"
   ]
  },
  {
   "cell_type": "markdown",
   "id": "003748bd-c3fb-4d76-b43c-912b75a6dcc6",
   "metadata": {},
   "source": [
    "<div class=\"alert alert-warning\"> Maybe add another figure with $L$ on the x axis so we can see the shape of the dependence of prop(integers) on $L$?\n",
    "</div>"
   ]
  },
  {
   "cell_type": "markdown",
   "id": "e3bf64be-88c1-431f-8db3-5e1424a2c11b",
   "metadata": {},
   "source": [
    "#### Exceptional configurations"
   ]
  },
  {
   "cell_type": "markdown",
   "id": "b7a51c4e-0b20-4a4b-bb63-825eacc1f3c8",
   "metadata": {},
   "source": [
    "The method used to regularize the topological charge by defining it on triangles rather than points is meant to yield integer values for $Q_{L}$. However, this is only the case if the field configurations are not exceptional (see [Berg and Lüscher, 1981](https://doi.org/10.1016/0550-3213(81)90568-X)). Exceptional configurations occur when either of the following conditions are met:\n",
    "\n",
    "$\\vec{\\phi}_{1} \\cdot (\\vec{\\phi}_{2} \\times \\vec{\\phi}_{2}) = 0$\n",
    "\n",
    "or \n",
    "\n",
    "$1 + \\vec{\\phi}_{1} \\cdot \\vec{\\phi}_{2} +  \\vec{\\phi}_{2} \\cdot \\vec{\\phi}_{3} +  \\vec{\\phi}_{3} \\cdot \\vec{\\phi}_{1} \\leq 0$.\n",
    "\n",
    "While it appears that the existence of exceptional configurations always leads to non-integer values of $Q_{L}$, it is also the case that in some instances with no exceptional configurations, we still have non-integer values for the topological charge. This means that exceptional configurations cannot be the only cause of this breakdown, although it does appear to be a factor.\n",
    "\n",
    "\n"
   ]
  },
  {
   "cell_type": "markdown",
   "id": "949f7ec9-2126-42bc-9f19-5a4cbd40ebc1",
   "metadata": {},
   "source": [
    "#### C++ asin and acos <a id='QL_trig_comp'></a>"
   ]
  },
  {
   "cell_type": "markdown",
   "id": "541a4187-f243-45d0-9dd8-b26d1b9e9998",
   "metadata": {},
   "source": [
    "<div class=\"alert alert-warning\">Add a few figures here and discuss the differences in domain for asin and acos in C++ -- also why might it be that even after converting the results of acos to match those of asin, some of them are so wrong?? Are these the cases that occur along the asymptote of asin?\n",
    "</div>"
   ]
  },
  {
   "cell_type": "markdown",
   "id": "89aa6718-942d-49f9-aeee-4368a03cdc8d",
   "metadata": {},
   "source": [
    "### Systematics"
   ]
  },
  {
   "cell_type": "markdown",
   "id": "1e029a18-fa2e-47a7-b716-6026ca1d1667",
   "metadata": {},
   "source": [
    "<div class=\"alert alert-warning\">Fill in with plots of systematic tests. To include:\n",
    "    \n",
    "Determining thermalization\n",
    "    \n",
    "Accounting for autocorrelation\n",
    "    \n",
    "Error calculation\n",
    "\n",
    "Extrapolating to continuum/thermodynamic limits?\n",
    "</div>"
   ]
  },
  {
   "cell_type": "markdown",
   "id": "a1557f62-fc0c-43ce-a9ad-e5795165a47d",
   "metadata": {},
   "source": [
    "### Results"
   ]
  },
  {
   "cell_type": "markdown",
   "id": "1040e41d-3b48-4778-92b3-551a4aec9e26",
   "metadata": {},
   "source": [
    "## Complex Langevin Approach"
   ]
  },
  {
   "cell_type": "code",
   "execution_count": null,
   "id": "767a7cf4-5c1a-4394-90ae-920abced1979",
   "metadata": {},
   "outputs": [],
   "source": []
  }
 ],
 "metadata": {
  "kernelspec": {
   "display_name": "Python 3 (ipykernel)",
   "language": "python",
   "name": "python3"
  },
  "language_info": {
   "codemirror_mode": {
    "name": "ipython",
    "version": 3
   },
   "file_extension": ".py",
   "mimetype": "text/x-python",
   "name": "python",
   "nbconvert_exporter": "python",
   "pygments_lexer": "ipython3",
   "version": "3.8.10"
  }
 },
 "nbformat": 4,
 "nbformat_minor": 5
}
