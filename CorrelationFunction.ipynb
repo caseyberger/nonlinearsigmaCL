{
 "cells": [
  {
   "cell_type": "code",
   "execution_count": 1,
   "id": "1d6672c5-0a61-45f8-803a-28812a4a9aca",
   "metadata": {},
   "outputs": [],
   "source": [
    "import os\n",
    "import numpy as np\n",
    "import pandas as pd\n",
    "import matplotlib.pyplot as plt\n",
    "import seaborn as sns\n",
    "from LatticeData import *"
   ]
  },
  {
   "cell_type": "markdown",
   "id": "09a42030-1f13-4783-9853-f1459b51f90e",
   "metadata": {},
   "source": [
    "# Create analyzer - instantiate class"
   ]
  },
  {
   "cell_type": "code",
   "execution_count": 2,
   "id": "3a8f83a8-69c3-4a84-913c-2a280a8f6ad2",
   "metadata": {},
   "outputs": [],
   "source": [
    "analyzer = LatticeData()"
   ]
  },
  {
   "cell_type": "markdown",
   "id": "1d928bec-47a0-4bf4-b67d-268d981bf69c",
   "metadata": {
    "tags": []
   },
   "source": [
    "## Correlation Function and Correlation Length"
   ]
  },
  {
   "cell_type": "markdown",
   "id": "0698abe7-87f9-416f-b961-4ed9065d776c",
   "metadata": {},
   "source": [
    "NOTE: remember you can't do manual thermalization with G_ij - it's calculated in C++, not in post. "
   ]
  },
  {
   "cell_type": "code",
   "execution_count": 3,
   "id": "ed07bd2d-36f9-4320-bc15-3954129ece44",
   "metadata": {},
   "outputs": [],
   "source": [
    "params = analyzer.all_params()"
   ]
  },
  {
   "cell_type": "code",
   "execution_count": 4,
   "id": "254aacab-abf3-4093-ac00-0d0837a5b214",
   "metadata": {},
   "outputs": [
    {
     "data": {
      "text/html": [
       "<div>\n",
       "<style scoped>\n",
       "    .dataframe tbody tr th:only-of-type {\n",
       "        vertical-align: middle;\n",
       "    }\n",
       "\n",
       "    .dataframe tbody tr th {\n",
       "        vertical-align: top;\n",
       "    }\n",
       "\n",
       "    .dataframe thead th {\n",
       "        text-align: right;\n",
       "    }\n",
       "</style>\n",
       "<table border=\"1\" class=\"dataframe\">\n",
       "  <thead>\n",
       "    <tr style=\"text-align: right;\">\n",
       "      <th></th>\n",
       "      <th>nMC</th>\n",
       "      <th>ntherm</th>\n",
       "      <th>itheta</th>\n",
       "      <th>beta</th>\n",
       "      <th>length</th>\n",
       "    </tr>\n",
       "  </thead>\n",
       "  <tbody>\n",
       "    <tr>\n",
       "      <th>1</th>\n",
       "      <td>10000.0</td>\n",
       "      <td>0.0</td>\n",
       "      <td>1.570796</td>\n",
       "      <td>1.6</td>\n",
       "      <td>20.0</td>\n",
       "    </tr>\n",
       "    <tr>\n",
       "      <th>4</th>\n",
       "      <td>10000.0</td>\n",
       "      <td>0.0</td>\n",
       "      <td>0.392699</td>\n",
       "      <td>1.6</td>\n",
       "      <td>20.0</td>\n",
       "    </tr>\n",
       "    <tr>\n",
       "      <th>7</th>\n",
       "      <td>10000.0</td>\n",
       "      <td>0.0</td>\n",
       "      <td>0.785398</td>\n",
       "      <td>1.6</td>\n",
       "      <td>20.0</td>\n",
       "    </tr>\n",
       "    <tr>\n",
       "      <th>10</th>\n",
       "      <td>10000.0</td>\n",
       "      <td>0.0</td>\n",
       "      <td>0.000000</td>\n",
       "      <td>1.6</td>\n",
       "      <td>20.0</td>\n",
       "    </tr>\n",
       "    <tr>\n",
       "      <th>16</th>\n",
       "      <td>10000.0</td>\n",
       "      <td>0.0</td>\n",
       "      <td>3.141593</td>\n",
       "      <td>1.6</td>\n",
       "      <td>20.0</td>\n",
       "    </tr>\n",
       "    <tr>\n",
       "      <th>21</th>\n",
       "      <td>10000.0</td>\n",
       "      <td>0.0</td>\n",
       "      <td>2.356194</td>\n",
       "      <td>1.6</td>\n",
       "      <td>20.0</td>\n",
       "    </tr>\n",
       "  </tbody>\n",
       "</table>\n",
       "</div>"
      ],
      "text/plain": [
       "        nMC  ntherm    itheta  beta  length\n",
       "1   10000.0     0.0  1.570796   1.6    20.0\n",
       "4   10000.0     0.0  0.392699   1.6    20.0\n",
       "7   10000.0     0.0  0.785398   1.6    20.0\n",
       "10  10000.0     0.0  0.000000   1.6    20.0\n",
       "16  10000.0     0.0  3.141593   1.6    20.0\n",
       "21  10000.0     0.0  2.356194   1.6    20.0"
      ]
     },
     "execution_count": 4,
     "metadata": {},
     "output_type": "execute_result"
    }
   ],
   "source": [
    "params[(params[\"length\"]==20) & (params[\"nMC\"]>1000)]"
   ]
  },
  {
   "cell_type": "code",
   "execution_count": 5,
   "id": "ed33818b-82ff-4341-b841-f73dd1c27605",
   "metadata": {},
   "outputs": [],
   "source": [
    "itheta = np.pi\n",
    "beta = 1.6\n",
    "length = 20\n",
    "nMC = 10000\n",
    "ntherm = 0\n",
    "corr_params = {\"itheta\": itheta, \"beta\": beta,\"length\": length,\"nMC\": nMC, \"ntherm\": ntherm}"
   ]
  },
  {
   "cell_type": "code",
   "execution_count": 6,
   "id": "16fe27fc-655c-47f3-94f2-b4116b9d4d56",
   "metadata": {},
   "outputs": [
    {
     "name": "stdout",
     "output_type": "stream",
     "text": [
      "nMC 10000\n",
      "ntherm 0\n",
      "itheta 3.141593\n",
      "beta 1.6\n",
      "length 20\n"
     ]
    }
   ],
   "source": [
    "G_ij = analyzer.get_corr_func(suppress_output = False,**corr_params)"
   ]
  },
  {
   "cell_type": "code",
   "execution_count": 7,
   "id": "efbe24e4-5311-4275-bf15-0e2666948f79",
   "metadata": {},
   "outputs": [
    {
     "data": {
      "image/png": "[encoded data removed]",
      "text/plain": [
       "<Figure size 432x288 with 2 Axes>"
      ]
     },
     "metadata": {
      "needs_background": "light"
     },
     "output_type": "display_data"
    }
   ],
   "source": [
    "plt.imshow(G_ij, cmap = \"viridis\", aspect='equal')\n",
    "plt.colorbar()\n",
    "plt.show()"
   ]
  },
  {
   "cell_type": "code",
   "execution_count": 8,
   "id": "c66849ae-eb63-4274-af87-be9bf673f8be",
   "metadata": {},
   "outputs": [
    {
     "name": "stdout",
     "output_type": "stream",
     "text": [
      "nMC 10000\n",
      "ntherm 0\n",
      "itheta 3.141593\n",
      "beta 1.6\n",
      "length 20\n"
     ]
    }
   ],
   "source": [
    "itheta = 1.0*np.pi\n",
    "beta = 1.6\n",
    "length = 20\n",
    "nMC = 10000\n",
    "ntherm = 0\n",
    "corr_params = {\"itheta\": itheta, \"beta\": beta,\"length\": length,\"nMC\": nMC, \"ntherm\": ntherm}\n",
    "G_pi = analyzer.get_corr_func(**corr_params)"
   ]
  },
  {
   "cell_type": "code",
   "execution_count": 9,
   "id": "bee6c945-f1d8-40f7-a1ba-c1108948f6be",
   "metadata": {},
   "outputs": [
    {
     "name": "stdout",
     "output_type": "stream",
     "text": [
      "nMC 10000\n",
      "ntherm 0\n",
      "itheta 1.570796\n",
      "beta 1.6\n",
      "length 20\n"
     ]
    }
   ],
   "source": [
    "itheta = 0.5*np.pi\n",
    "beta = 1.6\n",
    "length = 20\n",
    "nMC = 10000\n",
    "ntherm = 0\n",
    "corr_params = {\"itheta\": itheta, \"beta\": beta,\"length\": length,\"nMC\": nMC, \"ntherm\": ntherm}\n",
    "G_pi2 = analyzer.get_corr_func(**corr_params)"
   ]
  },
  {
   "cell_type": "code",
   "execution_count": 10,
   "id": "b9c5438d-30c6-47c1-bb44-838804eea828",
   "metadata": {},
   "outputs": [
    {
     "name": "stdout",
     "output_type": "stream",
     "text": [
      "nMC 10000\n",
      "ntherm 0\n",
      "itheta 0.785398\n",
      "beta 1.6\n",
      "length 20\n"
     ]
    }
   ],
   "source": [
    "itheta = 0.25*np.pi\n",
    "beta = 1.6\n",
    "length = 20\n",
    "nMC = 10000\n",
    "ntherm = 0\n",
    "corr_params = {\"itheta\": itheta, \"beta\": beta,\"length\": length,\"nMC\": nMC, \"ntherm\": ntherm}\n",
    "G_pi4 = analyzer.get_corr_func(**corr_params)"
   ]
  },
  {
   "cell_type": "code",
   "execution_count": 11,
   "id": "95041b5a-6fd3-4e50-a19d-c9e9f9f853f0",
   "metadata": {},
   "outputs": [
    {
     "name": "stdout",
     "output_type": "stream",
     "text": [
      "nMC 10000\n",
      "ntherm 0\n",
      "itheta 2.356194\n",
      "beta 1.6\n",
      "length 20\n"
     ]
    }
   ],
   "source": [
    "itheta = 0.75*np.pi\n",
    "beta = 1.6\n",
    "length = 20\n",
    "nMC = 10000\n",
    "ntherm = 0\n",
    "corr_params = {\"itheta\": itheta, \"beta\": beta,\"length\": length,\"nMC\": nMC, \"ntherm\": ntherm}\n",
    "G_3pi4 = analyzer.get_corr_func(**corr_params)"
   ]
  },
  {
   "cell_type": "code",
   "execution_count": 12,
   "id": "680b8671-515e-4994-83b8-3738dbcb1d19",
   "metadata": {},
   "outputs": [
    {
     "name": "stdout",
     "output_type": "stream",
     "text": [
      "nMC 10000\n",
      "ntherm 0\n",
      "itheta 0.0\n",
      "beta 1.6\n",
      "length 20\n"
     ]
    }
   ],
   "source": [
    "itheta = 0.0\n",
    "beta = 1.6\n",
    "length = 20\n",
    "nMC = 10000\n",
    "ntherm = 0\n",
    "corr_params = {\"itheta\": itheta, \"beta\": beta,\"length\": length,\"nMC\": nMC, \"ntherm\": ntherm}\n",
    "G_0 = analyzer.get_corr_func(**corr_params)"
   ]
  },
  {
   "cell_type": "code",
   "execution_count": 13,
   "id": "3156f008-6c91-48ae-9c54-8c7d7bbfcadd",
   "metadata": {},
   "outputs": [
    {
     "name": "stdout",
     "output_type": "stream",
     "text": [
      "nMC 10000\n",
      "ntherm 0\n",
      "itheta 0.392699\n",
      "beta 1.6\n",
      "length 20\n"
     ]
    }
   ],
   "source": [
    "itheta = 0.125*np.pi\n",
    "beta = 1.6\n",
    "length = 20\n",
    "nMC = 10000\n",
    "ntherm = 0\n",
    "corr_params = {\"itheta\": itheta, \"beta\": beta,\"length\": length,\"nMC\": nMC, \"ntherm\": ntherm}\n",
    "G_pi8 = analyzer.get_corr_func(**corr_params)"
   ]
  },
  {
   "cell_type": "code",
   "execution_count": 14,
   "id": "99b89297-91ea-47d7-bd84-416bbbe58cb8",
   "metadata": {},
   "outputs": [
    {
     "data": {
      "image/png": "[encoded data removed]",
      "text/plain": [
       "<Figure size 720x720 with 7 Axes>"
      ]
     },
     "metadata": {
      "needs_background": "light"
     },
     "output_type": "display_data"
    }
   ],
   "source": [
    "Gs = [G_0,G_pi8,G_pi4,G_pi2,G_3pi4,G_pi]\n",
    "titles = [\"itheta = 0\",\"itheta = pi/8\",\"itheta = pi/4\",\"itheta = pi/2\", \"itheta = 3pi/4\",\"itheta = pi\"]\n",
    "Gmin = np.min(Gs)\n",
    "Gmax = np.max(Gs)\n",
    "fig, axs = plt.subplots(2,int(len(Gs)/2), figsize = (10,10))\n",
    "for n, ax in enumerate(axs.flat):\n",
    "    im = ax.imshow(Gs[n],vmin = Gmin, vmax = Gmax, cmap = 'inferno')\n",
    "    ax.set_title(titles[n])\n",
    "cbar_ax = fig.add_axes([0.85, 0.15, 0.05, 0.7])\n",
    "fig.subplots_adjust(right=0.8)\n",
    "fig.colorbar(im, cax=cbar_ax)\n",
    "plt.show()"
   ]
  },
  {
   "cell_type": "code",
   "execution_count": 15,
   "id": "4e1a4abe-c71d-40f6-a851-144cf6ea59b4",
   "metadata": {},
   "outputs": [
    {
     "name": "stdout",
     "output_type": "stream",
     "text": [
      "nMC 10000\n",
      "ntherm 0\n",
      "itheta 0.392699\n",
      "beta 1.6\n",
      "length 20\n",
      "L = 20\n"
     ]
    }
   ],
   "source": [
    "itheta = 0.0\n",
    "beta = 1.6\n",
    "length = 20\n",
    "nMC = 10000\n",
    "ntherm = 0\n",
    "corr_params = {\"itheta\": itheta, \"beta\": beta,\"length\": length,\"nMC\": nMC, \"ntherm\": ntherm}\n",
    "F = analyzer.calc_F(**corr_params)"
   ]
  },
  {
   "cell_type": "code",
   "execution_count": 16,
   "id": "afb6808c-4686-4155-9244-15e9f3f748a0",
   "metadata": {},
   "outputs": [
    {
     "data": {
      "text/plain": [
       "(1.2130326875509114-0.5562811519838846j)"
      ]
     },
     "execution_count": 16,
     "metadata": {},
     "output_type": "execute_result"
    }
   ],
   "source": [
    "F"
   ]
  },
  {
   "cell_type": "code",
   "execution_count": null,
   "id": "845f6894-31eb-46eb-b804-c4299df2f148",
   "metadata": {},
   "outputs": [],
   "source": [
    "corr_data = analyzer.do_stats(filtered = True, **corr_params)"
   ]
  },
  {
   "cell_type": "code",
   "execution_count": null,
   "id": "7a112ff8-7339-4594-b83e-cea3f0fa80ee",
   "metadata": {},
   "outputs": [],
   "source": [
    "corr_data.head()"
   ]
  },
  {
   "cell_type": "markdown",
   "id": "61491e67-091b-4173-95a6-06f977afcaeb",
   "metadata": {
    "tags": []
   },
   "source": [
    "## Basic statistics"
   ]
  },
  {
   "cell_type": "code",
   "execution_count": null,
   "id": "b5680445-d9ea-4940-8252-3123e99b66ca",
   "metadata": {},
   "outputs": [],
   "source": [
    "df = analyzer.get_data()"
   ]
  },
  {
   "cell_type": "code",
   "execution_count": null,
   "id": "131ea67c-88cf-4480-981c-e6d306ab0665",
   "metadata": {},
   "outputs": [],
   "source": [
    "df.head()"
   ]
  },
  {
   "cell_type": "code",
   "execution_count": null,
   "id": "07380ff5-4fd2-477a-ab7b-0cbf5d9e2d70",
   "metadata": {},
   "outputs": [],
   "source": [
    "df[\"itheta\"].unique()"
   ]
  },
  {
   "cell_type": "code",
   "execution_count": null,
   "id": "e3021073-d9cf-439c-868e-03a551f561aa",
   "metadata": {},
   "outputs": [],
   "source": [
    "df_stats = analyzer.do_stats(therm = 0.2)"
   ]
  },
  {
   "cell_type": "code",
   "execution_count": null,
   "id": "8edfccd0-b085-4f72-847c-787a48a1503a",
   "metadata": {},
   "outputs": [],
   "source": [
    "df_stats"
   ]
  },
  {
   "cell_type": "markdown",
   "id": "450dedbf-c013-454d-8b7b-3188b0bf4e24",
   "metadata": {
    "tags": []
   },
   "source": [
    "# Observable plots"
   ]
  },
  {
   "cell_type": "code",
   "execution_count": null,
   "id": "a5c80727-dbdb-47b5-a7b3-58ee77dcf353",
   "metadata": {},
   "outputs": [],
   "source": [
    "df_stats = analyzer.do_stats(therm = 0.4,filtered = True, **plot_params)"
   ]
  },
  {
   "cell_type": "code",
   "execution_count": null,
   "id": "bcba1479-520d-45c5-be02-301c7930586a",
   "metadata": {},
   "outputs": [],
   "source": [
    "df_stats.columns"
   ]
  },
  {
   "cell_type": "code",
   "execution_count": null,
   "id": "a295b6a4-a23e-4c19-a67f-821c68ecd878",
   "metadata": {},
   "outputs": [],
   "source": [
    "sns.scatterplot(data = df_stats, x = \"itheta\", y = \"Q_L_mean\", hue = \"length\", \n",
    "                size = \"nMC\", palette = analyzer.palette)\n",
    "plt.show()"
   ]
  },
  {
   "cell_type": "code",
   "execution_count": null,
   "id": "c5103ca3-b19c-4b59-a6e7-978b4a510d84",
   "metadata": {},
   "outputs": [],
   "source": [
    "plot_data = df_systematics\n",
    "plot_data.head()"
   ]
  },
  {
   "cell_type": "code",
   "execution_count": null,
   "id": "72099b81-b9b1-43b6-9eac-072a4f98b373",
   "metadata": {},
   "outputs": [],
   "source": [
    "plot_data[\"Q_L/L^2\"] = plot_data[\"Q_L\"]/(plot_data[\"length\"]**2)"
   ]
  },
  {
   "cell_type": "code",
   "execution_count": null,
   "id": "c62450be-46ae-49e9-a52c-79361f379f08",
   "metadata": {},
   "outputs": [],
   "source": [
    "plot_data = plot_data[plot_data[\"step\"]>2000]"
   ]
  },
  {
   "cell_type": "code",
   "execution_count": null,
   "id": "266196df-5880-4f36-95a6-0eb5b5bf3b21",
   "metadata": {},
   "outputs": [],
   "source": [
    "sns.pointplot(data = plot_data, x = \"itheta\", y = plot_data[\"Q_L\"], hue = \"length\", \n",
    "              errorbar=\"se\", linestyles = \"None\", palette = analyzer.palette)\n",
    "plt.show()"
   ]
  }
 ],
 "metadata": {
  "kernelspec": {
   "display_name": "Python 3 (ipykernel)",
   "language": "python",
   "name": "python3"
  },
  "language_info": {
   "codemirror_mode": {
    "name": "ipython",
    "version": 3
   },
   "file_extension": ".py",
   "mimetype": "text/x-python",
   "name": "python",
   "nbconvert_exporter": "python",
   "pygments_lexer": "ipython3",
   "version": "3.8.10"
  }
 },
 "nbformat": 4,
 "nbformat_minor": 5
}
